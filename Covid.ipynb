{
 "metadata": {
  "language_info": {
   "codemirror_mode": {
    "name": "ipython",
    "version": 3
   },
   "file_extension": ".py",
   "mimetype": "text/x-python",
   "name": "python",
   "nbconvert_exporter": "python",
   "pygments_lexer": "ipython3",
   "version": "3.7.6-final"
  },
  "orig_nbformat": 2,
  "kernelspec": {
   "name": "Python 3.7.6 64-bit ('base')",
   "display_name": "Python 3.7.6 64-bit ('base')",
   "metadata": {
    "interpreter": {
     "hash": "bb6dfddb0e7430f265c47448ff8e6be6a5dbed30b9b574cf6e0c0e0bba79666d"
    }
   }
  }
 },
 "nbformat": 4,
 "nbformat_minor": 2,
 "cells": [
  {
   "cell_type": "code",
   "execution_count": null,
   "metadata": {},
   "outputs": [],
   "source": []
  },
  {
   "source": [
    "%%HTML\n",
    "\n",
    "<style type=\"text/css\">\n",
    "\n",
    "div.h2 {\n",
    "    background-color: steelblue; \n",
    "    color: white; \n",
    "    padding: 8px; \n",
    "    padding-right: 300px; \n",
    "    font-size: 24px; \n",
    "    max-width: 1500px; \n",
    "    margin-top: 50px;\n",
    "    margin-bottom:4px;\n",
    "}\n",
    "\n",
    "\n",
    "\n",
    "# This is the actual HTML code you would put in a markdown cell. I can't do it here because\n",
    "# it cuts the rest of the notebook off for some reason.\n",
    "\n"
   ],
   "cell_type": "markdown",
   "metadata": {}
  },
  {
   "source": [
    "%%HTML\n",
    "<div class=\"h2\">Table of contents</div>\n",
    "<a href='#about'>About Covid-19</a></br>\n",
    "<a href='#prep'>Data Preperation</a></br>\n",
    "<a href='#dav'>Data Analysis & Visualization</a></br>\n",
    "<a href='#que'>Questions</a></br>\n",
    "<a href='#con'>Conclusion</a></br>\n",
    "<a href='#ref'>References</a></br>"
   ],
   "cell_type": "code",
   "metadata": {},
   "execution_count": 32,
   "outputs": [
    {
     "output_type": "display_data",
     "data": {
      "text/plain": "<IPython.core.display.HTML object>",
      "text/html": "<div class=\"h2\">Table of contents</div>\n<a href='#about'>About Covid-19</a></br>\n<a href='#prep'>Data Preperation</a></br>\n<a href='#dav'>Data Analysis & Visualization</a></br>\n<a href='#que'>Questions</a></br>\n<a href='#con'>Conclusion</a></br>\n<a href='#ref'>References</a></br>\n"
     },
     "metadata": {}
    }
   ]
  },
  {
   "source": [
    "%%HTML\n",
    "<div id=\"about\" class=\"h2\">1.About COVID-19</div>\n",
    "<p align=\"justify\">COVID-19 otherwise known as corona virus 2019 is an infectious disease caused by severe acute respiratory syndrome coronavirus 2(SARS-CoV-2).It was first identified in December 2019 in Wuhan, Hubei, China, and has resulted in an ongoing pandemic.</p>\n",
    "<p>Symptoms of COVID-19 are variable, but usually include fever and a cough. People with the same infection may have different symptoms, and their symptoms may change over time. For example, one person may have a high fever, a cough, and fatigue, and another person may have a low fever at the start of the disease and develop difficulty breathing a week later. All of the symptoms of COVID-19 are non-specific, which means that they are also seen in some other diseases.</p>\n",
    "<a href=\"https://en.wikipedia.org/wiki/Coronavirus_disease_2019\">Wikipedia Page</a>"
   ],
   "cell_type": "code",
   "metadata": {},
   "execution_count": 20,
   "outputs": [
    {
     "output_type": "display_data",
     "data": {
      "text/plain": "<IPython.core.display.HTML object>",
      "text/html": "<div id=\"about\" class=\"h2\">1.About COVID-19</div>\n<p align=\"justify\">COVID-19 otherwise known as corona virus 2019 is an infectious disease caused by severe acute respiratory syndrome coronavirus 2(SARS-CoV-2).It was first identified in December 2019 in Wuhan, Hubei, China, and has resulted in an ongoing pandemic.</p>\n<p>Symptoms of COVID-19 are variable, but usually include fever and a cough. People with the same infection may have different symptoms, and their symptoms may change over time. For example, one person may have a high fever, a cough, and fatigue, and another person may have a low fever at the start of the disease and develop difficulty breathing a week later. All of the symptoms of COVID-19 are non-specific, which means that they are also seen in some other diseases.</p>\n<a href=\"https://en.wikipedia.org/wiki/Coronavirus_disease_2019\">Wikipedia Page</a>\n"
     },
     "metadata": {}
    }
   ]
  },
  {
   "cell_type": "code",
   "execution_count": null,
   "metadata": {},
   "outputs": [],
   "source": []
  },
  {
   "source": [
    "%%HTML\n",
    "<div id=\"prep\" class=\"h2\">2.Data Preperation</div>\n"
   ],
   "cell_type": "code",
   "metadata": {},
   "execution_count": 24,
   "outputs": [
    {
     "output_type": "display_data",
     "data": {
      "text/plain": "<IPython.core.display.HTML object>",
      "text/html": "<div id=\"prep\" class=\"h2\">2.Data Preperation</div>\n"
     },
     "metadata": {}
    }
   ]
  },
  {
   "source": [
    "%%HTML\n",
    "<h2>  2.1 Import necessary libraries</h2>"
   ],
   "cell_type": "markdown",
   "metadata": {}
  },
  {
   "cell_type": "code",
   "execution_count": 3,
   "metadata": {},
   "outputs": [
    {
     "output_type": "display_data",
     "data": {
      "text/html": "        <script type=\"text/javascript\">\n        window.PlotlyConfig = {MathJaxConfig: 'local'};\n        if (window.MathJax) {MathJax.Hub.Config({SVG: {font: \"STIX-Web\"}});}\n        if (typeof require !== 'undefined') {\n        require.undef(\"plotly\");\n        requirejs.config({\n            paths: {\n                'plotly': ['https://cdn.plot.ly/plotly-latest.min']\n            }\n        });\n        require(['plotly'], function(Plotly) {\n            window._Plotly = Plotly;\n        });\n        }\n        </script>\n        "
     },
     "metadata": {}
    }
   ],
   "source": [
    "import pandas as pd\n",
    "import numpy as np\n",
    "import plotly.express as px\n",
    "import matplotlib.pyplot as plt\n",
    "%matplotlib inline\n",
    "import seaborn as sns\n",
    "from PIL import Image\n",
    "!pip install chart_studio -q\n",
    "import plotly.express as px\n",
    "import chart_studio.plotly as py\n",
    "import plotly.graph_objs as go\n",
    "from plotly.offline import iplot\n",
    "import cufflinks\n",
    "cufflinks.go_offline()\n",
    "cufflinks.set_config_file(world_readable=True, theme='pearl')\n",
    "\n",
    "import re                                  # library for regular expression operations\n",
    "import string                              # for string operations\n",
    "#datetime\n",
    "from datetime import datetime\n",
    "#some libraries may not be used here\n"
   ]
  },
  {
   "source": [
    "%%HTML\n",
    "<h2>2.2 Load the dataset</h2>\n",
    "<p>Loading the covid 19 dataset into pandas dataframe covid_df</p>"
   ],
   "cell_type": "markdown",
   "metadata": {}
  },
  {
   "source": [
    "url= 'https://raw.githubusercontent.com/owid/covid-19-data/master/public/data/owid-covid-codebook.csv'\n",
    "covid_df_description = pd.read_csv(url,',') # loading the description dataset for the main data set columns of covid-19 data"
   ],
   "cell_type": "code",
   "metadata": {},
   "execution_count": 4,
   "outputs": []
  },
  {
   "cell_type": "code",
   "execution_count": 5,
   "metadata": {},
   "outputs": [
    {
     "output_type": "execute_result",
     "data": {
      "text/plain": "                             column  \\\n0                          iso_code   \n1                         continent   \n2                          location   \n3                              date   \n4                       total_cases   \n5                         new_cases   \n6                new_cases_smoothed   \n7                      total_deaths   \n8                        new_deaths   \n9               new_deaths_smoothed   \n10          total_cases_per_million   \n11            new_cases_per_million   \n12   new_cases_smoothed_per_million   \n13         total_deaths_per_million   \n14           new_deaths_per_million   \n15  new_deaths_smoothed_per_million   \n16                      total_tests   \n17                        new_tests   \n18               new_tests_smoothed   \n19         total_tests_per_thousand   \n20           new_tests_per_thousand   \n21  new_tests_smoothed_per_thousand   \n22                   tests_per_case   \n23                    positive_rate   \n24                      tests_units   \n25                 stringency_index   \n26                       population   \n27               population_density   \n28                       median_age   \n29                    aged_65_older   \n30                    aged_70_older   \n31                   gdp_per_capita   \n32                  extreme_poverty   \n33            cardiovasc_death_rate   \n34              diabetes_prevalence   \n35                   female_smokers   \n36                     male_smokers   \n37           handwashing_facilities   \n38       hospital_beds_per_thousand   \n39                  life_expectancy   \n40          human_development_index   \n\n                                          description  \\\n0     ISO 3166-1 alpha-3 – three-letter country codes   \n1              Continent of the geographical location   \n2                               Geographical location   \n3                                 Date of observation   \n4                   Total confirmed cases of COVID-19   \n5                     New confirmed cases of COVID-19   \n6    New confirmed cases of COVID-19 (7-day smoothed)   \n7                 Total deaths attributed to COVID-19   \n8                   New deaths attributed to COVID-19   \n9   New deaths attributed to COVID-19 (7-day smoot...   \n10  Total confirmed cases of COVID-19 per 1,000,00...   \n11  New confirmed cases of COVID-19 per 1,000,000 ...   \n12  New confirmed cases of COVID-19 (7-day smoothe...   \n13  Total deaths attributed to COVID-19 per 1,000,...   \n14  New deaths attributed to COVID-19 per 1,000,00...   \n15  New deaths attributed to COVID-19 (7-day smoot...   \n16                           Total tests for COVID-19   \n17                             New tests for COVID-19   \n18  New tests for COVID-19 (7-day smoothed). For c...   \n19          Total tests for COVID-19 per 1,000 people   \n20            New tests for COVID-19 per 1,000 people   \n21  New tests for COVID-19 (7-day smoothed) per 1,...   \n22  Tests conducted per new confirmed case of COVI...   \n23  The share of COVID-19 tests that are positive,...   \n24  Units used by the location to report its testi...   \n25  Government Response Stringency Index: composit...   \n26                                 Population in 2020   \n27  Number of people divided by land area, measure...   \n28  Median age of the population, UN projection fo...   \n29  Share of the population that is 65 years and o...   \n30  Share of the population that is 70 years and o...   \n31  Gross domestic product at purchasing power par...   \n32  Share of the population living in extreme pove...   \n33  Death rate from cardiovascular disease in 2017...   \n34  Diabetes prevalence (% of population aged 20 t...   \n35  Share of women who smoke, most recent year ava...   \n36  Share of men who smoke, most recent year avail...   \n37  Share of the population with basic handwashing...   \n38  Hospital beds per 1,000 people, most recent ye...   \n39                   Life expectancy at birth in 2019   \n40  Summary measure of average achievement in key ...   \n\n                                               source  \n0      International Organization for Standardization  \n1                                   Our World in Data  \n2                                   Our World in Data  \n3                                   Our World in Data  \n4   European Centre for Disease Prevention and Con...  \n5   European Centre for Disease Prevention and Con...  \n6   European Centre for Disease Prevention and Con...  \n7   European Centre for Disease Prevention and Con...  \n8   European Centre for Disease Prevention and Con...  \n9   European Centre for Disease Prevention and Con...  \n10  European Centre for Disease Prevention and Con...  \n11  European Centre for Disease Prevention and Con...  \n12  European Centre for Disease Prevention and Con...  \n13  European Centre for Disease Prevention and Con...  \n14  European Centre for Disease Prevention and Con...  \n15  European Centre for Disease Prevention and Con...  \n16                        National government reports  \n17                        National government reports  \n18                        National government reports  \n19                        National government reports  \n20                        National government reports  \n21                        National government reports  \n22                        National government reports  \n23                        National government reports  \n24                        National government reports  \n25  Oxford COVID-19 Government Response Tracker, B...  \n26  United Nations, Department of Economic and Soc...  \n27  World Bank – World Development Indicators, sou...  \n28  UN Population Division, World Population Prosp...  \n29  World Bank – World Development Indicators, bas...  \n30  United Nations, Department of Economic and Soc...  \n31  World Bank – World Development Indicators, sou...  \n32  World Bank – World Development Indicators, sou...  \n33  Global Burden of Disease Collaborative Network...  \n34  World Bank – World Development Indicators, sou...  \n35  World Bank – World Development Indicators, sou...  \n36  World Bank – World Development Indicators, sou...  \n37                 United Nations Statistics Division  \n38  OECD, Eurostat, World Bank, national governmen...  \n39  James C. Riley, Clio Infra, United Nations Pop...  \n40        United Nations Development Programme (UNDP)  ",
      "text/html": "<div>\n<style scoped>\n    .dataframe tbody tr th:only-of-type {\n        vertical-align: middle;\n    }\n\n    .dataframe tbody tr th {\n        vertical-align: top;\n    }\n\n    .dataframe thead th {\n        text-align: right;\n    }\n</style>\n<table border=\"1\" class=\"dataframe\">\n  <thead>\n    <tr style=\"text-align: right;\">\n      <th></th>\n      <th>column</th>\n      <th>description</th>\n      <th>source</th>\n    </tr>\n  </thead>\n  <tbody>\n    <tr>\n      <th>0</th>\n      <td>iso_code</td>\n      <td>ISO 3166-1 alpha-3 – three-letter country codes</td>\n      <td>International Organization for Standardization</td>\n    </tr>\n    <tr>\n      <th>1</th>\n      <td>continent</td>\n      <td>Continent of the geographical location</td>\n      <td>Our World in Data</td>\n    </tr>\n    <tr>\n      <th>2</th>\n      <td>location</td>\n      <td>Geographical location</td>\n      <td>Our World in Data</td>\n    </tr>\n    <tr>\n      <th>3</th>\n      <td>date</td>\n      <td>Date of observation</td>\n      <td>Our World in Data</td>\n    </tr>\n    <tr>\n      <th>4</th>\n      <td>total_cases</td>\n      <td>Total confirmed cases of COVID-19</td>\n      <td>European Centre for Disease Prevention and Con...</td>\n    </tr>\n    <tr>\n      <th>5</th>\n      <td>new_cases</td>\n      <td>New confirmed cases of COVID-19</td>\n      <td>European Centre for Disease Prevention and Con...</td>\n    </tr>\n    <tr>\n      <th>6</th>\n      <td>new_cases_smoothed</td>\n      <td>New confirmed cases of COVID-19 (7-day smoothed)</td>\n      <td>European Centre for Disease Prevention and Con...</td>\n    </tr>\n    <tr>\n      <th>7</th>\n      <td>total_deaths</td>\n      <td>Total deaths attributed to COVID-19</td>\n      <td>European Centre for Disease Prevention and Con...</td>\n    </tr>\n    <tr>\n      <th>8</th>\n      <td>new_deaths</td>\n      <td>New deaths attributed to COVID-19</td>\n      <td>European Centre for Disease Prevention and Con...</td>\n    </tr>\n    <tr>\n      <th>9</th>\n      <td>new_deaths_smoothed</td>\n      <td>New deaths attributed to COVID-19 (7-day smoot...</td>\n      <td>European Centre for Disease Prevention and Con...</td>\n    </tr>\n    <tr>\n      <th>10</th>\n      <td>total_cases_per_million</td>\n      <td>Total confirmed cases of COVID-19 per 1,000,00...</td>\n      <td>European Centre for Disease Prevention and Con...</td>\n    </tr>\n    <tr>\n      <th>11</th>\n      <td>new_cases_per_million</td>\n      <td>New confirmed cases of COVID-19 per 1,000,000 ...</td>\n      <td>European Centre for Disease Prevention and Con...</td>\n    </tr>\n    <tr>\n      <th>12</th>\n      <td>new_cases_smoothed_per_million</td>\n      <td>New confirmed cases of COVID-19 (7-day smoothe...</td>\n      <td>European Centre for Disease Prevention and Con...</td>\n    </tr>\n    <tr>\n      <th>13</th>\n      <td>total_deaths_per_million</td>\n      <td>Total deaths attributed to COVID-19 per 1,000,...</td>\n      <td>European Centre for Disease Prevention and Con...</td>\n    </tr>\n    <tr>\n      <th>14</th>\n      <td>new_deaths_per_million</td>\n      <td>New deaths attributed to COVID-19 per 1,000,00...</td>\n      <td>European Centre for Disease Prevention and Con...</td>\n    </tr>\n    <tr>\n      <th>15</th>\n      <td>new_deaths_smoothed_per_million</td>\n      <td>New deaths attributed to COVID-19 (7-day smoot...</td>\n      <td>European Centre for Disease Prevention and Con...</td>\n    </tr>\n    <tr>\n      <th>16</th>\n      <td>total_tests</td>\n      <td>Total tests for COVID-19</td>\n      <td>National government reports</td>\n    </tr>\n    <tr>\n      <th>17</th>\n      <td>new_tests</td>\n      <td>New tests for COVID-19</td>\n      <td>National government reports</td>\n    </tr>\n    <tr>\n      <th>18</th>\n      <td>new_tests_smoothed</td>\n      <td>New tests for COVID-19 (7-day smoothed). For c...</td>\n      <td>National government reports</td>\n    </tr>\n    <tr>\n      <th>19</th>\n      <td>total_tests_per_thousand</td>\n      <td>Total tests for COVID-19 per 1,000 people</td>\n      <td>National government reports</td>\n    </tr>\n    <tr>\n      <th>20</th>\n      <td>new_tests_per_thousand</td>\n      <td>New tests for COVID-19 per 1,000 people</td>\n      <td>National government reports</td>\n    </tr>\n    <tr>\n      <th>21</th>\n      <td>new_tests_smoothed_per_thousand</td>\n      <td>New tests for COVID-19 (7-day smoothed) per 1,...</td>\n      <td>National government reports</td>\n    </tr>\n    <tr>\n      <th>22</th>\n      <td>tests_per_case</td>\n      <td>Tests conducted per new confirmed case of COVI...</td>\n      <td>National government reports</td>\n    </tr>\n    <tr>\n      <th>23</th>\n      <td>positive_rate</td>\n      <td>The share of COVID-19 tests that are positive,...</td>\n      <td>National government reports</td>\n    </tr>\n    <tr>\n      <th>24</th>\n      <td>tests_units</td>\n      <td>Units used by the location to report its testi...</td>\n      <td>National government reports</td>\n    </tr>\n    <tr>\n      <th>25</th>\n      <td>stringency_index</td>\n      <td>Government Response Stringency Index: composit...</td>\n      <td>Oxford COVID-19 Government Response Tracker, B...</td>\n    </tr>\n    <tr>\n      <th>26</th>\n      <td>population</td>\n      <td>Population in 2020</td>\n      <td>United Nations, Department of Economic and Soc...</td>\n    </tr>\n    <tr>\n      <th>27</th>\n      <td>population_density</td>\n      <td>Number of people divided by land area, measure...</td>\n      <td>World Bank – World Development Indicators, sou...</td>\n    </tr>\n    <tr>\n      <th>28</th>\n      <td>median_age</td>\n      <td>Median age of the population, UN projection fo...</td>\n      <td>UN Population Division, World Population Prosp...</td>\n    </tr>\n    <tr>\n      <th>29</th>\n      <td>aged_65_older</td>\n      <td>Share of the population that is 65 years and o...</td>\n      <td>World Bank – World Development Indicators, bas...</td>\n    </tr>\n    <tr>\n      <th>30</th>\n      <td>aged_70_older</td>\n      <td>Share of the population that is 70 years and o...</td>\n      <td>United Nations, Department of Economic and Soc...</td>\n    </tr>\n    <tr>\n      <th>31</th>\n      <td>gdp_per_capita</td>\n      <td>Gross domestic product at purchasing power par...</td>\n      <td>World Bank – World Development Indicators, sou...</td>\n    </tr>\n    <tr>\n      <th>32</th>\n      <td>extreme_poverty</td>\n      <td>Share of the population living in extreme pove...</td>\n      <td>World Bank – World Development Indicators, sou...</td>\n    </tr>\n    <tr>\n      <th>33</th>\n      <td>cardiovasc_death_rate</td>\n      <td>Death rate from cardiovascular disease in 2017...</td>\n      <td>Global Burden of Disease Collaborative Network...</td>\n    </tr>\n    <tr>\n      <th>34</th>\n      <td>diabetes_prevalence</td>\n      <td>Diabetes prevalence (% of population aged 20 t...</td>\n      <td>World Bank – World Development Indicators, sou...</td>\n    </tr>\n    <tr>\n      <th>35</th>\n      <td>female_smokers</td>\n      <td>Share of women who smoke, most recent year ava...</td>\n      <td>World Bank – World Development Indicators, sou...</td>\n    </tr>\n    <tr>\n      <th>36</th>\n      <td>male_smokers</td>\n      <td>Share of men who smoke, most recent year avail...</td>\n      <td>World Bank – World Development Indicators, sou...</td>\n    </tr>\n    <tr>\n      <th>37</th>\n      <td>handwashing_facilities</td>\n      <td>Share of the population with basic handwashing...</td>\n      <td>United Nations Statistics Division</td>\n    </tr>\n    <tr>\n      <th>38</th>\n      <td>hospital_beds_per_thousand</td>\n      <td>Hospital beds per 1,000 people, most recent ye...</td>\n      <td>OECD, Eurostat, World Bank, national governmen...</td>\n    </tr>\n    <tr>\n      <th>39</th>\n      <td>life_expectancy</td>\n      <td>Life expectancy at birth in 2019</td>\n      <td>James C. Riley, Clio Infra, United Nations Pop...</td>\n    </tr>\n    <tr>\n      <th>40</th>\n      <td>human_development_index</td>\n      <td>Summary measure of average achievement in key ...</td>\n      <td>United Nations Development Programme (UNDP)</td>\n    </tr>\n  </tbody>\n</table>\n</div>"
     },
     "metadata": {},
     "execution_count": 5
    }
   ],
   "source": [
    "covid_df_description #contains the column description of covid_df data frame"
   ]
  },
  {
   "cell_type": "code",
   "execution_count": 6,
   "metadata": {},
   "outputs": [],
   "source": [
    "covid_df = pd.read_csv('owid-covid-data.csv')"
   ]
  },
  {
   "cell_type": "code",
   "execution_count": 7,
   "metadata": {
    "tags": []
   },
   "outputs": [
    {
     "output_type": "stream",
     "name": "stdout",
     "text": "<class 'pandas.core.frame.DataFrame'>\nRangeIndex: 45629 entries, 0 to 45628\nData columns (total 41 columns):\n #   Column                           Non-Null Count  Dtype  \n---  ------                           --------------  -----  \n 0   iso_code                         45361 non-null  object \n 1   continent                        45093 non-null  object \n 2   location                         45629 non-null  object \n 3   date                             45629 non-null  object \n 4   total_cases                      45026 non-null  float64\n 5   new_cases                        44822 non-null  float64\n 6   new_cases_smoothed               44040 non-null  float64\n 7   total_deaths                     45026 non-null  float64\n 8   new_deaths                       44822 non-null  float64\n 9   new_deaths_smoothed              44040 non-null  float64\n 10  total_cases_per_million          44758 non-null  float64\n 11  new_cases_per_million            44758 non-null  float64\n 12  new_cases_smoothed_per_million   43975 non-null  float64\n 13  total_deaths_per_million         44758 non-null  float64\n 14  new_deaths_per_million           44758 non-null  float64\n 15  new_deaths_smoothed_per_million  43975 non-null  float64\n 16  new_tests                        15810 non-null  float64\n 17  total_tests                      16195 non-null  float64\n 18  total_tests_per_thousand         16195 non-null  float64\n 19  new_tests_per_thousand           15810 non-null  float64\n 20  new_tests_smoothed               17769 non-null  float64\n 21  new_tests_smoothed_per_thousand  17769 non-null  float64\n 22  tests_per_case                   16332 non-null  float64\n 23  positive_rate                    16716 non-null  float64\n 24  tests_units                      18575 non-null  object \n 25  stringency_index                 37816 non-null  float64\n 26  population                       45361 non-null  float64\n 27  population_density               43298 non-null  float64\n 28  median_age                       40696 non-null  float64\n 29  aged_65_older                    40092 non-null  float64\n 30  aged_70_older                    40485 non-null  float64\n 31  gdp_per_capita                   40174 non-null  float64\n 32  extreme_poverty                  26810 non-null  float64\n 33  cardiovasc_death_rate            40711 non-null  float64\n 34  diabetes_prevalence              42138 non-null  float64\n 35  female_smokers                   31922 non-null  float64\n 36  male_smokers                     31519 non-null  float64\n 37  handwashing_facilities           19026 non-null  float64\n 38  hospital_beds_per_thousand       36799 non-null  float64\n 39  life_expectancy                  44791 non-null  float64\n 40  human_development_index          39274 non-null  float64\ndtypes: float64(36), object(5)\nmemory usage: 14.3+ MB\n"
    }
   ],
   "source": [
    "covid_df.info()#column information about covid-19 dataset."
   ]
  },
  {
   "source": [
    "%%HTML\n",
    "<p>as we can see from above the dataset contains a total of 40 columns which describe about various factors considered for corona-virus spread </p>"
   ],
   "cell_type": "markdown",
   "metadata": {}
  },
  {
   "cell_type": "code",
   "execution_count": 8,
   "metadata": {},
   "outputs": [
    {
     "output_type": "execute_result",
     "data": {
      "text/plain": "str"
     },
     "metadata": {},
     "execution_count": 8
    }
   ],
   "source": [
    "type(covid_df['date'][0]) #to find type of data present in date column of our data frame"
   ]
  },
  {
   "source": [
    "%%HTML\n",
    "<p>The date column is in string format lets convert it into date-time format</p>"
   ],
   "cell_type": "markdown",
   "metadata": {}
  },
  {
   "cell_type": "code",
   "execution_count": 9,
   "metadata": {
    "tags": []
   },
   "outputs": [],
   "source": [
    "covid_df['date'] = pd.to_datetime(covid_df['date'], format='%Y-%m-%d')#conversion of date column from object to datetime"
   ]
  },
  {
   "cell_type": "code",
   "execution_count": 10,
   "metadata": {},
   "outputs": [
    {
     "output_type": "execute_result",
     "data": {
      "text/plain": "pandas._libs.tslibs.timestamps.Timestamp"
     },
     "metadata": {},
     "execution_count": 10
    }
   ],
   "source": [
    "type(covid_df['date'].iloc[0]) #to check the type of date column after conversion"
   ]
  },
  {
   "cell_type": "code",
   "execution_count": 11,
   "metadata": {},
   "outputs": [],
   "source": [
    "#creating seperate columns for year month and day and deleting date column\n",
    "covid_df['Year']=covid_df['date'].apply(lambda year: year.year)\n",
    "covid_df['Month']=covid_df['date'].apply(lambda month: month.month)\n",
    "covid_df['Day']=covid_df['date'].apply(lambda day: day.day)"
   ]
  },
  {
   "cell_type": "code",
   "execution_count": 12,
   "metadata": {
    "tags": []
   },
   "outputs": [
    {
     "output_type": "stream",
     "name": "stdout",
     "text": "<class 'pandas.core.frame.DataFrame'>\nRangeIndex: 45629 entries, 0 to 45628\nData columns (total 44 columns):\n #   Column                           Non-Null Count  Dtype         \n---  ------                           --------------  -----         \n 0   iso_code                         45361 non-null  object        \n 1   continent                        45093 non-null  object        \n 2   location                         45629 non-null  object        \n 3   date                             45629 non-null  datetime64[ns]\n 4   total_cases                      45026 non-null  float64       \n 5   new_cases                        44822 non-null  float64       \n 6   new_cases_smoothed               44040 non-null  float64       \n 7   total_deaths                     45026 non-null  float64       \n 8   new_deaths                       44822 non-null  float64       \n 9   new_deaths_smoothed              44040 non-null  float64       \n 10  total_cases_per_million          44758 non-null  float64       \n 11  new_cases_per_million            44758 non-null  float64       \n 12  new_cases_smoothed_per_million   43975 non-null  float64       \n 13  total_deaths_per_million         44758 non-null  float64       \n 14  new_deaths_per_million           44758 non-null  float64       \n 15  new_deaths_smoothed_per_million  43975 non-null  float64       \n 16  new_tests                        15810 non-null  float64       \n 17  total_tests                      16195 non-null  float64       \n 18  total_tests_per_thousand         16195 non-null  float64       \n 19  new_tests_per_thousand           15810 non-null  float64       \n 20  new_tests_smoothed               17769 non-null  float64       \n 21  new_tests_smoothed_per_thousand  17769 non-null  float64       \n 22  tests_per_case                   16332 non-null  float64       \n 23  positive_rate                    16716 non-null  float64       \n 24  tests_units                      18575 non-null  object        \n 25  stringency_index                 37816 non-null  float64       \n 26  population                       45361 non-null  float64       \n 27  population_density               43298 non-null  float64       \n 28  median_age                       40696 non-null  float64       \n 29  aged_65_older                    40092 non-null  float64       \n 30  aged_70_older                    40485 non-null  float64       \n 31  gdp_per_capita                   40174 non-null  float64       \n 32  extreme_poverty                  26810 non-null  float64       \n 33  cardiovasc_death_rate            40711 non-null  float64       \n 34  diabetes_prevalence              42138 non-null  float64       \n 35  female_smokers                   31922 non-null  float64       \n 36  male_smokers                     31519 non-null  float64       \n 37  handwashing_facilities           19026 non-null  float64       \n 38  hospital_beds_per_thousand       36799 non-null  float64       \n 39  life_expectancy                  44791 non-null  float64       \n 40  human_development_index          39274 non-null  float64       \n 41  Year                             45629 non-null  int64         \n 42  Month                            45629 non-null  int64         \n 43  Day                              45629 non-null  int64         \ndtypes: datetime64[ns](1), float64(36), int64(3), object(4)\nmemory usage: 15.3+ MB\n"
    }
   ],
   "source": [
    "covid_df.info()# now as date column is redundant we will delete this column"
   ]
  },
  {
   "cell_type": "code",
   "execution_count": 13,
   "metadata": {},
   "outputs": [],
   "source": [
    "covid_df.drop('date',axis=1,inplace=True)#dropping the date column as it become redundant because now we have Year,Month and Day column seperately"
   ]
  },
  {
   "cell_type": "code",
   "execution_count": 14,
   "metadata": {
    "tags": []
   },
   "outputs": [
    {
     "output_type": "stream",
     "name": "stdout",
     "text": "<class 'pandas.core.frame.DataFrame'>\nRangeIndex: 45629 entries, 0 to 45628\nData columns (total 43 columns):\n #   Column                           Non-Null Count  Dtype  \n---  ------                           --------------  -----  \n 0   iso_code                         45361 non-null  object \n 1   continent                        45093 non-null  object \n 2   location                         45629 non-null  object \n 3   total_cases                      45026 non-null  float64\n 4   new_cases                        44822 non-null  float64\n 5   new_cases_smoothed               44040 non-null  float64\n 6   total_deaths                     45026 non-null  float64\n 7   new_deaths                       44822 non-null  float64\n 8   new_deaths_smoothed              44040 non-null  float64\n 9   total_cases_per_million          44758 non-null  float64\n 10  new_cases_per_million            44758 non-null  float64\n 11  new_cases_smoothed_per_million   43975 non-null  float64\n 12  total_deaths_per_million         44758 non-null  float64\n 13  new_deaths_per_million           44758 non-null  float64\n 14  new_deaths_smoothed_per_million  43975 non-null  float64\n 15  new_tests                        15810 non-null  float64\n 16  total_tests                      16195 non-null  float64\n 17  total_tests_per_thousand         16195 non-null  float64\n 18  new_tests_per_thousand           15810 non-null  float64\n 19  new_tests_smoothed               17769 non-null  float64\n 20  new_tests_smoothed_per_thousand  17769 non-null  float64\n 21  tests_per_case                   16332 non-null  float64\n 22  positive_rate                    16716 non-null  float64\n 23  tests_units                      18575 non-null  object \n 24  stringency_index                 37816 non-null  float64\n 25  population                       45361 non-null  float64\n 26  population_density               43298 non-null  float64\n 27  median_age                       40696 non-null  float64\n 28  aged_65_older                    40092 non-null  float64\n 29  aged_70_older                    40485 non-null  float64\n 30  gdp_per_capita                   40174 non-null  float64\n 31  extreme_poverty                  26810 non-null  float64\n 32  cardiovasc_death_rate            40711 non-null  float64\n 33  diabetes_prevalence              42138 non-null  float64\n 34  female_smokers                   31922 non-null  float64\n 35  male_smokers                     31519 non-null  float64\n 36  handwashing_facilities           19026 non-null  float64\n 37  hospital_beds_per_thousand       36799 non-null  float64\n 38  life_expectancy                  44791 non-null  float64\n 39  human_development_index          39274 non-null  float64\n 40  Year                             45629 non-null  int64  \n 41  Month                            45629 non-null  int64  \n 42  Day                              45629 non-null  int64  \ndtypes: float64(36), int64(3), object(4)\nmemory usage: 15.0+ MB\n"
    }
   ],
   "source": [
    "covid_df.info()#lets check whether date column is droped or not "
   ]
  },
  {
   "cell_type": "code",
   "execution_count": 16,
   "metadata": {},
   "outputs": [
    {
     "output_type": "execute_result",
     "data": {
      "text/plain": "count    36799.000000\nmean         3.113552\nstd          2.529052\nmin          0.100000\n25%          1.300000\n50%          2.500000\n75%          4.200000\nmax         13.800000\nName: hospital_beds_per_thousand, dtype: float64"
     },
     "metadata": {},
     "execution_count": 16
    }
   ],
   "source": [
    "covid_df['hospital_beds_per_thousand'].describe()# lets take a look at mean ,standard deviation of all numeric columns present in dataset"
   ]
  },
  {
   "source": [
    "As we can see from above on average of 3 beds are there for thousand people in the world."
   ],
   "cell_type": "markdown",
   "metadata": {}
  },
  {
   "cell_type": "code",
   "execution_count": null,
   "metadata": {},
   "outputs": [],
   "source": []
  },
  {
   "source": [
    "%%HTML\n",
    "<div id=\"dav\" class=\"h2\">3.Data Analysis & Visualization</div>"
   ],
   "cell_type": "code",
   "metadata": {},
   "execution_count": 28,
   "outputs": [
    {
     "output_type": "display_data",
     "data": {
      "text/plain": "<IPython.core.display.HTML object>",
      "text/html": "<div id=\"dav\" class=\"h2\">3.Data Analysis & Visualization</div>\n"
     },
     "metadata": {}
    }
   ]
  },
  {
   "cell_type": "code",
   "execution_count": 89,
   "metadata": {
    "tags": []
   },
   "outputs": [
    {
     "output_type": "execute_result",
     "data": {
      "text/plain": "Text(0.5, 1.0, 'Top 10 countries with most beds per 1000 people')"
     },
     "metadata": {},
     "execution_count": 89
    },
    {
     "output_type": "display_data",
     "data": {
      "text/plain": "<Figure size 432x288 with 1 Axes>",
      "image/svg+xml": "<?xml version=\"1.0\" encoding=\"utf-8\" standalone=\"no\"?>\r\n<!DOCTYPE svg PUBLIC \"-//W3C//DTD SVG 1.1//EN\"\r\n  \"http://www.w3.org/Graphics/SVG/1.1/DTD/svg11.dtd\">\r\n<!-- Created with matplotlib (https://matplotlib.org/) -->\r\n<svg height=\"344.219063pt\" version=\"1.1\" viewBox=\"0 0 381.65 344.219063\" width=\"381.65pt\" xmlns=\"http://www.w3.org/2000/svg\" xmlns:xlink=\"http://www.w3.org/1999/xlink\">\r\n <defs>\r\n  <style type=\"text/css\">\r\n*{stroke-linecap:butt;stroke-linejoin:round;}\r\n  </style>\r\n </defs>\r\n <g id=\"figure_1\">\r\n  <g id=\"patch_1\">\r\n   <path d=\"M -0 344.219063 \r\nL 381.65 344.219063 \r\nL 381.65 0 \r\nL -0 0 \r\nz\r\n\" style=\"fill:none;\"/>\r\n  </g>\r\n  <g id=\"axes_1\">\r\n   <g id=\"patch_2\">\r\n    <path d=\"M 39.65 239.758125 \r\nL 374.45 239.758125 \r\nL 374.45 22.318125 \r\nL 39.65 22.318125 \r\nz\r\n\" style=\"fill:#ffffff;\"/>\r\n   </g>\r\n   <g id=\"patch_3\">\r\n    <path clip-path=\"url(#pdfef70cacd)\" d=\"M 48.02 239.758125 \r\nL 64.76 239.758125 \r\nL 64.76 32.672411 \r\nL 48.02 32.672411 \r\nz\r\n\" style=\"fill:#1f77b4;\"/>\r\n   </g>\r\n   <g id=\"patch_4\">\r\n    <path clip-path=\"url(#pdfef70cacd)\" d=\"M 81.5 239.758125 \r\nL 98.24 239.758125 \r\nL 98.24 43.927069 \r\nL 81.5 43.927069 \r\nz\r\n\" style=\"fill:#1f77b4;\"/>\r\n   </g>\r\n   <g id=\"patch_5\">\r\n    <path clip-path=\"url(#pdfef70cacd)\" d=\"M 114.98 239.758125 \r\nL 131.72 239.758125 \r\nL 131.72 55.631914 \r\nL 114.98 55.631914 \r\nz\r\n\" style=\"fill:#1f77b4;\"/>\r\n   </g>\r\n   <g id=\"patch_6\">\r\n    <path clip-path=\"url(#pdfef70cacd)\" d=\"M 148.46 239.758125 \r\nL 165.2 239.758125 \r\nL 165.2 74.689802 \r\nL 148.46 74.689802 \r\nz\r\n\" style=\"fill:#1f77b4;\"/>\r\n   </g>\r\n   <g id=\"patch_7\">\r\n    <path clip-path=\"url(#pdfef70cacd)\" d=\"M 181.94 239.758125 \r\nL 198.68 239.758125 \r\nL 198.68 118.958125 \r\nL 181.94 118.958125 \r\nz\r\n\" style=\"fill:#1f77b4;\"/>\r\n   </g>\r\n   <g id=\"patch_8\">\r\n    <path clip-path=\"url(#pdfef70cacd)\" d=\"M 215.42 239.758125 \r\nL 232.16 239.758125 \r\nL 232.16 119.708436 \r\nL 215.42 119.708436 \r\nz\r\n\" style=\"fill:#1f77b4;\"/>\r\n   </g>\r\n   <g id=\"patch_9\">\r\n    <path clip-path=\"url(#pdfef70cacd)\" d=\"M 248.9 239.758125 \r\nL 265.64 239.758125 \r\nL 265.64 129.162349 \r\nL 248.9 129.162349 \r\nz\r\n\" style=\"fill:#1f77b4;\"/>\r\n   </g>\r\n   <g id=\"patch_10\">\r\n    <path clip-path=\"url(#pdfef70cacd)\" d=\"M 282.38 239.758125 \r\nL 299.12 239.758125 \r\nL 299.12 136.335318 \r\nL 282.38 136.335318 \r\nz\r\n\" style=\"fill:#1f77b4;\"/>\r\n   </g>\r\n   <g id=\"patch_11\">\r\n    <path clip-path=\"url(#pdfef70cacd)\" d=\"M 315.86 239.758125 \r\nL 332.6 239.758125 \r\nL 332.6 140.266945 \r\nL 315.86 140.266945 \r\nz\r\n\" style=\"fill:#1f77b4;\"/>\r\n   </g>\r\n   <g id=\"patch_12\">\r\n    <path clip-path=\"url(#pdfef70cacd)\" d=\"M 349.34 239.758125 \r\nL 366.08 239.758125 \r\nL 366.08 141.31738 \r\nL 349.34 141.31738 \r\nz\r\n\" style=\"fill:#1f77b4;\"/>\r\n   </g>\r\n   <g id=\"matplotlib.axis_1\">\r\n    <g id=\"xtick_1\">\r\n     <g id=\"line2d_1\">\r\n      <defs>\r\n       <path d=\"M 0 0 \r\nL 0 3.5 \r\n\" id=\"mf71f81966c\" style=\"stroke:#000000;stroke-width:0.8;\"/>\r\n      </defs>\r\n      <g>\r\n       <use style=\"stroke:#000000;stroke-width:0.8;\" x=\"56.39\" xlink:href=\"#mf71f81966c\" y=\"239.758125\"/>\r\n      </g>\r\n     </g>\r\n     <g id=\"text_1\">\r\n      <!-- Monaco -->\r\n      <defs>\r\n       <path d=\"M 9.8125 72.90625 \r\nL 24.515625 72.90625 \r\nL 43.109375 23.296875 \r\nL 61.8125 72.90625 \r\nL 76.515625 72.90625 \r\nL 76.515625 0 \r\nL 66.890625 0 \r\nL 66.890625 64.015625 \r\nL 48.09375 14.015625 \r\nL 38.1875 14.015625 \r\nL 19.390625 64.015625 \r\nL 19.390625 0 \r\nL 9.8125 0 \r\nz\r\n\" id=\"DejaVuSans-77\"/>\r\n       <path d=\"M 30.609375 48.390625 \r\nQ 23.390625 48.390625 19.1875 42.75 \r\nQ 14.984375 37.109375 14.984375 27.296875 \r\nQ 14.984375 17.484375 19.15625 11.84375 \r\nQ 23.34375 6.203125 30.609375 6.203125 \r\nQ 37.796875 6.203125 41.984375 11.859375 \r\nQ 46.1875 17.53125 46.1875 27.296875 \r\nQ 46.1875 37.015625 41.984375 42.703125 \r\nQ 37.796875 48.390625 30.609375 48.390625 \r\nz\r\nM 30.609375 56 \r\nQ 42.328125 56 49.015625 48.375 \r\nQ 55.71875 40.765625 55.71875 27.296875 \r\nQ 55.71875 13.875 49.015625 6.21875 \r\nQ 42.328125 -1.421875 30.609375 -1.421875 \r\nQ 18.84375 -1.421875 12.171875 6.21875 \r\nQ 5.515625 13.875 5.515625 27.296875 \r\nQ 5.515625 40.765625 12.171875 48.375 \r\nQ 18.84375 56 30.609375 56 \r\nz\r\n\" id=\"DejaVuSans-111\"/>\r\n       <path d=\"M 54.890625 33.015625 \r\nL 54.890625 0 \r\nL 45.90625 0 \r\nL 45.90625 32.71875 \r\nQ 45.90625 40.484375 42.875 44.328125 \r\nQ 39.84375 48.1875 33.796875 48.1875 \r\nQ 26.515625 48.1875 22.3125 43.546875 \r\nQ 18.109375 38.921875 18.109375 30.90625 \r\nL 18.109375 0 \r\nL 9.078125 0 \r\nL 9.078125 54.6875 \r\nL 18.109375 54.6875 \r\nL 18.109375 46.1875 \r\nQ 21.34375 51.125 25.703125 53.5625 \r\nQ 30.078125 56 35.796875 56 \r\nQ 45.21875 56 50.046875 50.171875 \r\nQ 54.890625 44.34375 54.890625 33.015625 \r\nz\r\n\" id=\"DejaVuSans-110\"/>\r\n       <path d=\"M 34.28125 27.484375 \r\nQ 23.390625 27.484375 19.1875 25 \r\nQ 14.984375 22.515625 14.984375 16.5 \r\nQ 14.984375 11.71875 18.140625 8.90625 \r\nQ 21.296875 6.109375 26.703125 6.109375 \r\nQ 34.1875 6.109375 38.703125 11.40625 \r\nQ 43.21875 16.703125 43.21875 25.484375 \r\nL 43.21875 27.484375 \r\nz\r\nM 52.203125 31.203125 \r\nL 52.203125 0 \r\nL 43.21875 0 \r\nL 43.21875 8.296875 \r\nQ 40.140625 3.328125 35.546875 0.953125 \r\nQ 30.953125 -1.421875 24.3125 -1.421875 \r\nQ 15.921875 -1.421875 10.953125 3.296875 \r\nQ 6 8.015625 6 15.921875 \r\nQ 6 25.140625 12.171875 29.828125 \r\nQ 18.359375 34.515625 30.609375 34.515625 \r\nL 43.21875 34.515625 \r\nL 43.21875 35.40625 \r\nQ 43.21875 41.609375 39.140625 45 \r\nQ 35.0625 48.390625 27.6875 48.390625 \r\nQ 23 48.390625 18.546875 47.265625 \r\nQ 14.109375 46.140625 10.015625 43.890625 \r\nL 10.015625 52.203125 \r\nQ 14.9375 54.109375 19.578125 55.046875 \r\nQ 24.21875 56 28.609375 56 \r\nQ 40.484375 56 46.34375 49.84375 \r\nQ 52.203125 43.703125 52.203125 31.203125 \r\nz\r\n\" id=\"DejaVuSans-97\"/>\r\n       <path d=\"M 48.78125 52.59375 \r\nL 48.78125 44.1875 \r\nQ 44.96875 46.296875 41.140625 47.34375 \r\nQ 37.3125 48.390625 33.40625 48.390625 \r\nQ 24.65625 48.390625 19.8125 42.84375 \r\nQ 14.984375 37.3125 14.984375 27.296875 \r\nQ 14.984375 17.28125 19.8125 11.734375 \r\nQ 24.65625 6.203125 33.40625 6.203125 \r\nQ 37.3125 6.203125 41.140625 7.25 \r\nQ 44.96875 8.296875 48.78125 10.40625 \r\nL 48.78125 2.09375 \r\nQ 45.015625 0.34375 40.984375 -0.53125 \r\nQ 36.96875 -1.421875 32.421875 -1.421875 \r\nQ 20.0625 -1.421875 12.78125 6.34375 \r\nQ 5.515625 14.109375 5.515625 27.296875 \r\nQ 5.515625 40.671875 12.859375 48.328125 \r\nQ 20.21875 56 33.015625 56 \r\nQ 37.15625 56 41.109375 55.140625 \r\nQ 45.0625 54.296875 48.78125 52.59375 \r\nz\r\n\" id=\"DejaVuSans-99\"/>\r\n      </defs>\r\n      <g transform=\"translate(59.149375 285.587813)rotate(-90)scale(0.1 -0.1)\">\r\n       <use xlink:href=\"#DejaVuSans-77\"/>\r\n       <use x=\"86.279297\" xlink:href=\"#DejaVuSans-111\"/>\r\n       <use x=\"147.460938\" xlink:href=\"#DejaVuSans-110\"/>\r\n       <use x=\"210.839844\" xlink:href=\"#DejaVuSans-97\"/>\r\n       <use x=\"272.119141\" xlink:href=\"#DejaVuSans-99\"/>\r\n       <use x=\"327.099609\" xlink:href=\"#DejaVuSans-111\"/>\r\n      </g>\r\n     </g>\r\n    </g>\r\n    <g id=\"xtick_2\">\r\n     <g id=\"line2d_2\">\r\n      <g>\r\n       <use style=\"stroke:#000000;stroke-width:0.8;\" x=\"89.87\" xlink:href=\"#mf71f81966c\" y=\"239.758125\"/>\r\n      </g>\r\n     </g>\r\n     <g id=\"text_2\">\r\n      <!-- Japan -->\r\n      <defs>\r\n       <path d=\"M 9.8125 72.90625 \r\nL 19.671875 72.90625 \r\nL 19.671875 5.078125 \r\nQ 19.671875 -8.109375 14.671875 -14.0625 \r\nQ 9.671875 -20.015625 -1.421875 -20.015625 \r\nL -5.171875 -20.015625 \r\nL -5.171875 -11.71875 \r\nL -2.09375 -11.71875 \r\nQ 4.4375 -11.71875 7.125 -8.046875 \r\nQ 9.8125 -4.390625 9.8125 5.078125 \r\nz\r\n\" id=\"DejaVuSans-74\"/>\r\n       <path d=\"M 18.109375 8.203125 \r\nL 18.109375 -20.796875 \r\nL 9.078125 -20.796875 \r\nL 9.078125 54.6875 \r\nL 18.109375 54.6875 \r\nL 18.109375 46.390625 \r\nQ 20.953125 51.265625 25.265625 53.625 \r\nQ 29.59375 56 35.59375 56 \r\nQ 45.5625 56 51.78125 48.09375 \r\nQ 58.015625 40.1875 58.015625 27.296875 \r\nQ 58.015625 14.40625 51.78125 6.484375 \r\nQ 45.5625 -1.421875 35.59375 -1.421875 \r\nQ 29.59375 -1.421875 25.265625 0.953125 \r\nQ 20.953125 3.328125 18.109375 8.203125 \r\nz\r\nM 48.6875 27.296875 \r\nQ 48.6875 37.203125 44.609375 42.84375 \r\nQ 40.53125 48.484375 33.40625 48.484375 \r\nQ 26.265625 48.484375 22.1875 42.84375 \r\nQ 18.109375 37.203125 18.109375 27.296875 \r\nQ 18.109375 17.390625 22.1875 11.75 \r\nQ 26.265625 6.109375 33.40625 6.109375 \r\nQ 40.53125 6.109375 44.609375 11.75 \r\nQ 48.6875 17.390625 48.6875 27.296875 \r\nz\r\n\" id=\"DejaVuSans-112\"/>\r\n      </defs>\r\n      <g transform=\"translate(92.629375 274.650313)rotate(-90)scale(0.1 -0.1)\">\r\n       <use xlink:href=\"#DejaVuSans-74\"/>\r\n       <use x=\"29.492188\" xlink:href=\"#DejaVuSans-97\"/>\r\n       <use x=\"90.771484\" xlink:href=\"#DejaVuSans-112\"/>\r\n       <use x=\"154.248047\" xlink:href=\"#DejaVuSans-97\"/>\r\n       <use x=\"215.527344\" xlink:href=\"#DejaVuSans-110\"/>\r\n      </g>\r\n     </g>\r\n    </g>\r\n    <g id=\"xtick_3\">\r\n     <g id=\"line2d_3\">\r\n      <g>\r\n       <use style=\"stroke:#000000;stroke-width:0.8;\" x=\"123.35\" xlink:href=\"#mf71f81966c\" y=\"239.758125\"/>\r\n      </g>\r\n     </g>\r\n     <g id=\"text_3\">\r\n      <!-- South Korea -->\r\n      <defs>\r\n       <path d=\"M 53.515625 70.515625 \r\nL 53.515625 60.890625 \r\nQ 47.90625 63.578125 42.921875 64.890625 \r\nQ 37.9375 66.21875 33.296875 66.21875 \r\nQ 25.25 66.21875 20.875 63.09375 \r\nQ 16.5 59.96875 16.5 54.203125 \r\nQ 16.5 49.359375 19.40625 46.890625 \r\nQ 22.3125 44.4375 30.421875 42.921875 \r\nL 36.375 41.703125 \r\nQ 47.40625 39.59375 52.65625 34.296875 \r\nQ 57.90625 29 57.90625 20.125 \r\nQ 57.90625 9.515625 50.796875 4.046875 \r\nQ 43.703125 -1.421875 29.984375 -1.421875 \r\nQ 24.8125 -1.421875 18.96875 -0.25 \r\nQ 13.140625 0.921875 6.890625 3.21875 \r\nL 6.890625 13.375 \r\nQ 12.890625 10.015625 18.65625 8.296875 \r\nQ 24.421875 6.59375 29.984375 6.59375 \r\nQ 38.421875 6.59375 43.015625 9.90625 \r\nQ 47.609375 13.234375 47.609375 19.390625 \r\nQ 47.609375 24.75 44.3125 27.78125 \r\nQ 41.015625 30.8125 33.5 32.328125 \r\nL 27.484375 33.5 \r\nQ 16.453125 35.6875 11.515625 40.375 \r\nQ 6.59375 45.0625 6.59375 53.421875 \r\nQ 6.59375 63.09375 13.40625 68.65625 \r\nQ 20.21875 74.21875 32.171875 74.21875 \r\nQ 37.3125 74.21875 42.625 73.28125 \r\nQ 47.953125 72.359375 53.515625 70.515625 \r\nz\r\n\" id=\"DejaVuSans-83\"/>\r\n       <path d=\"M 8.5 21.578125 \r\nL 8.5 54.6875 \r\nL 17.484375 54.6875 \r\nL 17.484375 21.921875 \r\nQ 17.484375 14.15625 20.5 10.265625 \r\nQ 23.53125 6.390625 29.59375 6.390625 \r\nQ 36.859375 6.390625 41.078125 11.03125 \r\nQ 45.3125 15.671875 45.3125 23.6875 \r\nL 45.3125 54.6875 \r\nL 54.296875 54.6875 \r\nL 54.296875 0 \r\nL 45.3125 0 \r\nL 45.3125 8.40625 \r\nQ 42.046875 3.421875 37.71875 1 \r\nQ 33.40625 -1.421875 27.6875 -1.421875 \r\nQ 18.265625 -1.421875 13.375 4.4375 \r\nQ 8.5 10.296875 8.5 21.578125 \r\nz\r\nM 31.109375 56 \r\nz\r\n\" id=\"DejaVuSans-117\"/>\r\n       <path d=\"M 18.3125 70.21875 \r\nL 18.3125 54.6875 \r\nL 36.8125 54.6875 \r\nL 36.8125 47.703125 \r\nL 18.3125 47.703125 \r\nL 18.3125 18.015625 \r\nQ 18.3125 11.328125 20.140625 9.421875 \r\nQ 21.96875 7.515625 27.59375 7.515625 \r\nL 36.8125 7.515625 \r\nL 36.8125 0 \r\nL 27.59375 0 \r\nQ 17.1875 0 13.234375 3.875 \r\nQ 9.28125 7.765625 9.28125 18.015625 \r\nL 9.28125 47.703125 \r\nL 2.6875 47.703125 \r\nL 2.6875 54.6875 \r\nL 9.28125 54.6875 \r\nL 9.28125 70.21875 \r\nz\r\n\" id=\"DejaVuSans-116\"/>\r\n       <path d=\"M 54.890625 33.015625 \r\nL 54.890625 0 \r\nL 45.90625 0 \r\nL 45.90625 32.71875 \r\nQ 45.90625 40.484375 42.875 44.328125 \r\nQ 39.84375 48.1875 33.796875 48.1875 \r\nQ 26.515625 48.1875 22.3125 43.546875 \r\nQ 18.109375 38.921875 18.109375 30.90625 \r\nL 18.109375 0 \r\nL 9.078125 0 \r\nL 9.078125 75.984375 \r\nL 18.109375 75.984375 \r\nL 18.109375 46.1875 \r\nQ 21.34375 51.125 25.703125 53.5625 \r\nQ 30.078125 56 35.796875 56 \r\nQ 45.21875 56 50.046875 50.171875 \r\nQ 54.890625 44.34375 54.890625 33.015625 \r\nz\r\n\" id=\"DejaVuSans-104\"/>\r\n       <path id=\"DejaVuSans-32\"/>\r\n       <path d=\"M 9.8125 72.90625 \r\nL 19.671875 72.90625 \r\nL 19.671875 42.09375 \r\nL 52.390625 72.90625 \r\nL 65.09375 72.90625 \r\nL 28.90625 38.921875 \r\nL 67.671875 0 \r\nL 54.6875 0 \r\nL 19.671875 35.109375 \r\nL 19.671875 0 \r\nL 9.8125 0 \r\nz\r\n\" id=\"DejaVuSans-75\"/>\r\n       <path d=\"M 41.109375 46.296875 \r\nQ 39.59375 47.171875 37.8125 47.578125 \r\nQ 36.03125 48 33.890625 48 \r\nQ 26.265625 48 22.1875 43.046875 \r\nQ 18.109375 38.09375 18.109375 28.8125 \r\nL 18.109375 0 \r\nL 9.078125 0 \r\nL 9.078125 54.6875 \r\nL 18.109375 54.6875 \r\nL 18.109375 46.1875 \r\nQ 20.953125 51.171875 25.484375 53.578125 \r\nQ 30.03125 56 36.53125 56 \r\nQ 37.453125 56 38.578125 55.875 \r\nQ 39.703125 55.765625 41.0625 55.515625 \r\nz\r\n\" id=\"DejaVuSans-114\"/>\r\n       <path d=\"M 56.203125 29.59375 \r\nL 56.203125 25.203125 \r\nL 14.890625 25.203125 \r\nQ 15.484375 15.921875 20.484375 11.0625 \r\nQ 25.484375 6.203125 34.421875 6.203125 \r\nQ 39.59375 6.203125 44.453125 7.46875 \r\nQ 49.3125 8.734375 54.109375 11.28125 \r\nL 54.109375 2.78125 \r\nQ 49.265625 0.734375 44.1875 -0.34375 \r\nQ 39.109375 -1.421875 33.890625 -1.421875 \r\nQ 20.796875 -1.421875 13.15625 6.1875 \r\nQ 5.515625 13.8125 5.515625 26.8125 \r\nQ 5.515625 40.234375 12.765625 48.109375 \r\nQ 20.015625 56 32.328125 56 \r\nQ 43.359375 56 49.78125 48.890625 \r\nQ 56.203125 41.796875 56.203125 29.59375 \r\nz\r\nM 47.21875 32.234375 \r\nQ 47.125 39.59375 43.09375 43.984375 \r\nQ 39.0625 48.390625 32.421875 48.390625 \r\nQ 24.90625 48.390625 20.390625 44.140625 \r\nQ 15.875 39.890625 15.1875 32.171875 \r\nz\r\n\" id=\"DejaVuSans-101\"/>\r\n      </defs>\r\n      <g transform=\"translate(126.109375 308.056563)rotate(-90)scale(0.1 -0.1)\">\r\n       <use xlink:href=\"#DejaVuSans-83\"/>\r\n       <use x=\"63.476562\" xlink:href=\"#DejaVuSans-111\"/>\r\n       <use x=\"124.658203\" xlink:href=\"#DejaVuSans-117\"/>\r\n       <use x=\"188.037109\" xlink:href=\"#DejaVuSans-116\"/>\r\n       <use x=\"227.246094\" xlink:href=\"#DejaVuSans-104\"/>\r\n       <use x=\"290.625\" xlink:href=\"#DejaVuSans-32\"/>\r\n       <use x=\"322.412109\" xlink:href=\"#DejaVuSans-75\"/>\r\n       <use x=\"387.910156\" xlink:href=\"#DejaVuSans-111\"/>\r\n       <use x=\"449.091797\" xlink:href=\"#DejaVuSans-114\"/>\r\n       <use x=\"490.173828\" xlink:href=\"#DejaVuSans-101\"/>\r\n       <use x=\"551.697266\" xlink:href=\"#DejaVuSans-97\"/>\r\n      </g>\r\n     </g>\r\n    </g>\r\n    <g id=\"xtick_4\">\r\n     <g id=\"line2d_4\">\r\n      <g>\r\n       <use style=\"stroke:#000000;stroke-width:0.8;\" x=\"156.83\" xlink:href=\"#mf71f81966c\" y=\"239.758125\"/>\r\n      </g>\r\n     </g>\r\n     <g id=\"text_4\">\r\n      <!-- Belarus -->\r\n      <defs>\r\n       <path d=\"M 19.671875 34.8125 \r\nL 19.671875 8.109375 \r\nL 35.5 8.109375 \r\nQ 43.453125 8.109375 47.28125 11.40625 \r\nQ 51.125 14.703125 51.125 21.484375 \r\nQ 51.125 28.328125 47.28125 31.5625 \r\nQ 43.453125 34.8125 35.5 34.8125 \r\nz\r\nM 19.671875 64.796875 \r\nL 19.671875 42.828125 \r\nL 34.28125 42.828125 \r\nQ 41.5 42.828125 45.03125 45.53125 \r\nQ 48.578125 48.25 48.578125 53.8125 \r\nQ 48.578125 59.328125 45.03125 62.0625 \r\nQ 41.5 64.796875 34.28125 64.796875 \r\nz\r\nM 9.8125 72.90625 \r\nL 35.015625 72.90625 \r\nQ 46.296875 72.90625 52.390625 68.21875 \r\nQ 58.5 63.53125 58.5 54.890625 \r\nQ 58.5 48.1875 55.375 44.234375 \r\nQ 52.25 40.28125 46.1875 39.3125 \r\nQ 53.46875 37.75 57.5 32.78125 \r\nQ 61.53125 27.828125 61.53125 20.40625 \r\nQ 61.53125 10.640625 54.890625 5.3125 \r\nQ 48.25 0 35.984375 0 \r\nL 9.8125 0 \r\nz\r\n\" id=\"DejaVuSans-66\"/>\r\n       <path d=\"M 9.421875 75.984375 \r\nL 18.40625 75.984375 \r\nL 18.40625 0 \r\nL 9.421875 0 \r\nz\r\n\" id=\"DejaVuSans-108\"/>\r\n       <path d=\"M 44.28125 53.078125 \r\nL 44.28125 44.578125 \r\nQ 40.484375 46.53125 36.375 47.5 \r\nQ 32.28125 48.484375 27.875 48.484375 \r\nQ 21.1875 48.484375 17.84375 46.4375 \r\nQ 14.5 44.390625 14.5 40.28125 \r\nQ 14.5 37.15625 16.890625 35.375 \r\nQ 19.28125 33.59375 26.515625 31.984375 \r\nL 29.59375 31.296875 \r\nQ 39.15625 29.25 43.1875 25.515625 \r\nQ 47.21875 21.78125 47.21875 15.09375 \r\nQ 47.21875 7.46875 41.1875 3.015625 \r\nQ 35.15625 -1.421875 24.609375 -1.421875 \r\nQ 20.21875 -1.421875 15.453125 -0.5625 \r\nQ 10.6875 0.296875 5.421875 2 \r\nL 5.421875 11.28125 \r\nQ 10.40625 8.6875 15.234375 7.390625 \r\nQ 20.0625 6.109375 24.8125 6.109375 \r\nQ 31.15625 6.109375 34.5625 8.28125 \r\nQ 37.984375 10.453125 37.984375 14.40625 \r\nQ 37.984375 18.0625 35.515625 20.015625 \r\nQ 33.0625 21.96875 24.703125 23.78125 \r\nL 21.578125 24.515625 \r\nQ 13.234375 26.265625 9.515625 29.90625 \r\nQ 5.8125 33.546875 5.8125 39.890625 \r\nQ 5.8125 47.609375 11.28125 51.796875 \r\nQ 16.75 56 26.8125 56 \r\nQ 31.78125 56 36.171875 55.265625 \r\nQ 40.578125 54.546875 44.28125 53.078125 \r\nz\r\n\" id=\"DejaVuSans-115\"/>\r\n      </defs>\r\n      <g transform=\"translate(159.589375 284.33625)rotate(-90)scale(0.1 -0.1)\">\r\n       <use xlink:href=\"#DejaVuSans-66\"/>\r\n       <use x=\"68.603516\" xlink:href=\"#DejaVuSans-101\"/>\r\n       <use x=\"130.126953\" xlink:href=\"#DejaVuSans-108\"/>\r\n       <use x=\"157.910156\" xlink:href=\"#DejaVuSans-97\"/>\r\n       <use x=\"219.189453\" xlink:href=\"#DejaVuSans-114\"/>\r\n       <use x=\"260.302734\" xlink:href=\"#DejaVuSans-117\"/>\r\n       <use x=\"323.681641\" xlink:href=\"#DejaVuSans-115\"/>\r\n      </g>\r\n     </g>\r\n    </g>\r\n    <g id=\"xtick_5\">\r\n     <g id=\"line2d_5\">\r\n      <g>\r\n       <use style=\"stroke:#000000;stroke-width:0.8;\" x=\"190.31\" xlink:href=\"#mf71f81966c\" y=\"239.758125\"/>\r\n      </g>\r\n     </g>\r\n     <g id=\"text_5\">\r\n      <!-- Russia -->\r\n      <defs>\r\n       <path d=\"M 44.390625 34.1875 \r\nQ 47.5625 33.109375 50.5625 29.59375 \r\nQ 53.5625 26.078125 56.59375 19.921875 \r\nL 66.609375 0 \r\nL 56 0 \r\nL 46.6875 18.703125 \r\nQ 43.0625 26.03125 39.671875 28.421875 \r\nQ 36.28125 30.8125 30.421875 30.8125 \r\nL 19.671875 30.8125 \r\nL 19.671875 0 \r\nL 9.8125 0 \r\nL 9.8125 72.90625 \r\nL 32.078125 72.90625 \r\nQ 44.578125 72.90625 50.734375 67.671875 \r\nQ 56.890625 62.453125 56.890625 51.90625 \r\nQ 56.890625 45.015625 53.6875 40.46875 \r\nQ 50.484375 35.9375 44.390625 34.1875 \r\nz\r\nM 19.671875 64.796875 \r\nL 19.671875 38.921875 \r\nL 32.078125 38.921875 \r\nQ 39.203125 38.921875 42.84375 42.21875 \r\nQ 46.484375 45.515625 46.484375 51.90625 \r\nQ 46.484375 58.296875 42.84375 61.546875 \r\nQ 39.203125 64.796875 32.078125 64.796875 \r\nz\r\n\" id=\"DejaVuSans-82\"/>\r\n       <path d=\"M 9.421875 54.6875 \r\nL 18.40625 54.6875 \r\nL 18.40625 0 \r\nL 9.421875 0 \r\nz\r\nM 9.421875 75.984375 \r\nL 18.40625 75.984375 \r\nL 18.40625 64.59375 \r\nL 9.421875 64.59375 \r\nz\r\n\" id=\"DejaVuSans-105\"/>\r\n      </defs>\r\n      <g transform=\"translate(193.069375 279.362813)rotate(-90)scale(0.1 -0.1)\">\r\n       <use xlink:href=\"#DejaVuSans-82\"/>\r\n       <use x=\"69.419922\" xlink:href=\"#DejaVuSans-117\"/>\r\n       <use x=\"132.798828\" xlink:href=\"#DejaVuSans-115\"/>\r\n       <use x=\"184.898438\" xlink:href=\"#DejaVuSans-115\"/>\r\n       <use x=\"236.998047\" xlink:href=\"#DejaVuSans-105\"/>\r\n       <use x=\"264.78125\" xlink:href=\"#DejaVuSans-97\"/>\r\n      </g>\r\n     </g>\r\n    </g>\r\n    <g id=\"xtick_6\">\r\n     <g id=\"line2d_6\">\r\n      <g>\r\n       <use style=\"stroke:#000000;stroke-width:0.8;\" x=\"223.79\" xlink:href=\"#mf71f81966c\" y=\"239.758125\"/>\r\n      </g>\r\n     </g>\r\n     <g id=\"text_6\">\r\n      <!-- Germany -->\r\n      <defs>\r\n       <path d=\"M 59.515625 10.40625 \r\nL 59.515625 29.984375 \r\nL 43.40625 29.984375 \r\nL 43.40625 38.09375 \r\nL 69.28125 38.09375 \r\nL 69.28125 6.78125 \r\nQ 63.578125 2.734375 56.6875 0.65625 \r\nQ 49.8125 -1.421875 42 -1.421875 \r\nQ 24.90625 -1.421875 15.25 8.5625 \r\nQ 5.609375 18.5625 5.609375 36.375 \r\nQ 5.609375 54.25 15.25 64.234375 \r\nQ 24.90625 74.21875 42 74.21875 \r\nQ 49.125 74.21875 55.546875 72.453125 \r\nQ 61.96875 70.703125 67.390625 67.28125 \r\nL 67.390625 56.78125 \r\nQ 61.921875 61.421875 55.765625 63.765625 \r\nQ 49.609375 66.109375 42.828125 66.109375 \r\nQ 29.4375 66.109375 22.71875 58.640625 \r\nQ 16.015625 51.171875 16.015625 36.375 \r\nQ 16.015625 21.625 22.71875 14.15625 \r\nQ 29.4375 6.6875 42.828125 6.6875 \r\nQ 48.046875 6.6875 52.140625 7.59375 \r\nQ 56.25 8.5 59.515625 10.40625 \r\nz\r\n\" id=\"DejaVuSans-71\"/>\r\n       <path d=\"M 52 44.1875 \r\nQ 55.375 50.25 60.0625 53.125 \r\nQ 64.75 56 71.09375 56 \r\nQ 79.640625 56 84.28125 50.015625 \r\nQ 88.921875 44.046875 88.921875 33.015625 \r\nL 88.921875 0 \r\nL 79.890625 0 \r\nL 79.890625 32.71875 \r\nQ 79.890625 40.578125 77.09375 44.375 \r\nQ 74.3125 48.1875 68.609375 48.1875 \r\nQ 61.625 48.1875 57.5625 43.546875 \r\nQ 53.515625 38.921875 53.515625 30.90625 \r\nL 53.515625 0 \r\nL 44.484375 0 \r\nL 44.484375 32.71875 \r\nQ 44.484375 40.625 41.703125 44.40625 \r\nQ 38.921875 48.1875 33.109375 48.1875 \r\nQ 26.21875 48.1875 22.15625 43.53125 \r\nQ 18.109375 38.875 18.109375 30.90625 \r\nL 18.109375 0 \r\nL 9.078125 0 \r\nL 9.078125 54.6875 \r\nL 18.109375 54.6875 \r\nL 18.109375 46.1875 \r\nQ 21.1875 51.21875 25.484375 53.609375 \r\nQ 29.78125 56 35.6875 56 \r\nQ 41.65625 56 45.828125 52.96875 \r\nQ 50 49.953125 52 44.1875 \r\nz\r\n\" id=\"DejaVuSans-109\"/>\r\n       <path d=\"M 32.171875 -5.078125 \r\nQ 28.375 -14.84375 24.75 -17.8125 \r\nQ 21.140625 -20.796875 15.09375 -20.796875 \r\nL 7.90625 -20.796875 \r\nL 7.90625 -13.28125 \r\nL 13.1875 -13.28125 \r\nQ 16.890625 -13.28125 18.9375 -11.515625 \r\nQ 21 -9.765625 23.484375 -3.21875 \r\nL 25.09375 0.875 \r\nL 2.984375 54.6875 \r\nL 12.5 54.6875 \r\nL 29.59375 11.921875 \r\nL 46.6875 54.6875 \r\nL 56.203125 54.6875 \r\nz\r\n\" id=\"DejaVuSans-121\"/>\r\n      </defs>\r\n      <g transform=\"translate(226.549375 292.894063)rotate(-90)scale(0.1 -0.1)\">\r\n       <use xlink:href=\"#DejaVuSans-71\"/>\r\n       <use x=\"77.490234\" xlink:href=\"#DejaVuSans-101\"/>\r\n       <use x=\"139.013672\" xlink:href=\"#DejaVuSans-114\"/>\r\n       <use x=\"180.111328\" xlink:href=\"#DejaVuSans-109\"/>\r\n       <use x=\"277.523438\" xlink:href=\"#DejaVuSans-97\"/>\r\n       <use x=\"338.802734\" xlink:href=\"#DejaVuSans-110\"/>\r\n       <use x=\"402.181641\" xlink:href=\"#DejaVuSans-121\"/>\r\n      </g>\r\n     </g>\r\n    </g>\r\n    <g id=\"xtick_7\">\r\n     <g id=\"line2d_7\">\r\n      <g>\r\n       <use style=\"stroke:#000000;stroke-width:0.8;\" x=\"257.27\" xlink:href=\"#mf71f81966c\" y=\"239.758125\"/>\r\n      </g>\r\n     </g>\r\n     <g id=\"text_7\">\r\n      <!-- Austria -->\r\n      <defs>\r\n       <path d=\"M 34.1875 63.1875 \r\nL 20.796875 26.90625 \r\nL 47.609375 26.90625 \r\nz\r\nM 28.609375 72.90625 \r\nL 39.796875 72.90625 \r\nL 67.578125 0 \r\nL 57.328125 0 \r\nL 50.6875 18.703125 \r\nL 17.828125 18.703125 \r\nL 11.1875 0 \r\nL 0.78125 0 \r\nz\r\n\" id=\"DejaVuSans-65\"/>\r\n      </defs>\r\n      <g transform=\"translate(260.029375 282.083125)rotate(-90)scale(0.1 -0.1)\">\r\n       <use xlink:href=\"#DejaVuSans-65\"/>\r\n       <use x=\"68.408203\" xlink:href=\"#DejaVuSans-117\"/>\r\n       <use x=\"131.787109\" xlink:href=\"#DejaVuSans-115\"/>\r\n       <use x=\"183.886719\" xlink:href=\"#DejaVuSans-116\"/>\r\n       <use x=\"223.095703\" xlink:href=\"#DejaVuSans-114\"/>\r\n       <use x=\"264.208984\" xlink:href=\"#DejaVuSans-105\"/>\r\n       <use x=\"291.992188\" xlink:href=\"#DejaVuSans-97\"/>\r\n      </g>\r\n     </g>\r\n    </g>\r\n    <g id=\"xtick_8\">\r\n     <g id=\"line2d_8\">\r\n      <g>\r\n       <use style=\"stroke:#000000;stroke-width:0.8;\" x=\"290.75\" xlink:href=\"#mf71f81966c\" y=\"239.758125\"/>\r\n      </g>\r\n     </g>\r\n     <g id=\"text_8\">\r\n      <!-- Romania -->\r\n      <g transform=\"translate(293.509375 290.931563)rotate(-90)scale(0.1 -0.1)\">\r\n       <use xlink:href=\"#DejaVuSans-82\"/>\r\n       <use x=\"69.419922\" xlink:href=\"#DejaVuSans-111\"/>\r\n       <use x=\"130.601562\" xlink:href=\"#DejaVuSans-109\"/>\r\n       <use x=\"228.013672\" xlink:href=\"#DejaVuSans-97\"/>\r\n       <use x=\"289.292969\" xlink:href=\"#DejaVuSans-110\"/>\r\n       <use x=\"352.671875\" xlink:href=\"#DejaVuSans-105\"/>\r\n       <use x=\"380.455078\" xlink:href=\"#DejaVuSans-97\"/>\r\n      </g>\r\n     </g>\r\n    </g>\r\n    <g id=\"xtick_9\">\r\n     <g id=\"line2d_9\">\r\n      <g>\r\n       <use style=\"stroke:#000000;stroke-width:0.8;\" x=\"324.23\" xlink:href=\"#mf71f81966c\" y=\"239.758125\"/>\r\n      </g>\r\n     </g>\r\n     <g id=\"text_9\">\r\n      <!-- Czech Republic -->\r\n      <defs>\r\n       <path d=\"M 64.40625 67.28125 \r\nL 64.40625 56.890625 \r\nQ 59.421875 61.53125 53.78125 63.8125 \r\nQ 48.140625 66.109375 41.796875 66.109375 \r\nQ 29.296875 66.109375 22.65625 58.46875 \r\nQ 16.015625 50.828125 16.015625 36.375 \r\nQ 16.015625 21.96875 22.65625 14.328125 \r\nQ 29.296875 6.6875 41.796875 6.6875 \r\nQ 48.140625 6.6875 53.78125 8.984375 \r\nQ 59.421875 11.28125 64.40625 15.921875 \r\nL 64.40625 5.609375 \r\nQ 59.234375 2.09375 53.4375 0.328125 \r\nQ 47.65625 -1.421875 41.21875 -1.421875 \r\nQ 24.65625 -1.421875 15.125 8.703125 \r\nQ 5.609375 18.84375 5.609375 36.375 \r\nQ 5.609375 53.953125 15.125 64.078125 \r\nQ 24.65625 74.21875 41.21875 74.21875 \r\nQ 47.75 74.21875 53.53125 72.484375 \r\nQ 59.328125 70.75 64.40625 67.28125 \r\nz\r\n\" id=\"DejaVuSans-67\"/>\r\n       <path d=\"M 5.515625 54.6875 \r\nL 48.1875 54.6875 \r\nL 48.1875 46.484375 \r\nL 14.40625 7.171875 \r\nL 48.1875 7.171875 \r\nL 48.1875 0 \r\nL 4.296875 0 \r\nL 4.296875 8.203125 \r\nL 38.09375 47.515625 \r\nL 5.515625 47.515625 \r\nz\r\n\" id=\"DejaVuSans-122\"/>\r\n       <path d=\"M 48.6875 27.296875 \r\nQ 48.6875 37.203125 44.609375 42.84375 \r\nQ 40.53125 48.484375 33.40625 48.484375 \r\nQ 26.265625 48.484375 22.1875 42.84375 \r\nQ 18.109375 37.203125 18.109375 27.296875 \r\nQ 18.109375 17.390625 22.1875 11.75 \r\nQ 26.265625 6.109375 33.40625 6.109375 \r\nQ 40.53125 6.109375 44.609375 11.75 \r\nQ 48.6875 17.390625 48.6875 27.296875 \r\nz\r\nM 18.109375 46.390625 \r\nQ 20.953125 51.265625 25.265625 53.625 \r\nQ 29.59375 56 35.59375 56 \r\nQ 45.5625 56 51.78125 48.09375 \r\nQ 58.015625 40.1875 58.015625 27.296875 \r\nQ 58.015625 14.40625 51.78125 6.484375 \r\nQ 45.5625 -1.421875 35.59375 -1.421875 \r\nQ 29.59375 -1.421875 25.265625 0.953125 \r\nQ 20.953125 3.328125 18.109375 8.203125 \r\nL 18.109375 0 \r\nL 9.078125 0 \r\nL 9.078125 75.984375 \r\nL 18.109375 75.984375 \r\nz\r\n\" id=\"DejaVuSans-98\"/>\r\n      </defs>\r\n      <g transform=\"translate(326.989375 323.340937)rotate(-90)scale(0.1 -0.1)\">\r\n       <use xlink:href=\"#DejaVuSans-67\"/>\r\n       <use x=\"69.824219\" xlink:href=\"#DejaVuSans-122\"/>\r\n       <use x=\"122.314453\" xlink:href=\"#DejaVuSans-101\"/>\r\n       <use x=\"183.837891\" xlink:href=\"#DejaVuSans-99\"/>\r\n       <use x=\"238.818359\" xlink:href=\"#DejaVuSans-104\"/>\r\n       <use x=\"302.197266\" xlink:href=\"#DejaVuSans-32\"/>\r\n       <use x=\"333.984375\" xlink:href=\"#DejaVuSans-82\"/>\r\n       <use x=\"403.404297\" xlink:href=\"#DejaVuSans-101\"/>\r\n       <use x=\"464.927734\" xlink:href=\"#DejaVuSans-112\"/>\r\n       <use x=\"528.404297\" xlink:href=\"#DejaVuSans-117\"/>\r\n       <use x=\"591.783203\" xlink:href=\"#DejaVuSans-98\"/>\r\n       <use x=\"655.259766\" xlink:href=\"#DejaVuSans-108\"/>\r\n       <use x=\"683.042969\" xlink:href=\"#DejaVuSans-105\"/>\r\n       <use x=\"710.826172\" xlink:href=\"#DejaVuSans-99\"/>\r\n      </g>\r\n     </g>\r\n    </g>\r\n    <g id=\"xtick_10\">\r\n     <g id=\"line2d_10\">\r\n      <g>\r\n       <use style=\"stroke:#000000;stroke-width:0.8;\" x=\"357.71\" xlink:href=\"#mf71f81966c\" y=\"239.758125\"/>\r\n      </g>\r\n     </g>\r\n     <g id=\"text_10\">\r\n      <!-- Lithuania -->\r\n      <defs>\r\n       <path d=\"M 9.8125 72.90625 \r\nL 19.671875 72.90625 \r\nL 19.671875 8.296875 \r\nL 55.171875 8.296875 \r\nL 55.171875 0 \r\nL 9.8125 0 \r\nz\r\n\" id=\"DejaVuSans-76\"/>\r\n      </defs>\r\n      <g transform=\"translate(360.469375 293.075312)rotate(-90)scale(0.1 -0.1)\">\r\n       <use xlink:href=\"#DejaVuSans-76\"/>\r\n       <use x=\"55.712891\" xlink:href=\"#DejaVuSans-105\"/>\r\n       <use x=\"83.496094\" xlink:href=\"#DejaVuSans-116\"/>\r\n       <use x=\"122.705078\" xlink:href=\"#DejaVuSans-104\"/>\r\n       <use x=\"186.083984\" xlink:href=\"#DejaVuSans-117\"/>\r\n       <use x=\"249.462891\" xlink:href=\"#DejaVuSans-97\"/>\r\n       <use x=\"310.742188\" xlink:href=\"#DejaVuSans-110\"/>\r\n       <use x=\"374.121094\" xlink:href=\"#DejaVuSans-105\"/>\r\n       <use x=\"401.904297\" xlink:href=\"#DejaVuSans-97\"/>\r\n      </g>\r\n     </g>\r\n    </g>\r\n    <g id=\"text_11\">\r\n     <!-- location -->\r\n     <g transform=\"translate(187.210938 334.939375)scale(0.1 -0.1)\">\r\n      <use xlink:href=\"#DejaVuSans-108\"/>\r\n      <use x=\"27.783203\" xlink:href=\"#DejaVuSans-111\"/>\r\n      <use x=\"88.964844\" xlink:href=\"#DejaVuSans-99\"/>\r\n      <use x=\"143.945312\" xlink:href=\"#DejaVuSans-97\"/>\r\n      <use x=\"205.224609\" xlink:href=\"#DejaVuSans-116\"/>\r\n      <use x=\"244.433594\" xlink:href=\"#DejaVuSans-105\"/>\r\n      <use x=\"272.216797\" xlink:href=\"#DejaVuSans-111\"/>\r\n      <use x=\"333.398438\" xlink:href=\"#DejaVuSans-110\"/>\r\n     </g>\r\n    </g>\r\n   </g>\r\n   <g id=\"matplotlib.axis_2\">\r\n    <g id=\"ytick_1\">\r\n     <g id=\"line2d_11\">\r\n      <defs>\r\n       <path d=\"M 0 0 \r\nL -3.5 0 \r\n\" id=\"me953b9768b\" style=\"stroke:#000000;stroke-width:0.8;\"/>\r\n      </defs>\r\n      <g>\r\n       <use style=\"stroke:#000000;stroke-width:0.8;\" x=\"39.65\" xlink:href=\"#me953b9768b\" y=\"239.758125\"/>\r\n      </g>\r\n     </g>\r\n     <g id=\"text_12\">\r\n      <!-- 0 -->\r\n      <defs>\r\n       <path d=\"M 31.78125 66.40625 \r\nQ 24.171875 66.40625 20.328125 58.90625 \r\nQ 16.5 51.421875 16.5 36.375 \r\nQ 16.5 21.390625 20.328125 13.890625 \r\nQ 24.171875 6.390625 31.78125 6.390625 \r\nQ 39.453125 6.390625 43.28125 13.890625 \r\nQ 47.125 21.390625 47.125 36.375 \r\nQ 47.125 51.421875 43.28125 58.90625 \r\nQ 39.453125 66.40625 31.78125 66.40625 \r\nz\r\nM 31.78125 74.21875 \r\nQ 44.046875 74.21875 50.515625 64.515625 \r\nQ 56.984375 54.828125 56.984375 36.375 \r\nQ 56.984375 17.96875 50.515625 8.265625 \r\nQ 44.046875 -1.421875 31.78125 -1.421875 \r\nQ 19.53125 -1.421875 13.0625 8.265625 \r\nQ 6.59375 17.96875 6.59375 36.375 \r\nQ 6.59375 54.828125 13.0625 64.515625 \r\nQ 19.53125 74.21875 31.78125 74.21875 \r\nz\r\n\" id=\"DejaVuSans-48\"/>\r\n      </defs>\r\n      <g transform=\"translate(26.2875 243.557344)scale(0.1 -0.1)\">\r\n       <use xlink:href=\"#DejaVuSans-48\"/>\r\n      </g>\r\n     </g>\r\n    </g>\r\n    <g id=\"ytick_2\">\r\n     <g id=\"line2d_12\">\r\n      <g>\r\n       <use style=\"stroke:#000000;stroke-width:0.8;\" x=\"39.65\" xlink:href=\"#me953b9768b\" y=\"211.761462\"/>\r\n      </g>\r\n     </g>\r\n     <g id=\"text_13\">\r\n      <!-- 500 -->\r\n      <defs>\r\n       <path d=\"M 10.796875 72.90625 \r\nL 49.515625 72.90625 \r\nL 49.515625 64.59375 \r\nL 19.828125 64.59375 \r\nL 19.828125 46.734375 \r\nQ 21.96875 47.46875 24.109375 47.828125 \r\nQ 26.265625 48.1875 28.421875 48.1875 \r\nQ 40.625 48.1875 47.75 41.5 \r\nQ 54.890625 34.8125 54.890625 23.390625 \r\nQ 54.890625 11.625 47.5625 5.09375 \r\nQ 40.234375 -1.421875 26.90625 -1.421875 \r\nQ 22.3125 -1.421875 17.546875 -0.640625 \r\nQ 12.796875 0.140625 7.71875 1.703125 \r\nL 7.71875 11.625 \r\nQ 12.109375 9.234375 16.796875 8.0625 \r\nQ 21.484375 6.890625 26.703125 6.890625 \r\nQ 35.15625 6.890625 40.078125 11.328125 \r\nQ 45.015625 15.765625 45.015625 23.390625 \r\nQ 45.015625 31 40.078125 35.4375 \r\nQ 35.15625 39.890625 26.703125 39.890625 \r\nQ 22.75 39.890625 18.8125 39.015625 \r\nQ 14.890625 38.140625 10.796875 36.28125 \r\nz\r\n\" id=\"DejaVuSans-53\"/>\r\n      </defs>\r\n      <g transform=\"translate(13.5625 215.560681)scale(0.1 -0.1)\">\r\n       <use xlink:href=\"#DejaVuSans-53\"/>\r\n       <use x=\"63.623047\" xlink:href=\"#DejaVuSans-48\"/>\r\n       <use x=\"127.246094\" xlink:href=\"#DejaVuSans-48\"/>\r\n      </g>\r\n     </g>\r\n    </g>\r\n    <g id=\"ytick_3\">\r\n     <g id=\"line2d_13\">\r\n      <g>\r\n       <use style=\"stroke:#000000;stroke-width:0.8;\" x=\"39.65\" xlink:href=\"#me953b9768b\" y=\"183.7648\"/>\r\n      </g>\r\n     </g>\r\n     <g id=\"text_14\">\r\n      <!-- 1000 -->\r\n      <defs>\r\n       <path d=\"M 12.40625 8.296875 \r\nL 28.515625 8.296875 \r\nL 28.515625 63.921875 \r\nL 10.984375 60.40625 \r\nL 10.984375 69.390625 \r\nL 28.421875 72.90625 \r\nL 38.28125 72.90625 \r\nL 38.28125 8.296875 \r\nL 54.390625 8.296875 \r\nL 54.390625 0 \r\nL 12.40625 0 \r\nz\r\n\" id=\"DejaVuSans-49\"/>\r\n      </defs>\r\n      <g transform=\"translate(7.2 187.564018)scale(0.1 -0.1)\">\r\n       <use xlink:href=\"#DejaVuSans-49\"/>\r\n       <use x=\"63.623047\" xlink:href=\"#DejaVuSans-48\"/>\r\n       <use x=\"127.246094\" xlink:href=\"#DejaVuSans-48\"/>\r\n       <use x=\"190.869141\" xlink:href=\"#DejaVuSans-48\"/>\r\n      </g>\r\n     </g>\r\n    </g>\r\n    <g id=\"ytick_4\">\r\n     <g id=\"line2d_14\">\r\n      <g>\r\n       <use style=\"stroke:#000000;stroke-width:0.8;\" x=\"39.65\" xlink:href=\"#me953b9768b\" y=\"155.768137\"/>\r\n      </g>\r\n     </g>\r\n     <g id=\"text_15\">\r\n      <!-- 1500 -->\r\n      <g transform=\"translate(7.2 159.567356)scale(0.1 -0.1)\">\r\n       <use xlink:href=\"#DejaVuSans-49\"/>\r\n       <use x=\"63.623047\" xlink:href=\"#DejaVuSans-53\"/>\r\n       <use x=\"127.246094\" xlink:href=\"#DejaVuSans-48\"/>\r\n       <use x=\"190.869141\" xlink:href=\"#DejaVuSans-48\"/>\r\n      </g>\r\n     </g>\r\n    </g>\r\n    <g id=\"ytick_5\">\r\n     <g id=\"line2d_15\">\r\n      <g>\r\n       <use style=\"stroke:#000000;stroke-width:0.8;\" x=\"39.65\" xlink:href=\"#me953b9768b\" y=\"127.771474\"/>\r\n      </g>\r\n     </g>\r\n     <g id=\"text_16\">\r\n      <!-- 2000 -->\r\n      <defs>\r\n       <path d=\"M 19.1875 8.296875 \r\nL 53.609375 8.296875 \r\nL 53.609375 0 \r\nL 7.328125 0 \r\nL 7.328125 8.296875 \r\nQ 12.9375 14.109375 22.625 23.890625 \r\nQ 32.328125 33.6875 34.8125 36.53125 \r\nQ 39.546875 41.84375 41.421875 45.53125 \r\nQ 43.3125 49.21875 43.3125 52.78125 \r\nQ 43.3125 58.59375 39.234375 62.25 \r\nQ 35.15625 65.921875 28.609375 65.921875 \r\nQ 23.96875 65.921875 18.8125 64.3125 \r\nQ 13.671875 62.703125 7.8125 59.421875 \r\nL 7.8125 69.390625 \r\nQ 13.765625 71.78125 18.9375 73 \r\nQ 24.125 74.21875 28.421875 74.21875 \r\nQ 39.75 74.21875 46.484375 68.546875 \r\nQ 53.21875 62.890625 53.21875 53.421875 \r\nQ 53.21875 48.921875 51.53125 44.890625 \r\nQ 49.859375 40.875 45.40625 35.40625 \r\nQ 44.1875 33.984375 37.640625 27.21875 \r\nQ 31.109375 20.453125 19.1875 8.296875 \r\nz\r\n\" id=\"DejaVuSans-50\"/>\r\n      </defs>\r\n      <g transform=\"translate(7.2 131.570693)scale(0.1 -0.1)\">\r\n       <use xlink:href=\"#DejaVuSans-50\"/>\r\n       <use x=\"63.623047\" xlink:href=\"#DejaVuSans-48\"/>\r\n       <use x=\"127.246094\" xlink:href=\"#DejaVuSans-48\"/>\r\n       <use x=\"190.869141\" xlink:href=\"#DejaVuSans-48\"/>\r\n      </g>\r\n     </g>\r\n    </g>\r\n    <g id=\"ytick_6\">\r\n     <g id=\"line2d_16\">\r\n      <g>\r\n       <use style=\"stroke:#000000;stroke-width:0.8;\" x=\"39.65\" xlink:href=\"#me953b9768b\" y=\"99.774812\"/>\r\n      </g>\r\n     </g>\r\n     <g id=\"text_17\">\r\n      <!-- 2500 -->\r\n      <g transform=\"translate(7.2 103.574031)scale(0.1 -0.1)\">\r\n       <use xlink:href=\"#DejaVuSans-50\"/>\r\n       <use x=\"63.623047\" xlink:href=\"#DejaVuSans-53\"/>\r\n       <use x=\"127.246094\" xlink:href=\"#DejaVuSans-48\"/>\r\n       <use x=\"190.869141\" xlink:href=\"#DejaVuSans-48\"/>\r\n      </g>\r\n     </g>\r\n    </g>\r\n    <g id=\"ytick_7\">\r\n     <g id=\"line2d_17\">\r\n      <g>\r\n       <use style=\"stroke:#000000;stroke-width:0.8;\" x=\"39.65\" xlink:href=\"#me953b9768b\" y=\"71.778149\"/>\r\n      </g>\r\n     </g>\r\n     <g id=\"text_18\">\r\n      <!-- 3000 -->\r\n      <defs>\r\n       <path d=\"M 40.578125 39.3125 \r\nQ 47.65625 37.796875 51.625 33 \r\nQ 55.609375 28.21875 55.609375 21.1875 \r\nQ 55.609375 10.40625 48.1875 4.484375 \r\nQ 40.765625 -1.421875 27.09375 -1.421875 \r\nQ 22.515625 -1.421875 17.65625 -0.515625 \r\nQ 12.796875 0.390625 7.625 2.203125 \r\nL 7.625 11.71875 \r\nQ 11.71875 9.328125 16.59375 8.109375 \r\nQ 21.484375 6.890625 26.8125 6.890625 \r\nQ 36.078125 6.890625 40.9375 10.546875 \r\nQ 45.796875 14.203125 45.796875 21.1875 \r\nQ 45.796875 27.640625 41.28125 31.265625 \r\nQ 36.765625 34.90625 28.71875 34.90625 \r\nL 20.21875 34.90625 \r\nL 20.21875 43.015625 \r\nL 29.109375 43.015625 \r\nQ 36.375 43.015625 40.234375 45.921875 \r\nQ 44.09375 48.828125 44.09375 54.296875 \r\nQ 44.09375 59.90625 40.109375 62.90625 \r\nQ 36.140625 65.921875 28.71875 65.921875 \r\nQ 24.65625 65.921875 20.015625 65.03125 \r\nQ 15.375 64.15625 9.8125 62.3125 \r\nL 9.8125 71.09375 \r\nQ 15.4375 72.65625 20.34375 73.4375 \r\nQ 25.25 74.21875 29.59375 74.21875 \r\nQ 40.828125 74.21875 47.359375 69.109375 \r\nQ 53.90625 64.015625 53.90625 55.328125 \r\nQ 53.90625 49.265625 50.4375 45.09375 \r\nQ 46.96875 40.921875 40.578125 39.3125 \r\nz\r\n\" id=\"DejaVuSans-51\"/>\r\n      </defs>\r\n      <g transform=\"translate(7.2 75.577368)scale(0.1 -0.1)\">\r\n       <use xlink:href=\"#DejaVuSans-51\"/>\r\n       <use x=\"63.623047\" xlink:href=\"#DejaVuSans-48\"/>\r\n       <use x=\"127.246094\" xlink:href=\"#DejaVuSans-48\"/>\r\n       <use x=\"190.869141\" xlink:href=\"#DejaVuSans-48\"/>\r\n      </g>\r\n     </g>\r\n    </g>\r\n    <g id=\"ytick_8\">\r\n     <g id=\"line2d_18\">\r\n      <g>\r\n       <use style=\"stroke:#000000;stroke-width:0.8;\" x=\"39.65\" xlink:href=\"#me953b9768b\" y=\"43.781486\"/>\r\n      </g>\r\n     </g>\r\n     <g id=\"text_19\">\r\n      <!-- 3500 -->\r\n      <g transform=\"translate(7.2 47.580705)scale(0.1 -0.1)\">\r\n       <use xlink:href=\"#DejaVuSans-51\"/>\r\n       <use x=\"63.623047\" xlink:href=\"#DejaVuSans-53\"/>\r\n       <use x=\"127.246094\" xlink:href=\"#DejaVuSans-48\"/>\r\n       <use x=\"190.869141\" xlink:href=\"#DejaVuSans-48\"/>\r\n      </g>\r\n     </g>\r\n    </g>\r\n   </g>\r\n   <g id=\"patch_13\">\r\n    <path d=\"M 39.65 239.758125 \r\nL 39.65 22.318125 \r\n\" style=\"fill:none;stroke:#000000;stroke-linecap:square;stroke-linejoin:miter;stroke-width:0.8;\"/>\r\n   </g>\r\n   <g id=\"patch_14\">\r\n    <path d=\"M 374.45 239.758125 \r\nL 374.45 22.318125 \r\n\" style=\"fill:none;stroke:#000000;stroke-linecap:square;stroke-linejoin:miter;stroke-width:0.8;\"/>\r\n   </g>\r\n   <g id=\"patch_15\">\r\n    <path d=\"M 39.65 239.758125 \r\nL 374.45 239.758125 \r\n\" style=\"fill:none;stroke:#000000;stroke-linecap:square;stroke-linejoin:miter;stroke-width:0.8;\"/>\r\n   </g>\r\n   <g id=\"patch_16\">\r\n    <path d=\"M 39.65 22.318125 \r\nL 374.45 22.318125 \r\n\" style=\"fill:none;stroke:#000000;stroke-linecap:square;stroke-linejoin:miter;stroke-width:0.8;\"/>\r\n   </g>\r\n   <g id=\"text_20\">\r\n    <!-- Top 10 countries with most beds per 1000 people -->\r\n    <defs>\r\n     <path d=\"M -0.296875 72.90625 \r\nL 61.375 72.90625 \r\nL 61.375 64.59375 \r\nL 35.5 64.59375 \r\nL 35.5 0 \r\nL 25.59375 0 \r\nL 25.59375 64.59375 \r\nL -0.296875 64.59375 \r\nz\r\n\" id=\"DejaVuSans-84\"/>\r\n     <path d=\"M 4.203125 54.6875 \r\nL 13.1875 54.6875 \r\nL 24.421875 12.015625 \r\nL 35.59375 54.6875 \r\nL 46.1875 54.6875 \r\nL 57.421875 12.015625 \r\nL 68.609375 54.6875 \r\nL 77.59375 54.6875 \r\nL 63.28125 0 \r\nL 52.6875 0 \r\nL 40.921875 44.828125 \r\nL 29.109375 0 \r\nL 18.5 0 \r\nz\r\n\" id=\"DejaVuSans-119\"/>\r\n     <path d=\"M 45.40625 46.390625 \r\nL 45.40625 75.984375 \r\nL 54.390625 75.984375 \r\nL 54.390625 0 \r\nL 45.40625 0 \r\nL 45.40625 8.203125 \r\nQ 42.578125 3.328125 38.25 0.953125 \r\nQ 33.9375 -1.421875 27.875 -1.421875 \r\nQ 17.96875 -1.421875 11.734375 6.484375 \r\nQ 5.515625 14.40625 5.515625 27.296875 \r\nQ 5.515625 40.1875 11.734375 48.09375 \r\nQ 17.96875 56 27.875 56 \r\nQ 33.9375 56 38.25 53.625 \r\nQ 42.578125 51.265625 45.40625 46.390625 \r\nz\r\nM 14.796875 27.296875 \r\nQ 14.796875 17.390625 18.875 11.75 \r\nQ 22.953125 6.109375 30.078125 6.109375 \r\nQ 37.203125 6.109375 41.296875 11.75 \r\nQ 45.40625 17.390625 45.40625 27.296875 \r\nQ 45.40625 37.203125 41.296875 42.84375 \r\nQ 37.203125 48.484375 30.078125 48.484375 \r\nQ 22.953125 48.484375 18.875 42.84375 \r\nQ 14.796875 37.203125 14.796875 27.296875 \r\nz\r\n\" id=\"DejaVuSans-100\"/>\r\n    </defs>\r\n    <g transform=\"translate(57.4175 16.318125)scale(0.12 -0.12)\">\r\n     <use xlink:href=\"#DejaVuSans-84\"/>\r\n     <use x=\"60.818359\" xlink:href=\"#DejaVuSans-111\"/>\r\n     <use x=\"122\" xlink:href=\"#DejaVuSans-112\"/>\r\n     <use x=\"185.476562\" xlink:href=\"#DejaVuSans-32\"/>\r\n     <use x=\"217.263672\" xlink:href=\"#DejaVuSans-49\"/>\r\n     <use x=\"280.886719\" xlink:href=\"#DejaVuSans-48\"/>\r\n     <use x=\"344.509766\" xlink:href=\"#DejaVuSans-32\"/>\r\n     <use x=\"376.296875\" xlink:href=\"#DejaVuSans-99\"/>\r\n     <use x=\"431.277344\" xlink:href=\"#DejaVuSans-111\"/>\r\n     <use x=\"492.458984\" xlink:href=\"#DejaVuSans-117\"/>\r\n     <use x=\"555.837891\" xlink:href=\"#DejaVuSans-110\"/>\r\n     <use x=\"619.216797\" xlink:href=\"#DejaVuSans-116\"/>\r\n     <use x=\"658.425781\" xlink:href=\"#DejaVuSans-114\"/>\r\n     <use x=\"699.539062\" xlink:href=\"#DejaVuSans-105\"/>\r\n     <use x=\"727.322266\" xlink:href=\"#DejaVuSans-101\"/>\r\n     <use x=\"788.845703\" xlink:href=\"#DejaVuSans-115\"/>\r\n     <use x=\"840.945312\" xlink:href=\"#DejaVuSans-32\"/>\r\n     <use x=\"872.732422\" xlink:href=\"#DejaVuSans-119\"/>\r\n     <use x=\"954.519531\" xlink:href=\"#DejaVuSans-105\"/>\r\n     <use x=\"982.302734\" xlink:href=\"#DejaVuSans-116\"/>\r\n     <use x=\"1021.511719\" xlink:href=\"#DejaVuSans-104\"/>\r\n     <use x=\"1084.890625\" xlink:href=\"#DejaVuSans-32\"/>\r\n     <use x=\"1116.677734\" xlink:href=\"#DejaVuSans-109\"/>\r\n     <use x=\"1214.089844\" xlink:href=\"#DejaVuSans-111\"/>\r\n     <use x=\"1275.271484\" xlink:href=\"#DejaVuSans-115\"/>\r\n     <use x=\"1327.371094\" xlink:href=\"#DejaVuSans-116\"/>\r\n     <use x=\"1366.580078\" xlink:href=\"#DejaVuSans-32\"/>\r\n     <use x=\"1398.367188\" xlink:href=\"#DejaVuSans-98\"/>\r\n     <use x=\"1461.84375\" xlink:href=\"#DejaVuSans-101\"/>\r\n     <use x=\"1523.367188\" xlink:href=\"#DejaVuSans-100\"/>\r\n     <use x=\"1586.84375\" xlink:href=\"#DejaVuSans-115\"/>\r\n     <use x=\"1638.943359\" xlink:href=\"#DejaVuSans-32\"/>\r\n     <use x=\"1670.730469\" xlink:href=\"#DejaVuSans-112\"/>\r\n     <use x=\"1734.207031\" xlink:href=\"#DejaVuSans-101\"/>\r\n     <use x=\"1795.730469\" xlink:href=\"#DejaVuSans-114\"/>\r\n     <use x=\"1836.84375\" xlink:href=\"#DejaVuSans-32\"/>\r\n     <use x=\"1868.630859\" xlink:href=\"#DejaVuSans-49\"/>\r\n     <use x=\"1932.253906\" xlink:href=\"#DejaVuSans-48\"/>\r\n     <use x=\"1995.876953\" xlink:href=\"#DejaVuSans-48\"/>\r\n     <use x=\"2059.5\" xlink:href=\"#DejaVuSans-48\"/>\r\n     <use x=\"2123.123047\" xlink:href=\"#DejaVuSans-32\"/>\r\n     <use x=\"2154.910156\" xlink:href=\"#DejaVuSans-112\"/>\r\n     <use x=\"2218.386719\" xlink:href=\"#DejaVuSans-101\"/>\r\n     <use x=\"2279.910156\" xlink:href=\"#DejaVuSans-111\"/>\r\n     <use x=\"2341.091797\" xlink:href=\"#DejaVuSans-112\"/>\r\n     <use x=\"2404.568359\" xlink:href=\"#DejaVuSans-108\"/>\r\n     <use x=\"2432.351562\" xlink:href=\"#DejaVuSans-101\"/>\r\n    </g>\r\n   </g>\r\n  </g>\r\n </g>\r\n <defs>\r\n  <clipPath id=\"pdfef70cacd\">\r\n   <rect height=\"217.44\" width=\"334.8\" x=\"39.65\" y=\"22.318125\"/>\r\n  </clipPath>\r\n </defs>\r\n</svg>\r\n",
      "image/png": "[encoded data removed]"
     },
     "metadata": {
      "needs_background": "light"
     }
    }
   ],
   "source": [
    "#Top 10 countries with best hospital facilities\n",
    "covid_df.groupby(['location']).sum().sort_values('hospital_beds_per_thousand',ascending=False)['hospital_beds_per_thousand'].head(10).plot.bar()\n",
    "plt.title('Top 10 countries with most beds per 1000 people')"
   ]
  },
  {
   "cell_type": "code",
   "execution_count": 107,
   "metadata": {
    "tags": []
   },
   "outputs": [
    {
     "output_type": "execute_result",
     "data": {
      "text/plain": "Text(0.5, 1.0, 'Top 10 countries with most average deaths')"
     },
     "metadata": {},
     "execution_count": 107
    },
    {
     "output_type": "display_data",
     "data": {
      "text/plain": "<Figure size 432x288 with 1 Axes>",
      "image/svg+xml": "<?xml version=\"1.0\" encoding=\"utf-8\" standalone=\"no\"?>\r\n<!DOCTYPE svg PUBLIC \"-//W3C//DTD SVG 1.1//EN\"\r\n  \"http://www.w3.org/Graphics/SVG/1.1/DTD/svg11.dtd\">\r\n<!-- Created with matplotlib (https://matplotlib.org/) -->\r\n<svg height=\"347.900312pt\" version=\"1.1\" viewBox=\"0 0 388.0125 347.900312\" width=\"388.0125pt\" xmlns=\"http://www.w3.org/2000/svg\" xmlns:xlink=\"http://www.w3.org/1999/xlink\">\r\n <defs>\r\n  <style type=\"text/css\">\r\n*{stroke-linecap:butt;stroke-linejoin:round;}\r\n  </style>\r\n </defs>\r\n <g id=\"figure_1\">\r\n  <g id=\"patch_1\">\r\n   <path d=\"M 0 347.900312 \r\nL 388.0125 347.900312 \r\nL 388.0125 0 \r\nL 0 0 \r\nz\r\n\" style=\"fill:none;\"/>\r\n  </g>\r\n  <g id=\"axes_1\">\r\n   <g id=\"patch_2\">\r\n    <path d=\"M 46.0125 239.758125 \r\nL 380.8125 239.758125 \r\nL 380.8125 22.318125 \r\nL 46.0125 22.318125 \r\nz\r\n\" style=\"fill:#ffffff;\"/>\r\n   </g>\r\n   <g id=\"patch_3\">\r\n    <path clip-path=\"url(#p5a8d96fe42)\" d=\"M 54.3825 239.758125 \r\nL 71.1225 239.758125 \r\nL 71.1225 32.672411 \r\nL 54.3825 32.672411 \r\nz\r\n\" style=\"fill:#1f77b4;\"/>\r\n   </g>\r\n   <g id=\"patch_4\">\r\n    <path clip-path=\"url(#p5a8d96fe42)\" d=\"M 87.8625 239.758125 \r\nL 104.6025 239.758125 \r\nL 104.6025 136.006169 \r\nL 87.8625 136.006169 \r\nz\r\n\" style=\"fill:#1f77b4;\"/>\r\n   </g>\r\n   <g id=\"patch_5\">\r\n    <path clip-path=\"url(#p5a8d96fe42)\" d=\"M 121.3425 239.758125 \r\nL 138.0825 239.758125 \r\nL 138.0825 179.160675 \r\nL 121.3425 179.160675 \r\nz\r\n\" style=\"fill:#1f77b4;\"/>\r\n   </g>\r\n   <g id=\"patch_6\">\r\n    <path clip-path=\"url(#p5a8d96fe42)\" d=\"M 154.8225 239.758125 \r\nL 171.5625 239.758125 \r\nL 171.5625 183.271251 \r\nL 154.8225 183.271251 \r\nz\r\n\" style=\"fill:#1f77b4;\"/>\r\n   </g>\r\n   <g id=\"patch_7\">\r\n    <path clip-path=\"url(#p5a8d96fe42)\" d=\"M 188.3025 239.758125 \r\nL 205.0425 239.758125 \r\nL 205.0425 186.871923 \r\nL 188.3025 186.871923 \r\nz\r\n\" style=\"fill:#1f77b4;\"/>\r\n   </g>\r\n   <g id=\"patch_8\">\r\n    <path clip-path=\"url(#p5a8d96fe42)\" d=\"M 221.7825 239.758125 \r\nL 238.5225 239.758125 \r\nL 238.5225 192.496811 \r\nL 221.7825 192.496811 \r\nz\r\n\" style=\"fill:#1f77b4;\"/>\r\n   </g>\r\n   <g id=\"patch_9\">\r\n    <path clip-path=\"url(#p5a8d96fe42)\" d=\"M 255.2625 239.758125 \r\nL 272.0025 239.758125 \r\nL 272.0025 193.537591 \r\nL 255.2625 193.537591 \r\nz\r\n\" style=\"fill:#1f77b4;\"/>\r\n   </g>\r\n   <g id=\"patch_10\">\r\n    <path clip-path=\"url(#p5a8d96fe42)\" d=\"M 288.7425 239.758125 \r\nL 305.4825 239.758125 \r\nL 305.4825 194.686292 \r\nL 288.7425 194.686292 \r\nz\r\n\" style=\"fill:#1f77b4;\"/>\r\n   </g>\r\n   <g id=\"patch_11\">\r\n    <path clip-path=\"url(#p5a8d96fe42)\" d=\"M 322.2225 239.758125 \r\nL 338.9625 239.758125 \r\nL 338.9625 211.134943 \r\nL 322.2225 211.134943 \r\nz\r\n\" style=\"fill:#1f77b4;\"/>\r\n   </g>\r\n   <g id=\"patch_12\">\r\n    <path clip-path=\"url(#p5a8d96fe42)\" d=\"M 355.7025 239.758125 \r\nL 372.4425 239.758125 \r\nL 372.4425 218.046526 \r\nL 355.7025 218.046526 \r\nz\r\n\" style=\"fill:#1f77b4;\"/>\r\n   </g>\r\n   <g id=\"matplotlib.axis_1\">\r\n    <g id=\"xtick_1\">\r\n     <g id=\"line2d_1\">\r\n      <defs>\r\n       <path d=\"M 0 0 \r\nL 0 3.5 \r\n\" id=\"m908c8c8d13\" style=\"stroke:#000000;stroke-width:0.8;\"/>\r\n      </defs>\r\n      <g>\r\n       <use style=\"stroke:#000000;stroke-width:0.8;\" x=\"62.7525\" xlink:href=\"#m908c8c8d13\" y=\"239.758125\"/>\r\n      </g>\r\n     </g>\r\n     <g id=\"text_1\">\r\n      <!-- United States -->\r\n      <defs>\r\n       <path d=\"M 8.6875 72.90625 \r\nL 18.609375 72.90625 \r\nL 18.609375 28.609375 \r\nQ 18.609375 16.890625 22.84375 11.734375 \r\nQ 27.09375 6.59375 36.625 6.59375 \r\nQ 46.09375 6.59375 50.34375 11.734375 \r\nQ 54.59375 16.890625 54.59375 28.609375 \r\nL 54.59375 72.90625 \r\nL 64.5 72.90625 \r\nL 64.5 27.390625 \r\nQ 64.5 13.140625 57.4375 5.859375 \r\nQ 50.390625 -1.421875 36.625 -1.421875 \r\nQ 22.796875 -1.421875 15.734375 5.859375 \r\nQ 8.6875 13.140625 8.6875 27.390625 \r\nz\r\n\" id=\"DejaVuSans-85\"/>\r\n       <path d=\"M 54.890625 33.015625 \r\nL 54.890625 0 \r\nL 45.90625 0 \r\nL 45.90625 32.71875 \r\nQ 45.90625 40.484375 42.875 44.328125 \r\nQ 39.84375 48.1875 33.796875 48.1875 \r\nQ 26.515625 48.1875 22.3125 43.546875 \r\nQ 18.109375 38.921875 18.109375 30.90625 \r\nL 18.109375 0 \r\nL 9.078125 0 \r\nL 9.078125 54.6875 \r\nL 18.109375 54.6875 \r\nL 18.109375 46.1875 \r\nQ 21.34375 51.125 25.703125 53.5625 \r\nQ 30.078125 56 35.796875 56 \r\nQ 45.21875 56 50.046875 50.171875 \r\nQ 54.890625 44.34375 54.890625 33.015625 \r\nz\r\n\" id=\"DejaVuSans-110\"/>\r\n       <path d=\"M 9.421875 54.6875 \r\nL 18.40625 54.6875 \r\nL 18.40625 0 \r\nL 9.421875 0 \r\nz\r\nM 9.421875 75.984375 \r\nL 18.40625 75.984375 \r\nL 18.40625 64.59375 \r\nL 9.421875 64.59375 \r\nz\r\n\" id=\"DejaVuSans-105\"/>\r\n       <path d=\"M 18.3125 70.21875 \r\nL 18.3125 54.6875 \r\nL 36.8125 54.6875 \r\nL 36.8125 47.703125 \r\nL 18.3125 47.703125 \r\nL 18.3125 18.015625 \r\nQ 18.3125 11.328125 20.140625 9.421875 \r\nQ 21.96875 7.515625 27.59375 7.515625 \r\nL 36.8125 7.515625 \r\nL 36.8125 0 \r\nL 27.59375 0 \r\nQ 17.1875 0 13.234375 3.875 \r\nQ 9.28125 7.765625 9.28125 18.015625 \r\nL 9.28125 47.703125 \r\nL 2.6875 47.703125 \r\nL 2.6875 54.6875 \r\nL 9.28125 54.6875 \r\nL 9.28125 70.21875 \r\nz\r\n\" id=\"DejaVuSans-116\"/>\r\n       <path d=\"M 56.203125 29.59375 \r\nL 56.203125 25.203125 \r\nL 14.890625 25.203125 \r\nQ 15.484375 15.921875 20.484375 11.0625 \r\nQ 25.484375 6.203125 34.421875 6.203125 \r\nQ 39.59375 6.203125 44.453125 7.46875 \r\nQ 49.3125 8.734375 54.109375 11.28125 \r\nL 54.109375 2.78125 \r\nQ 49.265625 0.734375 44.1875 -0.34375 \r\nQ 39.109375 -1.421875 33.890625 -1.421875 \r\nQ 20.796875 -1.421875 13.15625 6.1875 \r\nQ 5.515625 13.8125 5.515625 26.8125 \r\nQ 5.515625 40.234375 12.765625 48.109375 \r\nQ 20.015625 56 32.328125 56 \r\nQ 43.359375 56 49.78125 48.890625 \r\nQ 56.203125 41.796875 56.203125 29.59375 \r\nz\r\nM 47.21875 32.234375 \r\nQ 47.125 39.59375 43.09375 43.984375 \r\nQ 39.0625 48.390625 32.421875 48.390625 \r\nQ 24.90625 48.390625 20.390625 44.140625 \r\nQ 15.875 39.890625 15.1875 32.171875 \r\nz\r\n\" id=\"DejaVuSans-101\"/>\r\n       <path d=\"M 45.40625 46.390625 \r\nL 45.40625 75.984375 \r\nL 54.390625 75.984375 \r\nL 54.390625 0 \r\nL 45.40625 0 \r\nL 45.40625 8.203125 \r\nQ 42.578125 3.328125 38.25 0.953125 \r\nQ 33.9375 -1.421875 27.875 -1.421875 \r\nQ 17.96875 -1.421875 11.734375 6.484375 \r\nQ 5.515625 14.40625 5.515625 27.296875 \r\nQ 5.515625 40.1875 11.734375 48.09375 \r\nQ 17.96875 56 27.875 56 \r\nQ 33.9375 56 38.25 53.625 \r\nQ 42.578125 51.265625 45.40625 46.390625 \r\nz\r\nM 14.796875 27.296875 \r\nQ 14.796875 17.390625 18.875 11.75 \r\nQ 22.953125 6.109375 30.078125 6.109375 \r\nQ 37.203125 6.109375 41.296875 11.75 \r\nQ 45.40625 17.390625 45.40625 27.296875 \r\nQ 45.40625 37.203125 41.296875 42.84375 \r\nQ 37.203125 48.484375 30.078125 48.484375 \r\nQ 22.953125 48.484375 18.875 42.84375 \r\nQ 14.796875 37.203125 14.796875 27.296875 \r\nz\r\n\" id=\"DejaVuSans-100\"/>\r\n       <path id=\"DejaVuSans-32\"/>\r\n       <path d=\"M 53.515625 70.515625 \r\nL 53.515625 60.890625 \r\nQ 47.90625 63.578125 42.921875 64.890625 \r\nQ 37.9375 66.21875 33.296875 66.21875 \r\nQ 25.25 66.21875 20.875 63.09375 \r\nQ 16.5 59.96875 16.5 54.203125 \r\nQ 16.5 49.359375 19.40625 46.890625 \r\nQ 22.3125 44.4375 30.421875 42.921875 \r\nL 36.375 41.703125 \r\nQ 47.40625 39.59375 52.65625 34.296875 \r\nQ 57.90625 29 57.90625 20.125 \r\nQ 57.90625 9.515625 50.796875 4.046875 \r\nQ 43.703125 -1.421875 29.984375 -1.421875 \r\nQ 24.8125 -1.421875 18.96875 -0.25 \r\nQ 13.140625 0.921875 6.890625 3.21875 \r\nL 6.890625 13.375 \r\nQ 12.890625 10.015625 18.65625 8.296875 \r\nQ 24.421875 6.59375 29.984375 6.59375 \r\nQ 38.421875 6.59375 43.015625 9.90625 \r\nQ 47.609375 13.234375 47.609375 19.390625 \r\nQ 47.609375 24.75 44.3125 27.78125 \r\nQ 41.015625 30.8125 33.5 32.328125 \r\nL 27.484375 33.5 \r\nQ 16.453125 35.6875 11.515625 40.375 \r\nQ 6.59375 45.0625 6.59375 53.421875 \r\nQ 6.59375 63.09375 13.40625 68.65625 \r\nQ 20.21875 74.21875 32.171875 74.21875 \r\nQ 37.3125 74.21875 42.625 73.28125 \r\nQ 47.953125 72.359375 53.515625 70.515625 \r\nz\r\n\" id=\"DejaVuSans-83\"/>\r\n       <path d=\"M 34.28125 27.484375 \r\nQ 23.390625 27.484375 19.1875 25 \r\nQ 14.984375 22.515625 14.984375 16.5 \r\nQ 14.984375 11.71875 18.140625 8.90625 \r\nQ 21.296875 6.109375 26.703125 6.109375 \r\nQ 34.1875 6.109375 38.703125 11.40625 \r\nQ 43.21875 16.703125 43.21875 25.484375 \r\nL 43.21875 27.484375 \r\nz\r\nM 52.203125 31.203125 \r\nL 52.203125 0 \r\nL 43.21875 0 \r\nL 43.21875 8.296875 \r\nQ 40.140625 3.328125 35.546875 0.953125 \r\nQ 30.953125 -1.421875 24.3125 -1.421875 \r\nQ 15.921875 -1.421875 10.953125 3.296875 \r\nQ 6 8.015625 6 15.921875 \r\nQ 6 25.140625 12.171875 29.828125 \r\nQ 18.359375 34.515625 30.609375 34.515625 \r\nL 43.21875 34.515625 \r\nL 43.21875 35.40625 \r\nQ 43.21875 41.609375 39.140625 45 \r\nQ 35.0625 48.390625 27.6875 48.390625 \r\nQ 23 48.390625 18.546875 47.265625 \r\nQ 14.109375 46.140625 10.015625 43.890625 \r\nL 10.015625 52.203125 \r\nQ 14.9375 54.109375 19.578125 55.046875 \r\nQ 24.21875 56 28.609375 56 \r\nQ 40.484375 56 46.34375 49.84375 \r\nQ 52.203125 43.703125 52.203125 31.203125 \r\nz\r\n\" id=\"DejaVuSans-97\"/>\r\n       <path d=\"M 44.28125 53.078125 \r\nL 44.28125 44.578125 \r\nQ 40.484375 46.53125 36.375 47.5 \r\nQ 32.28125 48.484375 27.875 48.484375 \r\nQ 21.1875 48.484375 17.84375 46.4375 \r\nQ 14.5 44.390625 14.5 40.28125 \r\nQ 14.5 37.15625 16.890625 35.375 \r\nQ 19.28125 33.59375 26.515625 31.984375 \r\nL 29.59375 31.296875 \r\nQ 39.15625 29.25 43.1875 25.515625 \r\nQ 47.21875 21.78125 47.21875 15.09375 \r\nQ 47.21875 7.46875 41.1875 3.015625 \r\nQ 35.15625 -1.421875 24.609375 -1.421875 \r\nQ 20.21875 -1.421875 15.453125 -0.5625 \r\nQ 10.6875 0.296875 5.421875 2 \r\nL 5.421875 11.28125 \r\nQ 10.40625 8.6875 15.234375 7.390625 \r\nQ 20.0625 6.109375 24.8125 6.109375 \r\nQ 31.15625 6.109375 34.5625 8.28125 \r\nQ 37.984375 10.453125 37.984375 14.40625 \r\nQ 37.984375 18.0625 35.515625 20.015625 \r\nQ 33.0625 21.96875 24.703125 23.78125 \r\nL 21.578125 24.515625 \r\nQ 13.234375 26.265625 9.515625 29.90625 \r\nQ 5.8125 33.546875 5.8125 39.890625 \r\nQ 5.8125 47.609375 11.28125 51.796875 \r\nQ 16.75 56 26.8125 56 \r\nQ 31.78125 56 36.171875 55.265625 \r\nQ 40.578125 54.546875 44.28125 53.078125 \r\nz\r\n\" id=\"DejaVuSans-115\"/>\r\n      </defs>\r\n      <g transform=\"translate(65.511875 314.472187)rotate(-90)scale(0.1 -0.1)\">\r\n       <use xlink:href=\"#DejaVuSans-85\"/>\r\n       <use x=\"73.193359\" xlink:href=\"#DejaVuSans-110\"/>\r\n       <use x=\"136.572266\" xlink:href=\"#DejaVuSans-105\"/>\r\n       <use x=\"164.355469\" xlink:href=\"#DejaVuSans-116\"/>\r\n       <use x=\"203.564453\" xlink:href=\"#DejaVuSans-101\"/>\r\n       <use x=\"265.087891\" xlink:href=\"#DejaVuSans-100\"/>\r\n       <use x=\"328.564453\" xlink:href=\"#DejaVuSans-32\"/>\r\n       <use x=\"360.351562\" xlink:href=\"#DejaVuSans-83\"/>\r\n       <use x=\"423.828125\" xlink:href=\"#DejaVuSans-116\"/>\r\n       <use x=\"463.037109\" xlink:href=\"#DejaVuSans-97\"/>\r\n       <use x=\"524.316406\" xlink:href=\"#DejaVuSans-116\"/>\r\n       <use x=\"563.525391\" xlink:href=\"#DejaVuSans-101\"/>\r\n       <use x=\"625.048828\" xlink:href=\"#DejaVuSans-115\"/>\r\n      </g>\r\n     </g>\r\n    </g>\r\n    <g id=\"xtick_2\">\r\n     <g id=\"line2d_2\">\r\n      <g>\r\n       <use style=\"stroke:#000000;stroke-width:0.8;\" x=\"96.2325\" xlink:href=\"#m908c8c8d13\" y=\"239.758125\"/>\r\n      </g>\r\n     </g>\r\n     <g id=\"text_2\">\r\n      <!-- Brazil -->\r\n      <defs>\r\n       <path d=\"M 19.671875 34.8125 \r\nL 19.671875 8.109375 \r\nL 35.5 8.109375 \r\nQ 43.453125 8.109375 47.28125 11.40625 \r\nQ 51.125 14.703125 51.125 21.484375 \r\nQ 51.125 28.328125 47.28125 31.5625 \r\nQ 43.453125 34.8125 35.5 34.8125 \r\nz\r\nM 19.671875 64.796875 \r\nL 19.671875 42.828125 \r\nL 34.28125 42.828125 \r\nQ 41.5 42.828125 45.03125 45.53125 \r\nQ 48.578125 48.25 48.578125 53.8125 \r\nQ 48.578125 59.328125 45.03125 62.0625 \r\nQ 41.5 64.796875 34.28125 64.796875 \r\nz\r\nM 9.8125 72.90625 \r\nL 35.015625 72.90625 \r\nQ 46.296875 72.90625 52.390625 68.21875 \r\nQ 58.5 63.53125 58.5 54.890625 \r\nQ 58.5 48.1875 55.375 44.234375 \r\nQ 52.25 40.28125 46.1875 39.3125 \r\nQ 53.46875 37.75 57.5 32.78125 \r\nQ 61.53125 27.828125 61.53125 20.40625 \r\nQ 61.53125 10.640625 54.890625 5.3125 \r\nQ 48.25 0 35.984375 0 \r\nL 9.8125 0 \r\nz\r\n\" id=\"DejaVuSans-66\"/>\r\n       <path d=\"M 41.109375 46.296875 \r\nQ 39.59375 47.171875 37.8125 47.578125 \r\nQ 36.03125 48 33.890625 48 \r\nQ 26.265625 48 22.1875 43.046875 \r\nQ 18.109375 38.09375 18.109375 28.8125 \r\nL 18.109375 0 \r\nL 9.078125 0 \r\nL 9.078125 54.6875 \r\nL 18.109375 54.6875 \r\nL 18.109375 46.1875 \r\nQ 20.953125 51.171875 25.484375 53.578125 \r\nQ 30.03125 56 36.53125 56 \r\nQ 37.453125 56 38.578125 55.875 \r\nQ 39.703125 55.765625 41.0625 55.515625 \r\nz\r\n\" id=\"DejaVuSans-114\"/>\r\n       <path d=\"M 5.515625 54.6875 \r\nL 48.1875 54.6875 \r\nL 48.1875 46.484375 \r\nL 14.40625 7.171875 \r\nL 48.1875 7.171875 \r\nL 48.1875 0 \r\nL 4.296875 0 \r\nL 4.296875 8.203125 \r\nL 38.09375 47.515625 \r\nL 5.515625 47.515625 \r\nz\r\n\" id=\"DejaVuSans-122\"/>\r\n       <path d=\"M 9.421875 75.984375 \r\nL 18.40625 75.984375 \r\nL 18.40625 0 \r\nL 9.421875 0 \r\nz\r\n\" id=\"DejaVuSans-108\"/>\r\n      </defs>\r\n      <g transform=\"translate(98.991875 274.662812)rotate(-90)scale(0.1 -0.1)\">\r\n       <use xlink:href=\"#DejaVuSans-66\"/>\r\n       <use x=\"68.603516\" xlink:href=\"#DejaVuSans-114\"/>\r\n       <use x=\"109.716797\" xlink:href=\"#DejaVuSans-97\"/>\r\n       <use x=\"170.996094\" xlink:href=\"#DejaVuSans-122\"/>\r\n       <use x=\"223.486328\" xlink:href=\"#DejaVuSans-105\"/>\r\n       <use x=\"251.269531\" xlink:href=\"#DejaVuSans-108\"/>\r\n      </g>\r\n     </g>\r\n    </g>\r\n    <g id=\"xtick_3\">\r\n     <g id=\"line2d_3\">\r\n      <g>\r\n       <use style=\"stroke:#000000;stroke-width:0.8;\" x=\"129.7125\" xlink:href=\"#m908c8c8d13\" y=\"239.758125\"/>\r\n      </g>\r\n     </g>\r\n     <g id=\"text_3\">\r\n      <!-- United Kingdom -->\r\n      <defs>\r\n       <path d=\"M 9.8125 72.90625 \r\nL 19.671875 72.90625 \r\nL 19.671875 42.09375 \r\nL 52.390625 72.90625 \r\nL 65.09375 72.90625 \r\nL 28.90625 38.921875 \r\nL 67.671875 0 \r\nL 54.6875 0 \r\nL 19.671875 35.109375 \r\nL 19.671875 0 \r\nL 9.8125 0 \r\nz\r\n\" id=\"DejaVuSans-75\"/>\r\n       <path d=\"M 45.40625 27.984375 \r\nQ 45.40625 37.75 41.375 43.109375 \r\nQ 37.359375 48.484375 30.078125 48.484375 \r\nQ 22.859375 48.484375 18.828125 43.109375 \r\nQ 14.796875 37.75 14.796875 27.984375 \r\nQ 14.796875 18.265625 18.828125 12.890625 \r\nQ 22.859375 7.515625 30.078125 7.515625 \r\nQ 37.359375 7.515625 41.375 12.890625 \r\nQ 45.40625 18.265625 45.40625 27.984375 \r\nz\r\nM 54.390625 6.78125 \r\nQ 54.390625 -7.171875 48.1875 -13.984375 \r\nQ 42 -20.796875 29.203125 -20.796875 \r\nQ 24.46875 -20.796875 20.265625 -20.09375 \r\nQ 16.0625 -19.390625 12.109375 -17.921875 \r\nL 12.109375 -9.1875 \r\nQ 16.0625 -11.328125 19.921875 -12.34375 \r\nQ 23.78125 -13.375 27.78125 -13.375 \r\nQ 36.625 -13.375 41.015625 -8.765625 \r\nQ 45.40625 -4.15625 45.40625 5.171875 \r\nL 45.40625 9.625 \r\nQ 42.625 4.78125 38.28125 2.390625 \r\nQ 33.9375 0 27.875 0 \r\nQ 17.828125 0 11.671875 7.65625 \r\nQ 5.515625 15.328125 5.515625 27.984375 \r\nQ 5.515625 40.671875 11.671875 48.328125 \r\nQ 17.828125 56 27.875 56 \r\nQ 33.9375 56 38.28125 53.609375 \r\nQ 42.625 51.21875 45.40625 46.390625 \r\nL 45.40625 54.6875 \r\nL 54.390625 54.6875 \r\nz\r\n\" id=\"DejaVuSans-103\"/>\r\n       <path d=\"M 30.609375 48.390625 \r\nQ 23.390625 48.390625 19.1875 42.75 \r\nQ 14.984375 37.109375 14.984375 27.296875 \r\nQ 14.984375 17.484375 19.15625 11.84375 \r\nQ 23.34375 6.203125 30.609375 6.203125 \r\nQ 37.796875 6.203125 41.984375 11.859375 \r\nQ 46.1875 17.53125 46.1875 27.296875 \r\nQ 46.1875 37.015625 41.984375 42.703125 \r\nQ 37.796875 48.390625 30.609375 48.390625 \r\nz\r\nM 30.609375 56 \r\nQ 42.328125 56 49.015625 48.375 \r\nQ 55.71875 40.765625 55.71875 27.296875 \r\nQ 55.71875 13.875 49.015625 6.21875 \r\nQ 42.328125 -1.421875 30.609375 -1.421875 \r\nQ 18.84375 -1.421875 12.171875 6.21875 \r\nQ 5.515625 13.875 5.515625 27.296875 \r\nQ 5.515625 40.765625 12.171875 48.375 \r\nQ 18.84375 56 30.609375 56 \r\nz\r\n\" id=\"DejaVuSans-111\"/>\r\n       <path d=\"M 52 44.1875 \r\nQ 55.375 50.25 60.0625 53.125 \r\nQ 64.75 56 71.09375 56 \r\nQ 79.640625 56 84.28125 50.015625 \r\nQ 88.921875 44.046875 88.921875 33.015625 \r\nL 88.921875 0 \r\nL 79.890625 0 \r\nL 79.890625 32.71875 \r\nQ 79.890625 40.578125 77.09375 44.375 \r\nQ 74.3125 48.1875 68.609375 48.1875 \r\nQ 61.625 48.1875 57.5625 43.546875 \r\nQ 53.515625 38.921875 53.515625 30.90625 \r\nL 53.515625 0 \r\nL 44.484375 0 \r\nL 44.484375 32.71875 \r\nQ 44.484375 40.625 41.703125 44.40625 \r\nQ 38.921875 48.1875 33.109375 48.1875 \r\nQ 26.21875 48.1875 22.15625 43.53125 \r\nQ 18.109375 38.875 18.109375 30.90625 \r\nL 18.109375 0 \r\nL 9.078125 0 \r\nL 9.078125 54.6875 \r\nL 18.109375 54.6875 \r\nL 18.109375 46.1875 \r\nQ 21.1875 51.21875 25.484375 53.609375 \r\nQ 29.78125 56 35.6875 56 \r\nQ 41.65625 56 45.828125 52.96875 \r\nQ 50 49.953125 52 44.1875 \r\nz\r\n\" id=\"DejaVuSans-109\"/>\r\n      </defs>\r\n      <g transform=\"translate(132.471875 327.022187)rotate(-90)scale(0.1 -0.1)\">\r\n       <use xlink:href=\"#DejaVuSans-85\"/>\r\n       <use x=\"73.193359\" xlink:href=\"#DejaVuSans-110\"/>\r\n       <use x=\"136.572266\" xlink:href=\"#DejaVuSans-105\"/>\r\n       <use x=\"164.355469\" xlink:href=\"#DejaVuSans-116\"/>\r\n       <use x=\"203.564453\" xlink:href=\"#DejaVuSans-101\"/>\r\n       <use x=\"265.087891\" xlink:href=\"#DejaVuSans-100\"/>\r\n       <use x=\"328.564453\" xlink:href=\"#DejaVuSans-32\"/>\r\n       <use x=\"360.351562\" xlink:href=\"#DejaVuSans-75\"/>\r\n       <use x=\"425.927734\" xlink:href=\"#DejaVuSans-105\"/>\r\n       <use x=\"453.710938\" xlink:href=\"#DejaVuSans-110\"/>\r\n       <use x=\"517.089844\" xlink:href=\"#DejaVuSans-103\"/>\r\n       <use x=\"580.566406\" xlink:href=\"#DejaVuSans-100\"/>\r\n       <use x=\"644.042969\" xlink:href=\"#DejaVuSans-111\"/>\r\n       <use x=\"705.224609\" xlink:href=\"#DejaVuSans-109\"/>\r\n      </g>\r\n     </g>\r\n    </g>\r\n    <g id=\"xtick_4\">\r\n     <g id=\"line2d_4\">\r\n      <g>\r\n       <use style=\"stroke:#000000;stroke-width:0.8;\" x=\"163.1925\" xlink:href=\"#m908c8c8d13\" y=\"239.758125\"/>\r\n      </g>\r\n     </g>\r\n     <g id=\"text_4\">\r\n      <!-- Italy -->\r\n      <defs>\r\n       <path d=\"M 9.8125 72.90625 \r\nL 19.671875 72.90625 \r\nL 19.671875 0 \r\nL 9.8125 0 \r\nz\r\n\" id=\"DejaVuSans-73\"/>\r\n       <path d=\"M 32.171875 -5.078125 \r\nQ 28.375 -14.84375 24.75 -17.8125 \r\nQ 21.140625 -20.796875 15.09375 -20.796875 \r\nL 7.90625 -20.796875 \r\nL 7.90625 -13.28125 \r\nL 13.1875 -13.28125 \r\nQ 16.890625 -13.28125 18.9375 -11.515625 \r\nQ 21 -9.765625 23.484375 -3.21875 \r\nL 25.09375 0.875 \r\nL 2.984375 54.6875 \r\nL 12.5 54.6875 \r\nL 29.59375 11.921875 \r\nL 46.6875 54.6875 \r\nL 56.203125 54.6875 \r\nz\r\n\" id=\"DejaVuSans-121\"/>\r\n      </defs>\r\n      <g transform=\"translate(165.951875 268.453437)rotate(-90)scale(0.1 -0.1)\">\r\n       <use xlink:href=\"#DejaVuSans-73\"/>\r\n       <use x=\"29.492188\" xlink:href=\"#DejaVuSans-116\"/>\r\n       <use x=\"68.701172\" xlink:href=\"#DejaVuSans-97\"/>\r\n       <use x=\"129.980469\" xlink:href=\"#DejaVuSans-108\"/>\r\n       <use x=\"157.763672\" xlink:href=\"#DejaVuSans-121\"/>\r\n      </g>\r\n     </g>\r\n    </g>\r\n    <g id=\"xtick_5\">\r\n     <g id=\"line2d_5\">\r\n      <g>\r\n       <use style=\"stroke:#000000;stroke-width:0.8;\" x=\"196.6725\" xlink:href=\"#m908c8c8d13\" y=\"239.758125\"/>\r\n      </g>\r\n     </g>\r\n     <g id=\"text_5\">\r\n      <!-- Mexico -->\r\n      <defs>\r\n       <path d=\"M 9.8125 72.90625 \r\nL 24.515625 72.90625 \r\nL 43.109375 23.296875 \r\nL 61.8125 72.90625 \r\nL 76.515625 72.90625 \r\nL 76.515625 0 \r\nL 66.890625 0 \r\nL 66.890625 64.015625 \r\nL 48.09375 14.015625 \r\nL 38.1875 14.015625 \r\nL 19.390625 64.015625 \r\nL 19.390625 0 \r\nL 9.8125 0 \r\nz\r\n\" id=\"DejaVuSans-77\"/>\r\n       <path d=\"M 54.890625 54.6875 \r\nL 35.109375 28.078125 \r\nL 55.90625 0 \r\nL 45.3125 0 \r\nL 29.390625 21.484375 \r\nL 13.484375 0 \r\nL 2.875 0 \r\nL 24.125 28.609375 \r\nL 4.6875 54.6875 \r\nL 15.28125 54.6875 \r\nL 29.78125 35.203125 \r\nL 44.28125 54.6875 \r\nz\r\n\" id=\"DejaVuSans-120\"/>\r\n       <path d=\"M 48.78125 52.59375 \r\nL 48.78125 44.1875 \r\nQ 44.96875 46.296875 41.140625 47.34375 \r\nQ 37.3125 48.390625 33.40625 48.390625 \r\nQ 24.65625 48.390625 19.8125 42.84375 \r\nQ 14.984375 37.3125 14.984375 27.296875 \r\nQ 14.984375 17.28125 19.8125 11.734375 \r\nQ 24.65625 6.203125 33.40625 6.203125 \r\nQ 37.3125 6.203125 41.140625 7.25 \r\nQ 44.96875 8.296875 48.78125 10.40625 \r\nL 48.78125 2.09375 \r\nQ 45.015625 0.34375 40.984375 -0.53125 \r\nQ 36.96875 -1.421875 32.421875 -1.421875 \r\nQ 20.0625 -1.421875 12.78125 6.34375 \r\nQ 5.515625 14.109375 5.515625 27.296875 \r\nQ 5.515625 40.671875 12.859375 48.328125 \r\nQ 20.21875 56 33.015625 56 \r\nQ 37.15625 56 41.109375 55.140625 \r\nQ 45.0625 54.296875 48.78125 52.59375 \r\nz\r\n\" id=\"DejaVuSans-99\"/>\r\n      </defs>\r\n      <g transform=\"translate(199.431875 281.851875)rotate(-90)scale(0.1 -0.1)\">\r\n       <use xlink:href=\"#DejaVuSans-77\"/>\r\n       <use x=\"86.279297\" xlink:href=\"#DejaVuSans-101\"/>\r\n       <use x=\"147.787109\" xlink:href=\"#DejaVuSans-120\"/>\r\n       <use x=\"206.966797\" xlink:href=\"#DejaVuSans-105\"/>\r\n       <use x=\"234.75\" xlink:href=\"#DejaVuSans-99\"/>\r\n       <use x=\"289.730469\" xlink:href=\"#DejaVuSans-111\"/>\r\n      </g>\r\n     </g>\r\n    </g>\r\n    <g id=\"xtick_6\">\r\n     <g id=\"line2d_6\">\r\n      <g>\r\n       <use style=\"stroke:#000000;stroke-width:0.8;\" x=\"230.1525\" xlink:href=\"#m908c8c8d13\" y=\"239.758125\"/>\r\n      </g>\r\n     </g>\r\n     <g id=\"text_6\">\r\n      <!-- France -->\r\n      <defs>\r\n       <path d=\"M 9.8125 72.90625 \r\nL 51.703125 72.90625 \r\nL 51.703125 64.59375 \r\nL 19.671875 64.59375 \r\nL 19.671875 43.109375 \r\nL 48.578125 43.109375 \r\nL 48.578125 34.8125 \r\nL 19.671875 34.8125 \r\nL 19.671875 0 \r\nL 9.8125 0 \r\nz\r\n\" id=\"DejaVuSans-70\"/>\r\n      </defs>\r\n      <g transform=\"translate(232.911875 280.726875)rotate(-90)scale(0.1 -0.1)\">\r\n       <use xlink:href=\"#DejaVuSans-70\"/>\r\n       <use x=\"57.410156\" xlink:href=\"#DejaVuSans-114\"/>\r\n       <use x=\"98.523438\" xlink:href=\"#DejaVuSans-97\"/>\r\n       <use x=\"159.802734\" xlink:href=\"#DejaVuSans-110\"/>\r\n       <use x=\"223.181641\" xlink:href=\"#DejaVuSans-99\"/>\r\n       <use x=\"278.162109\" xlink:href=\"#DejaVuSans-101\"/>\r\n      </g>\r\n     </g>\r\n    </g>\r\n    <g id=\"xtick_7\">\r\n     <g id=\"line2d_7\">\r\n      <g>\r\n       <use style=\"stroke:#000000;stroke-width:0.8;\" x=\"263.6325\" xlink:href=\"#m908c8c8d13\" y=\"239.758125\"/>\r\n      </g>\r\n     </g>\r\n     <g id=\"text_7\">\r\n      <!-- Spain -->\r\n      <defs>\r\n       <path d=\"M 18.109375 8.203125 \r\nL 18.109375 -20.796875 \r\nL 9.078125 -20.796875 \r\nL 9.078125 54.6875 \r\nL 18.109375 54.6875 \r\nL 18.109375 46.390625 \r\nQ 20.953125 51.265625 25.265625 53.625 \r\nQ 29.59375 56 35.59375 56 \r\nQ 45.5625 56 51.78125 48.09375 \r\nQ 58.015625 40.1875 58.015625 27.296875 \r\nQ 58.015625 14.40625 51.78125 6.484375 \r\nQ 45.5625 -1.421875 35.59375 -1.421875 \r\nQ 29.59375 -1.421875 25.265625 0.953125 \r\nQ 20.953125 3.328125 18.109375 8.203125 \r\nz\r\nM 48.6875 27.296875 \r\nQ 48.6875 37.203125 44.609375 42.84375 \r\nQ 40.53125 48.484375 33.40625 48.484375 \r\nQ 26.265625 48.484375 22.1875 42.84375 \r\nQ 18.109375 37.203125 18.109375 27.296875 \r\nQ 18.109375 17.390625 22.1875 11.75 \r\nQ 26.265625 6.109375 33.40625 6.109375 \r\nQ 40.53125 6.109375 44.609375 11.75 \r\nQ 48.6875 17.390625 48.6875 27.296875 \r\nz\r\n\" id=\"DejaVuSans-112\"/>\r\n      </defs>\r\n      <g transform=\"translate(266.391875 274.69875)rotate(-90)scale(0.1 -0.1)\">\r\n       <use xlink:href=\"#DejaVuSans-83\"/>\r\n       <use x=\"63.476562\" xlink:href=\"#DejaVuSans-112\"/>\r\n       <use x=\"126.953125\" xlink:href=\"#DejaVuSans-97\"/>\r\n       <use x=\"188.232422\" xlink:href=\"#DejaVuSans-105\"/>\r\n       <use x=\"216.015625\" xlink:href=\"#DejaVuSans-110\"/>\r\n      </g>\r\n     </g>\r\n    </g>\r\n    <g id=\"xtick_8\">\r\n     <g id=\"line2d_8\">\r\n      <g>\r\n       <use style=\"stroke:#000000;stroke-width:0.8;\" x=\"297.1125\" xlink:href=\"#m908c8c8d13\" y=\"239.758125\"/>\r\n      </g>\r\n     </g>\r\n     <g id=\"text_8\">\r\n      <!-- India -->\r\n      <g transform=\"translate(299.871875 271.300312)rotate(-90)scale(0.1 -0.1)\">\r\n       <use xlink:href=\"#DejaVuSans-73\"/>\r\n       <use x=\"29.492188\" xlink:href=\"#DejaVuSans-110\"/>\r\n       <use x=\"92.871094\" xlink:href=\"#DejaVuSans-100\"/>\r\n       <use x=\"156.347656\" xlink:href=\"#DejaVuSans-105\"/>\r\n       <use x=\"184.130859\" xlink:href=\"#DejaVuSans-97\"/>\r\n      </g>\r\n     </g>\r\n    </g>\r\n    <g id=\"xtick_9\">\r\n     <g id=\"line2d_9\">\r\n      <g>\r\n       <use style=\"stroke:#000000;stroke-width:0.8;\" x=\"330.5925\" xlink:href=\"#m908c8c8d13\" y=\"239.758125\"/>\r\n      </g>\r\n     </g>\r\n     <g id=\"text_9\">\r\n      <!-- Peru -->\r\n      <defs>\r\n       <path d=\"M 19.671875 64.796875 \r\nL 19.671875 37.40625 \r\nL 32.078125 37.40625 \r\nQ 38.96875 37.40625 42.71875 40.96875 \r\nQ 46.484375 44.53125 46.484375 51.125 \r\nQ 46.484375 57.671875 42.71875 61.234375 \r\nQ 38.96875 64.796875 32.078125 64.796875 \r\nz\r\nM 9.8125 72.90625 \r\nL 32.078125 72.90625 \r\nQ 44.34375 72.90625 50.609375 67.359375 \r\nQ 56.890625 61.8125 56.890625 51.125 \r\nQ 56.890625 40.328125 50.609375 34.8125 \r\nQ 44.34375 29.296875 32.078125 29.296875 \r\nL 19.671875 29.296875 \r\nL 19.671875 0 \r\nL 9.8125 0 \r\nz\r\n\" id=\"DejaVuSans-80\"/>\r\n       <path d=\"M 8.5 21.578125 \r\nL 8.5 54.6875 \r\nL 17.484375 54.6875 \r\nL 17.484375 21.921875 \r\nQ 17.484375 14.15625 20.5 10.265625 \r\nQ 23.53125 6.390625 29.59375 6.390625 \r\nQ 36.859375 6.390625 41.078125 11.03125 \r\nQ 45.3125 15.671875 45.3125 23.6875 \r\nL 45.3125 54.6875 \r\nL 54.296875 54.6875 \r\nL 54.296875 0 \r\nL 45.3125 0 \r\nL 45.3125 8.40625 \r\nQ 42.046875 3.421875 37.71875 1 \r\nQ 33.40625 -1.421875 27.6875 -1.421875 \r\nQ 18.265625 -1.421875 13.375 4.4375 \r\nQ 8.5 10.296875 8.5 21.578125 \r\nz\r\nM 31.109375 56 \r\nz\r\n\" id=\"DejaVuSans-117\"/>\r\n      </defs>\r\n      <g transform=\"translate(333.351875 269.384687)rotate(-90)scale(0.1 -0.1)\">\r\n       <use xlink:href=\"#DejaVuSans-80\"/>\r\n       <use x=\"60.255859\" xlink:href=\"#DejaVuSans-101\"/>\r\n       <use x=\"121.779297\" xlink:href=\"#DejaVuSans-114\"/>\r\n       <use x=\"162.892578\" xlink:href=\"#DejaVuSans-117\"/>\r\n      </g>\r\n     </g>\r\n    </g>\r\n    <g id=\"xtick_10\">\r\n     <g id=\"line2d_10\">\r\n      <g>\r\n       <use style=\"stroke:#000000;stroke-width:0.8;\" x=\"364.0725\" xlink:href=\"#m908c8c8d13\" y=\"239.758125\"/>\r\n      </g>\r\n     </g>\r\n     <g id=\"text_10\">\r\n      <!-- Iran -->\r\n      <g transform=\"translate(366.831875 266.284687)rotate(-90)scale(0.1 -0.1)\">\r\n       <use xlink:href=\"#DejaVuSans-73\"/>\r\n       <use x=\"29.492188\" xlink:href=\"#DejaVuSans-114\"/>\r\n       <use x=\"70.605469\" xlink:href=\"#DejaVuSans-97\"/>\r\n       <use x=\"131.884766\" xlink:href=\"#DejaVuSans-110\"/>\r\n      </g>\r\n     </g>\r\n    </g>\r\n    <g id=\"text_11\">\r\n     <!-- location -->\r\n     <g transform=\"translate(193.573438 338.620625)scale(0.1 -0.1)\">\r\n      <use xlink:href=\"#DejaVuSans-108\"/>\r\n      <use x=\"27.783203\" xlink:href=\"#DejaVuSans-111\"/>\r\n      <use x=\"88.964844\" xlink:href=\"#DejaVuSans-99\"/>\r\n      <use x=\"143.945312\" xlink:href=\"#DejaVuSans-97\"/>\r\n      <use x=\"205.224609\" xlink:href=\"#DejaVuSans-116\"/>\r\n      <use x=\"244.433594\" xlink:href=\"#DejaVuSans-105\"/>\r\n      <use x=\"272.216797\" xlink:href=\"#DejaVuSans-111\"/>\r\n      <use x=\"333.398438\" xlink:href=\"#DejaVuSans-110\"/>\r\n     </g>\r\n    </g>\r\n   </g>\r\n   <g id=\"matplotlib.axis_2\">\r\n    <g id=\"ytick_1\">\r\n     <g id=\"line2d_11\">\r\n      <defs>\r\n       <path d=\"M 0 0 \r\nL -3.5 0 \r\n\" id=\"m253cedc845\" style=\"stroke:#000000;stroke-width:0.8;\"/>\r\n      </defs>\r\n      <g>\r\n       <use style=\"stroke:#000000;stroke-width:0.8;\" x=\"46.0125\" xlink:href=\"#m253cedc845\" y=\"239.758125\"/>\r\n      </g>\r\n     </g>\r\n     <g id=\"text_12\">\r\n      <!-- 0 -->\r\n      <defs>\r\n       <path d=\"M 31.78125 66.40625 \r\nQ 24.171875 66.40625 20.328125 58.90625 \r\nQ 16.5 51.421875 16.5 36.375 \r\nQ 16.5 21.390625 20.328125 13.890625 \r\nQ 24.171875 6.390625 31.78125 6.390625 \r\nQ 39.453125 6.390625 43.28125 13.890625 \r\nQ 47.125 21.390625 47.125 36.375 \r\nQ 47.125 51.421875 43.28125 58.90625 \r\nQ 39.453125 66.40625 31.78125 66.40625 \r\nz\r\nM 31.78125 74.21875 \r\nQ 44.046875 74.21875 50.515625 64.515625 \r\nQ 56.984375 54.828125 56.984375 36.375 \r\nQ 56.984375 17.96875 50.515625 8.265625 \r\nQ 44.046875 -1.421875 31.78125 -1.421875 \r\nQ 19.53125 -1.421875 13.0625 8.265625 \r\nQ 6.59375 17.96875 6.59375 36.375 \r\nQ 6.59375 54.828125 13.0625 64.515625 \r\nQ 19.53125 74.21875 31.78125 74.21875 \r\nz\r\n\" id=\"DejaVuSans-48\"/>\r\n      </defs>\r\n      <g transform=\"translate(32.65 243.557344)scale(0.1 -0.1)\">\r\n       <use xlink:href=\"#DejaVuSans-48\"/>\r\n      </g>\r\n     </g>\r\n    </g>\r\n    <g id=\"ytick_2\">\r\n     <g id=\"line2d_12\">\r\n      <g>\r\n       <use style=\"stroke:#000000;stroke-width:0.8;\" x=\"46.0125\" xlink:href=\"#m253cedc845\" y=\"213.32298\"/>\r\n      </g>\r\n     </g>\r\n     <g id=\"text_13\">\r\n      <!-- 10000 -->\r\n      <defs>\r\n       <path d=\"M 12.40625 8.296875 \r\nL 28.515625 8.296875 \r\nL 28.515625 63.921875 \r\nL 10.984375 60.40625 \r\nL 10.984375 69.390625 \r\nL 28.421875 72.90625 \r\nL 38.28125 72.90625 \r\nL 38.28125 8.296875 \r\nL 54.390625 8.296875 \r\nL 54.390625 0 \r\nL 12.40625 0 \r\nz\r\n\" id=\"DejaVuSans-49\"/>\r\n      </defs>\r\n      <g transform=\"translate(7.2 217.122199)scale(0.1 -0.1)\">\r\n       <use xlink:href=\"#DejaVuSans-49\"/>\r\n       <use x=\"63.623047\" xlink:href=\"#DejaVuSans-48\"/>\r\n       <use x=\"127.246094\" xlink:href=\"#DejaVuSans-48\"/>\r\n       <use x=\"190.869141\" xlink:href=\"#DejaVuSans-48\"/>\r\n       <use x=\"254.492188\" xlink:href=\"#DejaVuSans-48\"/>\r\n      </g>\r\n     </g>\r\n    </g>\r\n    <g id=\"ytick_3\">\r\n     <g id=\"line2d_13\">\r\n      <g>\r\n       <use style=\"stroke:#000000;stroke-width:0.8;\" x=\"46.0125\" xlink:href=\"#m253cedc845\" y=\"186.887835\"/>\r\n      </g>\r\n     </g>\r\n     <g id=\"text_14\">\r\n      <!-- 20000 -->\r\n      <defs>\r\n       <path d=\"M 19.1875 8.296875 \r\nL 53.609375 8.296875 \r\nL 53.609375 0 \r\nL 7.328125 0 \r\nL 7.328125 8.296875 \r\nQ 12.9375 14.109375 22.625 23.890625 \r\nQ 32.328125 33.6875 34.8125 36.53125 \r\nQ 39.546875 41.84375 41.421875 45.53125 \r\nQ 43.3125 49.21875 43.3125 52.78125 \r\nQ 43.3125 58.59375 39.234375 62.25 \r\nQ 35.15625 65.921875 28.609375 65.921875 \r\nQ 23.96875 65.921875 18.8125 64.3125 \r\nQ 13.671875 62.703125 7.8125 59.421875 \r\nL 7.8125 69.390625 \r\nQ 13.765625 71.78125 18.9375 73 \r\nQ 24.125 74.21875 28.421875 74.21875 \r\nQ 39.75 74.21875 46.484375 68.546875 \r\nQ 53.21875 62.890625 53.21875 53.421875 \r\nQ 53.21875 48.921875 51.53125 44.890625 \r\nQ 49.859375 40.875 45.40625 35.40625 \r\nQ 44.1875 33.984375 37.640625 27.21875 \r\nQ 31.109375 20.453125 19.1875 8.296875 \r\nz\r\n\" id=\"DejaVuSans-50\"/>\r\n      </defs>\r\n      <g transform=\"translate(7.2 190.687054)scale(0.1 -0.1)\">\r\n       <use xlink:href=\"#DejaVuSans-50\"/>\r\n       <use x=\"63.623047\" xlink:href=\"#DejaVuSans-48\"/>\r\n       <use x=\"127.246094\" xlink:href=\"#DejaVuSans-48\"/>\r\n       <use x=\"190.869141\" xlink:href=\"#DejaVuSans-48\"/>\r\n       <use x=\"254.492188\" xlink:href=\"#DejaVuSans-48\"/>\r\n      </g>\r\n     </g>\r\n    </g>\r\n    <g id=\"ytick_4\">\r\n     <g id=\"line2d_14\">\r\n      <g>\r\n       <use style=\"stroke:#000000;stroke-width:0.8;\" x=\"46.0125\" xlink:href=\"#m253cedc845\" y=\"160.45269\"/>\r\n      </g>\r\n     </g>\r\n     <g id=\"text_15\">\r\n      <!-- 30000 -->\r\n      <defs>\r\n       <path d=\"M 40.578125 39.3125 \r\nQ 47.65625 37.796875 51.625 33 \r\nQ 55.609375 28.21875 55.609375 21.1875 \r\nQ 55.609375 10.40625 48.1875 4.484375 \r\nQ 40.765625 -1.421875 27.09375 -1.421875 \r\nQ 22.515625 -1.421875 17.65625 -0.515625 \r\nQ 12.796875 0.390625 7.625 2.203125 \r\nL 7.625 11.71875 \r\nQ 11.71875 9.328125 16.59375 8.109375 \r\nQ 21.484375 6.890625 26.8125 6.890625 \r\nQ 36.078125 6.890625 40.9375 10.546875 \r\nQ 45.796875 14.203125 45.796875 21.1875 \r\nQ 45.796875 27.640625 41.28125 31.265625 \r\nQ 36.765625 34.90625 28.71875 34.90625 \r\nL 20.21875 34.90625 \r\nL 20.21875 43.015625 \r\nL 29.109375 43.015625 \r\nQ 36.375 43.015625 40.234375 45.921875 \r\nQ 44.09375 48.828125 44.09375 54.296875 \r\nQ 44.09375 59.90625 40.109375 62.90625 \r\nQ 36.140625 65.921875 28.71875 65.921875 \r\nQ 24.65625 65.921875 20.015625 65.03125 \r\nQ 15.375 64.15625 9.8125 62.3125 \r\nL 9.8125 71.09375 \r\nQ 15.4375 72.65625 20.34375 73.4375 \r\nQ 25.25 74.21875 29.59375 74.21875 \r\nQ 40.828125 74.21875 47.359375 69.109375 \r\nQ 53.90625 64.015625 53.90625 55.328125 \r\nQ 53.90625 49.265625 50.4375 45.09375 \r\nQ 46.96875 40.921875 40.578125 39.3125 \r\nz\r\n\" id=\"DejaVuSans-51\"/>\r\n      </defs>\r\n      <g transform=\"translate(7.2 164.251909)scale(0.1 -0.1)\">\r\n       <use xlink:href=\"#DejaVuSans-51\"/>\r\n       <use x=\"63.623047\" xlink:href=\"#DejaVuSans-48\"/>\r\n       <use x=\"127.246094\" xlink:href=\"#DejaVuSans-48\"/>\r\n       <use x=\"190.869141\" xlink:href=\"#DejaVuSans-48\"/>\r\n       <use x=\"254.492188\" xlink:href=\"#DejaVuSans-48\"/>\r\n      </g>\r\n     </g>\r\n    </g>\r\n    <g id=\"ytick_5\">\r\n     <g id=\"line2d_15\">\r\n      <g>\r\n       <use style=\"stroke:#000000;stroke-width:0.8;\" x=\"46.0125\" xlink:href=\"#m253cedc845\" y=\"134.017546\"/>\r\n      </g>\r\n     </g>\r\n     <g id=\"text_16\">\r\n      <!-- 40000 -->\r\n      <defs>\r\n       <path d=\"M 37.796875 64.3125 \r\nL 12.890625 25.390625 \r\nL 37.796875 25.390625 \r\nz\r\nM 35.203125 72.90625 \r\nL 47.609375 72.90625 \r\nL 47.609375 25.390625 \r\nL 58.015625 25.390625 \r\nL 58.015625 17.1875 \r\nL 47.609375 17.1875 \r\nL 47.609375 0 \r\nL 37.796875 0 \r\nL 37.796875 17.1875 \r\nL 4.890625 17.1875 \r\nL 4.890625 26.703125 \r\nz\r\n\" id=\"DejaVuSans-52\"/>\r\n      </defs>\r\n      <g transform=\"translate(7.2 137.816764)scale(0.1 -0.1)\">\r\n       <use xlink:href=\"#DejaVuSans-52\"/>\r\n       <use x=\"63.623047\" xlink:href=\"#DejaVuSans-48\"/>\r\n       <use x=\"127.246094\" xlink:href=\"#DejaVuSans-48\"/>\r\n       <use x=\"190.869141\" xlink:href=\"#DejaVuSans-48\"/>\r\n       <use x=\"254.492188\" xlink:href=\"#DejaVuSans-48\"/>\r\n      </g>\r\n     </g>\r\n    </g>\r\n    <g id=\"ytick_6\">\r\n     <g id=\"line2d_16\">\r\n      <g>\r\n       <use style=\"stroke:#000000;stroke-width:0.8;\" x=\"46.0125\" xlink:href=\"#m253cedc845\" y=\"107.582401\"/>\r\n      </g>\r\n     </g>\r\n     <g id=\"text_17\">\r\n      <!-- 50000 -->\r\n      <defs>\r\n       <path d=\"M 10.796875 72.90625 \r\nL 49.515625 72.90625 \r\nL 49.515625 64.59375 \r\nL 19.828125 64.59375 \r\nL 19.828125 46.734375 \r\nQ 21.96875 47.46875 24.109375 47.828125 \r\nQ 26.265625 48.1875 28.421875 48.1875 \r\nQ 40.625 48.1875 47.75 41.5 \r\nQ 54.890625 34.8125 54.890625 23.390625 \r\nQ 54.890625 11.625 47.5625 5.09375 \r\nQ 40.234375 -1.421875 26.90625 -1.421875 \r\nQ 22.3125 -1.421875 17.546875 -0.640625 \r\nQ 12.796875 0.140625 7.71875 1.703125 \r\nL 7.71875 11.625 \r\nQ 12.109375 9.234375 16.796875 8.0625 \r\nQ 21.484375 6.890625 26.703125 6.890625 \r\nQ 35.15625 6.890625 40.078125 11.328125 \r\nQ 45.015625 15.765625 45.015625 23.390625 \r\nQ 45.015625 31 40.078125 35.4375 \r\nQ 35.15625 39.890625 26.703125 39.890625 \r\nQ 22.75 39.890625 18.8125 39.015625 \r\nQ 14.890625 38.140625 10.796875 36.28125 \r\nz\r\n\" id=\"DejaVuSans-53\"/>\r\n      </defs>\r\n      <g transform=\"translate(7.2 111.381619)scale(0.1 -0.1)\">\r\n       <use xlink:href=\"#DejaVuSans-53\"/>\r\n       <use x=\"63.623047\" xlink:href=\"#DejaVuSans-48\"/>\r\n       <use x=\"127.246094\" xlink:href=\"#DejaVuSans-48\"/>\r\n       <use x=\"190.869141\" xlink:href=\"#DejaVuSans-48\"/>\r\n       <use x=\"254.492188\" xlink:href=\"#DejaVuSans-48\"/>\r\n      </g>\r\n     </g>\r\n    </g>\r\n    <g id=\"ytick_7\">\r\n     <g id=\"line2d_17\">\r\n      <g>\r\n       <use style=\"stroke:#000000;stroke-width:0.8;\" x=\"46.0125\" xlink:href=\"#m253cedc845\" y=\"81.147256\"/>\r\n      </g>\r\n     </g>\r\n     <g id=\"text_18\">\r\n      <!-- 60000 -->\r\n      <defs>\r\n       <path d=\"M 33.015625 40.375 \r\nQ 26.375 40.375 22.484375 35.828125 \r\nQ 18.609375 31.296875 18.609375 23.390625 \r\nQ 18.609375 15.53125 22.484375 10.953125 \r\nQ 26.375 6.390625 33.015625 6.390625 \r\nQ 39.65625 6.390625 43.53125 10.953125 \r\nQ 47.40625 15.53125 47.40625 23.390625 \r\nQ 47.40625 31.296875 43.53125 35.828125 \r\nQ 39.65625 40.375 33.015625 40.375 \r\nz\r\nM 52.59375 71.296875 \r\nL 52.59375 62.3125 \r\nQ 48.875 64.0625 45.09375 64.984375 \r\nQ 41.3125 65.921875 37.59375 65.921875 \r\nQ 27.828125 65.921875 22.671875 59.328125 \r\nQ 17.53125 52.734375 16.796875 39.40625 \r\nQ 19.671875 43.65625 24.015625 45.921875 \r\nQ 28.375 48.1875 33.59375 48.1875 \r\nQ 44.578125 48.1875 50.953125 41.515625 \r\nQ 57.328125 34.859375 57.328125 23.390625 \r\nQ 57.328125 12.15625 50.6875 5.359375 \r\nQ 44.046875 -1.421875 33.015625 -1.421875 \r\nQ 20.359375 -1.421875 13.671875 8.265625 \r\nQ 6.984375 17.96875 6.984375 36.375 \r\nQ 6.984375 53.65625 15.1875 63.9375 \r\nQ 23.390625 74.21875 37.203125 74.21875 \r\nQ 40.921875 74.21875 44.703125 73.484375 \r\nQ 48.484375 72.75 52.59375 71.296875 \r\nz\r\n\" id=\"DejaVuSans-54\"/>\r\n      </defs>\r\n      <g transform=\"translate(7.2 84.946475)scale(0.1 -0.1)\">\r\n       <use xlink:href=\"#DejaVuSans-54\"/>\r\n       <use x=\"63.623047\" xlink:href=\"#DejaVuSans-48\"/>\r\n       <use x=\"127.246094\" xlink:href=\"#DejaVuSans-48\"/>\r\n       <use x=\"190.869141\" xlink:href=\"#DejaVuSans-48\"/>\r\n       <use x=\"254.492188\" xlink:href=\"#DejaVuSans-48\"/>\r\n      </g>\r\n     </g>\r\n    </g>\r\n    <g id=\"ytick_8\">\r\n     <g id=\"line2d_18\">\r\n      <g>\r\n       <use style=\"stroke:#000000;stroke-width:0.8;\" x=\"46.0125\" xlink:href=\"#m253cedc845\" y=\"54.712111\"/>\r\n      </g>\r\n     </g>\r\n     <g id=\"text_19\">\r\n      <!-- 70000 -->\r\n      <defs>\r\n       <path d=\"M 8.203125 72.90625 \r\nL 55.078125 72.90625 \r\nL 55.078125 68.703125 \r\nL 28.609375 0 \r\nL 18.3125 0 \r\nL 43.21875 64.59375 \r\nL 8.203125 64.59375 \r\nz\r\n\" id=\"DejaVuSans-55\"/>\r\n      </defs>\r\n      <g transform=\"translate(7.2 58.51133)scale(0.1 -0.1)\">\r\n       <use xlink:href=\"#DejaVuSans-55\"/>\r\n       <use x=\"63.623047\" xlink:href=\"#DejaVuSans-48\"/>\r\n       <use x=\"127.246094\" xlink:href=\"#DejaVuSans-48\"/>\r\n       <use x=\"190.869141\" xlink:href=\"#DejaVuSans-48\"/>\r\n       <use x=\"254.492188\" xlink:href=\"#DejaVuSans-48\"/>\r\n      </g>\r\n     </g>\r\n    </g>\r\n    <g id=\"ytick_9\">\r\n     <g id=\"line2d_19\">\r\n      <g>\r\n       <use style=\"stroke:#000000;stroke-width:0.8;\" x=\"46.0125\" xlink:href=\"#m253cedc845\" y=\"28.276966\"/>\r\n      </g>\r\n     </g>\r\n     <g id=\"text_20\">\r\n      <!-- 80000 -->\r\n      <defs>\r\n       <path d=\"M 31.78125 34.625 \r\nQ 24.75 34.625 20.71875 30.859375 \r\nQ 16.703125 27.09375 16.703125 20.515625 \r\nQ 16.703125 13.921875 20.71875 10.15625 \r\nQ 24.75 6.390625 31.78125 6.390625 \r\nQ 38.8125 6.390625 42.859375 10.171875 \r\nQ 46.921875 13.96875 46.921875 20.515625 \r\nQ 46.921875 27.09375 42.890625 30.859375 \r\nQ 38.875 34.625 31.78125 34.625 \r\nz\r\nM 21.921875 38.8125 \r\nQ 15.578125 40.375 12.03125 44.71875 \r\nQ 8.5 49.078125 8.5 55.328125 \r\nQ 8.5 64.0625 14.71875 69.140625 \r\nQ 20.953125 74.21875 31.78125 74.21875 \r\nQ 42.671875 74.21875 48.875 69.140625 \r\nQ 55.078125 64.0625 55.078125 55.328125 \r\nQ 55.078125 49.078125 51.53125 44.71875 \r\nQ 48 40.375 41.703125 38.8125 \r\nQ 48.828125 37.15625 52.796875 32.3125 \r\nQ 56.78125 27.484375 56.78125 20.515625 \r\nQ 56.78125 9.90625 50.3125 4.234375 \r\nQ 43.84375 -1.421875 31.78125 -1.421875 \r\nQ 19.734375 -1.421875 13.25 4.234375 \r\nQ 6.78125 9.90625 6.78125 20.515625 \r\nQ 6.78125 27.484375 10.78125 32.3125 \r\nQ 14.796875 37.15625 21.921875 38.8125 \r\nz\r\nM 18.3125 54.390625 \r\nQ 18.3125 48.734375 21.84375 45.5625 \r\nQ 25.390625 42.390625 31.78125 42.390625 \r\nQ 38.140625 42.390625 41.71875 45.5625 \r\nQ 45.3125 48.734375 45.3125 54.390625 \r\nQ 45.3125 60.0625 41.71875 63.234375 \r\nQ 38.140625 66.40625 31.78125 66.40625 \r\nQ 25.390625 66.40625 21.84375 63.234375 \r\nQ 18.3125 60.0625 18.3125 54.390625 \r\nz\r\n\" id=\"DejaVuSans-56\"/>\r\n      </defs>\r\n      <g transform=\"translate(7.2 32.076185)scale(0.1 -0.1)\">\r\n       <use xlink:href=\"#DejaVuSans-56\"/>\r\n       <use x=\"63.623047\" xlink:href=\"#DejaVuSans-48\"/>\r\n       <use x=\"127.246094\" xlink:href=\"#DejaVuSans-48\"/>\r\n       <use x=\"190.869141\" xlink:href=\"#DejaVuSans-48\"/>\r\n       <use x=\"254.492188\" xlink:href=\"#DejaVuSans-48\"/>\r\n      </g>\r\n     </g>\r\n    </g>\r\n   </g>\r\n   <g id=\"patch_13\">\r\n    <path d=\"M 46.0125 239.758125 \r\nL 46.0125 22.318125 \r\n\" style=\"fill:none;stroke:#000000;stroke-linecap:square;stroke-linejoin:miter;stroke-width:0.8;\"/>\r\n   </g>\r\n   <g id=\"patch_14\">\r\n    <path d=\"M 380.8125 239.758125 \r\nL 380.8125 22.318125 \r\n\" style=\"fill:none;stroke:#000000;stroke-linecap:square;stroke-linejoin:miter;stroke-width:0.8;\"/>\r\n   </g>\r\n   <g id=\"patch_15\">\r\n    <path d=\"M 46.0125 239.758125 \r\nL 380.8125 239.758125 \r\n\" style=\"fill:none;stroke:#000000;stroke-linecap:square;stroke-linejoin:miter;stroke-width:0.8;\"/>\r\n   </g>\r\n   <g id=\"patch_16\">\r\n    <path d=\"M 46.0125 22.318125 \r\nL 380.8125 22.318125 \r\n\" style=\"fill:none;stroke:#000000;stroke-linecap:square;stroke-linejoin:miter;stroke-width:0.8;\"/>\r\n   </g>\r\n   <g id=\"text_21\">\r\n    <!-- Top 10 countries with most average deaths -->\r\n    <defs>\r\n     <path d=\"M -0.296875 72.90625 \r\nL 61.375 72.90625 \r\nL 61.375 64.59375 \r\nL 35.5 64.59375 \r\nL 35.5 0 \r\nL 25.59375 0 \r\nL 25.59375 64.59375 \r\nL -0.296875 64.59375 \r\nz\r\n\" id=\"DejaVuSans-84\"/>\r\n     <path d=\"M 4.203125 54.6875 \r\nL 13.1875 54.6875 \r\nL 24.421875 12.015625 \r\nL 35.59375 54.6875 \r\nL 46.1875 54.6875 \r\nL 57.421875 12.015625 \r\nL 68.609375 54.6875 \r\nL 77.59375 54.6875 \r\nL 63.28125 0 \r\nL 52.6875 0 \r\nL 40.921875 44.828125 \r\nL 29.109375 0 \r\nL 18.5 0 \r\nz\r\n\" id=\"DejaVuSans-119\"/>\r\n     <path d=\"M 54.890625 33.015625 \r\nL 54.890625 0 \r\nL 45.90625 0 \r\nL 45.90625 32.71875 \r\nQ 45.90625 40.484375 42.875 44.328125 \r\nQ 39.84375 48.1875 33.796875 48.1875 \r\nQ 26.515625 48.1875 22.3125 43.546875 \r\nQ 18.109375 38.921875 18.109375 30.90625 \r\nL 18.109375 0 \r\nL 9.078125 0 \r\nL 9.078125 75.984375 \r\nL 18.109375 75.984375 \r\nL 18.109375 46.1875 \r\nQ 21.34375 51.125 25.703125 53.5625 \r\nQ 30.078125 56 35.796875 56 \r\nQ 45.21875 56 50.046875 50.171875 \r\nQ 54.890625 44.34375 54.890625 33.015625 \r\nz\r\n\" id=\"DejaVuSans-104\"/>\r\n     <path d=\"M 2.984375 54.6875 \r\nL 12.5 54.6875 \r\nL 29.59375 8.796875 \r\nL 46.6875 54.6875 \r\nL 56.203125 54.6875 \r\nL 35.6875 0 \r\nL 23.484375 0 \r\nz\r\n\" id=\"DejaVuSans-118\"/>\r\n    </defs>\r\n    <g transform=\"translate(82.584375 16.318125)scale(0.12 -0.12)\">\r\n     <use xlink:href=\"#DejaVuSans-84\"/>\r\n     <use x=\"60.818359\" xlink:href=\"#DejaVuSans-111\"/>\r\n     <use x=\"122\" xlink:href=\"#DejaVuSans-112\"/>\r\n     <use x=\"185.476562\" xlink:href=\"#DejaVuSans-32\"/>\r\n     <use x=\"217.263672\" xlink:href=\"#DejaVuSans-49\"/>\r\n     <use x=\"280.886719\" xlink:href=\"#DejaVuSans-48\"/>\r\n     <use x=\"344.509766\" xlink:href=\"#DejaVuSans-32\"/>\r\n     <use x=\"376.296875\" xlink:href=\"#DejaVuSans-99\"/>\r\n     <use x=\"431.277344\" xlink:href=\"#DejaVuSans-111\"/>\r\n     <use x=\"492.458984\" xlink:href=\"#DejaVuSans-117\"/>\r\n     <use x=\"555.837891\" xlink:href=\"#DejaVuSans-110\"/>\r\n     <use x=\"619.216797\" xlink:href=\"#DejaVuSans-116\"/>\r\n     <use x=\"658.425781\" xlink:href=\"#DejaVuSans-114\"/>\r\n     <use x=\"699.539062\" xlink:href=\"#DejaVuSans-105\"/>\r\n     <use x=\"727.322266\" xlink:href=\"#DejaVuSans-101\"/>\r\n     <use x=\"788.845703\" xlink:href=\"#DejaVuSans-115\"/>\r\n     <use x=\"840.945312\" xlink:href=\"#DejaVuSans-32\"/>\r\n     <use x=\"872.732422\" xlink:href=\"#DejaVuSans-119\"/>\r\n     <use x=\"954.519531\" xlink:href=\"#DejaVuSans-105\"/>\r\n     <use x=\"982.302734\" xlink:href=\"#DejaVuSans-116\"/>\r\n     <use x=\"1021.511719\" xlink:href=\"#DejaVuSans-104\"/>\r\n     <use x=\"1084.890625\" xlink:href=\"#DejaVuSans-32\"/>\r\n     <use x=\"1116.677734\" xlink:href=\"#DejaVuSans-109\"/>\r\n     <use x=\"1214.089844\" xlink:href=\"#DejaVuSans-111\"/>\r\n     <use x=\"1275.271484\" xlink:href=\"#DejaVuSans-115\"/>\r\n     <use x=\"1327.371094\" xlink:href=\"#DejaVuSans-116\"/>\r\n     <use x=\"1366.580078\" xlink:href=\"#DejaVuSans-32\"/>\r\n     <use x=\"1398.367188\" xlink:href=\"#DejaVuSans-97\"/>\r\n     <use x=\"1459.646484\" xlink:href=\"#DejaVuSans-118\"/>\r\n     <use x=\"1518.826172\" xlink:href=\"#DejaVuSans-101\"/>\r\n     <use x=\"1580.349609\" xlink:href=\"#DejaVuSans-114\"/>\r\n     <use x=\"1621.462891\" xlink:href=\"#DejaVuSans-97\"/>\r\n     <use x=\"1682.742188\" xlink:href=\"#DejaVuSans-103\"/>\r\n     <use x=\"1746.21875\" xlink:href=\"#DejaVuSans-101\"/>\r\n     <use x=\"1807.742188\" xlink:href=\"#DejaVuSans-32\"/>\r\n     <use x=\"1839.529297\" xlink:href=\"#DejaVuSans-100\"/>\r\n     <use x=\"1903.005859\" xlink:href=\"#DejaVuSans-101\"/>\r\n     <use x=\"1964.529297\" xlink:href=\"#DejaVuSans-97\"/>\r\n     <use x=\"2025.808594\" xlink:href=\"#DejaVuSans-116\"/>\r\n     <use x=\"2065.017578\" xlink:href=\"#DejaVuSans-104\"/>\r\n     <use x=\"2128.396484\" xlink:href=\"#DejaVuSans-115\"/>\r\n    </g>\r\n   </g>\r\n  </g>\r\n </g>\r\n <defs>\r\n  <clipPath id=\"p5a8d96fe42\">\r\n   <rect height=\"217.44\" width=\"334.8\" x=\"46.0125\" y=\"22.318125\"/>\r\n  </clipPath>\r\n </defs>\r\n</svg>\r\n",
      "image/png": "[encoded data removed]"
     },
     "metadata": {
      "needs_background": "light"
     }
    }
   ],
   "source": [
    "covid_df.groupby(['location']).mean().sort_values('total_deaths',ascending=False)['total_deaths'][1:11].plot.bar()\n",
    "plt.title('Top 10 countries with most average deaths')"
   ]
  },
  {
   "cell_type": "code",
   "execution_count": 86,
   "metadata": {},
   "outputs": [
    {
     "output_type": "execute_result",
     "data": {
      "text/plain": "Text(0.5, 1.0, 'Top 10 countries with highest new_cases')"
     },
     "metadata": {},
     "execution_count": 86
    },
    {
     "output_type": "display_data",
     "data": {
      "text/plain": "<Figure size 432x288 with 1 Axes>",
      "image/svg+xml": "<?xml version=\"1.0\" encoding=\"utf-8\" standalone=\"no\"?>\r\n<!DOCTYPE svg PUBLIC \"-//W3C//DTD SVG 1.1//EN\"\r\n  \"http://www.w3.org/Graphics/SVG/1.1/DTD/svg11.dtd\">\r\n<!-- Created with matplotlib (https://matplotlib.org/) -->\r\n<svg height=\"335.350312pt\" version=\"1.1\" viewBox=\"0 0 400.7375 335.350312\" width=\"400.7375pt\" xmlns=\"http://www.w3.org/2000/svg\" xmlns:xlink=\"http://www.w3.org/1999/xlink\">\r\n <defs>\r\n  <style type=\"text/css\">\r\n*{stroke-linecap:butt;stroke-linejoin:round;}\r\n  </style>\r\n </defs>\r\n <g id=\"figure_1\">\r\n  <g id=\"patch_1\">\r\n   <path d=\"M 0 335.350312 \r\nL 400.7375 335.350312 \r\nL 400.7375 0 \r\nL 0 0 \r\nz\r\n\" style=\"fill:none;\"/>\r\n  </g>\r\n  <g id=\"axes_1\">\r\n   <g id=\"patch_2\">\r\n    <path d=\"M 58.7375 239.758125 \r\nL 393.5375 239.758125 \r\nL 393.5375 22.318125 \r\nL 58.7375 22.318125 \r\nz\r\n\" style=\"fill:#ffffff;\"/>\r\n   </g>\r\n   <g id=\"patch_3\">\r\n    <path clip-path=\"url(#p1a8d95a0b1)\" d=\"M 67.1075 239.758125 \r\nL 75.4775 239.758125 \r\nL 75.4775 32.672411 \r\nL 67.1075 32.672411 \r\nz\r\n\" style=\"fill:#1f77b4;\"/>\r\n   </g>\r\n   <g id=\"patch_4\">\r\n    <path clip-path=\"url(#p1a8d95a0b1)\" d=\"M 100.5875 239.758125 \r\nL 108.9575 239.758125 \r\nL 108.9575 70.216136 \r\nL 100.5875 70.216136 \r\nz\r\n\" style=\"fill:#1f77b4;\"/>\r\n   </g>\r\n   <g id=\"patch_5\">\r\n    <path clip-path=\"url(#p1a8d95a0b1)\" d=\"M 134.0675 239.758125 \r\nL 142.4375 239.758125 \r\nL 142.4375 101.878511 \r\nL 134.0675 101.878511 \r\nz\r\n\" style=\"fill:#1f77b4;\"/>\r\n   </g>\r\n   <g id=\"patch_6\">\r\n    <path clip-path=\"url(#p1a8d95a0b1)\" d=\"M 167.5475 239.758125 \r\nL 175.9175 239.758125 \r\nL 175.9175 206.251871 \r\nL 167.5475 206.251871 \r\nz\r\n\" style=\"fill:#1f77b4;\"/>\r\n   </g>\r\n   <g id=\"patch_7\">\r\n    <path clip-path=\"url(#p1a8d95a0b1)\" d=\"M 201.0275 239.758125 \r\nL 209.3975 239.758125 \r\nL 209.3975 216.409748 \r\nL 201.0275 216.409748 \r\nz\r\n\" style=\"fill:#1f77b4;\"/>\r\n   </g>\r\n   <g id=\"patch_8\">\r\n    <path clip-path=\"url(#p1a8d95a0b1)\" d=\"M 234.5075 239.758125 \r\nL 242.8775 239.758125 \r\nL 242.8775 216.439506 \r\nL 234.5075 216.439506 \r\nz\r\n\" style=\"fill:#1f77b4;\"/>\r\n   </g>\r\n   <g id=\"patch_9\">\r\n    <path clip-path=\"url(#p1a8d95a0b1)\" d=\"M 267.9875 239.758125 \r\nL 276.3575 239.758125 \r\nL 276.3575 218.580038 \r\nL 267.9875 218.580038 \r\nz\r\n\" style=\"fill:#1f77b4;\"/>\r\n   </g>\r\n   <g id=\"patch_10\">\r\n    <path clip-path=\"url(#p1a8d95a0b1)\" d=\"M 301.4675 239.758125 \r\nL 309.8375 239.758125 \r\nL 309.8375 219.270576 \r\nL 301.4675 219.270576 \r\nz\r\n\" style=\"fill:#1f77b4;\"/>\r\n   </g>\r\n   <g id=\"patch_11\">\r\n    <path clip-path=\"url(#p1a8d95a0b1)\" d=\"M 334.9475 239.758125 \r\nL 343.3175 239.758125 \r\nL 343.3175 219.84067 \r\nL 334.9475 219.84067 \r\nz\r\n\" style=\"fill:#1f77b4;\"/>\r\n   </g>\r\n   <g id=\"patch_12\">\r\n    <path clip-path=\"url(#p1a8d95a0b1)\" d=\"M 368.4275 239.758125 \r\nL 376.7975 239.758125 \r\nL 376.7975 220.174619 \r\nL 368.4275 220.174619 \r\nz\r\n\" style=\"fill:#1f77b4;\"/>\r\n   </g>\r\n   <g id=\"patch_13\">\r\n    <path clip-path=\"url(#p1a8d95a0b1)\" d=\"M 75.4775 239.758125 \r\nL 83.8475 239.758125 \r\nL 83.8475 233.728164 \r\nL 75.4775 233.728164 \r\nz\r\n\" style=\"fill:#ff7f0e;\"/>\r\n   </g>\r\n   <g id=\"patch_14\">\r\n    <path clip-path=\"url(#p1a8d95a0b1)\" d=\"M 108.9575 239.758125 \r\nL 117.3275 239.758125 \r\nL 117.3275 237.054947 \r\nL 108.9575 237.054947 \r\nz\r\n\" style=\"fill:#ff7f0e;\"/>\r\n   </g>\r\n   <g id=\"patch_15\">\r\n    <path clip-path=\"url(#p1a8d95a0b1)\" d=\"M 142.4375 239.758125 \r\nL 150.8075 239.758125 \r\nL 150.8075 235.61093 \r\nL 142.4375 235.61093 \r\nz\r\n\" style=\"fill:#ff7f0e;\"/>\r\n   </g>\r\n   <g id=\"patch_16\">\r\n    <path clip-path=\"url(#p1a8d95a0b1)\" d=\"M 175.9175 239.758125 \r\nL 184.2875 239.758125 \r\nL 184.2875 239.168092 \r\nL 175.9175 239.168092 \r\nz\r\n\" style=\"fill:#ff7f0e;\"/>\r\n   </g>\r\n   <g id=\"patch_17\">\r\n    <path clip-path=\"url(#p1a8d95a0b1)\" d=\"M 209.3975 239.758125 \r\nL 217.7675 239.758125 \r\nL 217.7675 239.020321 \r\nL 209.3975 239.020321 \r\nz\r\n\" style=\"fill:#ff7f0e;\"/>\r\n   </g>\r\n   <g id=\"patch_18\">\r\n    <path clip-path=\"url(#p1a8d95a0b1)\" d=\"M 242.8775 239.758125 \r\nL 251.2475 239.758125 \r\nL 251.2475 238.80964 \r\nL 242.8775 238.80964 \r\nz\r\n\" style=\"fill:#ff7f0e;\"/>\r\n   </g>\r\n   <g id=\"patch_19\">\r\n    <path clip-path=\"url(#p1a8d95a0b1)\" d=\"M 276.3575 239.758125 \r\nL 284.7275 239.758125 \r\nL 284.7275 237.525556 \r\nL 276.3575 237.525556 \r\nz\r\n\" style=\"fill:#ff7f0e;\"/>\r\n   </g>\r\n   <g id=\"patch_20\">\r\n    <path clip-path=\"url(#p1a8d95a0b1)\" d=\"M 309.8375 239.758125 \r\nL 318.2075 239.758125 \r\nL 318.2075 238.83012 \r\nL 309.8375 238.83012 \r\nz\r\n\" style=\"fill:#ff7f0e;\"/>\r\n   </g>\r\n   <g id=\"patch_21\">\r\n    <path clip-path=\"url(#p1a8d95a0b1)\" d=\"M 343.3175 239.758125 \r\nL 351.6875 239.758125 \r\nL 351.6875 239.274123 \r\nL 343.3175 239.274123 \r\nz\r\n\" style=\"fill:#ff7f0e;\"/>\r\n   </g>\r\n   <g id=\"patch_22\">\r\n    <path clip-path=\"url(#p1a8d95a0b1)\" d=\"M 376.7975 239.758125 \r\nL 385.1675 239.758125 \r\nL 385.1675 239.339165 \r\nL 376.7975 239.339165 \r\nz\r\n\" style=\"fill:#ff7f0e;\"/>\r\n   </g>\r\n   <g id=\"matplotlib.axis_1\">\r\n    <g id=\"xtick_1\">\r\n     <g id=\"line2d_1\">\r\n      <defs>\r\n       <path d=\"M 0 0 \r\nL 0 3.5 \r\n\" id=\"m0b27c0da95\" style=\"stroke:#000000;stroke-width:0.8;\"/>\r\n      </defs>\r\n      <g>\r\n       <use style=\"stroke:#000000;stroke-width:0.8;\" x=\"75.4775\" xlink:href=\"#m0b27c0da95\" y=\"239.758125\"/>\r\n      </g>\r\n     </g>\r\n     <g id=\"text_1\">\r\n      <!-- United States -->\r\n      <defs>\r\n       <path d=\"M 8.6875 72.90625 \r\nL 18.609375 72.90625 \r\nL 18.609375 28.609375 \r\nQ 18.609375 16.890625 22.84375 11.734375 \r\nQ 27.09375 6.59375 36.625 6.59375 \r\nQ 46.09375 6.59375 50.34375 11.734375 \r\nQ 54.59375 16.890625 54.59375 28.609375 \r\nL 54.59375 72.90625 \r\nL 64.5 72.90625 \r\nL 64.5 27.390625 \r\nQ 64.5 13.140625 57.4375 5.859375 \r\nQ 50.390625 -1.421875 36.625 -1.421875 \r\nQ 22.796875 -1.421875 15.734375 5.859375 \r\nQ 8.6875 13.140625 8.6875 27.390625 \r\nz\r\n\" id=\"DejaVuSans-85\"/>\r\n       <path d=\"M 54.890625 33.015625 \r\nL 54.890625 0 \r\nL 45.90625 0 \r\nL 45.90625 32.71875 \r\nQ 45.90625 40.484375 42.875 44.328125 \r\nQ 39.84375 48.1875 33.796875 48.1875 \r\nQ 26.515625 48.1875 22.3125 43.546875 \r\nQ 18.109375 38.921875 18.109375 30.90625 \r\nL 18.109375 0 \r\nL 9.078125 0 \r\nL 9.078125 54.6875 \r\nL 18.109375 54.6875 \r\nL 18.109375 46.1875 \r\nQ 21.34375 51.125 25.703125 53.5625 \r\nQ 30.078125 56 35.796875 56 \r\nQ 45.21875 56 50.046875 50.171875 \r\nQ 54.890625 44.34375 54.890625 33.015625 \r\nz\r\n\" id=\"DejaVuSans-110\"/>\r\n       <path d=\"M 9.421875 54.6875 \r\nL 18.40625 54.6875 \r\nL 18.40625 0 \r\nL 9.421875 0 \r\nz\r\nM 9.421875 75.984375 \r\nL 18.40625 75.984375 \r\nL 18.40625 64.59375 \r\nL 9.421875 64.59375 \r\nz\r\n\" id=\"DejaVuSans-105\"/>\r\n       <path d=\"M 18.3125 70.21875 \r\nL 18.3125 54.6875 \r\nL 36.8125 54.6875 \r\nL 36.8125 47.703125 \r\nL 18.3125 47.703125 \r\nL 18.3125 18.015625 \r\nQ 18.3125 11.328125 20.140625 9.421875 \r\nQ 21.96875 7.515625 27.59375 7.515625 \r\nL 36.8125 7.515625 \r\nL 36.8125 0 \r\nL 27.59375 0 \r\nQ 17.1875 0 13.234375 3.875 \r\nQ 9.28125 7.765625 9.28125 18.015625 \r\nL 9.28125 47.703125 \r\nL 2.6875 47.703125 \r\nL 2.6875 54.6875 \r\nL 9.28125 54.6875 \r\nL 9.28125 70.21875 \r\nz\r\n\" id=\"DejaVuSans-116\"/>\r\n       <path d=\"M 56.203125 29.59375 \r\nL 56.203125 25.203125 \r\nL 14.890625 25.203125 \r\nQ 15.484375 15.921875 20.484375 11.0625 \r\nQ 25.484375 6.203125 34.421875 6.203125 \r\nQ 39.59375 6.203125 44.453125 7.46875 \r\nQ 49.3125 8.734375 54.109375 11.28125 \r\nL 54.109375 2.78125 \r\nQ 49.265625 0.734375 44.1875 -0.34375 \r\nQ 39.109375 -1.421875 33.890625 -1.421875 \r\nQ 20.796875 -1.421875 13.15625 6.1875 \r\nQ 5.515625 13.8125 5.515625 26.8125 \r\nQ 5.515625 40.234375 12.765625 48.109375 \r\nQ 20.015625 56 32.328125 56 \r\nQ 43.359375 56 49.78125 48.890625 \r\nQ 56.203125 41.796875 56.203125 29.59375 \r\nz\r\nM 47.21875 32.234375 \r\nQ 47.125 39.59375 43.09375 43.984375 \r\nQ 39.0625 48.390625 32.421875 48.390625 \r\nQ 24.90625 48.390625 20.390625 44.140625 \r\nQ 15.875 39.890625 15.1875 32.171875 \r\nz\r\n\" id=\"DejaVuSans-101\"/>\r\n       <path d=\"M 45.40625 46.390625 \r\nL 45.40625 75.984375 \r\nL 54.390625 75.984375 \r\nL 54.390625 0 \r\nL 45.40625 0 \r\nL 45.40625 8.203125 \r\nQ 42.578125 3.328125 38.25 0.953125 \r\nQ 33.9375 -1.421875 27.875 -1.421875 \r\nQ 17.96875 -1.421875 11.734375 6.484375 \r\nQ 5.515625 14.40625 5.515625 27.296875 \r\nQ 5.515625 40.1875 11.734375 48.09375 \r\nQ 17.96875 56 27.875 56 \r\nQ 33.9375 56 38.25 53.625 \r\nQ 42.578125 51.265625 45.40625 46.390625 \r\nz\r\nM 14.796875 27.296875 \r\nQ 14.796875 17.390625 18.875 11.75 \r\nQ 22.953125 6.109375 30.078125 6.109375 \r\nQ 37.203125 6.109375 41.296875 11.75 \r\nQ 45.40625 17.390625 45.40625 27.296875 \r\nQ 45.40625 37.203125 41.296875 42.84375 \r\nQ 37.203125 48.484375 30.078125 48.484375 \r\nQ 22.953125 48.484375 18.875 42.84375 \r\nQ 14.796875 37.203125 14.796875 27.296875 \r\nz\r\n\" id=\"DejaVuSans-100\"/>\r\n       <path id=\"DejaVuSans-32\"/>\r\n       <path d=\"M 53.515625 70.515625 \r\nL 53.515625 60.890625 \r\nQ 47.90625 63.578125 42.921875 64.890625 \r\nQ 37.9375 66.21875 33.296875 66.21875 \r\nQ 25.25 66.21875 20.875 63.09375 \r\nQ 16.5 59.96875 16.5 54.203125 \r\nQ 16.5 49.359375 19.40625 46.890625 \r\nQ 22.3125 44.4375 30.421875 42.921875 \r\nL 36.375 41.703125 \r\nQ 47.40625 39.59375 52.65625 34.296875 \r\nQ 57.90625 29 57.90625 20.125 \r\nQ 57.90625 9.515625 50.796875 4.046875 \r\nQ 43.703125 -1.421875 29.984375 -1.421875 \r\nQ 24.8125 -1.421875 18.96875 -0.25 \r\nQ 13.140625 0.921875 6.890625 3.21875 \r\nL 6.890625 13.375 \r\nQ 12.890625 10.015625 18.65625 8.296875 \r\nQ 24.421875 6.59375 29.984375 6.59375 \r\nQ 38.421875 6.59375 43.015625 9.90625 \r\nQ 47.609375 13.234375 47.609375 19.390625 \r\nQ 47.609375 24.75 44.3125 27.78125 \r\nQ 41.015625 30.8125 33.5 32.328125 \r\nL 27.484375 33.5 \r\nQ 16.453125 35.6875 11.515625 40.375 \r\nQ 6.59375 45.0625 6.59375 53.421875 \r\nQ 6.59375 63.09375 13.40625 68.65625 \r\nQ 20.21875 74.21875 32.171875 74.21875 \r\nQ 37.3125 74.21875 42.625 73.28125 \r\nQ 47.953125 72.359375 53.515625 70.515625 \r\nz\r\n\" id=\"DejaVuSans-83\"/>\r\n       <path d=\"M 34.28125 27.484375 \r\nQ 23.390625 27.484375 19.1875 25 \r\nQ 14.984375 22.515625 14.984375 16.5 \r\nQ 14.984375 11.71875 18.140625 8.90625 \r\nQ 21.296875 6.109375 26.703125 6.109375 \r\nQ 34.1875 6.109375 38.703125 11.40625 \r\nQ 43.21875 16.703125 43.21875 25.484375 \r\nL 43.21875 27.484375 \r\nz\r\nM 52.203125 31.203125 \r\nL 52.203125 0 \r\nL 43.21875 0 \r\nL 43.21875 8.296875 \r\nQ 40.140625 3.328125 35.546875 0.953125 \r\nQ 30.953125 -1.421875 24.3125 -1.421875 \r\nQ 15.921875 -1.421875 10.953125 3.296875 \r\nQ 6 8.015625 6 15.921875 \r\nQ 6 25.140625 12.171875 29.828125 \r\nQ 18.359375 34.515625 30.609375 34.515625 \r\nL 43.21875 34.515625 \r\nL 43.21875 35.40625 \r\nQ 43.21875 41.609375 39.140625 45 \r\nQ 35.0625 48.390625 27.6875 48.390625 \r\nQ 23 48.390625 18.546875 47.265625 \r\nQ 14.109375 46.140625 10.015625 43.890625 \r\nL 10.015625 52.203125 \r\nQ 14.9375 54.109375 19.578125 55.046875 \r\nQ 24.21875 56 28.609375 56 \r\nQ 40.484375 56 46.34375 49.84375 \r\nQ 52.203125 43.703125 52.203125 31.203125 \r\nz\r\n\" id=\"DejaVuSans-97\"/>\r\n       <path d=\"M 44.28125 53.078125 \r\nL 44.28125 44.578125 \r\nQ 40.484375 46.53125 36.375 47.5 \r\nQ 32.28125 48.484375 27.875 48.484375 \r\nQ 21.1875 48.484375 17.84375 46.4375 \r\nQ 14.5 44.390625 14.5 40.28125 \r\nQ 14.5 37.15625 16.890625 35.375 \r\nQ 19.28125 33.59375 26.515625 31.984375 \r\nL 29.59375 31.296875 \r\nQ 39.15625 29.25 43.1875 25.515625 \r\nQ 47.21875 21.78125 47.21875 15.09375 \r\nQ 47.21875 7.46875 41.1875 3.015625 \r\nQ 35.15625 -1.421875 24.609375 -1.421875 \r\nQ 20.21875 -1.421875 15.453125 -0.5625 \r\nQ 10.6875 0.296875 5.421875 2 \r\nL 5.421875 11.28125 \r\nQ 10.40625 8.6875 15.234375 7.390625 \r\nQ 20.0625 6.109375 24.8125 6.109375 \r\nQ 31.15625 6.109375 34.5625 8.28125 \r\nQ 37.984375 10.453125 37.984375 14.40625 \r\nQ 37.984375 18.0625 35.515625 20.015625 \r\nQ 33.0625 21.96875 24.703125 23.78125 \r\nL 21.578125 24.515625 \r\nQ 13.234375 26.265625 9.515625 29.90625 \r\nQ 5.8125 33.546875 5.8125 39.890625 \r\nQ 5.8125 47.609375 11.28125 51.796875 \r\nQ 16.75 56 26.8125 56 \r\nQ 31.78125 56 36.171875 55.265625 \r\nQ 40.578125 54.546875 44.28125 53.078125 \r\nz\r\n\" id=\"DejaVuSans-115\"/>\r\n      </defs>\r\n      <g transform=\"translate(78.236875 314.472187)rotate(-90)scale(0.1 -0.1)\">\r\n       <use xlink:href=\"#DejaVuSans-85\"/>\r\n       <use x=\"73.193359\" xlink:href=\"#DejaVuSans-110\"/>\r\n       <use x=\"136.572266\" xlink:href=\"#DejaVuSans-105\"/>\r\n       <use x=\"164.355469\" xlink:href=\"#DejaVuSans-116\"/>\r\n       <use x=\"203.564453\" xlink:href=\"#DejaVuSans-101\"/>\r\n       <use x=\"265.087891\" xlink:href=\"#DejaVuSans-100\"/>\r\n       <use x=\"328.564453\" xlink:href=\"#DejaVuSans-32\"/>\r\n       <use x=\"360.351562\" xlink:href=\"#DejaVuSans-83\"/>\r\n       <use x=\"423.828125\" xlink:href=\"#DejaVuSans-116\"/>\r\n       <use x=\"463.037109\" xlink:href=\"#DejaVuSans-97\"/>\r\n       <use x=\"524.316406\" xlink:href=\"#DejaVuSans-116\"/>\r\n       <use x=\"563.525391\" xlink:href=\"#DejaVuSans-101\"/>\r\n       <use x=\"625.048828\" xlink:href=\"#DejaVuSans-115\"/>\r\n      </g>\r\n     </g>\r\n    </g>\r\n    <g id=\"xtick_2\">\r\n     <g id=\"line2d_2\">\r\n      <g>\r\n       <use style=\"stroke:#000000;stroke-width:0.8;\" x=\"108.9575\" xlink:href=\"#m0b27c0da95\" y=\"239.758125\"/>\r\n      </g>\r\n     </g>\r\n     <g id=\"text_2\">\r\n      <!-- India -->\r\n      <defs>\r\n       <path d=\"M 9.8125 72.90625 \r\nL 19.671875 72.90625 \r\nL 19.671875 0 \r\nL 9.8125 0 \r\nz\r\n\" id=\"DejaVuSans-73\"/>\r\n      </defs>\r\n      <g transform=\"translate(111.716875 271.300312)rotate(-90)scale(0.1 -0.1)\">\r\n       <use xlink:href=\"#DejaVuSans-73\"/>\r\n       <use x=\"29.492188\" xlink:href=\"#DejaVuSans-110\"/>\r\n       <use x=\"92.871094\" xlink:href=\"#DejaVuSans-100\"/>\r\n       <use x=\"156.347656\" xlink:href=\"#DejaVuSans-105\"/>\r\n       <use x=\"184.130859\" xlink:href=\"#DejaVuSans-97\"/>\r\n      </g>\r\n     </g>\r\n    </g>\r\n    <g id=\"xtick_3\">\r\n     <g id=\"line2d_3\">\r\n      <g>\r\n       <use style=\"stroke:#000000;stroke-width:0.8;\" x=\"142.4375\" xlink:href=\"#m0b27c0da95\" y=\"239.758125\"/>\r\n      </g>\r\n     </g>\r\n     <g id=\"text_3\">\r\n      <!-- Brazil -->\r\n      <defs>\r\n       <path d=\"M 19.671875 34.8125 \r\nL 19.671875 8.109375 \r\nL 35.5 8.109375 \r\nQ 43.453125 8.109375 47.28125 11.40625 \r\nQ 51.125 14.703125 51.125 21.484375 \r\nQ 51.125 28.328125 47.28125 31.5625 \r\nQ 43.453125 34.8125 35.5 34.8125 \r\nz\r\nM 19.671875 64.796875 \r\nL 19.671875 42.828125 \r\nL 34.28125 42.828125 \r\nQ 41.5 42.828125 45.03125 45.53125 \r\nQ 48.578125 48.25 48.578125 53.8125 \r\nQ 48.578125 59.328125 45.03125 62.0625 \r\nQ 41.5 64.796875 34.28125 64.796875 \r\nz\r\nM 9.8125 72.90625 \r\nL 35.015625 72.90625 \r\nQ 46.296875 72.90625 52.390625 68.21875 \r\nQ 58.5 63.53125 58.5 54.890625 \r\nQ 58.5 48.1875 55.375 44.234375 \r\nQ 52.25 40.28125 46.1875 39.3125 \r\nQ 53.46875 37.75 57.5 32.78125 \r\nQ 61.53125 27.828125 61.53125 20.40625 \r\nQ 61.53125 10.640625 54.890625 5.3125 \r\nQ 48.25 0 35.984375 0 \r\nL 9.8125 0 \r\nz\r\n\" id=\"DejaVuSans-66\"/>\r\n       <path d=\"M 41.109375 46.296875 \r\nQ 39.59375 47.171875 37.8125 47.578125 \r\nQ 36.03125 48 33.890625 48 \r\nQ 26.265625 48 22.1875 43.046875 \r\nQ 18.109375 38.09375 18.109375 28.8125 \r\nL 18.109375 0 \r\nL 9.078125 0 \r\nL 9.078125 54.6875 \r\nL 18.109375 54.6875 \r\nL 18.109375 46.1875 \r\nQ 20.953125 51.171875 25.484375 53.578125 \r\nQ 30.03125 56 36.53125 56 \r\nQ 37.453125 56 38.578125 55.875 \r\nQ 39.703125 55.765625 41.0625 55.515625 \r\nz\r\n\" id=\"DejaVuSans-114\"/>\r\n       <path d=\"M 5.515625 54.6875 \r\nL 48.1875 54.6875 \r\nL 48.1875 46.484375 \r\nL 14.40625 7.171875 \r\nL 48.1875 7.171875 \r\nL 48.1875 0 \r\nL 4.296875 0 \r\nL 4.296875 8.203125 \r\nL 38.09375 47.515625 \r\nL 5.515625 47.515625 \r\nz\r\n\" id=\"DejaVuSans-122\"/>\r\n       <path d=\"M 9.421875 75.984375 \r\nL 18.40625 75.984375 \r\nL 18.40625 0 \r\nL 9.421875 0 \r\nz\r\n\" id=\"DejaVuSans-108\"/>\r\n      </defs>\r\n      <g transform=\"translate(145.196875 274.662812)rotate(-90)scale(0.1 -0.1)\">\r\n       <use xlink:href=\"#DejaVuSans-66\"/>\r\n       <use x=\"68.603516\" xlink:href=\"#DejaVuSans-114\"/>\r\n       <use x=\"109.716797\" xlink:href=\"#DejaVuSans-97\"/>\r\n       <use x=\"170.996094\" xlink:href=\"#DejaVuSans-122\"/>\r\n       <use x=\"223.486328\" xlink:href=\"#DejaVuSans-105\"/>\r\n       <use x=\"251.269531\" xlink:href=\"#DejaVuSans-108\"/>\r\n      </g>\r\n     </g>\r\n    </g>\r\n    <g id=\"xtick_4\">\r\n     <g id=\"line2d_4\">\r\n      <g>\r\n       <use style=\"stroke:#000000;stroke-width:0.8;\" x=\"175.9175\" xlink:href=\"#m0b27c0da95\" y=\"239.758125\"/>\r\n      </g>\r\n     </g>\r\n     <g id=\"text_4\">\r\n      <!-- Russia -->\r\n      <defs>\r\n       <path d=\"M 44.390625 34.1875 \r\nQ 47.5625 33.109375 50.5625 29.59375 \r\nQ 53.5625 26.078125 56.59375 19.921875 \r\nL 66.609375 0 \r\nL 56 0 \r\nL 46.6875 18.703125 \r\nQ 43.0625 26.03125 39.671875 28.421875 \r\nQ 36.28125 30.8125 30.421875 30.8125 \r\nL 19.671875 30.8125 \r\nL 19.671875 0 \r\nL 9.8125 0 \r\nL 9.8125 72.90625 \r\nL 32.078125 72.90625 \r\nQ 44.578125 72.90625 50.734375 67.671875 \r\nQ 56.890625 62.453125 56.890625 51.90625 \r\nQ 56.890625 45.015625 53.6875 40.46875 \r\nQ 50.484375 35.9375 44.390625 34.1875 \r\nz\r\nM 19.671875 64.796875 \r\nL 19.671875 38.921875 \r\nL 32.078125 38.921875 \r\nQ 39.203125 38.921875 42.84375 42.21875 \r\nQ 46.484375 45.515625 46.484375 51.90625 \r\nQ 46.484375 58.296875 42.84375 61.546875 \r\nQ 39.203125 64.796875 32.078125 64.796875 \r\nz\r\n\" id=\"DejaVuSans-82\"/>\r\n       <path d=\"M 8.5 21.578125 \r\nL 8.5 54.6875 \r\nL 17.484375 54.6875 \r\nL 17.484375 21.921875 \r\nQ 17.484375 14.15625 20.5 10.265625 \r\nQ 23.53125 6.390625 29.59375 6.390625 \r\nQ 36.859375 6.390625 41.078125 11.03125 \r\nQ 45.3125 15.671875 45.3125 23.6875 \r\nL 45.3125 54.6875 \r\nL 54.296875 54.6875 \r\nL 54.296875 0 \r\nL 45.3125 0 \r\nL 45.3125 8.40625 \r\nQ 42.046875 3.421875 37.71875 1 \r\nQ 33.40625 -1.421875 27.6875 -1.421875 \r\nQ 18.265625 -1.421875 13.375 4.4375 \r\nQ 8.5 10.296875 8.5 21.578125 \r\nz\r\nM 31.109375 56 \r\nz\r\n\" id=\"DejaVuSans-117\"/>\r\n      </defs>\r\n      <g transform=\"translate(178.676875 279.362812)rotate(-90)scale(0.1 -0.1)\">\r\n       <use xlink:href=\"#DejaVuSans-82\"/>\r\n       <use x=\"69.419922\" xlink:href=\"#DejaVuSans-117\"/>\r\n       <use x=\"132.798828\" xlink:href=\"#DejaVuSans-115\"/>\r\n       <use x=\"184.898438\" xlink:href=\"#DejaVuSans-115\"/>\r\n       <use x=\"236.998047\" xlink:href=\"#DejaVuSans-105\"/>\r\n       <use x=\"264.78125\" xlink:href=\"#DejaVuSans-97\"/>\r\n      </g>\r\n     </g>\r\n    </g>\r\n    <g id=\"xtick_5\">\r\n     <g id=\"line2d_5\">\r\n      <g>\r\n       <use style=\"stroke:#000000;stroke-width:0.8;\" x=\"209.3975\" xlink:href=\"#m0b27c0da95\" y=\"239.758125\"/>\r\n      </g>\r\n     </g>\r\n     <g id=\"text_5\">\r\n      <!-- Colombia -->\r\n      <defs>\r\n       <path d=\"M 64.40625 67.28125 \r\nL 64.40625 56.890625 \r\nQ 59.421875 61.53125 53.78125 63.8125 \r\nQ 48.140625 66.109375 41.796875 66.109375 \r\nQ 29.296875 66.109375 22.65625 58.46875 \r\nQ 16.015625 50.828125 16.015625 36.375 \r\nQ 16.015625 21.96875 22.65625 14.328125 \r\nQ 29.296875 6.6875 41.796875 6.6875 \r\nQ 48.140625 6.6875 53.78125 8.984375 \r\nQ 59.421875 11.28125 64.40625 15.921875 \r\nL 64.40625 5.609375 \r\nQ 59.234375 2.09375 53.4375 0.328125 \r\nQ 47.65625 -1.421875 41.21875 -1.421875 \r\nQ 24.65625 -1.421875 15.125 8.703125 \r\nQ 5.609375 18.84375 5.609375 36.375 \r\nQ 5.609375 53.953125 15.125 64.078125 \r\nQ 24.65625 74.21875 41.21875 74.21875 \r\nQ 47.75 74.21875 53.53125 72.484375 \r\nQ 59.328125 70.75 64.40625 67.28125 \r\nz\r\n\" id=\"DejaVuSans-67\"/>\r\n       <path d=\"M 30.609375 48.390625 \r\nQ 23.390625 48.390625 19.1875 42.75 \r\nQ 14.984375 37.109375 14.984375 27.296875 \r\nQ 14.984375 17.484375 19.15625 11.84375 \r\nQ 23.34375 6.203125 30.609375 6.203125 \r\nQ 37.796875 6.203125 41.984375 11.859375 \r\nQ 46.1875 17.53125 46.1875 27.296875 \r\nQ 46.1875 37.015625 41.984375 42.703125 \r\nQ 37.796875 48.390625 30.609375 48.390625 \r\nz\r\nM 30.609375 56 \r\nQ 42.328125 56 49.015625 48.375 \r\nQ 55.71875 40.765625 55.71875 27.296875 \r\nQ 55.71875 13.875 49.015625 6.21875 \r\nQ 42.328125 -1.421875 30.609375 -1.421875 \r\nQ 18.84375 -1.421875 12.171875 6.21875 \r\nQ 5.515625 13.875 5.515625 27.296875 \r\nQ 5.515625 40.765625 12.171875 48.375 \r\nQ 18.84375 56 30.609375 56 \r\nz\r\n\" id=\"DejaVuSans-111\"/>\r\n       <path d=\"M 52 44.1875 \r\nQ 55.375 50.25 60.0625 53.125 \r\nQ 64.75 56 71.09375 56 \r\nQ 79.640625 56 84.28125 50.015625 \r\nQ 88.921875 44.046875 88.921875 33.015625 \r\nL 88.921875 0 \r\nL 79.890625 0 \r\nL 79.890625 32.71875 \r\nQ 79.890625 40.578125 77.09375 44.375 \r\nQ 74.3125 48.1875 68.609375 48.1875 \r\nQ 61.625 48.1875 57.5625 43.546875 \r\nQ 53.515625 38.921875 53.515625 30.90625 \r\nL 53.515625 0 \r\nL 44.484375 0 \r\nL 44.484375 32.71875 \r\nQ 44.484375 40.625 41.703125 44.40625 \r\nQ 38.921875 48.1875 33.109375 48.1875 \r\nQ 26.21875 48.1875 22.15625 43.53125 \r\nQ 18.109375 38.875 18.109375 30.90625 \r\nL 18.109375 0 \r\nL 9.078125 0 \r\nL 9.078125 54.6875 \r\nL 18.109375 54.6875 \r\nL 18.109375 46.1875 \r\nQ 21.1875 51.21875 25.484375 53.609375 \r\nQ 29.78125 56 35.6875 56 \r\nQ 41.65625 56 45.828125 52.96875 \r\nQ 50 49.953125 52 44.1875 \r\nz\r\n\" id=\"DejaVuSans-109\"/>\r\n       <path d=\"M 48.6875 27.296875 \r\nQ 48.6875 37.203125 44.609375 42.84375 \r\nQ 40.53125 48.484375 33.40625 48.484375 \r\nQ 26.265625 48.484375 22.1875 42.84375 \r\nQ 18.109375 37.203125 18.109375 27.296875 \r\nQ 18.109375 17.390625 22.1875 11.75 \r\nQ 26.265625 6.109375 33.40625 6.109375 \r\nQ 40.53125 6.109375 44.609375 11.75 \r\nQ 48.6875 17.390625 48.6875 27.296875 \r\nz\r\nM 18.109375 46.390625 \r\nQ 20.953125 51.265625 25.265625 53.625 \r\nQ 29.59375 56 35.59375 56 \r\nQ 45.5625 56 51.78125 48.09375 \r\nQ 58.015625 40.1875 58.015625 27.296875 \r\nQ 58.015625 14.40625 51.78125 6.484375 \r\nQ 45.5625 -1.421875 35.59375 -1.421875 \r\nQ 29.59375 -1.421875 25.265625 0.953125 \r\nQ 20.953125 3.328125 18.109375 8.203125 \r\nL 18.109375 0 \r\nL 9.078125 0 \r\nL 9.078125 75.984375 \r\nL 18.109375 75.984375 \r\nz\r\n\" id=\"DejaVuSans-98\"/>\r\n      </defs>\r\n      <g transform=\"translate(212.156875 293.751875)rotate(-90)scale(0.1 -0.1)\">\r\n       <use xlink:href=\"#DejaVuSans-67\"/>\r\n       <use x=\"69.824219\" xlink:href=\"#DejaVuSans-111\"/>\r\n       <use x=\"131.005859\" xlink:href=\"#DejaVuSans-108\"/>\r\n       <use x=\"158.789062\" xlink:href=\"#DejaVuSans-111\"/>\r\n       <use x=\"219.970703\" xlink:href=\"#DejaVuSans-109\"/>\r\n       <use x=\"317.382812\" xlink:href=\"#DejaVuSans-98\"/>\r\n       <use x=\"380.859375\" xlink:href=\"#DejaVuSans-105\"/>\r\n       <use x=\"408.642578\" xlink:href=\"#DejaVuSans-97\"/>\r\n      </g>\r\n     </g>\r\n    </g>\r\n    <g id=\"xtick_6\">\r\n     <g id=\"line2d_6\">\r\n      <g>\r\n       <use style=\"stroke:#000000;stroke-width:0.8;\" x=\"242.8775\" xlink:href=\"#m0b27c0da95\" y=\"239.758125\"/>\r\n      </g>\r\n     </g>\r\n     <g id=\"text_6\">\r\n      <!-- Peru -->\r\n      <defs>\r\n       <path d=\"M 19.671875 64.796875 \r\nL 19.671875 37.40625 \r\nL 32.078125 37.40625 \r\nQ 38.96875 37.40625 42.71875 40.96875 \r\nQ 46.484375 44.53125 46.484375 51.125 \r\nQ 46.484375 57.671875 42.71875 61.234375 \r\nQ 38.96875 64.796875 32.078125 64.796875 \r\nz\r\nM 9.8125 72.90625 \r\nL 32.078125 72.90625 \r\nQ 44.34375 72.90625 50.609375 67.359375 \r\nQ 56.890625 61.8125 56.890625 51.125 \r\nQ 56.890625 40.328125 50.609375 34.8125 \r\nQ 44.34375 29.296875 32.078125 29.296875 \r\nL 19.671875 29.296875 \r\nL 19.671875 0 \r\nL 9.8125 0 \r\nz\r\n\" id=\"DejaVuSans-80\"/>\r\n      </defs>\r\n      <g transform=\"translate(245.636875 269.384687)rotate(-90)scale(0.1 -0.1)\">\r\n       <use xlink:href=\"#DejaVuSans-80\"/>\r\n       <use x=\"60.255859\" xlink:href=\"#DejaVuSans-101\"/>\r\n       <use x=\"121.779297\" xlink:href=\"#DejaVuSans-114\"/>\r\n       <use x=\"162.892578\" xlink:href=\"#DejaVuSans-117\"/>\r\n      </g>\r\n     </g>\r\n    </g>\r\n    <g id=\"xtick_7\">\r\n     <g id=\"line2d_7\">\r\n      <g>\r\n       <use style=\"stroke:#000000;stroke-width:0.8;\" x=\"276.3575\" xlink:href=\"#m0b27c0da95\" y=\"239.758125\"/>\r\n      </g>\r\n     </g>\r\n     <g id=\"text_7\">\r\n      <!-- Mexico -->\r\n      <defs>\r\n       <path d=\"M 9.8125 72.90625 \r\nL 24.515625 72.90625 \r\nL 43.109375 23.296875 \r\nL 61.8125 72.90625 \r\nL 76.515625 72.90625 \r\nL 76.515625 0 \r\nL 66.890625 0 \r\nL 66.890625 64.015625 \r\nL 48.09375 14.015625 \r\nL 38.1875 14.015625 \r\nL 19.390625 64.015625 \r\nL 19.390625 0 \r\nL 9.8125 0 \r\nz\r\n\" id=\"DejaVuSans-77\"/>\r\n       <path d=\"M 54.890625 54.6875 \r\nL 35.109375 28.078125 \r\nL 55.90625 0 \r\nL 45.3125 0 \r\nL 29.390625 21.484375 \r\nL 13.484375 0 \r\nL 2.875 0 \r\nL 24.125 28.609375 \r\nL 4.6875 54.6875 \r\nL 15.28125 54.6875 \r\nL 29.78125 35.203125 \r\nL 44.28125 54.6875 \r\nz\r\n\" id=\"DejaVuSans-120\"/>\r\n       <path d=\"M 48.78125 52.59375 \r\nL 48.78125 44.1875 \r\nQ 44.96875 46.296875 41.140625 47.34375 \r\nQ 37.3125 48.390625 33.40625 48.390625 \r\nQ 24.65625 48.390625 19.8125 42.84375 \r\nQ 14.984375 37.3125 14.984375 27.296875 \r\nQ 14.984375 17.28125 19.8125 11.734375 \r\nQ 24.65625 6.203125 33.40625 6.203125 \r\nQ 37.3125 6.203125 41.140625 7.25 \r\nQ 44.96875 8.296875 48.78125 10.40625 \r\nL 48.78125 2.09375 \r\nQ 45.015625 0.34375 40.984375 -0.53125 \r\nQ 36.96875 -1.421875 32.421875 -1.421875 \r\nQ 20.0625 -1.421875 12.78125 6.34375 \r\nQ 5.515625 14.109375 5.515625 27.296875 \r\nQ 5.515625 40.671875 12.859375 48.328125 \r\nQ 20.21875 56 33.015625 56 \r\nQ 37.15625 56 41.109375 55.140625 \r\nQ 45.0625 54.296875 48.78125 52.59375 \r\nz\r\n\" id=\"DejaVuSans-99\"/>\r\n      </defs>\r\n      <g transform=\"translate(279.116875 281.851875)rotate(-90)scale(0.1 -0.1)\">\r\n       <use xlink:href=\"#DejaVuSans-77\"/>\r\n       <use x=\"86.279297\" xlink:href=\"#DejaVuSans-101\"/>\r\n       <use x=\"147.787109\" xlink:href=\"#DejaVuSans-120\"/>\r\n       <use x=\"206.966797\" xlink:href=\"#DejaVuSans-105\"/>\r\n       <use x=\"234.75\" xlink:href=\"#DejaVuSans-99\"/>\r\n       <use x=\"289.730469\" xlink:href=\"#DejaVuSans-111\"/>\r\n      </g>\r\n     </g>\r\n    </g>\r\n    <g id=\"xtick_8\">\r\n     <g id=\"line2d_8\">\r\n      <g>\r\n       <use style=\"stroke:#000000;stroke-width:0.8;\" x=\"309.8375\" xlink:href=\"#m0b27c0da95\" y=\"239.758125\"/>\r\n      </g>\r\n     </g>\r\n     <g id=\"text_8\">\r\n      <!-- Spain -->\r\n      <defs>\r\n       <path d=\"M 18.109375 8.203125 \r\nL 18.109375 -20.796875 \r\nL 9.078125 -20.796875 \r\nL 9.078125 54.6875 \r\nL 18.109375 54.6875 \r\nL 18.109375 46.390625 \r\nQ 20.953125 51.265625 25.265625 53.625 \r\nQ 29.59375 56 35.59375 56 \r\nQ 45.5625 56 51.78125 48.09375 \r\nQ 58.015625 40.1875 58.015625 27.296875 \r\nQ 58.015625 14.40625 51.78125 6.484375 \r\nQ 45.5625 -1.421875 35.59375 -1.421875 \r\nQ 29.59375 -1.421875 25.265625 0.953125 \r\nQ 20.953125 3.328125 18.109375 8.203125 \r\nz\r\nM 48.6875 27.296875 \r\nQ 48.6875 37.203125 44.609375 42.84375 \r\nQ 40.53125 48.484375 33.40625 48.484375 \r\nQ 26.265625 48.484375 22.1875 42.84375 \r\nQ 18.109375 37.203125 18.109375 27.296875 \r\nQ 18.109375 17.390625 22.1875 11.75 \r\nQ 26.265625 6.109375 33.40625 6.109375 \r\nQ 40.53125 6.109375 44.609375 11.75 \r\nQ 48.6875 17.390625 48.6875 27.296875 \r\nz\r\n\" id=\"DejaVuSans-112\"/>\r\n      </defs>\r\n      <g transform=\"translate(312.596875 274.69875)rotate(-90)scale(0.1 -0.1)\">\r\n       <use xlink:href=\"#DejaVuSans-83\"/>\r\n       <use x=\"63.476562\" xlink:href=\"#DejaVuSans-112\"/>\r\n       <use x=\"126.953125\" xlink:href=\"#DejaVuSans-97\"/>\r\n       <use x=\"188.232422\" xlink:href=\"#DejaVuSans-105\"/>\r\n       <use x=\"216.015625\" xlink:href=\"#DejaVuSans-110\"/>\r\n      </g>\r\n     </g>\r\n    </g>\r\n    <g id=\"xtick_9\">\r\n     <g id=\"line2d_9\">\r\n      <g>\r\n       <use style=\"stroke:#000000;stroke-width:0.8;\" x=\"343.3175\" xlink:href=\"#m0b27c0da95\" y=\"239.758125\"/>\r\n      </g>\r\n     </g>\r\n     <g id=\"text_9\">\r\n      <!-- South Africa -->\r\n      <defs>\r\n       <path d=\"M 54.890625 33.015625 \r\nL 54.890625 0 \r\nL 45.90625 0 \r\nL 45.90625 32.71875 \r\nQ 45.90625 40.484375 42.875 44.328125 \r\nQ 39.84375 48.1875 33.796875 48.1875 \r\nQ 26.515625 48.1875 22.3125 43.546875 \r\nQ 18.109375 38.921875 18.109375 30.90625 \r\nL 18.109375 0 \r\nL 9.078125 0 \r\nL 9.078125 75.984375 \r\nL 18.109375 75.984375 \r\nL 18.109375 46.1875 \r\nQ 21.34375 51.125 25.703125 53.5625 \r\nQ 30.078125 56 35.796875 56 \r\nQ 45.21875 56 50.046875 50.171875 \r\nQ 54.890625 44.34375 54.890625 33.015625 \r\nz\r\n\" id=\"DejaVuSans-104\"/>\r\n       <path d=\"M 34.1875 63.1875 \r\nL 20.796875 26.90625 \r\nL 47.609375 26.90625 \r\nz\r\nM 28.609375 72.90625 \r\nL 39.796875 72.90625 \r\nL 67.578125 0 \r\nL 57.328125 0 \r\nL 50.6875 18.703125 \r\nL 17.828125 18.703125 \r\nL 11.1875 0 \r\nL 0.78125 0 \r\nz\r\n\" id=\"DejaVuSans-65\"/>\r\n       <path d=\"M 37.109375 75.984375 \r\nL 37.109375 68.5 \r\nL 28.515625 68.5 \r\nQ 23.6875 68.5 21.796875 66.546875 \r\nQ 19.921875 64.59375 19.921875 59.515625 \r\nL 19.921875 54.6875 \r\nL 34.71875 54.6875 \r\nL 34.71875 47.703125 \r\nL 19.921875 47.703125 \r\nL 19.921875 0 \r\nL 10.890625 0 \r\nL 10.890625 47.703125 \r\nL 2.296875 47.703125 \r\nL 2.296875 54.6875 \r\nL 10.890625 54.6875 \r\nL 10.890625 58.5 \r\nQ 10.890625 67.625 15.140625 71.796875 \r\nQ 19.390625 75.984375 28.609375 75.984375 \r\nz\r\n\" id=\"DejaVuSans-102\"/>\r\n      </defs>\r\n      <g transform=\"translate(346.076875 307.870625)rotate(-90)scale(0.1 -0.1)\">\r\n       <use xlink:href=\"#DejaVuSans-83\"/>\r\n       <use x=\"63.476562\" xlink:href=\"#DejaVuSans-111\"/>\r\n       <use x=\"124.658203\" xlink:href=\"#DejaVuSans-117\"/>\r\n       <use x=\"188.037109\" xlink:href=\"#DejaVuSans-116\"/>\r\n       <use x=\"227.246094\" xlink:href=\"#DejaVuSans-104\"/>\r\n       <use x=\"290.625\" xlink:href=\"#DejaVuSans-32\"/>\r\n       <use x=\"322.412109\" xlink:href=\"#DejaVuSans-65\"/>\r\n       <use x=\"390.773438\" xlink:href=\"#DejaVuSans-102\"/>\r\n       <use x=\"425.978516\" xlink:href=\"#DejaVuSans-114\"/>\r\n       <use x=\"467.091797\" xlink:href=\"#DejaVuSans-105\"/>\r\n       <use x=\"494.875\" xlink:href=\"#DejaVuSans-99\"/>\r\n       <use x=\"549.855469\" xlink:href=\"#DejaVuSans-97\"/>\r\n      </g>\r\n     </g>\r\n    </g>\r\n    <g id=\"xtick_10\">\r\n     <g id=\"line2d_10\">\r\n      <g>\r\n       <use style=\"stroke:#000000;stroke-width:0.8;\" x=\"376.7975\" xlink:href=\"#m0b27c0da95\" y=\"239.758125\"/>\r\n      </g>\r\n     </g>\r\n     <g id=\"text_10\">\r\n      <!-- Argentina -->\r\n      <defs>\r\n       <path d=\"M 45.40625 27.984375 \r\nQ 45.40625 37.75 41.375 43.109375 \r\nQ 37.359375 48.484375 30.078125 48.484375 \r\nQ 22.859375 48.484375 18.828125 43.109375 \r\nQ 14.796875 37.75 14.796875 27.984375 \r\nQ 14.796875 18.265625 18.828125 12.890625 \r\nQ 22.859375 7.515625 30.078125 7.515625 \r\nQ 37.359375 7.515625 41.375 12.890625 \r\nQ 45.40625 18.265625 45.40625 27.984375 \r\nz\r\nM 54.390625 6.78125 \r\nQ 54.390625 -7.171875 48.1875 -13.984375 \r\nQ 42 -20.796875 29.203125 -20.796875 \r\nQ 24.46875 -20.796875 20.265625 -20.09375 \r\nQ 16.0625 -19.390625 12.109375 -17.921875 \r\nL 12.109375 -9.1875 \r\nQ 16.0625 -11.328125 19.921875 -12.34375 \r\nQ 23.78125 -13.375 27.78125 -13.375 \r\nQ 36.625 -13.375 41.015625 -8.765625 \r\nQ 45.40625 -4.15625 45.40625 5.171875 \r\nL 45.40625 9.625 \r\nQ 42.625 4.78125 38.28125 2.390625 \r\nQ 33.9375 0 27.875 0 \r\nQ 17.828125 0 11.671875 7.65625 \r\nQ 5.515625 15.328125 5.515625 27.984375 \r\nQ 5.515625 40.671875 11.671875 48.328125 \r\nQ 17.828125 56 27.875 56 \r\nQ 33.9375 56 38.28125 53.609375 \r\nQ 42.625 51.21875 45.40625 46.390625 \r\nL 45.40625 54.6875 \r\nL 54.390625 54.6875 \r\nz\r\n\" id=\"DejaVuSans-103\"/>\r\n      </defs>\r\n      <g transform=\"translate(379.556875 295.71125)rotate(-90)scale(0.1 -0.1)\">\r\n       <use xlink:href=\"#DejaVuSans-65\"/>\r\n       <use x=\"68.408203\" xlink:href=\"#DejaVuSans-114\"/>\r\n       <use x=\"109.505859\" xlink:href=\"#DejaVuSans-103\"/>\r\n       <use x=\"172.982422\" xlink:href=\"#DejaVuSans-101\"/>\r\n       <use x=\"234.505859\" xlink:href=\"#DejaVuSans-110\"/>\r\n       <use x=\"297.884766\" xlink:href=\"#DejaVuSans-116\"/>\r\n       <use x=\"337.09375\" xlink:href=\"#DejaVuSans-105\"/>\r\n       <use x=\"364.876953\" xlink:href=\"#DejaVuSans-110\"/>\r\n       <use x=\"428.255859\" xlink:href=\"#DejaVuSans-97\"/>\r\n      </g>\r\n     </g>\r\n    </g>\r\n    <g id=\"text_11\">\r\n     <!-- location -->\r\n     <g transform=\"translate(206.298438 326.070625)scale(0.1 -0.1)\">\r\n      <use xlink:href=\"#DejaVuSans-108\"/>\r\n      <use x=\"27.783203\" xlink:href=\"#DejaVuSans-111\"/>\r\n      <use x=\"88.964844\" xlink:href=\"#DejaVuSans-99\"/>\r\n      <use x=\"143.945312\" xlink:href=\"#DejaVuSans-97\"/>\r\n      <use x=\"205.224609\" xlink:href=\"#DejaVuSans-116\"/>\r\n      <use x=\"244.433594\" xlink:href=\"#DejaVuSans-105\"/>\r\n      <use x=\"272.216797\" xlink:href=\"#DejaVuSans-111\"/>\r\n      <use x=\"333.398438\" xlink:href=\"#DejaVuSans-110\"/>\r\n     </g>\r\n    </g>\r\n   </g>\r\n   <g id=\"matplotlib.axis_2\">\r\n    <g id=\"ytick_1\">\r\n     <g id=\"line2d_11\">\r\n      <defs>\r\n       <path d=\"M 0 0 \r\nL -3.5 0 \r\n\" id=\"m518b4da3cb\" style=\"stroke:#000000;stroke-width:0.8;\"/>\r\n      </defs>\r\n      <g>\r\n       <use style=\"stroke:#000000;stroke-width:0.8;\" x=\"58.7375\" xlink:href=\"#m518b4da3cb\" y=\"239.758125\"/>\r\n      </g>\r\n     </g>\r\n     <g id=\"text_12\">\r\n      <!-- 0 -->\r\n      <defs>\r\n       <path d=\"M 31.78125 66.40625 \r\nQ 24.171875 66.40625 20.328125 58.90625 \r\nQ 16.5 51.421875 16.5 36.375 \r\nQ 16.5 21.390625 20.328125 13.890625 \r\nQ 24.171875 6.390625 31.78125 6.390625 \r\nQ 39.453125 6.390625 43.28125 13.890625 \r\nQ 47.125 21.390625 47.125 36.375 \r\nQ 47.125 51.421875 43.28125 58.90625 \r\nQ 39.453125 66.40625 31.78125 66.40625 \r\nz\r\nM 31.78125 74.21875 \r\nQ 44.046875 74.21875 50.515625 64.515625 \r\nQ 56.984375 54.828125 56.984375 36.375 \r\nQ 56.984375 17.96875 50.515625 8.265625 \r\nQ 44.046875 -1.421875 31.78125 -1.421875 \r\nQ 19.53125 -1.421875 13.0625 8.265625 \r\nQ 6.59375 17.96875 6.59375 36.375 \r\nQ 6.59375 54.828125 13.0625 64.515625 \r\nQ 19.53125 74.21875 31.78125 74.21875 \r\nz\r\n\" id=\"DejaVuSans-48\"/>\r\n      </defs>\r\n      <g transform=\"translate(45.375 243.557344)scale(0.1 -0.1)\">\r\n       <use xlink:href=\"#DejaVuSans-48\"/>\r\n      </g>\r\n     </g>\r\n    </g>\r\n    <g id=\"ytick_2\">\r\n     <g id=\"line2d_12\">\r\n      <g>\r\n       <use style=\"stroke:#000000;stroke-width:0.8;\" x=\"58.7375\" xlink:href=\"#m518b4da3cb\" y=\"209.729487\"/>\r\n      </g>\r\n     </g>\r\n     <g id=\"text_13\">\r\n      <!-- 1000000 -->\r\n      <defs>\r\n       <path d=\"M 12.40625 8.296875 \r\nL 28.515625 8.296875 \r\nL 28.515625 63.921875 \r\nL 10.984375 60.40625 \r\nL 10.984375 69.390625 \r\nL 28.421875 72.90625 \r\nL 38.28125 72.90625 \r\nL 38.28125 8.296875 \r\nL 54.390625 8.296875 \r\nL 54.390625 0 \r\nL 12.40625 0 \r\nz\r\n\" id=\"DejaVuSans-49\"/>\r\n      </defs>\r\n      <g transform=\"translate(7.2 213.528706)scale(0.1 -0.1)\">\r\n       <use xlink:href=\"#DejaVuSans-49\"/>\r\n       <use x=\"63.623047\" xlink:href=\"#DejaVuSans-48\"/>\r\n       <use x=\"127.246094\" xlink:href=\"#DejaVuSans-48\"/>\r\n       <use x=\"190.869141\" xlink:href=\"#DejaVuSans-48\"/>\r\n       <use x=\"254.492188\" xlink:href=\"#DejaVuSans-48\"/>\r\n       <use x=\"318.115234\" xlink:href=\"#DejaVuSans-48\"/>\r\n       <use x=\"381.738281\" xlink:href=\"#DejaVuSans-48\"/>\r\n      </g>\r\n     </g>\r\n    </g>\r\n    <g id=\"ytick_3\">\r\n     <g id=\"line2d_13\">\r\n      <g>\r\n       <use style=\"stroke:#000000;stroke-width:0.8;\" x=\"58.7375\" xlink:href=\"#m518b4da3cb\" y=\"179.700849\"/>\r\n      </g>\r\n     </g>\r\n     <g id=\"text_14\">\r\n      <!-- 2000000 -->\r\n      <defs>\r\n       <path d=\"M 19.1875 8.296875 \r\nL 53.609375 8.296875 \r\nL 53.609375 0 \r\nL 7.328125 0 \r\nL 7.328125 8.296875 \r\nQ 12.9375 14.109375 22.625 23.890625 \r\nQ 32.328125 33.6875 34.8125 36.53125 \r\nQ 39.546875 41.84375 41.421875 45.53125 \r\nQ 43.3125 49.21875 43.3125 52.78125 \r\nQ 43.3125 58.59375 39.234375 62.25 \r\nQ 35.15625 65.921875 28.609375 65.921875 \r\nQ 23.96875 65.921875 18.8125 64.3125 \r\nQ 13.671875 62.703125 7.8125 59.421875 \r\nL 7.8125 69.390625 \r\nQ 13.765625 71.78125 18.9375 73 \r\nQ 24.125 74.21875 28.421875 74.21875 \r\nQ 39.75 74.21875 46.484375 68.546875 \r\nQ 53.21875 62.890625 53.21875 53.421875 \r\nQ 53.21875 48.921875 51.53125 44.890625 \r\nQ 49.859375 40.875 45.40625 35.40625 \r\nQ 44.1875 33.984375 37.640625 27.21875 \r\nQ 31.109375 20.453125 19.1875 8.296875 \r\nz\r\n\" id=\"DejaVuSans-50\"/>\r\n      </defs>\r\n      <g transform=\"translate(7.2 183.500068)scale(0.1 -0.1)\">\r\n       <use xlink:href=\"#DejaVuSans-50\"/>\r\n       <use x=\"63.623047\" xlink:href=\"#DejaVuSans-48\"/>\r\n       <use x=\"127.246094\" xlink:href=\"#DejaVuSans-48\"/>\r\n       <use x=\"190.869141\" xlink:href=\"#DejaVuSans-48\"/>\r\n       <use x=\"254.492188\" xlink:href=\"#DejaVuSans-48\"/>\r\n       <use x=\"318.115234\" xlink:href=\"#DejaVuSans-48\"/>\r\n       <use x=\"381.738281\" xlink:href=\"#DejaVuSans-48\"/>\r\n      </g>\r\n     </g>\r\n    </g>\r\n    <g id=\"ytick_4\">\r\n     <g id=\"line2d_14\">\r\n      <g>\r\n       <use style=\"stroke:#000000;stroke-width:0.8;\" x=\"58.7375\" xlink:href=\"#m518b4da3cb\" y=\"149.672212\"/>\r\n      </g>\r\n     </g>\r\n     <g id=\"text_15\">\r\n      <!-- 3000000 -->\r\n      <defs>\r\n       <path d=\"M 40.578125 39.3125 \r\nQ 47.65625 37.796875 51.625 33 \r\nQ 55.609375 28.21875 55.609375 21.1875 \r\nQ 55.609375 10.40625 48.1875 4.484375 \r\nQ 40.765625 -1.421875 27.09375 -1.421875 \r\nQ 22.515625 -1.421875 17.65625 -0.515625 \r\nQ 12.796875 0.390625 7.625 2.203125 \r\nL 7.625 11.71875 \r\nQ 11.71875 9.328125 16.59375 8.109375 \r\nQ 21.484375 6.890625 26.8125 6.890625 \r\nQ 36.078125 6.890625 40.9375 10.546875 \r\nQ 45.796875 14.203125 45.796875 21.1875 \r\nQ 45.796875 27.640625 41.28125 31.265625 \r\nQ 36.765625 34.90625 28.71875 34.90625 \r\nL 20.21875 34.90625 \r\nL 20.21875 43.015625 \r\nL 29.109375 43.015625 \r\nQ 36.375 43.015625 40.234375 45.921875 \r\nQ 44.09375 48.828125 44.09375 54.296875 \r\nQ 44.09375 59.90625 40.109375 62.90625 \r\nQ 36.140625 65.921875 28.71875 65.921875 \r\nQ 24.65625 65.921875 20.015625 65.03125 \r\nQ 15.375 64.15625 9.8125 62.3125 \r\nL 9.8125 71.09375 \r\nQ 15.4375 72.65625 20.34375 73.4375 \r\nQ 25.25 74.21875 29.59375 74.21875 \r\nQ 40.828125 74.21875 47.359375 69.109375 \r\nQ 53.90625 64.015625 53.90625 55.328125 \r\nQ 53.90625 49.265625 50.4375 45.09375 \r\nQ 46.96875 40.921875 40.578125 39.3125 \r\nz\r\n\" id=\"DejaVuSans-51\"/>\r\n      </defs>\r\n      <g transform=\"translate(7.2 153.47143)scale(0.1 -0.1)\">\r\n       <use xlink:href=\"#DejaVuSans-51\"/>\r\n       <use x=\"63.623047\" xlink:href=\"#DejaVuSans-48\"/>\r\n       <use x=\"127.246094\" xlink:href=\"#DejaVuSans-48\"/>\r\n       <use x=\"190.869141\" xlink:href=\"#DejaVuSans-48\"/>\r\n       <use x=\"254.492188\" xlink:href=\"#DejaVuSans-48\"/>\r\n       <use x=\"318.115234\" xlink:href=\"#DejaVuSans-48\"/>\r\n       <use x=\"381.738281\" xlink:href=\"#DejaVuSans-48\"/>\r\n      </g>\r\n     </g>\r\n    </g>\r\n    <g id=\"ytick_5\">\r\n     <g id=\"line2d_15\">\r\n      <g>\r\n       <use style=\"stroke:#000000;stroke-width:0.8;\" x=\"58.7375\" xlink:href=\"#m518b4da3cb\" y=\"119.643574\"/>\r\n      </g>\r\n     </g>\r\n     <g id=\"text_16\">\r\n      <!-- 4000000 -->\r\n      <defs>\r\n       <path d=\"M 37.796875 64.3125 \r\nL 12.890625 25.390625 \r\nL 37.796875 25.390625 \r\nz\r\nM 35.203125 72.90625 \r\nL 47.609375 72.90625 \r\nL 47.609375 25.390625 \r\nL 58.015625 25.390625 \r\nL 58.015625 17.1875 \r\nL 47.609375 17.1875 \r\nL 47.609375 0 \r\nL 37.796875 0 \r\nL 37.796875 17.1875 \r\nL 4.890625 17.1875 \r\nL 4.890625 26.703125 \r\nz\r\n\" id=\"DejaVuSans-52\"/>\r\n      </defs>\r\n      <g transform=\"translate(7.2 123.442792)scale(0.1 -0.1)\">\r\n       <use xlink:href=\"#DejaVuSans-52\"/>\r\n       <use x=\"63.623047\" xlink:href=\"#DejaVuSans-48\"/>\r\n       <use x=\"127.246094\" xlink:href=\"#DejaVuSans-48\"/>\r\n       <use x=\"190.869141\" xlink:href=\"#DejaVuSans-48\"/>\r\n       <use x=\"254.492188\" xlink:href=\"#DejaVuSans-48\"/>\r\n       <use x=\"318.115234\" xlink:href=\"#DejaVuSans-48\"/>\r\n       <use x=\"381.738281\" xlink:href=\"#DejaVuSans-48\"/>\r\n      </g>\r\n     </g>\r\n    </g>\r\n    <g id=\"ytick_6\">\r\n     <g id=\"line2d_16\">\r\n      <g>\r\n       <use style=\"stroke:#000000;stroke-width:0.8;\" x=\"58.7375\" xlink:href=\"#m518b4da3cb\" y=\"89.614936\"/>\r\n      </g>\r\n     </g>\r\n     <g id=\"text_17\">\r\n      <!-- 5000000 -->\r\n      <defs>\r\n       <path d=\"M 10.796875 72.90625 \r\nL 49.515625 72.90625 \r\nL 49.515625 64.59375 \r\nL 19.828125 64.59375 \r\nL 19.828125 46.734375 \r\nQ 21.96875 47.46875 24.109375 47.828125 \r\nQ 26.265625 48.1875 28.421875 48.1875 \r\nQ 40.625 48.1875 47.75 41.5 \r\nQ 54.890625 34.8125 54.890625 23.390625 \r\nQ 54.890625 11.625 47.5625 5.09375 \r\nQ 40.234375 -1.421875 26.90625 -1.421875 \r\nQ 22.3125 -1.421875 17.546875 -0.640625 \r\nQ 12.796875 0.140625 7.71875 1.703125 \r\nL 7.71875 11.625 \r\nQ 12.109375 9.234375 16.796875 8.0625 \r\nQ 21.484375 6.890625 26.703125 6.890625 \r\nQ 35.15625 6.890625 40.078125 11.328125 \r\nQ 45.015625 15.765625 45.015625 23.390625 \r\nQ 45.015625 31 40.078125 35.4375 \r\nQ 35.15625 39.890625 26.703125 39.890625 \r\nQ 22.75 39.890625 18.8125 39.015625 \r\nQ 14.890625 38.140625 10.796875 36.28125 \r\nz\r\n\" id=\"DejaVuSans-53\"/>\r\n      </defs>\r\n      <g transform=\"translate(7.2 93.414155)scale(0.1 -0.1)\">\r\n       <use xlink:href=\"#DejaVuSans-53\"/>\r\n       <use x=\"63.623047\" xlink:href=\"#DejaVuSans-48\"/>\r\n       <use x=\"127.246094\" xlink:href=\"#DejaVuSans-48\"/>\r\n       <use x=\"190.869141\" xlink:href=\"#DejaVuSans-48\"/>\r\n       <use x=\"254.492188\" xlink:href=\"#DejaVuSans-48\"/>\r\n       <use x=\"318.115234\" xlink:href=\"#DejaVuSans-48\"/>\r\n       <use x=\"381.738281\" xlink:href=\"#DejaVuSans-48\"/>\r\n      </g>\r\n     </g>\r\n    </g>\r\n    <g id=\"ytick_7\">\r\n     <g id=\"line2d_17\">\r\n      <g>\r\n       <use style=\"stroke:#000000;stroke-width:0.8;\" x=\"58.7375\" xlink:href=\"#m518b4da3cb\" y=\"59.586298\"/>\r\n      </g>\r\n     </g>\r\n     <g id=\"text_18\">\r\n      <!-- 6000000 -->\r\n      <defs>\r\n       <path d=\"M 33.015625 40.375 \r\nQ 26.375 40.375 22.484375 35.828125 \r\nQ 18.609375 31.296875 18.609375 23.390625 \r\nQ 18.609375 15.53125 22.484375 10.953125 \r\nQ 26.375 6.390625 33.015625 6.390625 \r\nQ 39.65625 6.390625 43.53125 10.953125 \r\nQ 47.40625 15.53125 47.40625 23.390625 \r\nQ 47.40625 31.296875 43.53125 35.828125 \r\nQ 39.65625 40.375 33.015625 40.375 \r\nz\r\nM 52.59375 71.296875 \r\nL 52.59375 62.3125 \r\nQ 48.875 64.0625 45.09375 64.984375 \r\nQ 41.3125 65.921875 37.59375 65.921875 \r\nQ 27.828125 65.921875 22.671875 59.328125 \r\nQ 17.53125 52.734375 16.796875 39.40625 \r\nQ 19.671875 43.65625 24.015625 45.921875 \r\nQ 28.375 48.1875 33.59375 48.1875 \r\nQ 44.578125 48.1875 50.953125 41.515625 \r\nQ 57.328125 34.859375 57.328125 23.390625 \r\nQ 57.328125 12.15625 50.6875 5.359375 \r\nQ 44.046875 -1.421875 33.015625 -1.421875 \r\nQ 20.359375 -1.421875 13.671875 8.265625 \r\nQ 6.984375 17.96875 6.984375 36.375 \r\nQ 6.984375 53.65625 15.1875 63.9375 \r\nQ 23.390625 74.21875 37.203125 74.21875 \r\nQ 40.921875 74.21875 44.703125 73.484375 \r\nQ 48.484375 72.75 52.59375 71.296875 \r\nz\r\n\" id=\"DejaVuSans-54\"/>\r\n      </defs>\r\n      <g transform=\"translate(7.2 63.385517)scale(0.1 -0.1)\">\r\n       <use xlink:href=\"#DejaVuSans-54\"/>\r\n       <use x=\"63.623047\" xlink:href=\"#DejaVuSans-48\"/>\r\n       <use x=\"127.246094\" xlink:href=\"#DejaVuSans-48\"/>\r\n       <use x=\"190.869141\" xlink:href=\"#DejaVuSans-48\"/>\r\n       <use x=\"254.492188\" xlink:href=\"#DejaVuSans-48\"/>\r\n       <use x=\"318.115234\" xlink:href=\"#DejaVuSans-48\"/>\r\n       <use x=\"381.738281\" xlink:href=\"#DejaVuSans-48\"/>\r\n      </g>\r\n     </g>\r\n    </g>\r\n    <g id=\"ytick_8\">\r\n     <g id=\"line2d_18\">\r\n      <g>\r\n       <use style=\"stroke:#000000;stroke-width:0.8;\" x=\"58.7375\" xlink:href=\"#m518b4da3cb\" y=\"29.55766\"/>\r\n      </g>\r\n     </g>\r\n     <g id=\"text_19\">\r\n      <!-- 7000000 -->\r\n      <defs>\r\n       <path d=\"M 8.203125 72.90625 \r\nL 55.078125 72.90625 \r\nL 55.078125 68.703125 \r\nL 28.609375 0 \r\nL 18.3125 0 \r\nL 43.21875 64.59375 \r\nL 8.203125 64.59375 \r\nz\r\n\" id=\"DejaVuSans-55\"/>\r\n      </defs>\r\n      <g transform=\"translate(7.2 33.356879)scale(0.1 -0.1)\">\r\n       <use xlink:href=\"#DejaVuSans-55\"/>\r\n       <use x=\"63.623047\" xlink:href=\"#DejaVuSans-48\"/>\r\n       <use x=\"127.246094\" xlink:href=\"#DejaVuSans-48\"/>\r\n       <use x=\"190.869141\" xlink:href=\"#DejaVuSans-48\"/>\r\n       <use x=\"254.492188\" xlink:href=\"#DejaVuSans-48\"/>\r\n       <use x=\"318.115234\" xlink:href=\"#DejaVuSans-48\"/>\r\n       <use x=\"381.738281\" xlink:href=\"#DejaVuSans-48\"/>\r\n      </g>\r\n     </g>\r\n    </g>\r\n   </g>\r\n   <g id=\"patch_23\">\r\n    <path d=\"M 58.7375 239.758125 \r\nL 58.7375 22.318125 \r\n\" style=\"fill:none;stroke:#000000;stroke-linecap:square;stroke-linejoin:miter;stroke-width:0.8;\"/>\r\n   </g>\r\n   <g id=\"patch_24\">\r\n    <path d=\"M 393.5375 239.758125 \r\nL 393.5375 22.318125 \r\n\" style=\"fill:none;stroke:#000000;stroke-linecap:square;stroke-linejoin:miter;stroke-width:0.8;\"/>\r\n   </g>\r\n   <g id=\"patch_25\">\r\n    <path d=\"M 58.7375 239.758125 \r\nL 393.5375 239.758125 \r\n\" style=\"fill:none;stroke:#000000;stroke-linecap:square;stroke-linejoin:miter;stroke-width:0.8;\"/>\r\n   </g>\r\n   <g id=\"patch_26\">\r\n    <path d=\"M 58.7375 22.318125 \r\nL 393.5375 22.318125 \r\n\" style=\"fill:none;stroke:#000000;stroke-linecap:square;stroke-linejoin:miter;stroke-width:0.8;\"/>\r\n   </g>\r\n   <g id=\"text_20\">\r\n    <!-- Top 10 countries with highest new_cases -->\r\n    <defs>\r\n     <path d=\"M -0.296875 72.90625 \r\nL 61.375 72.90625 \r\nL 61.375 64.59375 \r\nL 35.5 64.59375 \r\nL 35.5 0 \r\nL 25.59375 0 \r\nL 25.59375 64.59375 \r\nL -0.296875 64.59375 \r\nz\r\n\" id=\"DejaVuSans-84\"/>\r\n     <path d=\"M 4.203125 54.6875 \r\nL 13.1875 54.6875 \r\nL 24.421875 12.015625 \r\nL 35.59375 54.6875 \r\nL 46.1875 54.6875 \r\nL 57.421875 12.015625 \r\nL 68.609375 54.6875 \r\nL 77.59375 54.6875 \r\nL 63.28125 0 \r\nL 52.6875 0 \r\nL 40.921875 44.828125 \r\nL 29.109375 0 \r\nL 18.5 0 \r\nz\r\n\" id=\"DejaVuSans-119\"/>\r\n     <path d=\"M 50.984375 -16.609375 \r\nL 50.984375 -23.578125 \r\nL -0.984375 -23.578125 \r\nL -0.984375 -16.609375 \r\nz\r\n\" id=\"DejaVuSans-95\"/>\r\n    </defs>\r\n    <g transform=\"translate(102.66125 16.318125)scale(0.12 -0.12)\">\r\n     <use xlink:href=\"#DejaVuSans-84\"/>\r\n     <use x=\"60.818359\" xlink:href=\"#DejaVuSans-111\"/>\r\n     <use x=\"122\" xlink:href=\"#DejaVuSans-112\"/>\r\n     <use x=\"185.476562\" xlink:href=\"#DejaVuSans-32\"/>\r\n     <use x=\"217.263672\" xlink:href=\"#DejaVuSans-49\"/>\r\n     <use x=\"280.886719\" xlink:href=\"#DejaVuSans-48\"/>\r\n     <use x=\"344.509766\" xlink:href=\"#DejaVuSans-32\"/>\r\n     <use x=\"376.296875\" xlink:href=\"#DejaVuSans-99\"/>\r\n     <use x=\"431.277344\" xlink:href=\"#DejaVuSans-111\"/>\r\n     <use x=\"492.458984\" xlink:href=\"#DejaVuSans-117\"/>\r\n     <use x=\"555.837891\" xlink:href=\"#DejaVuSans-110\"/>\r\n     <use x=\"619.216797\" xlink:href=\"#DejaVuSans-116\"/>\r\n     <use x=\"658.425781\" xlink:href=\"#DejaVuSans-114\"/>\r\n     <use x=\"699.539062\" xlink:href=\"#DejaVuSans-105\"/>\r\n     <use x=\"727.322266\" xlink:href=\"#DejaVuSans-101\"/>\r\n     <use x=\"788.845703\" xlink:href=\"#DejaVuSans-115\"/>\r\n     <use x=\"840.945312\" xlink:href=\"#DejaVuSans-32\"/>\r\n     <use x=\"872.732422\" xlink:href=\"#DejaVuSans-119\"/>\r\n     <use x=\"954.519531\" xlink:href=\"#DejaVuSans-105\"/>\r\n     <use x=\"982.302734\" xlink:href=\"#DejaVuSans-116\"/>\r\n     <use x=\"1021.511719\" xlink:href=\"#DejaVuSans-104\"/>\r\n     <use x=\"1084.890625\" xlink:href=\"#DejaVuSans-32\"/>\r\n     <use x=\"1116.677734\" xlink:href=\"#DejaVuSans-104\"/>\r\n     <use x=\"1180.056641\" xlink:href=\"#DejaVuSans-105\"/>\r\n     <use x=\"1207.839844\" xlink:href=\"#DejaVuSans-103\"/>\r\n     <use x=\"1271.316406\" xlink:href=\"#DejaVuSans-104\"/>\r\n     <use x=\"1334.695312\" xlink:href=\"#DejaVuSans-101\"/>\r\n     <use x=\"1396.21875\" xlink:href=\"#DejaVuSans-115\"/>\r\n     <use x=\"1448.318359\" xlink:href=\"#DejaVuSans-116\"/>\r\n     <use x=\"1487.527344\" xlink:href=\"#DejaVuSans-32\"/>\r\n     <use x=\"1519.314453\" xlink:href=\"#DejaVuSans-110\"/>\r\n     <use x=\"1582.693359\" xlink:href=\"#DejaVuSans-101\"/>\r\n     <use x=\"1644.216797\" xlink:href=\"#DejaVuSans-119\"/>\r\n     <use x=\"1726.003906\" xlink:href=\"#DejaVuSans-95\"/>\r\n     <use x=\"1776.003906\" xlink:href=\"#DejaVuSans-99\"/>\r\n     <use x=\"1830.984375\" xlink:href=\"#DejaVuSans-97\"/>\r\n     <use x=\"1892.263672\" xlink:href=\"#DejaVuSans-115\"/>\r\n     <use x=\"1944.363281\" xlink:href=\"#DejaVuSans-101\"/>\r\n     <use x=\"2005.886719\" xlink:href=\"#DejaVuSans-115\"/>\r\n    </g>\r\n   </g>\r\n   <g id=\"legend_1\">\r\n    <g id=\"patch_27\">\r\n     <path d=\"M 294.771875 60.230625 \r\nL 386.5375 60.230625 \r\nQ 388.5375 60.230625 388.5375 58.230625 \r\nL 388.5375 29.318125 \r\nQ 388.5375 27.318125 386.5375 27.318125 \r\nL 294.771875 27.318125 \r\nQ 292.771875 27.318125 292.771875 29.318125 \r\nL 292.771875 58.230625 \r\nQ 292.771875 60.230625 294.771875 60.230625 \r\nz\r\n\" style=\"fill:#ffffff;opacity:0.8;stroke:#cccccc;stroke-linejoin:miter;\"/>\r\n    </g>\r\n    <g id=\"patch_28\">\r\n     <path d=\"M 296.771875 38.916563 \r\nL 316.771875 38.916563 \r\nL 316.771875 31.916563 \r\nL 296.771875 31.916563 \r\nz\r\n\" style=\"fill:#1f77b4;\"/>\r\n    </g>\r\n    <g id=\"text_21\">\r\n     <!-- new_cases -->\r\n     <g transform=\"translate(324.771875 38.916563)scale(0.1 -0.1)\">\r\n      <use xlink:href=\"#DejaVuSans-110\"/>\r\n      <use x=\"63.378906\" xlink:href=\"#DejaVuSans-101\"/>\r\n      <use x=\"124.902344\" xlink:href=\"#DejaVuSans-119\"/>\r\n      <use x=\"206.689453\" xlink:href=\"#DejaVuSans-95\"/>\r\n      <use x=\"256.689453\" xlink:href=\"#DejaVuSans-99\"/>\r\n      <use x=\"311.669922\" xlink:href=\"#DejaVuSans-97\"/>\r\n      <use x=\"372.949219\" xlink:href=\"#DejaVuSans-115\"/>\r\n      <use x=\"425.048828\" xlink:href=\"#DejaVuSans-101\"/>\r\n      <use x=\"486.572266\" xlink:href=\"#DejaVuSans-115\"/>\r\n     </g>\r\n    </g>\r\n    <g id=\"patch_29\">\r\n     <path d=\"M 296.771875 53.872813 \r\nL 316.771875 53.872813 \r\nL 316.771875 46.872813 \r\nL 296.771875 46.872813 \r\nz\r\n\" style=\"fill:#ff7f0e;\"/>\r\n    </g>\r\n    <g id=\"text_22\">\r\n     <!-- new_deaths -->\r\n     <g transform=\"translate(324.771875 53.872813)scale(0.1 -0.1)\">\r\n      <use xlink:href=\"#DejaVuSans-110\"/>\r\n      <use x=\"63.378906\" xlink:href=\"#DejaVuSans-101\"/>\r\n      <use x=\"124.902344\" xlink:href=\"#DejaVuSans-119\"/>\r\n      <use x=\"206.689453\" xlink:href=\"#DejaVuSans-95\"/>\r\n      <use x=\"256.689453\" xlink:href=\"#DejaVuSans-100\"/>\r\n      <use x=\"320.166016\" xlink:href=\"#DejaVuSans-101\"/>\r\n      <use x=\"381.689453\" xlink:href=\"#DejaVuSans-97\"/>\r\n      <use x=\"442.96875\" xlink:href=\"#DejaVuSans-116\"/>\r\n      <use x=\"482.177734\" xlink:href=\"#DejaVuSans-104\"/>\r\n      <use x=\"545.556641\" xlink:href=\"#DejaVuSans-115\"/>\r\n     </g>\r\n    </g>\r\n   </g>\r\n  </g>\r\n </g>\r\n <defs>\r\n  <clipPath id=\"p1a8d95a0b1\">\r\n   <rect height=\"217.44\" width=\"334.8\" x=\"58.7375\" y=\"22.318125\"/>\r\n  </clipPath>\r\n </defs>\r\n</svg>\r\n",
      "image/png": "[encoded data removed]"
     },
     "metadata": {
      "needs_background": "light"
     }
    }
   ],
   "source": [
    "#total new_deaths according to location\n",
    "covid_df.groupby(['location']).sum().sort_values(['new_cases','new_deaths'],ascending=False)[['new_cases','new_deaths']][1:11].plot.bar()\n",
    "plt.title('Top 10 countries with highest new_cases')"
   ]
  },
  {
   "cell_type": "code",
   "execution_count": 119,
   "metadata": {},
   "outputs": [
    {
     "output_type": "execute_result",
     "data": {
      "text/plain": "Text(0.5, 1.0, 'Top 10 countries with highest average of diabetes prevalence')"
     },
     "metadata": {},
     "execution_count": 119
    },
    {
     "output_type": "display_data",
     "data": {
      "text/plain": "<Figure size 432x288 with 1 Axes>",
      "image/svg+xml": "<?xml version=\"1.0\" encoding=\"utf-8\" standalone=\"no\"?>\r\n<!DOCTYPE svg PUBLIC \"-//W3C//DTD SVG 1.1//EN\"\r\n  \"http://www.w3.org/Graphics/SVG/1.1/DTD/svg11.dtd\">\r\n<!-- Created with matplotlib (https://matplotlib.org/) -->\r\n<svg height=\"374.63625pt\" version=\"1.1\" viewBox=\"0 0 387.91875 374.63625\" width=\"387.91875pt\" xmlns=\"http://www.w3.org/2000/svg\" xmlns:xlink=\"http://www.w3.org/1999/xlink\">\r\n <defs>\r\n  <style type=\"text/css\">\r\n*{stroke-linecap:butt;stroke-linejoin:round;}\r\n  </style>\r\n </defs>\r\n <g id=\"figure_1\">\r\n  <g id=\"patch_1\">\r\n   <path d=\"M -0 374.63625 \r\nL 387.91875 374.63625 \r\nL 387.91875 0 \r\nL -0 0 \r\nz\r\n\" style=\"fill:none;\"/>\r\n  </g>\r\n  <g id=\"axes_1\">\r\n   <g id=\"patch_2\">\r\n    <path d=\"M 26.925 239.758125 \r\nL 361.725 239.758125 \r\nL 361.725 22.318125 \r\nL 26.925 22.318125 \r\nz\r\n\" style=\"fill:#ffffff;\"/>\r\n   </g>\r\n   <g id=\"patch_3\">\r\n    <path clip-path=\"url(#p0449b2146a)\" d=\"M 35.295 239.758125 \r\nL 52.035 239.758125 \r\nL 52.035 32.672411 \r\nL 35.295 32.672411 \r\nz\r\n\" style=\"fill:#1f77b4;\"/>\r\n   </g>\r\n   <g id=\"patch_4\">\r\n    <path clip-path=\"url(#p0449b2146a)\" d=\"M 68.775 239.758125 \r\nL 85.515 239.758125 \r\nL 85.515 38.254483 \r\nL 68.775 38.254483 \r\nz\r\n\" style=\"fill:#1f77b4;\"/>\r\n   </g>\r\n   <g id=\"patch_5\">\r\n    <path clip-path=\"url(#p0449b2146a)\" d=\"M 102.255 239.758125 \r\nL 118.995 239.758125 \r\nL 118.995 42.829951 \r\nL 102.255 42.829951 \r\nz\r\n\" style=\"fill:#1f77b4;\"/>\r\n   </g>\r\n   <g id=\"patch_6\">\r\n    <path clip-path=\"url(#p0449b2146a)\" d=\"M 135.735 239.758125 \r\nL 152.475 239.758125 \r\nL 152.475 77.603514 \r\nL 135.735 77.603514 \r\nz\r\n\" style=\"fill:#1f77b4;\"/>\r\n   </g>\r\n   <g id=\"patch_7\">\r\n    <path clip-path=\"url(#p0449b2146a)\" d=\"M 169.215 239.758125 \r\nL 185.955 239.758125 \r\nL 185.955 78.244079 \r\nL 169.215 78.244079 \r\nz\r\n\" style=\"fill:#1f77b4;\"/>\r\n   </g>\r\n   <g id=\"patch_8\">\r\n    <path clip-path=\"url(#p0449b2146a)\" d=\"M 202.695 239.758125 \r\nL 219.435 239.758125 \r\nL 219.435 81.355398 \r\nL 202.695 81.355398 \r\nz\r\n\" style=\"fill:#1f77b4;\"/>\r\n   </g>\r\n   <g id=\"patch_9\">\r\n    <path clip-path=\"url(#p0449b2146a)\" d=\"M 236.175 239.758125 \r\nL 252.915 239.758125 \r\nL 252.915 81.812945 \r\nL 236.175 81.812945 \r\nz\r\n\" style=\"fill:#1f77b4;\"/>\r\n   </g>\r\n   <g id=\"patch_10\">\r\n    <path clip-path=\"url(#p0449b2146a)\" d=\"M 269.655 239.758125 \r\nL 286.395 239.758125 \r\nL 286.395 83.185585 \r\nL 269.655 83.185585 \r\nz\r\n\" style=\"fill:#1f77b4;\"/>\r\n   </g>\r\n   <g id=\"patch_11\">\r\n    <path clip-path=\"url(#p0449b2146a)\" d=\"M 303.135 239.758125 \r\nL 319.875 239.758125 \r\nL 319.875 86.571432 \r\nL 303.135 86.571432 \r\nz\r\n\" style=\"fill:#1f77b4;\"/>\r\n   </g>\r\n   <g id=\"patch_12\">\r\n    <path clip-path=\"url(#p0449b2146a)\" d=\"M 336.615 239.758125 \r\nL 353.355 239.758125 \r\nL 353.355 88.584638 \r\nL 336.615 88.584638 \r\nz\r\n\" style=\"fill:#1f77b4;\"/>\r\n   </g>\r\n   <g id=\"matplotlib.axis_1\">\r\n    <g id=\"xtick_1\">\r\n     <g id=\"line2d_1\">\r\n      <defs>\r\n       <path d=\"M 0 0 \r\nL 0 3.5 \r\n\" id=\"m2f47be9d0b\" style=\"stroke:#000000;stroke-width:0.8;\"/>\r\n      </defs>\r\n      <g>\r\n       <use style=\"stroke:#000000;stroke-width:0.8;\" x=\"43.665\" xlink:href=\"#m2f47be9d0b\" y=\"239.758125\"/>\r\n      </g>\r\n     </g>\r\n     <g id=\"text_1\">\r\n      <!-- French Polynesia -->\r\n      <defs>\r\n       <path d=\"M 9.8125 72.90625 \r\nL 51.703125 72.90625 \r\nL 51.703125 64.59375 \r\nL 19.671875 64.59375 \r\nL 19.671875 43.109375 \r\nL 48.578125 43.109375 \r\nL 48.578125 34.8125 \r\nL 19.671875 34.8125 \r\nL 19.671875 0 \r\nL 9.8125 0 \r\nz\r\n\" id=\"DejaVuSans-70\"/>\r\n       <path d=\"M 41.109375 46.296875 \r\nQ 39.59375 47.171875 37.8125 47.578125 \r\nQ 36.03125 48 33.890625 48 \r\nQ 26.265625 48 22.1875 43.046875 \r\nQ 18.109375 38.09375 18.109375 28.8125 \r\nL 18.109375 0 \r\nL 9.078125 0 \r\nL 9.078125 54.6875 \r\nL 18.109375 54.6875 \r\nL 18.109375 46.1875 \r\nQ 20.953125 51.171875 25.484375 53.578125 \r\nQ 30.03125 56 36.53125 56 \r\nQ 37.453125 56 38.578125 55.875 \r\nQ 39.703125 55.765625 41.0625 55.515625 \r\nz\r\n\" id=\"DejaVuSans-114\"/>\r\n       <path d=\"M 56.203125 29.59375 \r\nL 56.203125 25.203125 \r\nL 14.890625 25.203125 \r\nQ 15.484375 15.921875 20.484375 11.0625 \r\nQ 25.484375 6.203125 34.421875 6.203125 \r\nQ 39.59375 6.203125 44.453125 7.46875 \r\nQ 49.3125 8.734375 54.109375 11.28125 \r\nL 54.109375 2.78125 \r\nQ 49.265625 0.734375 44.1875 -0.34375 \r\nQ 39.109375 -1.421875 33.890625 -1.421875 \r\nQ 20.796875 -1.421875 13.15625 6.1875 \r\nQ 5.515625 13.8125 5.515625 26.8125 \r\nQ 5.515625 40.234375 12.765625 48.109375 \r\nQ 20.015625 56 32.328125 56 \r\nQ 43.359375 56 49.78125 48.890625 \r\nQ 56.203125 41.796875 56.203125 29.59375 \r\nz\r\nM 47.21875 32.234375 \r\nQ 47.125 39.59375 43.09375 43.984375 \r\nQ 39.0625 48.390625 32.421875 48.390625 \r\nQ 24.90625 48.390625 20.390625 44.140625 \r\nQ 15.875 39.890625 15.1875 32.171875 \r\nz\r\n\" id=\"DejaVuSans-101\"/>\r\n       <path d=\"M 54.890625 33.015625 \r\nL 54.890625 0 \r\nL 45.90625 0 \r\nL 45.90625 32.71875 \r\nQ 45.90625 40.484375 42.875 44.328125 \r\nQ 39.84375 48.1875 33.796875 48.1875 \r\nQ 26.515625 48.1875 22.3125 43.546875 \r\nQ 18.109375 38.921875 18.109375 30.90625 \r\nL 18.109375 0 \r\nL 9.078125 0 \r\nL 9.078125 54.6875 \r\nL 18.109375 54.6875 \r\nL 18.109375 46.1875 \r\nQ 21.34375 51.125 25.703125 53.5625 \r\nQ 30.078125 56 35.796875 56 \r\nQ 45.21875 56 50.046875 50.171875 \r\nQ 54.890625 44.34375 54.890625 33.015625 \r\nz\r\n\" id=\"DejaVuSans-110\"/>\r\n       <path d=\"M 48.78125 52.59375 \r\nL 48.78125 44.1875 \r\nQ 44.96875 46.296875 41.140625 47.34375 \r\nQ 37.3125 48.390625 33.40625 48.390625 \r\nQ 24.65625 48.390625 19.8125 42.84375 \r\nQ 14.984375 37.3125 14.984375 27.296875 \r\nQ 14.984375 17.28125 19.8125 11.734375 \r\nQ 24.65625 6.203125 33.40625 6.203125 \r\nQ 37.3125 6.203125 41.140625 7.25 \r\nQ 44.96875 8.296875 48.78125 10.40625 \r\nL 48.78125 2.09375 \r\nQ 45.015625 0.34375 40.984375 -0.53125 \r\nQ 36.96875 -1.421875 32.421875 -1.421875 \r\nQ 20.0625 -1.421875 12.78125 6.34375 \r\nQ 5.515625 14.109375 5.515625 27.296875 \r\nQ 5.515625 40.671875 12.859375 48.328125 \r\nQ 20.21875 56 33.015625 56 \r\nQ 37.15625 56 41.109375 55.140625 \r\nQ 45.0625 54.296875 48.78125 52.59375 \r\nz\r\n\" id=\"DejaVuSans-99\"/>\r\n       <path d=\"M 54.890625 33.015625 \r\nL 54.890625 0 \r\nL 45.90625 0 \r\nL 45.90625 32.71875 \r\nQ 45.90625 40.484375 42.875 44.328125 \r\nQ 39.84375 48.1875 33.796875 48.1875 \r\nQ 26.515625 48.1875 22.3125 43.546875 \r\nQ 18.109375 38.921875 18.109375 30.90625 \r\nL 18.109375 0 \r\nL 9.078125 0 \r\nL 9.078125 75.984375 \r\nL 18.109375 75.984375 \r\nL 18.109375 46.1875 \r\nQ 21.34375 51.125 25.703125 53.5625 \r\nQ 30.078125 56 35.796875 56 \r\nQ 45.21875 56 50.046875 50.171875 \r\nQ 54.890625 44.34375 54.890625 33.015625 \r\nz\r\n\" id=\"DejaVuSans-104\"/>\r\n       <path id=\"DejaVuSans-32\"/>\r\n       <path d=\"M 19.671875 64.796875 \r\nL 19.671875 37.40625 \r\nL 32.078125 37.40625 \r\nQ 38.96875 37.40625 42.71875 40.96875 \r\nQ 46.484375 44.53125 46.484375 51.125 \r\nQ 46.484375 57.671875 42.71875 61.234375 \r\nQ 38.96875 64.796875 32.078125 64.796875 \r\nz\r\nM 9.8125 72.90625 \r\nL 32.078125 72.90625 \r\nQ 44.34375 72.90625 50.609375 67.359375 \r\nQ 56.890625 61.8125 56.890625 51.125 \r\nQ 56.890625 40.328125 50.609375 34.8125 \r\nQ 44.34375 29.296875 32.078125 29.296875 \r\nL 19.671875 29.296875 \r\nL 19.671875 0 \r\nL 9.8125 0 \r\nz\r\n\" id=\"DejaVuSans-80\"/>\r\n       <path d=\"M 30.609375 48.390625 \r\nQ 23.390625 48.390625 19.1875 42.75 \r\nQ 14.984375 37.109375 14.984375 27.296875 \r\nQ 14.984375 17.484375 19.15625 11.84375 \r\nQ 23.34375 6.203125 30.609375 6.203125 \r\nQ 37.796875 6.203125 41.984375 11.859375 \r\nQ 46.1875 17.53125 46.1875 27.296875 \r\nQ 46.1875 37.015625 41.984375 42.703125 \r\nQ 37.796875 48.390625 30.609375 48.390625 \r\nz\r\nM 30.609375 56 \r\nQ 42.328125 56 49.015625 48.375 \r\nQ 55.71875 40.765625 55.71875 27.296875 \r\nQ 55.71875 13.875 49.015625 6.21875 \r\nQ 42.328125 -1.421875 30.609375 -1.421875 \r\nQ 18.84375 -1.421875 12.171875 6.21875 \r\nQ 5.515625 13.875 5.515625 27.296875 \r\nQ 5.515625 40.765625 12.171875 48.375 \r\nQ 18.84375 56 30.609375 56 \r\nz\r\n\" id=\"DejaVuSans-111\"/>\r\n       <path d=\"M 9.421875 75.984375 \r\nL 18.40625 75.984375 \r\nL 18.40625 0 \r\nL 9.421875 0 \r\nz\r\n\" id=\"DejaVuSans-108\"/>\r\n       <path d=\"M 32.171875 -5.078125 \r\nQ 28.375 -14.84375 24.75 -17.8125 \r\nQ 21.140625 -20.796875 15.09375 -20.796875 \r\nL 7.90625 -20.796875 \r\nL 7.90625 -13.28125 \r\nL 13.1875 -13.28125 \r\nQ 16.890625 -13.28125 18.9375 -11.515625 \r\nQ 21 -9.765625 23.484375 -3.21875 \r\nL 25.09375 0.875 \r\nL 2.984375 54.6875 \r\nL 12.5 54.6875 \r\nL 29.59375 11.921875 \r\nL 46.6875 54.6875 \r\nL 56.203125 54.6875 \r\nz\r\n\" id=\"DejaVuSans-121\"/>\r\n       <path d=\"M 44.28125 53.078125 \r\nL 44.28125 44.578125 \r\nQ 40.484375 46.53125 36.375 47.5 \r\nQ 32.28125 48.484375 27.875 48.484375 \r\nQ 21.1875 48.484375 17.84375 46.4375 \r\nQ 14.5 44.390625 14.5 40.28125 \r\nQ 14.5 37.15625 16.890625 35.375 \r\nQ 19.28125 33.59375 26.515625 31.984375 \r\nL 29.59375 31.296875 \r\nQ 39.15625 29.25 43.1875 25.515625 \r\nQ 47.21875 21.78125 47.21875 15.09375 \r\nQ 47.21875 7.46875 41.1875 3.015625 \r\nQ 35.15625 -1.421875 24.609375 -1.421875 \r\nQ 20.21875 -1.421875 15.453125 -0.5625 \r\nQ 10.6875 0.296875 5.421875 2 \r\nL 5.421875 11.28125 \r\nQ 10.40625 8.6875 15.234375 7.390625 \r\nQ 20.0625 6.109375 24.8125 6.109375 \r\nQ 31.15625 6.109375 34.5625 8.28125 \r\nQ 37.984375 10.453125 37.984375 14.40625 \r\nQ 37.984375 18.0625 35.515625 20.015625 \r\nQ 33.0625 21.96875 24.703125 23.78125 \r\nL 21.578125 24.515625 \r\nQ 13.234375 26.265625 9.515625 29.90625 \r\nQ 5.8125 33.546875 5.8125 39.890625 \r\nQ 5.8125 47.609375 11.28125 51.796875 \r\nQ 16.75 56 26.8125 56 \r\nQ 31.78125 56 36.171875 55.265625 \r\nQ 40.578125 54.546875 44.28125 53.078125 \r\nz\r\n\" id=\"DejaVuSans-115\"/>\r\n       <path d=\"M 9.421875 54.6875 \r\nL 18.40625 54.6875 \r\nL 18.40625 0 \r\nL 9.421875 0 \r\nz\r\nM 9.421875 75.984375 \r\nL 18.40625 75.984375 \r\nL 18.40625 64.59375 \r\nL 9.421875 64.59375 \r\nz\r\n\" id=\"DejaVuSans-105\"/>\r\n       <path d=\"M 34.28125 27.484375 \r\nQ 23.390625 27.484375 19.1875 25 \r\nQ 14.984375 22.515625 14.984375 16.5 \r\nQ 14.984375 11.71875 18.140625 8.90625 \r\nQ 21.296875 6.109375 26.703125 6.109375 \r\nQ 34.1875 6.109375 38.703125 11.40625 \r\nQ 43.21875 16.703125 43.21875 25.484375 \r\nL 43.21875 27.484375 \r\nz\r\nM 52.203125 31.203125 \r\nL 52.203125 0 \r\nL 43.21875 0 \r\nL 43.21875 8.296875 \r\nQ 40.140625 3.328125 35.546875 0.953125 \r\nQ 30.953125 -1.421875 24.3125 -1.421875 \r\nQ 15.921875 -1.421875 10.953125 3.296875 \r\nQ 6 8.015625 6 15.921875 \r\nQ 6 25.140625 12.171875 29.828125 \r\nQ 18.359375 34.515625 30.609375 34.515625 \r\nL 43.21875 34.515625 \r\nL 43.21875 35.40625 \r\nQ 43.21875 41.609375 39.140625 45 \r\nQ 35.0625 48.390625 27.6875 48.390625 \r\nQ 23 48.390625 18.546875 47.265625 \r\nQ 14.109375 46.140625 10.015625 43.890625 \r\nL 10.015625 52.203125 \r\nQ 14.9375 54.109375 19.578125 55.046875 \r\nQ 24.21875 56 28.609375 56 \r\nQ 40.484375 56 46.34375 49.84375 \r\nQ 52.203125 43.703125 52.203125 31.203125 \r\nz\r\n\" id=\"DejaVuSans-97\"/>\r\n      </defs>\r\n      <g transform=\"translate(46.424375 331.558125)rotate(-90)scale(0.1 -0.1)\">\r\n       <use xlink:href=\"#DejaVuSans-70\"/>\r\n       <use x=\"57.410156\" xlink:href=\"#DejaVuSans-114\"/>\r\n       <use x=\"98.492188\" xlink:href=\"#DejaVuSans-101\"/>\r\n       <use x=\"160.015625\" xlink:href=\"#DejaVuSans-110\"/>\r\n       <use x=\"223.394531\" xlink:href=\"#DejaVuSans-99\"/>\r\n       <use x=\"278.375\" xlink:href=\"#DejaVuSans-104\"/>\r\n       <use x=\"341.753906\" xlink:href=\"#DejaVuSans-32\"/>\r\n       <use x=\"373.541016\" xlink:href=\"#DejaVuSans-80\"/>\r\n       <use x=\"433.796875\" xlink:href=\"#DejaVuSans-111\"/>\r\n       <use x=\"494.978516\" xlink:href=\"#DejaVuSans-108\"/>\r\n       <use x=\"522.761719\" xlink:href=\"#DejaVuSans-121\"/>\r\n       <use x=\"581.941406\" xlink:href=\"#DejaVuSans-110\"/>\r\n       <use x=\"645.320312\" xlink:href=\"#DejaVuSans-101\"/>\r\n       <use x=\"706.84375\" xlink:href=\"#DejaVuSans-115\"/>\r\n       <use x=\"758.943359\" xlink:href=\"#DejaVuSans-105\"/>\r\n       <use x=\"786.726562\" xlink:href=\"#DejaVuSans-97\"/>\r\n      </g>\r\n     </g>\r\n    </g>\r\n    <g id=\"xtick_2\">\r\n     <g id=\"line2d_2\">\r\n      <g>\r\n       <use style=\"stroke:#000000;stroke-width:0.8;\" x=\"77.145\" xlink:href=\"#m2f47be9d0b\" y=\"239.758125\"/>\r\n      </g>\r\n     </g>\r\n     <g id=\"text_2\">\r\n      <!-- Mauritius -->\r\n      <defs>\r\n       <path d=\"M 9.8125 72.90625 \r\nL 24.515625 72.90625 \r\nL 43.109375 23.296875 \r\nL 61.8125 72.90625 \r\nL 76.515625 72.90625 \r\nL 76.515625 0 \r\nL 66.890625 0 \r\nL 66.890625 64.015625 \r\nL 48.09375 14.015625 \r\nL 38.1875 14.015625 \r\nL 19.390625 64.015625 \r\nL 19.390625 0 \r\nL 9.8125 0 \r\nz\r\n\" id=\"DejaVuSans-77\"/>\r\n       <path d=\"M 8.5 21.578125 \r\nL 8.5 54.6875 \r\nL 17.484375 54.6875 \r\nL 17.484375 21.921875 \r\nQ 17.484375 14.15625 20.5 10.265625 \r\nQ 23.53125 6.390625 29.59375 6.390625 \r\nQ 36.859375 6.390625 41.078125 11.03125 \r\nQ 45.3125 15.671875 45.3125 23.6875 \r\nL 45.3125 54.6875 \r\nL 54.296875 54.6875 \r\nL 54.296875 0 \r\nL 45.3125 0 \r\nL 45.3125 8.40625 \r\nQ 42.046875 3.421875 37.71875 1 \r\nQ 33.40625 -1.421875 27.6875 -1.421875 \r\nQ 18.265625 -1.421875 13.375 4.4375 \r\nQ 8.5 10.296875 8.5 21.578125 \r\nz\r\nM 31.109375 56 \r\nz\r\n\" id=\"DejaVuSans-117\"/>\r\n       <path d=\"M 18.3125 70.21875 \r\nL 18.3125 54.6875 \r\nL 36.8125 54.6875 \r\nL 36.8125 47.703125 \r\nL 18.3125 47.703125 \r\nL 18.3125 18.015625 \r\nQ 18.3125 11.328125 20.140625 9.421875 \r\nQ 21.96875 7.515625 27.59375 7.515625 \r\nL 36.8125 7.515625 \r\nL 36.8125 0 \r\nL 27.59375 0 \r\nQ 17.1875 0 13.234375 3.875 \r\nQ 9.28125 7.765625 9.28125 18.015625 \r\nL 9.28125 47.703125 \r\nL 2.6875 47.703125 \r\nL 2.6875 54.6875 \r\nL 9.28125 54.6875 \r\nL 9.28125 70.21875 \r\nz\r\n\" id=\"DejaVuSans-116\"/>\r\n      </defs>\r\n      <g transform=\"translate(79.904375 292.98625)rotate(-90)scale(0.1 -0.1)\">\r\n       <use xlink:href=\"#DejaVuSans-77\"/>\r\n       <use x=\"86.279297\" xlink:href=\"#DejaVuSans-97\"/>\r\n       <use x=\"147.558594\" xlink:href=\"#DejaVuSans-117\"/>\r\n       <use x=\"210.9375\" xlink:href=\"#DejaVuSans-114\"/>\r\n       <use x=\"252.050781\" xlink:href=\"#DejaVuSans-105\"/>\r\n       <use x=\"279.833984\" xlink:href=\"#DejaVuSans-116\"/>\r\n       <use x=\"319.042969\" xlink:href=\"#DejaVuSans-105\"/>\r\n       <use x=\"346.826172\" xlink:href=\"#DejaVuSans-117\"/>\r\n       <use x=\"410.205078\" xlink:href=\"#DejaVuSans-115\"/>\r\n      </g>\r\n     </g>\r\n    </g>\r\n    <g id=\"xtick_3\">\r\n     <g id=\"line2d_3\">\r\n      <g>\r\n       <use style=\"stroke:#000000;stroke-width:0.8;\" x=\"110.625\" xlink:href=\"#m2f47be9d0b\" y=\"239.758125\"/>\r\n      </g>\r\n     </g>\r\n     <g id=\"text_3\">\r\n      <!-- Guam -->\r\n      <defs>\r\n       <path d=\"M 59.515625 10.40625 \r\nL 59.515625 29.984375 \r\nL 43.40625 29.984375 \r\nL 43.40625 38.09375 \r\nL 69.28125 38.09375 \r\nL 69.28125 6.78125 \r\nQ 63.578125 2.734375 56.6875 0.65625 \r\nQ 49.8125 -1.421875 42 -1.421875 \r\nQ 24.90625 -1.421875 15.25 8.5625 \r\nQ 5.609375 18.5625 5.609375 36.375 \r\nQ 5.609375 54.25 15.25 64.234375 \r\nQ 24.90625 74.21875 42 74.21875 \r\nQ 49.125 74.21875 55.546875 72.453125 \r\nQ 61.96875 70.703125 67.390625 67.28125 \r\nL 67.390625 56.78125 \r\nQ 61.921875 61.421875 55.765625 63.765625 \r\nQ 49.609375 66.109375 42.828125 66.109375 \r\nQ 29.4375 66.109375 22.71875 58.640625 \r\nQ 16.015625 51.171875 16.015625 36.375 \r\nQ 16.015625 21.625 22.71875 14.15625 \r\nQ 29.4375 6.6875 42.828125 6.6875 \r\nQ 48.046875 6.6875 52.140625 7.59375 \r\nQ 56.25 8.5 59.515625 10.40625 \r\nz\r\n\" id=\"DejaVuSans-71\"/>\r\n       <path d=\"M 52 44.1875 \r\nQ 55.375 50.25 60.0625 53.125 \r\nQ 64.75 56 71.09375 56 \r\nQ 79.640625 56 84.28125 50.015625 \r\nQ 88.921875 44.046875 88.921875 33.015625 \r\nL 88.921875 0 \r\nL 79.890625 0 \r\nL 79.890625 32.71875 \r\nQ 79.890625 40.578125 77.09375 44.375 \r\nQ 74.3125 48.1875 68.609375 48.1875 \r\nQ 61.625 48.1875 57.5625 43.546875 \r\nQ 53.515625 38.921875 53.515625 30.90625 \r\nL 53.515625 0 \r\nL 44.484375 0 \r\nL 44.484375 32.71875 \r\nQ 44.484375 40.625 41.703125 44.40625 \r\nQ 38.921875 48.1875 33.109375 48.1875 \r\nQ 26.21875 48.1875 22.15625 43.53125 \r\nQ 18.109375 38.875 18.109375 30.90625 \r\nL 18.109375 0 \r\nL 9.078125 0 \r\nL 9.078125 54.6875 \r\nL 18.109375 54.6875 \r\nL 18.109375 46.1875 \r\nQ 21.1875 51.21875 25.484375 53.609375 \r\nQ 29.78125 56 35.6875 56 \r\nQ 41.65625 56 45.828125 52.96875 \r\nQ 50 49.953125 52 44.1875 \r\nz\r\n\" id=\"DejaVuSans-109\"/>\r\n      </defs>\r\n      <g transform=\"translate(113.384375 276.712813)rotate(-90)scale(0.1 -0.1)\">\r\n       <use xlink:href=\"#DejaVuSans-71\"/>\r\n       <use x=\"77.490234\" xlink:href=\"#DejaVuSans-117\"/>\r\n       <use x=\"140.869141\" xlink:href=\"#DejaVuSans-97\"/>\r\n       <use x=\"202.148438\" xlink:href=\"#DejaVuSans-109\"/>\r\n      </g>\r\n     </g>\r\n    </g>\r\n    <g id=\"xtick_4\">\r\n     <g id=\"line2d_4\">\r\n      <g>\r\n       <use style=\"stroke:#000000;stroke-width:0.8;\" x=\"144.105\" xlink:href=\"#m2f47be9d0b\" y=\"239.758125\"/>\r\n      </g>\r\n     </g>\r\n     <g id=\"text_4\">\r\n      <!-- Saudi Arabia -->\r\n      <defs>\r\n       <path d=\"M 53.515625 70.515625 \r\nL 53.515625 60.890625 \r\nQ 47.90625 63.578125 42.921875 64.890625 \r\nQ 37.9375 66.21875 33.296875 66.21875 \r\nQ 25.25 66.21875 20.875 63.09375 \r\nQ 16.5 59.96875 16.5 54.203125 \r\nQ 16.5 49.359375 19.40625 46.890625 \r\nQ 22.3125 44.4375 30.421875 42.921875 \r\nL 36.375 41.703125 \r\nQ 47.40625 39.59375 52.65625 34.296875 \r\nQ 57.90625 29 57.90625 20.125 \r\nQ 57.90625 9.515625 50.796875 4.046875 \r\nQ 43.703125 -1.421875 29.984375 -1.421875 \r\nQ 24.8125 -1.421875 18.96875 -0.25 \r\nQ 13.140625 0.921875 6.890625 3.21875 \r\nL 6.890625 13.375 \r\nQ 12.890625 10.015625 18.65625 8.296875 \r\nQ 24.421875 6.59375 29.984375 6.59375 \r\nQ 38.421875 6.59375 43.015625 9.90625 \r\nQ 47.609375 13.234375 47.609375 19.390625 \r\nQ 47.609375 24.75 44.3125 27.78125 \r\nQ 41.015625 30.8125 33.5 32.328125 \r\nL 27.484375 33.5 \r\nQ 16.453125 35.6875 11.515625 40.375 \r\nQ 6.59375 45.0625 6.59375 53.421875 \r\nQ 6.59375 63.09375 13.40625 68.65625 \r\nQ 20.21875 74.21875 32.171875 74.21875 \r\nQ 37.3125 74.21875 42.625 73.28125 \r\nQ 47.953125 72.359375 53.515625 70.515625 \r\nz\r\n\" id=\"DejaVuSans-83\"/>\r\n       <path d=\"M 45.40625 46.390625 \r\nL 45.40625 75.984375 \r\nL 54.390625 75.984375 \r\nL 54.390625 0 \r\nL 45.40625 0 \r\nL 45.40625 8.203125 \r\nQ 42.578125 3.328125 38.25 0.953125 \r\nQ 33.9375 -1.421875 27.875 -1.421875 \r\nQ 17.96875 -1.421875 11.734375 6.484375 \r\nQ 5.515625 14.40625 5.515625 27.296875 \r\nQ 5.515625 40.1875 11.734375 48.09375 \r\nQ 17.96875 56 27.875 56 \r\nQ 33.9375 56 38.25 53.625 \r\nQ 42.578125 51.265625 45.40625 46.390625 \r\nz\r\nM 14.796875 27.296875 \r\nQ 14.796875 17.390625 18.875 11.75 \r\nQ 22.953125 6.109375 30.078125 6.109375 \r\nQ 37.203125 6.109375 41.296875 11.75 \r\nQ 45.40625 17.390625 45.40625 27.296875 \r\nQ 45.40625 37.203125 41.296875 42.84375 \r\nQ 37.203125 48.484375 30.078125 48.484375 \r\nQ 22.953125 48.484375 18.875 42.84375 \r\nQ 14.796875 37.203125 14.796875 27.296875 \r\nz\r\n\" id=\"DejaVuSans-100\"/>\r\n       <path d=\"M 34.1875 63.1875 \r\nL 20.796875 26.90625 \r\nL 47.609375 26.90625 \r\nz\r\nM 28.609375 72.90625 \r\nL 39.796875 72.90625 \r\nL 67.578125 0 \r\nL 57.328125 0 \r\nL 50.6875 18.703125 \r\nL 17.828125 18.703125 \r\nL 11.1875 0 \r\nL 0.78125 0 \r\nz\r\n\" id=\"DejaVuSans-65\"/>\r\n       <path d=\"M 48.6875 27.296875 \r\nQ 48.6875 37.203125 44.609375 42.84375 \r\nQ 40.53125 48.484375 33.40625 48.484375 \r\nQ 26.265625 48.484375 22.1875 42.84375 \r\nQ 18.109375 37.203125 18.109375 27.296875 \r\nQ 18.109375 17.390625 22.1875 11.75 \r\nQ 26.265625 6.109375 33.40625 6.109375 \r\nQ 40.53125 6.109375 44.609375 11.75 \r\nQ 48.6875 17.390625 48.6875 27.296875 \r\nz\r\nM 18.109375 46.390625 \r\nQ 20.953125 51.265625 25.265625 53.625 \r\nQ 29.59375 56 35.59375 56 \r\nQ 45.5625 56 51.78125 48.09375 \r\nQ 58.015625 40.1875 58.015625 27.296875 \r\nQ 58.015625 14.40625 51.78125 6.484375 \r\nQ 45.5625 -1.421875 35.59375 -1.421875 \r\nQ 29.59375 -1.421875 25.265625 0.953125 \r\nQ 20.953125 3.328125 18.109375 8.203125 \r\nL 18.109375 0 \r\nL 9.078125 0 \r\nL 9.078125 75.984375 \r\nL 18.109375 75.984375 \r\nz\r\n\" id=\"DejaVuSans-98\"/>\r\n      </defs>\r\n      <g transform=\"translate(146.864375 310.21125)rotate(-90)scale(0.1 -0.1)\">\r\n       <use xlink:href=\"#DejaVuSans-83\"/>\r\n       <use x=\"63.476562\" xlink:href=\"#DejaVuSans-97\"/>\r\n       <use x=\"124.755859\" xlink:href=\"#DejaVuSans-117\"/>\r\n       <use x=\"188.134766\" xlink:href=\"#DejaVuSans-100\"/>\r\n       <use x=\"251.611328\" xlink:href=\"#DejaVuSans-105\"/>\r\n       <use x=\"279.394531\" xlink:href=\"#DejaVuSans-32\"/>\r\n       <use x=\"311.181641\" xlink:href=\"#DejaVuSans-65\"/>\r\n       <use x=\"379.589844\" xlink:href=\"#DejaVuSans-114\"/>\r\n       <use x=\"420.703125\" xlink:href=\"#DejaVuSans-97\"/>\r\n       <use x=\"481.982422\" xlink:href=\"#DejaVuSans-98\"/>\r\n       <use x=\"545.458984\" xlink:href=\"#DejaVuSans-105\"/>\r\n       <use x=\"573.242188\" xlink:href=\"#DejaVuSans-97\"/>\r\n      </g>\r\n     </g>\r\n    </g>\r\n    <g id=\"xtick_5\">\r\n     <g id=\"line2d_5\">\r\n      <g>\r\n       <use style=\"stroke:#000000;stroke-width:0.8;\" x=\"177.585\" xlink:href=\"#m2f47be9d0b\" y=\"239.758125\"/>\r\n      </g>\r\n     </g>\r\n     <g id=\"text_5\">\r\n      <!-- Papua New Guinea -->\r\n      <defs>\r\n       <path d=\"M 18.109375 8.203125 \r\nL 18.109375 -20.796875 \r\nL 9.078125 -20.796875 \r\nL 9.078125 54.6875 \r\nL 18.109375 54.6875 \r\nL 18.109375 46.390625 \r\nQ 20.953125 51.265625 25.265625 53.625 \r\nQ 29.59375 56 35.59375 56 \r\nQ 45.5625 56 51.78125 48.09375 \r\nQ 58.015625 40.1875 58.015625 27.296875 \r\nQ 58.015625 14.40625 51.78125 6.484375 \r\nQ 45.5625 -1.421875 35.59375 -1.421875 \r\nQ 29.59375 -1.421875 25.265625 0.953125 \r\nQ 20.953125 3.328125 18.109375 8.203125 \r\nz\r\nM 48.6875 27.296875 \r\nQ 48.6875 37.203125 44.609375 42.84375 \r\nQ 40.53125 48.484375 33.40625 48.484375 \r\nQ 26.265625 48.484375 22.1875 42.84375 \r\nQ 18.109375 37.203125 18.109375 27.296875 \r\nQ 18.109375 17.390625 22.1875 11.75 \r\nQ 26.265625 6.109375 33.40625 6.109375 \r\nQ 40.53125 6.109375 44.609375 11.75 \r\nQ 48.6875 17.390625 48.6875 27.296875 \r\nz\r\n\" id=\"DejaVuSans-112\"/>\r\n       <path d=\"M 9.8125 72.90625 \r\nL 23.09375 72.90625 \r\nL 55.421875 11.921875 \r\nL 55.421875 72.90625 \r\nL 64.984375 72.90625 \r\nL 64.984375 0 \r\nL 51.703125 0 \r\nL 19.390625 60.984375 \r\nL 19.390625 0 \r\nL 9.8125 0 \r\nz\r\n\" id=\"DejaVuSans-78\"/>\r\n       <path d=\"M 4.203125 54.6875 \r\nL 13.1875 54.6875 \r\nL 24.421875 12.015625 \r\nL 35.59375 54.6875 \r\nL 46.1875 54.6875 \r\nL 57.421875 12.015625 \r\nL 68.609375 54.6875 \r\nL 77.59375 54.6875 \r\nL 63.28125 0 \r\nL 52.6875 0 \r\nL 40.921875 44.828125 \r\nL 29.109375 0 \r\nL 18.5 0 \r\nz\r\n\" id=\"DejaVuSans-119\"/>\r\n      </defs>\r\n      <g transform=\"translate(180.344375 341.375313)rotate(-90)scale(0.1 -0.1)\">\r\n       <use xlink:href=\"#DejaVuSans-80\"/>\r\n       <use x=\"60.240234\" xlink:href=\"#DejaVuSans-97\"/>\r\n       <use x=\"121.519531\" xlink:href=\"#DejaVuSans-112\"/>\r\n       <use x=\"184.996094\" xlink:href=\"#DejaVuSans-117\"/>\r\n       <use x=\"248.375\" xlink:href=\"#DejaVuSans-97\"/>\r\n       <use x=\"309.654297\" xlink:href=\"#DejaVuSans-32\"/>\r\n       <use x=\"341.441406\" xlink:href=\"#DejaVuSans-78\"/>\r\n       <use x=\"416.246094\" xlink:href=\"#DejaVuSans-101\"/>\r\n       <use x=\"477.769531\" xlink:href=\"#DejaVuSans-119\"/>\r\n       <use x=\"559.556641\" xlink:href=\"#DejaVuSans-32\"/>\r\n       <use x=\"591.34375\" xlink:href=\"#DejaVuSans-71\"/>\r\n       <use x=\"668.833984\" xlink:href=\"#DejaVuSans-117\"/>\r\n       <use x=\"732.212891\" xlink:href=\"#DejaVuSans-105\"/>\r\n       <use x=\"759.996094\" xlink:href=\"#DejaVuSans-110\"/>\r\n       <use x=\"823.375\" xlink:href=\"#DejaVuSans-101\"/>\r\n       <use x=\"884.898438\" xlink:href=\"#DejaVuSans-97\"/>\r\n      </g>\r\n     </g>\r\n    </g>\r\n    <g id=\"xtick_6\">\r\n     <g id=\"line2d_6\">\r\n      <g>\r\n       <use style=\"stroke:#000000;stroke-width:0.8;\" x=\"211.065\" xlink:href=\"#m2f47be9d0b\" y=\"239.758125\"/>\r\n      </g>\r\n     </g>\r\n     <g id=\"text_6\">\r\n      <!-- Egypt -->\r\n      <defs>\r\n       <path d=\"M 9.8125 72.90625 \r\nL 55.90625 72.90625 \r\nL 55.90625 64.59375 \r\nL 19.671875 64.59375 \r\nL 19.671875 43.015625 \r\nL 54.390625 43.015625 \r\nL 54.390625 34.71875 \r\nL 19.671875 34.71875 \r\nL 19.671875 8.296875 \r\nL 56.78125 8.296875 \r\nL 56.78125 0 \r\nL 9.8125 0 \r\nz\r\n\" id=\"DejaVuSans-69\"/>\r\n       <path d=\"M 45.40625 27.984375 \r\nQ 45.40625 37.75 41.375 43.109375 \r\nQ 37.359375 48.484375 30.078125 48.484375 \r\nQ 22.859375 48.484375 18.828125 43.109375 \r\nQ 14.796875 37.75 14.796875 27.984375 \r\nQ 14.796875 18.265625 18.828125 12.890625 \r\nQ 22.859375 7.515625 30.078125 7.515625 \r\nQ 37.359375 7.515625 41.375 12.890625 \r\nQ 45.40625 18.265625 45.40625 27.984375 \r\nz\r\nM 54.390625 6.78125 \r\nQ 54.390625 -7.171875 48.1875 -13.984375 \r\nQ 42 -20.796875 29.203125 -20.796875 \r\nQ 24.46875 -20.796875 20.265625 -20.09375 \r\nQ 16.0625 -19.390625 12.109375 -17.921875 \r\nL 12.109375 -9.1875 \r\nQ 16.0625 -11.328125 19.921875 -12.34375 \r\nQ 23.78125 -13.375 27.78125 -13.375 \r\nQ 36.625 -13.375 41.015625 -8.765625 \r\nQ 45.40625 -4.15625 45.40625 5.171875 \r\nL 45.40625 9.625 \r\nQ 42.625 4.78125 38.28125 2.390625 \r\nQ 33.9375 0 27.875 0 \r\nQ 17.828125 0 11.671875 7.65625 \r\nQ 5.515625 15.328125 5.515625 27.984375 \r\nQ 5.515625 40.671875 11.671875 48.328125 \r\nQ 17.828125 56 27.875 56 \r\nQ 33.9375 56 38.28125 53.609375 \r\nQ 42.625 51.21875 45.40625 46.390625 \r\nL 45.40625 54.6875 \r\nL 54.390625 54.6875 \r\nz\r\n\" id=\"DejaVuSans-103\"/>\r\n      </defs>\r\n      <g transform=\"translate(213.824375 275.612813)rotate(-90)scale(0.1 -0.1)\">\r\n       <use xlink:href=\"#DejaVuSans-69\"/>\r\n       <use x=\"63.183594\" xlink:href=\"#DejaVuSans-103\"/>\r\n       <use x=\"126.660156\" xlink:href=\"#DejaVuSans-121\"/>\r\n       <use x=\"185.839844\" xlink:href=\"#DejaVuSans-112\"/>\r\n       <use x=\"249.316406\" xlink:href=\"#DejaVuSans-116\"/>\r\n      </g>\r\n     </g>\r\n    </g>\r\n    <g id=\"xtick_7\">\r\n     <g id=\"line2d_7\">\r\n      <g>\r\n       <use style=\"stroke:#000000;stroke-width:0.8;\" x=\"244.545\" xlink:href=\"#m2f47be9d0b\" y=\"239.758125\"/>\r\n      </g>\r\n     </g>\r\n     <g id=\"text_7\">\r\n      <!-- United Arab Emirates -->\r\n      <defs>\r\n       <path d=\"M 8.6875 72.90625 \r\nL 18.609375 72.90625 \r\nL 18.609375 28.609375 \r\nQ 18.609375 16.890625 22.84375 11.734375 \r\nQ 27.09375 6.59375 36.625 6.59375 \r\nQ 46.09375 6.59375 50.34375 11.734375 \r\nQ 54.59375 16.890625 54.59375 28.609375 \r\nL 54.59375 72.90625 \r\nL 64.5 72.90625 \r\nL 64.5 27.390625 \r\nQ 64.5 13.140625 57.4375 5.859375 \r\nQ 50.390625 -1.421875 36.625 -1.421875 \r\nQ 22.796875 -1.421875 15.734375 5.859375 \r\nQ 8.6875 13.140625 8.6875 27.390625 \r\nz\r\n\" id=\"DejaVuSans-85\"/>\r\n      </defs>\r\n      <g transform=\"translate(247.304375 353.758125)rotate(-90)scale(0.1 -0.1)\">\r\n       <use xlink:href=\"#DejaVuSans-85\"/>\r\n       <use x=\"73.193359\" xlink:href=\"#DejaVuSans-110\"/>\r\n       <use x=\"136.572266\" xlink:href=\"#DejaVuSans-105\"/>\r\n       <use x=\"164.355469\" xlink:href=\"#DejaVuSans-116\"/>\r\n       <use x=\"203.564453\" xlink:href=\"#DejaVuSans-101\"/>\r\n       <use x=\"265.087891\" xlink:href=\"#DejaVuSans-100\"/>\r\n       <use x=\"328.564453\" xlink:href=\"#DejaVuSans-32\"/>\r\n       <use x=\"360.351562\" xlink:href=\"#DejaVuSans-65\"/>\r\n       <use x=\"428.759766\" xlink:href=\"#DejaVuSans-114\"/>\r\n       <use x=\"469.873047\" xlink:href=\"#DejaVuSans-97\"/>\r\n       <use x=\"531.152344\" xlink:href=\"#DejaVuSans-98\"/>\r\n       <use x=\"594.628906\" xlink:href=\"#DejaVuSans-32\"/>\r\n       <use x=\"626.416016\" xlink:href=\"#DejaVuSans-69\"/>\r\n       <use x=\"689.599609\" xlink:href=\"#DejaVuSans-109\"/>\r\n       <use x=\"787.011719\" xlink:href=\"#DejaVuSans-105\"/>\r\n       <use x=\"814.794922\" xlink:href=\"#DejaVuSans-114\"/>\r\n       <use x=\"855.908203\" xlink:href=\"#DejaVuSans-97\"/>\r\n       <use x=\"917.1875\" xlink:href=\"#DejaVuSans-116\"/>\r\n       <use x=\"956.396484\" xlink:href=\"#DejaVuSans-101\"/>\r\n       <use x=\"1017.919922\" xlink:href=\"#DejaVuSans-115\"/>\r\n      </g>\r\n     </g>\r\n    </g>\r\n    <g id=\"xtick_8\">\r\n     <g id=\"line2d_8\">\r\n      <g>\r\n       <use style=\"stroke:#000000;stroke-width:0.8;\" x=\"278.025\" xlink:href=\"#m2f47be9d0b\" y=\"239.758125\"/>\r\n      </g>\r\n     </g>\r\n     <g id=\"text_8\">\r\n      <!-- Belize -->\r\n      <defs>\r\n       <path d=\"M 19.671875 34.8125 \r\nL 19.671875 8.109375 \r\nL 35.5 8.109375 \r\nQ 43.453125 8.109375 47.28125 11.40625 \r\nQ 51.125 14.703125 51.125 21.484375 \r\nQ 51.125 28.328125 47.28125 31.5625 \r\nQ 43.453125 34.8125 35.5 34.8125 \r\nz\r\nM 19.671875 64.796875 \r\nL 19.671875 42.828125 \r\nL 34.28125 42.828125 \r\nQ 41.5 42.828125 45.03125 45.53125 \r\nQ 48.578125 48.25 48.578125 53.8125 \r\nQ 48.578125 59.328125 45.03125 62.0625 \r\nQ 41.5 64.796875 34.28125 64.796875 \r\nz\r\nM 9.8125 72.90625 \r\nL 35.015625 72.90625 \r\nQ 46.296875 72.90625 52.390625 68.21875 \r\nQ 58.5 63.53125 58.5 54.890625 \r\nQ 58.5 48.1875 55.375 44.234375 \r\nQ 52.25 40.28125 46.1875 39.3125 \r\nQ 53.46875 37.75 57.5 32.78125 \r\nQ 61.53125 27.828125 61.53125 20.40625 \r\nQ 61.53125 10.640625 54.890625 5.3125 \r\nQ 48.25 0 35.984375 0 \r\nL 9.8125 0 \r\nz\r\n\" id=\"DejaVuSans-66\"/>\r\n       <path d=\"M 5.515625 54.6875 \r\nL 48.1875 54.6875 \r\nL 48.1875 46.484375 \r\nL 14.40625 7.171875 \r\nL 48.1875 7.171875 \r\nL 48.1875 0 \r\nL 4.296875 0 \r\nL 4.296875 8.203125 \r\nL 38.09375 47.515625 \r\nL 5.515625 47.515625 \r\nz\r\n\" id=\"DejaVuSans-122\"/>\r\n      </defs>\r\n      <g transform=\"translate(280.784375 276.73)rotate(-90)scale(0.1 -0.1)\">\r\n       <use xlink:href=\"#DejaVuSans-66\"/>\r\n       <use x=\"68.603516\" xlink:href=\"#DejaVuSans-101\"/>\r\n       <use x=\"130.126953\" xlink:href=\"#DejaVuSans-108\"/>\r\n       <use x=\"157.910156\" xlink:href=\"#DejaVuSans-105\"/>\r\n       <use x=\"185.693359\" xlink:href=\"#DejaVuSans-122\"/>\r\n       <use x=\"238.183594\" xlink:href=\"#DejaVuSans-101\"/>\r\n      </g>\r\n     </g>\r\n    </g>\r\n    <g id=\"xtick_9\">\r\n     <g id=\"line2d_9\">\r\n      <g>\r\n       <use style=\"stroke:#000000;stroke-width:0.8;\" x=\"311.505\" xlink:href=\"#m2f47be9d0b\" y=\"239.758125\"/>\r\n      </g>\r\n     </g>\r\n     <g id=\"text_9\">\r\n      <!-- Malaysia -->\r\n      <g transform=\"translate(314.264375 290.455)rotate(-90)scale(0.1 -0.1)\">\r\n       <use xlink:href=\"#DejaVuSans-77\"/>\r\n       <use x=\"86.279297\" xlink:href=\"#DejaVuSans-97\"/>\r\n       <use x=\"147.558594\" xlink:href=\"#DejaVuSans-108\"/>\r\n       <use x=\"175.341797\" xlink:href=\"#DejaVuSans-97\"/>\r\n       <use x=\"236.621094\" xlink:href=\"#DejaVuSans-121\"/>\r\n       <use x=\"295.800781\" xlink:href=\"#DejaVuSans-115\"/>\r\n       <use x=\"347.900391\" xlink:href=\"#DejaVuSans-105\"/>\r\n       <use x=\"375.683594\" xlink:href=\"#DejaVuSans-97\"/>\r\n      </g>\r\n     </g>\r\n    </g>\r\n    <g id=\"xtick_10\">\r\n     <g id=\"line2d_10\">\r\n      <g>\r\n       <use style=\"stroke:#000000;stroke-width:0.8;\" x=\"344.985\" xlink:href=\"#m2f47be9d0b\" y=\"239.758125\"/>\r\n      </g>\r\n     </g>\r\n     <g id=\"text_10\">\r\n      <!-- Qatar -->\r\n      <defs>\r\n       <path d=\"M 39.40625 66.21875 \r\nQ 28.65625 66.21875 22.328125 58.203125 \r\nQ 16.015625 50.203125 16.015625 36.375 \r\nQ 16.015625 22.609375 22.328125 14.59375 \r\nQ 28.65625 6.59375 39.40625 6.59375 \r\nQ 50.140625 6.59375 56.421875 14.59375 \r\nQ 62.703125 22.609375 62.703125 36.375 \r\nQ 62.703125 50.203125 56.421875 58.203125 \r\nQ 50.140625 66.21875 39.40625 66.21875 \r\nz\r\nM 53.21875 1.3125 \r\nL 66.21875 -12.890625 \r\nL 54.296875 -12.890625 \r\nL 43.5 -1.21875 \r\nQ 41.890625 -1.3125 41.03125 -1.359375 \r\nQ 40.1875 -1.421875 39.40625 -1.421875 \r\nQ 24.03125 -1.421875 14.8125 8.859375 \r\nQ 5.609375 19.140625 5.609375 36.375 \r\nQ 5.609375 53.65625 14.8125 63.9375 \r\nQ 24.03125 74.21875 39.40625 74.21875 \r\nQ 54.734375 74.21875 63.90625 63.9375 \r\nQ 73.09375 53.65625 73.09375 36.375 \r\nQ 73.09375 23.6875 67.984375 14.640625 \r\nQ 62.890625 5.609375 53.21875 1.3125 \r\nz\r\n\" id=\"DejaVuSans-81\"/>\r\n      </defs>\r\n      <g transform=\"translate(347.744375 274.9175)rotate(-90)scale(0.1 -0.1)\">\r\n       <use xlink:href=\"#DejaVuSans-81\"/>\r\n       <use x=\"78.710938\" xlink:href=\"#DejaVuSans-97\"/>\r\n       <use x=\"139.990234\" xlink:href=\"#DejaVuSans-116\"/>\r\n       <use x=\"179.199219\" xlink:href=\"#DejaVuSans-97\"/>\r\n       <use x=\"240.478516\" xlink:href=\"#DejaVuSans-114\"/>\r\n      </g>\r\n     </g>\r\n    </g>\r\n    <g id=\"text_11\">\r\n     <!-- location -->\r\n     <g transform=\"translate(174.485938 365.356562)scale(0.1 -0.1)\">\r\n      <use xlink:href=\"#DejaVuSans-108\"/>\r\n      <use x=\"27.783203\" xlink:href=\"#DejaVuSans-111\"/>\r\n      <use x=\"88.964844\" xlink:href=\"#DejaVuSans-99\"/>\r\n      <use x=\"143.945312\" xlink:href=\"#DejaVuSans-97\"/>\r\n      <use x=\"205.224609\" xlink:href=\"#DejaVuSans-116\"/>\r\n      <use x=\"244.433594\" xlink:href=\"#DejaVuSans-105\"/>\r\n      <use x=\"272.216797\" xlink:href=\"#DejaVuSans-111\"/>\r\n      <use x=\"333.398438\" xlink:href=\"#DejaVuSans-110\"/>\r\n     </g>\r\n    </g>\r\n   </g>\r\n   <g id=\"matplotlib.axis_2\">\r\n    <g id=\"ytick_1\">\r\n     <g id=\"line2d_11\">\r\n      <defs>\r\n       <path d=\"M 0 0 \r\nL -3.5 0 \r\n\" id=\"mbe80e76ba8\" style=\"stroke:#000000;stroke-width:0.8;\"/>\r\n      </defs>\r\n      <g>\r\n       <use style=\"stroke:#000000;stroke-width:0.8;\" x=\"26.925\" xlink:href=\"#mbe80e76ba8\" y=\"239.758125\"/>\r\n      </g>\r\n     </g>\r\n     <g id=\"text_12\">\r\n      <!-- 0 -->\r\n      <defs>\r\n       <path d=\"M 31.78125 66.40625 \r\nQ 24.171875 66.40625 20.328125 58.90625 \r\nQ 16.5 51.421875 16.5 36.375 \r\nQ 16.5 21.390625 20.328125 13.890625 \r\nQ 24.171875 6.390625 31.78125 6.390625 \r\nQ 39.453125 6.390625 43.28125 13.890625 \r\nQ 47.125 21.390625 47.125 36.375 \r\nQ 47.125 51.421875 43.28125 58.90625 \r\nQ 39.453125 66.40625 31.78125 66.40625 \r\nz\r\nM 31.78125 74.21875 \r\nQ 44.046875 74.21875 50.515625 64.515625 \r\nQ 56.984375 54.828125 56.984375 36.375 \r\nQ 56.984375 17.96875 50.515625 8.265625 \r\nQ 44.046875 -1.421875 31.78125 -1.421875 \r\nQ 19.53125 -1.421875 13.0625 8.265625 \r\nQ 6.59375 17.96875 6.59375 36.375 \r\nQ 6.59375 54.828125 13.0625 64.515625 \r\nQ 19.53125 74.21875 31.78125 74.21875 \r\nz\r\n\" id=\"DejaVuSans-48\"/>\r\n      </defs>\r\n      <g transform=\"translate(13.5625 243.557344)scale(0.1 -0.1)\">\r\n       <use xlink:href=\"#DejaVuSans-48\"/>\r\n      </g>\r\n     </g>\r\n    </g>\r\n    <g id=\"ytick_2\">\r\n     <g id=\"line2d_12\">\r\n      <g>\r\n       <use style=\"stroke:#000000;stroke-width:0.8;\" x=\"26.925\" xlink:href=\"#mbe80e76ba8\" y=\"194.003438\"/>\r\n      </g>\r\n     </g>\r\n     <g id=\"text_13\">\r\n      <!-- 5 -->\r\n      <defs>\r\n       <path d=\"M 10.796875 72.90625 \r\nL 49.515625 72.90625 \r\nL 49.515625 64.59375 \r\nL 19.828125 64.59375 \r\nL 19.828125 46.734375 \r\nQ 21.96875 47.46875 24.109375 47.828125 \r\nQ 26.265625 48.1875 28.421875 48.1875 \r\nQ 40.625 48.1875 47.75 41.5 \r\nQ 54.890625 34.8125 54.890625 23.390625 \r\nQ 54.890625 11.625 47.5625 5.09375 \r\nQ 40.234375 -1.421875 26.90625 -1.421875 \r\nQ 22.3125 -1.421875 17.546875 -0.640625 \r\nQ 12.796875 0.140625 7.71875 1.703125 \r\nL 7.71875 11.625 \r\nQ 12.109375 9.234375 16.796875 8.0625 \r\nQ 21.484375 6.890625 26.703125 6.890625 \r\nQ 35.15625 6.890625 40.078125 11.328125 \r\nQ 45.015625 15.765625 45.015625 23.390625 \r\nQ 45.015625 31 40.078125 35.4375 \r\nQ 35.15625 39.890625 26.703125 39.890625 \r\nQ 22.75 39.890625 18.8125 39.015625 \r\nQ 14.890625 38.140625 10.796875 36.28125 \r\nz\r\n\" id=\"DejaVuSans-53\"/>\r\n      </defs>\r\n      <g transform=\"translate(13.5625 197.802657)scale(0.1 -0.1)\">\r\n       <use xlink:href=\"#DejaVuSans-53\"/>\r\n      </g>\r\n     </g>\r\n    </g>\r\n    <g id=\"ytick_3\">\r\n     <g id=\"line2d_13\">\r\n      <g>\r\n       <use style=\"stroke:#000000;stroke-width:0.8;\" x=\"26.925\" xlink:href=\"#mbe80e76ba8\" y=\"148.248751\"/>\r\n      </g>\r\n     </g>\r\n     <g id=\"text_14\">\r\n      <!-- 10 -->\r\n      <defs>\r\n       <path d=\"M 12.40625 8.296875 \r\nL 28.515625 8.296875 \r\nL 28.515625 63.921875 \r\nL 10.984375 60.40625 \r\nL 10.984375 69.390625 \r\nL 28.421875 72.90625 \r\nL 38.28125 72.90625 \r\nL 38.28125 8.296875 \r\nL 54.390625 8.296875 \r\nL 54.390625 0 \r\nL 12.40625 0 \r\nz\r\n\" id=\"DejaVuSans-49\"/>\r\n      </defs>\r\n      <g transform=\"translate(7.2 152.047969)scale(0.1 -0.1)\">\r\n       <use xlink:href=\"#DejaVuSans-49\"/>\r\n       <use x=\"63.623047\" xlink:href=\"#DejaVuSans-48\"/>\r\n      </g>\r\n     </g>\r\n    </g>\r\n    <g id=\"ytick_4\">\r\n     <g id=\"line2d_14\">\r\n      <g>\r\n       <use style=\"stroke:#000000;stroke-width:0.8;\" x=\"26.925\" xlink:href=\"#mbe80e76ba8\" y=\"102.494063\"/>\r\n      </g>\r\n     </g>\r\n     <g id=\"text_15\">\r\n      <!-- 15 -->\r\n      <g transform=\"translate(7.2 106.293282)scale(0.1 -0.1)\">\r\n       <use xlink:href=\"#DejaVuSans-49\"/>\r\n       <use x=\"63.623047\" xlink:href=\"#DejaVuSans-53\"/>\r\n      </g>\r\n     </g>\r\n    </g>\r\n    <g id=\"ytick_5\">\r\n     <g id=\"line2d_15\">\r\n      <g>\r\n       <use style=\"stroke:#000000;stroke-width:0.8;\" x=\"26.925\" xlink:href=\"#mbe80e76ba8\" y=\"56.739376\"/>\r\n      </g>\r\n     </g>\r\n     <g id=\"text_16\">\r\n      <!-- 20 -->\r\n      <defs>\r\n       <path d=\"M 19.1875 8.296875 \r\nL 53.609375 8.296875 \r\nL 53.609375 0 \r\nL 7.328125 0 \r\nL 7.328125 8.296875 \r\nQ 12.9375 14.109375 22.625 23.890625 \r\nQ 32.328125 33.6875 34.8125 36.53125 \r\nQ 39.546875 41.84375 41.421875 45.53125 \r\nQ 43.3125 49.21875 43.3125 52.78125 \r\nQ 43.3125 58.59375 39.234375 62.25 \r\nQ 35.15625 65.921875 28.609375 65.921875 \r\nQ 23.96875 65.921875 18.8125 64.3125 \r\nQ 13.671875 62.703125 7.8125 59.421875 \r\nL 7.8125 69.390625 \r\nQ 13.765625 71.78125 18.9375 73 \r\nQ 24.125 74.21875 28.421875 74.21875 \r\nQ 39.75 74.21875 46.484375 68.546875 \r\nQ 53.21875 62.890625 53.21875 53.421875 \r\nQ 53.21875 48.921875 51.53125 44.890625 \r\nQ 49.859375 40.875 45.40625 35.40625 \r\nQ 44.1875 33.984375 37.640625 27.21875 \r\nQ 31.109375 20.453125 19.1875 8.296875 \r\nz\r\n\" id=\"DejaVuSans-50\"/>\r\n      </defs>\r\n      <g transform=\"translate(7.2 60.538595)scale(0.1 -0.1)\">\r\n       <use xlink:href=\"#DejaVuSans-50\"/>\r\n       <use x=\"63.623047\" xlink:href=\"#DejaVuSans-48\"/>\r\n      </g>\r\n     </g>\r\n    </g>\r\n   </g>\r\n   <g id=\"patch_13\">\r\n    <path d=\"M 26.925 239.758125 \r\nL 26.925 22.318125 \r\n\" style=\"fill:none;stroke:#000000;stroke-linecap:square;stroke-linejoin:miter;stroke-width:0.8;\"/>\r\n   </g>\r\n   <g id=\"patch_14\">\r\n    <path d=\"M 361.725 239.758125 \r\nL 361.725 22.318125 \r\n\" style=\"fill:none;stroke:#000000;stroke-linecap:square;stroke-linejoin:miter;stroke-width:0.8;\"/>\r\n   </g>\r\n   <g id=\"patch_15\">\r\n    <path d=\"M 26.925 239.758125 \r\nL 361.725 239.758125 \r\n\" style=\"fill:none;stroke:#000000;stroke-linecap:square;stroke-linejoin:miter;stroke-width:0.8;\"/>\r\n   </g>\r\n   <g id=\"patch_16\">\r\n    <path d=\"M 26.925 22.318125 \r\nL 361.725 22.318125 \r\n\" style=\"fill:none;stroke:#000000;stroke-linecap:square;stroke-linejoin:miter;stroke-width:0.8;\"/>\r\n   </g>\r\n   <g id=\"text_17\">\r\n    <!-- Top 10 countries with highest average of diabetes prevalence -->\r\n    <defs>\r\n     <path d=\"M -0.296875 72.90625 \r\nL 61.375 72.90625 \r\nL 61.375 64.59375 \r\nL 35.5 64.59375 \r\nL 35.5 0 \r\nL 25.59375 0 \r\nL 25.59375 64.59375 \r\nL -0.296875 64.59375 \r\nz\r\n\" id=\"DejaVuSans-84\"/>\r\n     <path d=\"M 2.984375 54.6875 \r\nL 12.5 54.6875 \r\nL 29.59375 8.796875 \r\nL 46.6875 54.6875 \r\nL 56.203125 54.6875 \r\nL 35.6875 0 \r\nL 23.484375 0 \r\nz\r\n\" id=\"DejaVuSans-118\"/>\r\n     <path d=\"M 37.109375 75.984375 \r\nL 37.109375 68.5 \r\nL 28.515625 68.5 \r\nQ 23.6875 68.5 21.796875 66.546875 \r\nQ 19.921875 64.59375 19.921875 59.515625 \r\nL 19.921875 54.6875 \r\nL 34.71875 54.6875 \r\nL 34.71875 47.703125 \r\nL 19.921875 47.703125 \r\nL 19.921875 0 \r\nL 10.890625 0 \r\nL 10.890625 47.703125 \r\nL 2.296875 47.703125 \r\nL 2.296875 54.6875 \r\nL 10.890625 54.6875 \r\nL 10.890625 58.5 \r\nQ 10.890625 67.625 15.140625 71.796875 \r\nQ 19.390625 75.984375 28.609375 75.984375 \r\nz\r\n\" id=\"DejaVuSans-102\"/>\r\n    </defs>\r\n    <g transform=\"translate(7.93125 16.318125)scale(0.12 -0.12)\">\r\n     <use xlink:href=\"#DejaVuSans-84\"/>\r\n     <use x=\"60.818359\" xlink:href=\"#DejaVuSans-111\"/>\r\n     <use x=\"122\" xlink:href=\"#DejaVuSans-112\"/>\r\n     <use x=\"185.476562\" xlink:href=\"#DejaVuSans-32\"/>\r\n     <use x=\"217.263672\" xlink:href=\"#DejaVuSans-49\"/>\r\n     <use x=\"280.886719\" xlink:href=\"#DejaVuSans-48\"/>\r\n     <use x=\"344.509766\" xlink:href=\"#DejaVuSans-32\"/>\r\n     <use x=\"376.296875\" xlink:href=\"#DejaVuSans-99\"/>\r\n     <use x=\"431.277344\" xlink:href=\"#DejaVuSans-111\"/>\r\n     <use x=\"492.458984\" xlink:href=\"#DejaVuSans-117\"/>\r\n     <use x=\"555.837891\" xlink:href=\"#DejaVuSans-110\"/>\r\n     <use x=\"619.216797\" xlink:href=\"#DejaVuSans-116\"/>\r\n     <use x=\"658.425781\" xlink:href=\"#DejaVuSans-114\"/>\r\n     <use x=\"699.539062\" xlink:href=\"#DejaVuSans-105\"/>\r\n     <use x=\"727.322266\" xlink:href=\"#DejaVuSans-101\"/>\r\n     <use x=\"788.845703\" xlink:href=\"#DejaVuSans-115\"/>\r\n     <use x=\"840.945312\" xlink:href=\"#DejaVuSans-32\"/>\r\n     <use x=\"872.732422\" xlink:href=\"#DejaVuSans-119\"/>\r\n     <use x=\"954.519531\" xlink:href=\"#DejaVuSans-105\"/>\r\n     <use x=\"982.302734\" xlink:href=\"#DejaVuSans-116\"/>\r\n     <use x=\"1021.511719\" xlink:href=\"#DejaVuSans-104\"/>\r\n     <use x=\"1084.890625\" xlink:href=\"#DejaVuSans-32\"/>\r\n     <use x=\"1116.677734\" xlink:href=\"#DejaVuSans-104\"/>\r\n     <use x=\"1180.056641\" xlink:href=\"#DejaVuSans-105\"/>\r\n     <use x=\"1207.839844\" xlink:href=\"#DejaVuSans-103\"/>\r\n     <use x=\"1271.316406\" xlink:href=\"#DejaVuSans-104\"/>\r\n     <use x=\"1334.695312\" xlink:href=\"#DejaVuSans-101\"/>\r\n     <use x=\"1396.21875\" xlink:href=\"#DejaVuSans-115\"/>\r\n     <use x=\"1448.318359\" xlink:href=\"#DejaVuSans-116\"/>\r\n     <use x=\"1487.527344\" xlink:href=\"#DejaVuSans-32\"/>\r\n     <use x=\"1519.314453\" xlink:href=\"#DejaVuSans-97\"/>\r\n     <use x=\"1580.59375\" xlink:href=\"#DejaVuSans-118\"/>\r\n     <use x=\"1639.773438\" xlink:href=\"#DejaVuSans-101\"/>\r\n     <use x=\"1701.296875\" xlink:href=\"#DejaVuSans-114\"/>\r\n     <use x=\"1742.410156\" xlink:href=\"#DejaVuSans-97\"/>\r\n     <use x=\"1803.689453\" xlink:href=\"#DejaVuSans-103\"/>\r\n     <use x=\"1867.166016\" xlink:href=\"#DejaVuSans-101\"/>\r\n     <use x=\"1928.689453\" xlink:href=\"#DejaVuSans-32\"/>\r\n     <use x=\"1960.476562\" xlink:href=\"#DejaVuSans-111\"/>\r\n     <use x=\"2021.658203\" xlink:href=\"#DejaVuSans-102\"/>\r\n     <use x=\"2056.863281\" xlink:href=\"#DejaVuSans-32\"/>\r\n     <use x=\"2088.650391\" xlink:href=\"#DejaVuSans-100\"/>\r\n     <use x=\"2152.126953\" xlink:href=\"#DejaVuSans-105\"/>\r\n     <use x=\"2179.910156\" xlink:href=\"#DejaVuSans-97\"/>\r\n     <use x=\"2241.189453\" xlink:href=\"#DejaVuSans-98\"/>\r\n     <use x=\"2304.666016\" xlink:href=\"#DejaVuSans-101\"/>\r\n     <use x=\"2366.189453\" xlink:href=\"#DejaVuSans-116\"/>\r\n     <use x=\"2405.398438\" xlink:href=\"#DejaVuSans-101\"/>\r\n     <use x=\"2466.921875\" xlink:href=\"#DejaVuSans-115\"/>\r\n     <use x=\"2519.021484\" xlink:href=\"#DejaVuSans-32\"/>\r\n     <use x=\"2550.808594\" xlink:href=\"#DejaVuSans-112\"/>\r\n     <use x=\"2614.285156\" xlink:href=\"#DejaVuSans-114\"/>\r\n     <use x=\"2655.367188\" xlink:href=\"#DejaVuSans-101\"/>\r\n     <use x=\"2716.890625\" xlink:href=\"#DejaVuSans-118\"/>\r\n     <use x=\"2776.070312\" xlink:href=\"#DejaVuSans-97\"/>\r\n     <use x=\"2837.349609\" xlink:href=\"#DejaVuSans-108\"/>\r\n     <use x=\"2865.132812\" xlink:href=\"#DejaVuSans-101\"/>\r\n     <use x=\"2926.65625\" xlink:href=\"#DejaVuSans-110\"/>\r\n     <use x=\"2990.035156\" xlink:href=\"#DejaVuSans-99\"/>\r\n     <use x=\"3045.015625\" xlink:href=\"#DejaVuSans-101\"/>\r\n    </g>\r\n   </g>\r\n  </g>\r\n </g>\r\n <defs>\r\n  <clipPath id=\"p0449b2146a\">\r\n   <rect height=\"217.44\" width=\"334.8\" x=\"26.925\" y=\"22.318125\"/>\r\n  </clipPath>\r\n </defs>\r\n</svg>\r\n",
      "image/png": "[encoded data removed]"
     },
     "metadata": {
      "needs_background": "light"
     }
    }
   ],
   "source": [
    "covid_df.groupby(['location']).mean().sort_values('diabetes_prevalence',ascending=False)['diabetes_prevalence'][1:11].plot.bar()\n",
    "plt.title('Top 10 countries with highest average of diabetes prevalence')"
   ]
  },
  {
   "cell_type": "code",
   "execution_count": 125,
   "metadata": {},
   "outputs": [
    {
     "output_type": "execute_result",
     "data": {
      "text/plain": "Text(0.5, 1.0, 'Top 10 countries with highest smoking men and women')"
     },
     "metadata": {},
     "execution_count": 125
    },
    {
     "output_type": "display_data",
     "data": {
      "text/plain": "<Figure size 432x288 with 1 Axes>",
      "image/svg+xml": "<?xml version=\"1.0\" encoding=\"utf-8\" standalone=\"no\"?>\r\n<!DOCTYPE svg PUBLIC \"-//W3C//DTD SVG 1.1//EN\"\r\n  \"http://www.w3.org/Graphics/SVG/1.1/DTD/svg11.dtd\">\r\n<!-- Created with matplotlib (https://matplotlib.org/) -->\r\n<svg height=\"309.72375pt\" version=\"1.1\" viewBox=\"0 0 389.427187 309.72375\" width=\"389.427187pt\" xmlns=\"http://www.w3.org/2000/svg\" xmlns:xlink=\"http://www.w3.org/1999/xlink\">\r\n <defs>\r\n  <style type=\"text/css\">\r\n*{stroke-linecap:butt;stroke-linejoin:round;}\r\n  </style>\r\n </defs>\r\n <g id=\"figure_1\">\r\n  <g id=\"patch_1\">\r\n   <path d=\"M 0 309.72375 \r\nL 389.427187 309.72375 \r\nL 389.427187 0 \r\nL 0 0 \r\nz\r\n\" style=\"fill:none;\"/>\r\n  </g>\r\n  <g id=\"axes_1\">\r\n   <g id=\"patch_2\">\r\n    <path d=\"M 46.0125 239.758125 \r\nL 380.8125 239.758125 \r\nL 380.8125 22.318125 \r\nL 46.0125 22.318125 \r\nz\r\n\" style=\"fill:#ffffff;\"/>\r\n   </g>\r\n   <g id=\"patch_3\">\r\n    <path clip-path=\"url(#p8f691c63ea)\" d=\"M 54.3825 239.758125 \r\nL 71.1225 239.758125 \r\nL 71.1225 32.672411 \r\nL 54.3825 32.672411 \r\nz\r\n\" style=\"fill:#1f77b4;\"/>\r\n   </g>\r\n   <g id=\"patch_4\">\r\n    <path clip-path=\"url(#p8f691c63ea)\" d=\"M 87.8625 239.758125 \r\nL 104.6025 239.758125 \r\nL 104.6025 42.618208 \r\nL 87.8625 42.618208 \r\nz\r\n\" style=\"fill:#1f77b4;\"/>\r\n   </g>\r\n   <g id=\"patch_5\">\r\n    <path clip-path=\"url(#p8f691c63ea)\" d=\"M 121.3425 239.758125 \r\nL 138.0825 239.758125 \r\nL 138.0825 47.222646 \r\nL 121.3425 47.222646 \r\nz\r\n\" style=\"fill:#1f77b4;\"/>\r\n   </g>\r\n   <g id=\"patch_6\">\r\n    <path clip-path=\"url(#p8f691c63ea)\" d=\"M 154.8225 239.758125 \r\nL 171.5625 239.758125 \r\nL 171.5625 54.695248 \r\nL 154.8225 54.695248 \r\nz\r\n\" style=\"fill:#1f77b4;\"/>\r\n   </g>\r\n   <g id=\"patch_7\">\r\n    <path clip-path=\"url(#p8f691c63ea)\" d=\"M 188.3025 239.758125 \r\nL 205.0425 239.758125 \r\nL 205.0425 55.050455 \r\nL 188.3025 55.050455 \r\nz\r\n\" style=\"fill:#1f77b4;\"/>\r\n   </g>\r\n   <g id=\"patch_8\">\r\n    <path clip-path=\"url(#p8f691c63ea)\" d=\"M 221.7825 239.758125 \r\nL 238.5225 239.758125 \r\nL 238.5225 61.799389 \r\nL 221.7825 61.799389 \r\nz\r\n\" style=\"fill:#1f77b4;\"/>\r\n   </g>\r\n   <g id=\"patch_9\">\r\n    <path clip-path=\"url(#p8f691c63ea)\" d=\"M 255.2625 239.758125 \r\nL 272.0025 239.758125 \r\nL 272.0025 65.335555 \r\nL 255.2625 65.335555 \r\nz\r\n\" style=\"fill:#1f77b4;\"/>\r\n   </g>\r\n   <g id=\"patch_10\">\r\n    <path clip-path=\"url(#p8f691c63ea)\" d=\"M 288.7425 239.758125 \r\nL 305.4825 239.758125 \r\nL 305.4825 67.837909 \r\nL 288.7425 67.837909 \r\nz\r\n\" style=\"fill:#1f77b4;\"/>\r\n   </g>\r\n   <g id=\"patch_11\">\r\n    <path clip-path=\"url(#p8f691c63ea)\" d=\"M 322.2225 239.758125 \r\nL 338.9625 239.758125 \r\nL 338.9625 76.007672 \r\nL 322.2225 76.007672 \r\nz\r\n\" style=\"fill:#1f77b4;\"/>\r\n   </g>\r\n   <g id=\"patch_12\">\r\n    <path clip-path=\"url(#p8f691c63ea)\" d=\"M 355.7025 239.758125 \r\nL 372.4425 239.758125 \r\nL 372.4425 76.718086 \r\nL 355.7025 76.718086 \r\nz\r\n\" style=\"fill:#1f77b4;\"/>\r\n   </g>\r\n   <g id=\"matplotlib.axis_1\">\r\n    <g id=\"xtick_1\">\r\n     <g id=\"line2d_1\">\r\n      <defs>\r\n       <path d=\"M 0 0 \r\nL 0 3.5 \r\n\" id=\"ma4e8a42807\" style=\"stroke:#000000;stroke-width:0.8;\"/>\r\n      </defs>\r\n      <g>\r\n       <use style=\"stroke:#000000;stroke-width:0.8;\" x=\"62.7525\" xlink:href=\"#ma4e8a42807\" y=\"239.758125\"/>\r\n      </g>\r\n     </g>\r\n     <g id=\"text_1\">\r\n      <!-- Russia -->\r\n      <defs>\r\n       <path d=\"M 44.390625 34.1875 \r\nQ 47.5625 33.109375 50.5625 29.59375 \r\nQ 53.5625 26.078125 56.59375 19.921875 \r\nL 66.609375 0 \r\nL 56 0 \r\nL 46.6875 18.703125 \r\nQ 43.0625 26.03125 39.671875 28.421875 \r\nQ 36.28125 30.8125 30.421875 30.8125 \r\nL 19.671875 30.8125 \r\nL 19.671875 0 \r\nL 9.8125 0 \r\nL 9.8125 72.90625 \r\nL 32.078125 72.90625 \r\nQ 44.578125 72.90625 50.734375 67.671875 \r\nQ 56.890625 62.453125 56.890625 51.90625 \r\nQ 56.890625 45.015625 53.6875 40.46875 \r\nQ 50.484375 35.9375 44.390625 34.1875 \r\nz\r\nM 19.671875 64.796875 \r\nL 19.671875 38.921875 \r\nL 32.078125 38.921875 \r\nQ 39.203125 38.921875 42.84375 42.21875 \r\nQ 46.484375 45.515625 46.484375 51.90625 \r\nQ 46.484375 58.296875 42.84375 61.546875 \r\nQ 39.203125 64.796875 32.078125 64.796875 \r\nz\r\n\" id=\"DejaVuSans-82\"/>\r\n       <path d=\"M 8.5 21.578125 \r\nL 8.5 54.6875 \r\nL 17.484375 54.6875 \r\nL 17.484375 21.921875 \r\nQ 17.484375 14.15625 20.5 10.265625 \r\nQ 23.53125 6.390625 29.59375 6.390625 \r\nQ 36.859375 6.390625 41.078125 11.03125 \r\nQ 45.3125 15.671875 45.3125 23.6875 \r\nL 45.3125 54.6875 \r\nL 54.296875 54.6875 \r\nL 54.296875 0 \r\nL 45.3125 0 \r\nL 45.3125 8.40625 \r\nQ 42.046875 3.421875 37.71875 1 \r\nQ 33.40625 -1.421875 27.6875 -1.421875 \r\nQ 18.265625 -1.421875 13.375 4.4375 \r\nQ 8.5 10.296875 8.5 21.578125 \r\nz\r\nM 31.109375 56 \r\nz\r\n\" id=\"DejaVuSans-117\"/>\r\n       <path d=\"M 44.28125 53.078125 \r\nL 44.28125 44.578125 \r\nQ 40.484375 46.53125 36.375 47.5 \r\nQ 32.28125 48.484375 27.875 48.484375 \r\nQ 21.1875 48.484375 17.84375 46.4375 \r\nQ 14.5 44.390625 14.5 40.28125 \r\nQ 14.5 37.15625 16.890625 35.375 \r\nQ 19.28125 33.59375 26.515625 31.984375 \r\nL 29.59375 31.296875 \r\nQ 39.15625 29.25 43.1875 25.515625 \r\nQ 47.21875 21.78125 47.21875 15.09375 \r\nQ 47.21875 7.46875 41.1875 3.015625 \r\nQ 35.15625 -1.421875 24.609375 -1.421875 \r\nQ 20.21875 -1.421875 15.453125 -0.5625 \r\nQ 10.6875 0.296875 5.421875 2 \r\nL 5.421875 11.28125 \r\nQ 10.40625 8.6875 15.234375 7.390625 \r\nQ 20.0625 6.109375 24.8125 6.109375 \r\nQ 31.15625 6.109375 34.5625 8.28125 \r\nQ 37.984375 10.453125 37.984375 14.40625 \r\nQ 37.984375 18.0625 35.515625 20.015625 \r\nQ 33.0625 21.96875 24.703125 23.78125 \r\nL 21.578125 24.515625 \r\nQ 13.234375 26.265625 9.515625 29.90625 \r\nQ 5.8125 33.546875 5.8125 39.890625 \r\nQ 5.8125 47.609375 11.28125 51.796875 \r\nQ 16.75 56 26.8125 56 \r\nQ 31.78125 56 36.171875 55.265625 \r\nQ 40.578125 54.546875 44.28125 53.078125 \r\nz\r\n\" id=\"DejaVuSans-115\"/>\r\n       <path d=\"M 9.421875 54.6875 \r\nL 18.40625 54.6875 \r\nL 18.40625 0 \r\nL 9.421875 0 \r\nz\r\nM 9.421875 75.984375 \r\nL 18.40625 75.984375 \r\nL 18.40625 64.59375 \r\nL 9.421875 64.59375 \r\nz\r\n\" id=\"DejaVuSans-105\"/>\r\n       <path d=\"M 34.28125 27.484375 \r\nQ 23.390625 27.484375 19.1875 25 \r\nQ 14.984375 22.515625 14.984375 16.5 \r\nQ 14.984375 11.71875 18.140625 8.90625 \r\nQ 21.296875 6.109375 26.703125 6.109375 \r\nQ 34.1875 6.109375 38.703125 11.40625 \r\nQ 43.21875 16.703125 43.21875 25.484375 \r\nL 43.21875 27.484375 \r\nz\r\nM 52.203125 31.203125 \r\nL 52.203125 0 \r\nL 43.21875 0 \r\nL 43.21875 8.296875 \r\nQ 40.140625 3.328125 35.546875 0.953125 \r\nQ 30.953125 -1.421875 24.3125 -1.421875 \r\nQ 15.921875 -1.421875 10.953125 3.296875 \r\nQ 6 8.015625 6 15.921875 \r\nQ 6 25.140625 12.171875 29.828125 \r\nQ 18.359375 34.515625 30.609375 34.515625 \r\nL 43.21875 34.515625 \r\nL 43.21875 35.40625 \r\nQ 43.21875 41.609375 39.140625 45 \r\nQ 35.0625 48.390625 27.6875 48.390625 \r\nQ 23 48.390625 18.546875 47.265625 \r\nQ 14.109375 46.140625 10.015625 43.890625 \r\nL 10.015625 52.203125 \r\nQ 14.9375 54.109375 19.578125 55.046875 \r\nQ 24.21875 56 28.609375 56 \r\nQ 40.484375 56 46.34375 49.84375 \r\nQ 52.203125 43.703125 52.203125 31.203125 \r\nz\r\n\" id=\"DejaVuSans-97\"/>\r\n      </defs>\r\n      <g transform=\"translate(65.511875 279.362813)rotate(-90)scale(0.1 -0.1)\">\r\n       <use xlink:href=\"#DejaVuSans-82\"/>\r\n       <use x=\"69.419922\" xlink:href=\"#DejaVuSans-117\"/>\r\n       <use x=\"132.798828\" xlink:href=\"#DejaVuSans-115\"/>\r\n       <use x=\"184.898438\" xlink:href=\"#DejaVuSans-115\"/>\r\n       <use x=\"236.998047\" xlink:href=\"#DejaVuSans-105\"/>\r\n       <use x=\"264.78125\" xlink:href=\"#DejaVuSans-97\"/>\r\n      </g>\r\n     </g>\r\n    </g>\r\n    <g id=\"xtick_2\">\r\n     <g id=\"line2d_2\">\r\n      <g>\r\n       <use style=\"stroke:#000000;stroke-width:0.8;\" x=\"96.2325\" xlink:href=\"#ma4e8a42807\" y=\"239.758125\"/>\r\n      </g>\r\n     </g>\r\n     <g id=\"text_2\">\r\n      <!-- Georgia -->\r\n      <defs>\r\n       <path d=\"M 59.515625 10.40625 \r\nL 59.515625 29.984375 \r\nL 43.40625 29.984375 \r\nL 43.40625 38.09375 \r\nL 69.28125 38.09375 \r\nL 69.28125 6.78125 \r\nQ 63.578125 2.734375 56.6875 0.65625 \r\nQ 49.8125 -1.421875 42 -1.421875 \r\nQ 24.90625 -1.421875 15.25 8.5625 \r\nQ 5.609375 18.5625 5.609375 36.375 \r\nQ 5.609375 54.25 15.25 64.234375 \r\nQ 24.90625 74.21875 42 74.21875 \r\nQ 49.125 74.21875 55.546875 72.453125 \r\nQ 61.96875 70.703125 67.390625 67.28125 \r\nL 67.390625 56.78125 \r\nQ 61.921875 61.421875 55.765625 63.765625 \r\nQ 49.609375 66.109375 42.828125 66.109375 \r\nQ 29.4375 66.109375 22.71875 58.640625 \r\nQ 16.015625 51.171875 16.015625 36.375 \r\nQ 16.015625 21.625 22.71875 14.15625 \r\nQ 29.4375 6.6875 42.828125 6.6875 \r\nQ 48.046875 6.6875 52.140625 7.59375 \r\nQ 56.25 8.5 59.515625 10.40625 \r\nz\r\n\" id=\"DejaVuSans-71\"/>\r\n       <path d=\"M 56.203125 29.59375 \r\nL 56.203125 25.203125 \r\nL 14.890625 25.203125 \r\nQ 15.484375 15.921875 20.484375 11.0625 \r\nQ 25.484375 6.203125 34.421875 6.203125 \r\nQ 39.59375 6.203125 44.453125 7.46875 \r\nQ 49.3125 8.734375 54.109375 11.28125 \r\nL 54.109375 2.78125 \r\nQ 49.265625 0.734375 44.1875 -0.34375 \r\nQ 39.109375 -1.421875 33.890625 -1.421875 \r\nQ 20.796875 -1.421875 13.15625 6.1875 \r\nQ 5.515625 13.8125 5.515625 26.8125 \r\nQ 5.515625 40.234375 12.765625 48.109375 \r\nQ 20.015625 56 32.328125 56 \r\nQ 43.359375 56 49.78125 48.890625 \r\nQ 56.203125 41.796875 56.203125 29.59375 \r\nz\r\nM 47.21875 32.234375 \r\nQ 47.125 39.59375 43.09375 43.984375 \r\nQ 39.0625 48.390625 32.421875 48.390625 \r\nQ 24.90625 48.390625 20.390625 44.140625 \r\nQ 15.875 39.890625 15.1875 32.171875 \r\nz\r\n\" id=\"DejaVuSans-101\"/>\r\n       <path d=\"M 30.609375 48.390625 \r\nQ 23.390625 48.390625 19.1875 42.75 \r\nQ 14.984375 37.109375 14.984375 27.296875 \r\nQ 14.984375 17.484375 19.15625 11.84375 \r\nQ 23.34375 6.203125 30.609375 6.203125 \r\nQ 37.796875 6.203125 41.984375 11.859375 \r\nQ 46.1875 17.53125 46.1875 27.296875 \r\nQ 46.1875 37.015625 41.984375 42.703125 \r\nQ 37.796875 48.390625 30.609375 48.390625 \r\nz\r\nM 30.609375 56 \r\nQ 42.328125 56 49.015625 48.375 \r\nQ 55.71875 40.765625 55.71875 27.296875 \r\nQ 55.71875 13.875 49.015625 6.21875 \r\nQ 42.328125 -1.421875 30.609375 -1.421875 \r\nQ 18.84375 -1.421875 12.171875 6.21875 \r\nQ 5.515625 13.875 5.515625 27.296875 \r\nQ 5.515625 40.765625 12.171875 48.375 \r\nQ 18.84375 56 30.609375 56 \r\nz\r\n\" id=\"DejaVuSans-111\"/>\r\n       <path d=\"M 41.109375 46.296875 \r\nQ 39.59375 47.171875 37.8125 47.578125 \r\nQ 36.03125 48 33.890625 48 \r\nQ 26.265625 48 22.1875 43.046875 \r\nQ 18.109375 38.09375 18.109375 28.8125 \r\nL 18.109375 0 \r\nL 9.078125 0 \r\nL 9.078125 54.6875 \r\nL 18.109375 54.6875 \r\nL 18.109375 46.1875 \r\nQ 20.953125 51.171875 25.484375 53.578125 \r\nQ 30.03125 56 36.53125 56 \r\nQ 37.453125 56 38.578125 55.875 \r\nQ 39.703125 55.765625 41.0625 55.515625 \r\nz\r\n\" id=\"DejaVuSans-114\"/>\r\n       <path d=\"M 45.40625 27.984375 \r\nQ 45.40625 37.75 41.375 43.109375 \r\nQ 37.359375 48.484375 30.078125 48.484375 \r\nQ 22.859375 48.484375 18.828125 43.109375 \r\nQ 14.796875 37.75 14.796875 27.984375 \r\nQ 14.796875 18.265625 18.828125 12.890625 \r\nQ 22.859375 7.515625 30.078125 7.515625 \r\nQ 37.359375 7.515625 41.375 12.890625 \r\nQ 45.40625 18.265625 45.40625 27.984375 \r\nz\r\nM 54.390625 6.78125 \r\nQ 54.390625 -7.171875 48.1875 -13.984375 \r\nQ 42 -20.796875 29.203125 -20.796875 \r\nQ 24.46875 -20.796875 20.265625 -20.09375 \r\nQ 16.0625 -19.390625 12.109375 -17.921875 \r\nL 12.109375 -9.1875 \r\nQ 16.0625 -11.328125 19.921875 -12.34375 \r\nQ 23.78125 -13.375 27.78125 -13.375 \r\nQ 36.625 -13.375 41.015625 -8.765625 \r\nQ 45.40625 -4.15625 45.40625 5.171875 \r\nL 45.40625 9.625 \r\nQ 42.625 4.78125 38.28125 2.390625 \r\nQ 33.9375 0 27.875 0 \r\nQ 17.828125 0 11.671875 7.65625 \r\nQ 5.515625 15.328125 5.515625 27.984375 \r\nQ 5.515625 40.671875 11.671875 48.328125 \r\nQ 17.828125 56 27.875 56 \r\nQ 33.9375 56 38.28125 53.609375 \r\nQ 42.625 51.21875 45.40625 46.390625 \r\nL 45.40625 54.6875 \r\nL 54.390625 54.6875 \r\nz\r\n\" id=\"DejaVuSans-103\"/>\r\n      </defs>\r\n      <g transform=\"translate(98.991875 286.1425)rotate(-90)scale(0.1 -0.1)\">\r\n       <use xlink:href=\"#DejaVuSans-71\"/>\r\n       <use x=\"77.490234\" xlink:href=\"#DejaVuSans-101\"/>\r\n       <use x=\"139.013672\" xlink:href=\"#DejaVuSans-111\"/>\r\n       <use x=\"200.195312\" xlink:href=\"#DejaVuSans-114\"/>\r\n       <use x=\"241.292969\" xlink:href=\"#DejaVuSans-103\"/>\r\n       <use x=\"304.769531\" xlink:href=\"#DejaVuSans-105\"/>\r\n       <use x=\"332.552734\" xlink:href=\"#DejaVuSans-97\"/>\r\n      </g>\r\n     </g>\r\n    </g>\r\n    <g id=\"xtick_3\">\r\n     <g id=\"line2d_3\">\r\n      <g>\r\n       <use style=\"stroke:#000000;stroke-width:0.8;\" x=\"129.7125\" xlink:href=\"#ma4e8a42807\" y=\"239.758125\"/>\r\n      </g>\r\n     </g>\r\n     <g id=\"text_3\">\r\n      <!-- Timor -->\r\n      <defs>\r\n       <path d=\"M -0.296875 72.90625 \r\nL 61.375 72.90625 \r\nL 61.375 64.59375 \r\nL 35.5 64.59375 \r\nL 35.5 0 \r\nL 25.59375 0 \r\nL 25.59375 64.59375 \r\nL -0.296875 64.59375 \r\nz\r\n\" id=\"DejaVuSans-84\"/>\r\n       <path d=\"M 52 44.1875 \r\nQ 55.375 50.25 60.0625 53.125 \r\nQ 64.75 56 71.09375 56 \r\nQ 79.640625 56 84.28125 50.015625 \r\nQ 88.921875 44.046875 88.921875 33.015625 \r\nL 88.921875 0 \r\nL 79.890625 0 \r\nL 79.890625 32.71875 \r\nQ 79.890625 40.578125 77.09375 44.375 \r\nQ 74.3125 48.1875 68.609375 48.1875 \r\nQ 61.625 48.1875 57.5625 43.546875 \r\nQ 53.515625 38.921875 53.515625 30.90625 \r\nL 53.515625 0 \r\nL 44.484375 0 \r\nL 44.484375 32.71875 \r\nQ 44.484375 40.625 41.703125 44.40625 \r\nQ 38.921875 48.1875 33.109375 48.1875 \r\nQ 26.21875 48.1875 22.15625 43.53125 \r\nQ 18.109375 38.875 18.109375 30.90625 \r\nL 18.109375 0 \r\nL 9.078125 0 \r\nL 9.078125 54.6875 \r\nL 18.109375 54.6875 \r\nL 18.109375 46.1875 \r\nQ 21.1875 51.21875 25.484375 53.609375 \r\nQ 29.78125 56 35.6875 56 \r\nQ 41.65625 56 45.828125 52.96875 \r\nQ 50 49.953125 52 44.1875 \r\nz\r\n\" id=\"DejaVuSans-109\"/>\r\n      </defs>\r\n      <g transform=\"translate(132.471875 275.609688)rotate(-90)scale(0.1 -0.1)\">\r\n       <use xlink:href=\"#DejaVuSans-84\"/>\r\n       <use x=\"61.037109\" xlink:href=\"#DejaVuSans-105\"/>\r\n       <use x=\"88.820312\" xlink:href=\"#DejaVuSans-109\"/>\r\n       <use x=\"186.232422\" xlink:href=\"#DejaVuSans-111\"/>\r\n       <use x=\"247.414062\" xlink:href=\"#DejaVuSans-114\"/>\r\n      </g>\r\n     </g>\r\n    </g>\r\n    <g id=\"xtick_4\">\r\n     <g id=\"line2d_4\">\r\n      <g>\r\n       <use style=\"stroke:#000000;stroke-width:0.8;\" x=\"163.1925\" xlink:href=\"#ma4e8a42807\" y=\"239.758125\"/>\r\n      </g>\r\n     </g>\r\n     <g id=\"text_4\">\r\n      <!-- Armenia -->\r\n      <defs>\r\n       <path d=\"M 34.1875 63.1875 \r\nL 20.796875 26.90625 \r\nL 47.609375 26.90625 \r\nz\r\nM 28.609375 72.90625 \r\nL 39.796875 72.90625 \r\nL 67.578125 0 \r\nL 57.328125 0 \r\nL 50.6875 18.703125 \r\nL 17.828125 18.703125 \r\nL 11.1875 0 \r\nL 0.78125 0 \r\nz\r\n\" id=\"DejaVuSans-65\"/>\r\n       <path d=\"M 54.890625 33.015625 \r\nL 54.890625 0 \r\nL 45.90625 0 \r\nL 45.90625 32.71875 \r\nQ 45.90625 40.484375 42.875 44.328125 \r\nQ 39.84375 48.1875 33.796875 48.1875 \r\nQ 26.515625 48.1875 22.3125 43.546875 \r\nQ 18.109375 38.921875 18.109375 30.90625 \r\nL 18.109375 0 \r\nL 9.078125 0 \r\nL 9.078125 54.6875 \r\nL 18.109375 54.6875 \r\nL 18.109375 46.1875 \r\nQ 21.34375 51.125 25.703125 53.5625 \r\nQ 30.078125 56 35.796875 56 \r\nQ 45.21875 56 50.046875 50.171875 \r\nQ 54.890625 44.34375 54.890625 33.015625 \r\nz\r\n\" id=\"DejaVuSans-110\"/>\r\n      </defs>\r\n      <g transform=\"translate(165.951875 288.845625)rotate(-90)scale(0.1 -0.1)\">\r\n       <use xlink:href=\"#DejaVuSans-65\"/>\r\n       <use x=\"68.408203\" xlink:href=\"#DejaVuSans-114\"/>\r\n       <use x=\"109.505859\" xlink:href=\"#DejaVuSans-109\"/>\r\n       <use x=\"206.917969\" xlink:href=\"#DejaVuSans-101\"/>\r\n       <use x=\"268.441406\" xlink:href=\"#DejaVuSans-110\"/>\r\n       <use x=\"331.820312\" xlink:href=\"#DejaVuSans-105\"/>\r\n       <use x=\"359.603516\" xlink:href=\"#DejaVuSans-97\"/>\r\n      </g>\r\n     </g>\r\n    </g>\r\n    <g id=\"xtick_5\">\r\n     <g id=\"line2d_5\">\r\n      <g>\r\n       <use style=\"stroke:#000000;stroke-width:0.8;\" x=\"196.6725\" xlink:href=\"#ma4e8a42807\" y=\"239.758125\"/>\r\n      </g>\r\n     </g>\r\n     <g id=\"text_5\">\r\n      <!-- Greece -->\r\n      <defs>\r\n       <path d=\"M 48.78125 52.59375 \r\nL 48.78125 44.1875 \r\nQ 44.96875 46.296875 41.140625 47.34375 \r\nQ 37.3125 48.390625 33.40625 48.390625 \r\nQ 24.65625 48.390625 19.8125 42.84375 \r\nQ 14.984375 37.3125 14.984375 27.296875 \r\nQ 14.984375 17.28125 19.8125 11.734375 \r\nQ 24.65625 6.203125 33.40625 6.203125 \r\nQ 37.3125 6.203125 41.140625 7.25 \r\nQ 44.96875 8.296875 48.78125 10.40625 \r\nL 48.78125 2.09375 \r\nQ 45.015625 0.34375 40.984375 -0.53125 \r\nQ 36.96875 -1.421875 32.421875 -1.421875 \r\nQ 20.0625 -1.421875 12.78125 6.34375 \r\nQ 5.515625 14.109375 5.515625 27.296875 \r\nQ 5.515625 40.671875 12.859375 48.328125 \r\nQ 20.21875 56 33.015625 56 \r\nQ 37.15625 56 41.109375 55.140625 \r\nQ 45.0625 54.296875 48.78125 52.59375 \r\nz\r\n\" id=\"DejaVuSans-99\"/>\r\n      </defs>\r\n      <g transform=\"translate(199.431875 282.572187)rotate(-90)scale(0.1 -0.1)\">\r\n       <use xlink:href=\"#DejaVuSans-71\"/>\r\n       <use x=\"77.490234\" xlink:href=\"#DejaVuSans-114\"/>\r\n       <use x=\"118.572266\" xlink:href=\"#DejaVuSans-101\"/>\r\n       <use x=\"180.095703\" xlink:href=\"#DejaVuSans-101\"/>\r\n       <use x=\"241.619141\" xlink:href=\"#DejaVuSans-99\"/>\r\n       <use x=\"296.599609\" xlink:href=\"#DejaVuSans-101\"/>\r\n      </g>\r\n     </g>\r\n    </g>\r\n    <g id=\"xtick_6\">\r\n     <g id=\"line2d_6\">\r\n      <g>\r\n       <use style=\"stroke:#000000;stroke-width:0.8;\" x=\"230.1525\" xlink:href=\"#ma4e8a42807\" y=\"239.758125\"/>\r\n      </g>\r\n     </g>\r\n     <g id=\"text_6\">\r\n      <!-- Egypt -->\r\n      <defs>\r\n       <path d=\"M 9.8125 72.90625 \r\nL 55.90625 72.90625 \r\nL 55.90625 64.59375 \r\nL 19.671875 64.59375 \r\nL 19.671875 43.015625 \r\nL 54.390625 43.015625 \r\nL 54.390625 34.71875 \r\nL 19.671875 34.71875 \r\nL 19.671875 8.296875 \r\nL 56.78125 8.296875 \r\nL 56.78125 0 \r\nL 9.8125 0 \r\nz\r\n\" id=\"DejaVuSans-69\"/>\r\n       <path d=\"M 32.171875 -5.078125 \r\nQ 28.375 -14.84375 24.75 -17.8125 \r\nQ 21.140625 -20.796875 15.09375 -20.796875 \r\nL 7.90625 -20.796875 \r\nL 7.90625 -13.28125 \r\nL 13.1875 -13.28125 \r\nQ 16.890625 -13.28125 18.9375 -11.515625 \r\nQ 21 -9.765625 23.484375 -3.21875 \r\nL 25.09375 0.875 \r\nL 2.984375 54.6875 \r\nL 12.5 54.6875 \r\nL 29.59375 11.921875 \r\nL 46.6875 54.6875 \r\nL 56.203125 54.6875 \r\nz\r\n\" id=\"DejaVuSans-121\"/>\r\n       <path d=\"M 18.109375 8.203125 \r\nL 18.109375 -20.796875 \r\nL 9.078125 -20.796875 \r\nL 9.078125 54.6875 \r\nL 18.109375 54.6875 \r\nL 18.109375 46.390625 \r\nQ 20.953125 51.265625 25.265625 53.625 \r\nQ 29.59375 56 35.59375 56 \r\nQ 45.5625 56 51.78125 48.09375 \r\nQ 58.015625 40.1875 58.015625 27.296875 \r\nQ 58.015625 14.40625 51.78125 6.484375 \r\nQ 45.5625 -1.421875 35.59375 -1.421875 \r\nQ 29.59375 -1.421875 25.265625 0.953125 \r\nQ 20.953125 3.328125 18.109375 8.203125 \r\nz\r\nM 48.6875 27.296875 \r\nQ 48.6875 37.203125 44.609375 42.84375 \r\nQ 40.53125 48.484375 33.40625 48.484375 \r\nQ 26.265625 48.484375 22.1875 42.84375 \r\nQ 18.109375 37.203125 18.109375 27.296875 \r\nQ 18.109375 17.390625 22.1875 11.75 \r\nQ 26.265625 6.109375 33.40625 6.109375 \r\nQ 40.53125 6.109375 44.609375 11.75 \r\nQ 48.6875 17.390625 48.6875 27.296875 \r\nz\r\n\" id=\"DejaVuSans-112\"/>\r\n       <path d=\"M 18.3125 70.21875 \r\nL 18.3125 54.6875 \r\nL 36.8125 54.6875 \r\nL 36.8125 47.703125 \r\nL 18.3125 47.703125 \r\nL 18.3125 18.015625 \r\nQ 18.3125 11.328125 20.140625 9.421875 \r\nQ 21.96875 7.515625 27.59375 7.515625 \r\nL 36.8125 7.515625 \r\nL 36.8125 0 \r\nL 27.59375 0 \r\nQ 17.1875 0 13.234375 3.875 \r\nQ 9.28125 7.765625 9.28125 18.015625 \r\nL 9.28125 47.703125 \r\nL 2.6875 47.703125 \r\nL 2.6875 54.6875 \r\nL 9.28125 54.6875 \r\nL 9.28125 70.21875 \r\nz\r\n\" id=\"DejaVuSans-116\"/>\r\n      </defs>\r\n      <g transform=\"translate(232.911875 275.612813)rotate(-90)scale(0.1 -0.1)\">\r\n       <use xlink:href=\"#DejaVuSans-69\"/>\r\n       <use x=\"63.183594\" xlink:href=\"#DejaVuSans-103\"/>\r\n       <use x=\"126.660156\" xlink:href=\"#DejaVuSans-121\"/>\r\n       <use x=\"185.839844\" xlink:href=\"#DejaVuSans-112\"/>\r\n       <use x=\"249.316406\" xlink:href=\"#DejaVuSans-116\"/>\r\n      </g>\r\n     </g>\r\n    </g>\r\n    <g id=\"xtick_7\">\r\n     <g id=\"line2d_7\">\r\n      <g>\r\n       <use style=\"stroke:#000000;stroke-width:0.8;\" x=\"263.6325\" xlink:href=\"#ma4e8a42807\" y=\"239.758125\"/>\r\n      </g>\r\n     </g>\r\n     <g id=\"text_7\">\r\n      <!-- Tunisia -->\r\n      <g transform=\"translate(266.391875 282.41125)rotate(-90)scale(0.1 -0.1)\">\r\n       <use xlink:href=\"#DejaVuSans-84\"/>\r\n       <use x=\"60.849609\" xlink:href=\"#DejaVuSans-117\"/>\r\n       <use x=\"124.228516\" xlink:href=\"#DejaVuSans-110\"/>\r\n       <use x=\"187.607422\" xlink:href=\"#DejaVuSans-105\"/>\r\n       <use x=\"215.390625\" xlink:href=\"#DejaVuSans-115\"/>\r\n       <use x=\"267.490234\" xlink:href=\"#DejaVuSans-105\"/>\r\n       <use x=\"295.273438\" xlink:href=\"#DejaVuSans-97\"/>\r\n      </g>\r\n     </g>\r\n    </g>\r\n    <g id=\"xtick_8\">\r\n     <g id=\"line2d_8\">\r\n      <g>\r\n       <use style=\"stroke:#000000;stroke-width:0.8;\" x=\"297.1125\" xlink:href=\"#ma4e8a42807\" y=\"239.758125\"/>\r\n      </g>\r\n     </g>\r\n     <g id=\"text_8\">\r\n      <!-- China -->\r\n      <defs>\r\n       <path d=\"M 64.40625 67.28125 \r\nL 64.40625 56.890625 \r\nQ 59.421875 61.53125 53.78125 63.8125 \r\nQ 48.140625 66.109375 41.796875 66.109375 \r\nQ 29.296875 66.109375 22.65625 58.46875 \r\nQ 16.015625 50.828125 16.015625 36.375 \r\nQ 16.015625 21.96875 22.65625 14.328125 \r\nQ 29.296875 6.6875 41.796875 6.6875 \r\nQ 48.140625 6.6875 53.78125 8.984375 \r\nQ 59.421875 11.28125 64.40625 15.921875 \r\nL 64.40625 5.609375 \r\nQ 59.234375 2.09375 53.4375 0.328125 \r\nQ 47.65625 -1.421875 41.21875 -1.421875 \r\nQ 24.65625 -1.421875 15.125 8.703125 \r\nQ 5.609375 18.84375 5.609375 36.375 \r\nQ 5.609375 53.953125 15.125 64.078125 \r\nQ 24.65625 74.21875 41.21875 74.21875 \r\nQ 47.75 74.21875 53.53125 72.484375 \r\nQ 59.328125 70.75 64.40625 67.28125 \r\nz\r\n\" id=\"DejaVuSans-67\"/>\r\n       <path d=\"M 54.890625 33.015625 \r\nL 54.890625 0 \r\nL 45.90625 0 \r\nL 45.90625 32.71875 \r\nQ 45.90625 40.484375 42.875 44.328125 \r\nQ 39.84375 48.1875 33.796875 48.1875 \r\nQ 26.515625 48.1875 22.3125 43.546875 \r\nQ 18.109375 38.921875 18.109375 30.90625 \r\nL 18.109375 0 \r\nL 9.078125 0 \r\nL 9.078125 75.984375 \r\nL 18.109375 75.984375 \r\nL 18.109375 46.1875 \r\nQ 21.34375 51.125 25.703125 53.5625 \r\nQ 30.078125 56 35.796875 56 \r\nQ 45.21875 56 50.046875 50.171875 \r\nQ 54.890625 44.34375 54.890625 33.015625 \r\nz\r\n\" id=\"DejaVuSans-104\"/>\r\n      </defs>\r\n      <g transform=\"translate(299.871875 275.322187)rotate(-90)scale(0.1 -0.1)\">\r\n       <use xlink:href=\"#DejaVuSans-67\"/>\r\n       <use x=\"69.824219\" xlink:href=\"#DejaVuSans-104\"/>\r\n       <use x=\"133.203125\" xlink:href=\"#DejaVuSans-105\"/>\r\n       <use x=\"160.986328\" xlink:href=\"#DejaVuSans-110\"/>\r\n       <use x=\"224.365234\" xlink:href=\"#DejaVuSans-97\"/>\r\n      </g>\r\n     </g>\r\n    </g>\r\n    <g id=\"xtick_9\">\r\n     <g id=\"line2d_9\">\r\n      <g>\r\n       <use style=\"stroke:#000000;stroke-width:0.8;\" x=\"330.5925\" xlink:href=\"#ma4e8a42807\" y=\"239.758125\"/>\r\n      </g>\r\n     </g>\r\n     <g id=\"text_9\">\r\n      <!-- Belarus -->\r\n      <defs>\r\n       <path d=\"M 19.671875 34.8125 \r\nL 19.671875 8.109375 \r\nL 35.5 8.109375 \r\nQ 43.453125 8.109375 47.28125 11.40625 \r\nQ 51.125 14.703125 51.125 21.484375 \r\nQ 51.125 28.328125 47.28125 31.5625 \r\nQ 43.453125 34.8125 35.5 34.8125 \r\nz\r\nM 19.671875 64.796875 \r\nL 19.671875 42.828125 \r\nL 34.28125 42.828125 \r\nQ 41.5 42.828125 45.03125 45.53125 \r\nQ 48.578125 48.25 48.578125 53.8125 \r\nQ 48.578125 59.328125 45.03125 62.0625 \r\nQ 41.5 64.796875 34.28125 64.796875 \r\nz\r\nM 9.8125 72.90625 \r\nL 35.015625 72.90625 \r\nQ 46.296875 72.90625 52.390625 68.21875 \r\nQ 58.5 63.53125 58.5 54.890625 \r\nQ 58.5 48.1875 55.375 44.234375 \r\nQ 52.25 40.28125 46.1875 39.3125 \r\nQ 53.46875 37.75 57.5 32.78125 \r\nQ 61.53125 27.828125 61.53125 20.40625 \r\nQ 61.53125 10.640625 54.890625 5.3125 \r\nQ 48.25 0 35.984375 0 \r\nL 9.8125 0 \r\nz\r\n\" id=\"DejaVuSans-66\"/>\r\n       <path d=\"M 9.421875 75.984375 \r\nL 18.40625 75.984375 \r\nL 18.40625 0 \r\nL 9.421875 0 \r\nz\r\n\" id=\"DejaVuSans-108\"/>\r\n      </defs>\r\n      <g transform=\"translate(333.351875 284.33625)rotate(-90)scale(0.1 -0.1)\">\r\n       <use xlink:href=\"#DejaVuSans-66\"/>\r\n       <use x=\"68.603516\" xlink:href=\"#DejaVuSans-101\"/>\r\n       <use x=\"130.126953\" xlink:href=\"#DejaVuSans-108\"/>\r\n       <use x=\"157.910156\" xlink:href=\"#DejaVuSans-97\"/>\r\n       <use x=\"219.189453\" xlink:href=\"#DejaVuSans-114\"/>\r\n       <use x=\"260.302734\" xlink:href=\"#DejaVuSans-117\"/>\r\n       <use x=\"323.681641\" xlink:href=\"#DejaVuSans-115\"/>\r\n      </g>\r\n     </g>\r\n    </g>\r\n    <g id=\"xtick_10\">\r\n     <g id=\"line2d_10\">\r\n      <g>\r\n       <use style=\"stroke:#000000;stroke-width:0.8;\" x=\"364.0725\" xlink:href=\"#ma4e8a42807\" y=\"239.758125\"/>\r\n      </g>\r\n     </g>\r\n     <g id=\"text_10\">\r\n      <!-- Vietnam -->\r\n      <defs>\r\n       <path d=\"M 28.609375 0 \r\nL 0.78125 72.90625 \r\nL 11.078125 72.90625 \r\nL 34.1875 11.53125 \r\nL 57.328125 72.90625 \r\nL 67.578125 72.90625 \r\nL 39.796875 0 \r\nz\r\n\" id=\"DejaVuSans-86\"/>\r\n      </defs>\r\n      <g transform=\"translate(366.831875 288.653437)rotate(-90)scale(0.1 -0.1)\">\r\n       <use xlink:href=\"#DejaVuSans-86\"/>\r\n       <use x=\"68.376953\" xlink:href=\"#DejaVuSans-105\"/>\r\n       <use x=\"96.160156\" xlink:href=\"#DejaVuSans-101\"/>\r\n       <use x=\"157.683594\" xlink:href=\"#DejaVuSans-116\"/>\r\n       <use x=\"196.892578\" xlink:href=\"#DejaVuSans-110\"/>\r\n       <use x=\"260.271484\" xlink:href=\"#DejaVuSans-97\"/>\r\n       <use x=\"321.550781\" xlink:href=\"#DejaVuSans-109\"/>\r\n      </g>\r\n     </g>\r\n    </g>\r\n    <g id=\"text_11\">\r\n     <!-- location -->\r\n     <g transform=\"translate(193.573438 300.444062)scale(0.1 -0.1)\">\r\n      <use xlink:href=\"#DejaVuSans-108\"/>\r\n      <use x=\"27.783203\" xlink:href=\"#DejaVuSans-111\"/>\r\n      <use x=\"88.964844\" xlink:href=\"#DejaVuSans-99\"/>\r\n      <use x=\"143.945312\" xlink:href=\"#DejaVuSans-97\"/>\r\n      <use x=\"205.224609\" xlink:href=\"#DejaVuSans-116\"/>\r\n      <use x=\"244.433594\" xlink:href=\"#DejaVuSans-105\"/>\r\n      <use x=\"272.216797\" xlink:href=\"#DejaVuSans-111\"/>\r\n      <use x=\"333.398438\" xlink:href=\"#DejaVuSans-110\"/>\r\n     </g>\r\n    </g>\r\n   </g>\r\n   <g id=\"matplotlib.axis_2\">\r\n    <g id=\"ytick_1\">\r\n     <g id=\"line2d_11\">\r\n      <defs>\r\n       <path d=\"M 0 0 \r\nL -3.5 0 \r\n\" id=\"m3ce3f74480\" style=\"stroke:#000000;stroke-width:0.8;\"/>\r\n      </defs>\r\n      <g>\r\n       <use style=\"stroke:#000000;stroke-width:0.8;\" x=\"46.0125\" xlink:href=\"#m3ce3f74480\" y=\"239.758125\"/>\r\n      </g>\r\n     </g>\r\n     <g id=\"text_12\">\r\n      <!-- 0 -->\r\n      <defs>\r\n       <path d=\"M 31.78125 66.40625 \r\nQ 24.171875 66.40625 20.328125 58.90625 \r\nQ 16.5 51.421875 16.5 36.375 \r\nQ 16.5 21.390625 20.328125 13.890625 \r\nQ 24.171875 6.390625 31.78125 6.390625 \r\nQ 39.453125 6.390625 43.28125 13.890625 \r\nQ 47.125 21.390625 47.125 36.375 \r\nQ 47.125 51.421875 43.28125 58.90625 \r\nQ 39.453125 66.40625 31.78125 66.40625 \r\nz\r\nM 31.78125 74.21875 \r\nQ 44.046875 74.21875 50.515625 64.515625 \r\nQ 56.984375 54.828125 56.984375 36.375 \r\nQ 56.984375 17.96875 50.515625 8.265625 \r\nQ 44.046875 -1.421875 31.78125 -1.421875 \r\nQ 19.53125 -1.421875 13.0625 8.265625 \r\nQ 6.59375 17.96875 6.59375 36.375 \r\nQ 6.59375 54.828125 13.0625 64.515625 \r\nQ 19.53125 74.21875 31.78125 74.21875 \r\nz\r\n\" id=\"DejaVuSans-48\"/>\r\n      </defs>\r\n      <g transform=\"translate(32.65 243.557344)scale(0.1 -0.1)\">\r\n       <use xlink:href=\"#DejaVuSans-48\"/>\r\n      </g>\r\n     </g>\r\n    </g>\r\n    <g id=\"ytick_2\">\r\n     <g id=\"line2d_12\">\r\n      <g>\r\n       <use style=\"stroke:#000000;stroke-width:0.8;\" x=\"46.0125\" xlink:href=\"#m3ce3f74480\" y=\"213.250136\"/>\r\n      </g>\r\n     </g>\r\n     <g id=\"text_13\">\r\n      <!-- 2000 -->\r\n      <defs>\r\n       <path d=\"M 19.1875 8.296875 \r\nL 53.609375 8.296875 \r\nL 53.609375 0 \r\nL 7.328125 0 \r\nL 7.328125 8.296875 \r\nQ 12.9375 14.109375 22.625 23.890625 \r\nQ 32.328125 33.6875 34.8125 36.53125 \r\nQ 39.546875 41.84375 41.421875 45.53125 \r\nQ 43.3125 49.21875 43.3125 52.78125 \r\nQ 43.3125 58.59375 39.234375 62.25 \r\nQ 35.15625 65.921875 28.609375 65.921875 \r\nQ 23.96875 65.921875 18.8125 64.3125 \r\nQ 13.671875 62.703125 7.8125 59.421875 \r\nL 7.8125 69.390625 \r\nQ 13.765625 71.78125 18.9375 73 \r\nQ 24.125 74.21875 28.421875 74.21875 \r\nQ 39.75 74.21875 46.484375 68.546875 \r\nQ 53.21875 62.890625 53.21875 53.421875 \r\nQ 53.21875 48.921875 51.53125 44.890625 \r\nQ 49.859375 40.875 45.40625 35.40625 \r\nQ 44.1875 33.984375 37.640625 27.21875 \r\nQ 31.109375 20.453125 19.1875 8.296875 \r\nz\r\n\" id=\"DejaVuSans-50\"/>\r\n      </defs>\r\n      <g transform=\"translate(13.5625 217.049354)scale(0.1 -0.1)\">\r\n       <use xlink:href=\"#DejaVuSans-50\"/>\r\n       <use x=\"63.623047\" xlink:href=\"#DejaVuSans-48\"/>\r\n       <use x=\"127.246094\" xlink:href=\"#DejaVuSans-48\"/>\r\n       <use x=\"190.869141\" xlink:href=\"#DejaVuSans-48\"/>\r\n      </g>\r\n     </g>\r\n    </g>\r\n    <g id=\"ytick_3\">\r\n     <g id=\"line2d_13\">\r\n      <g>\r\n       <use style=\"stroke:#000000;stroke-width:0.8;\" x=\"46.0125\" xlink:href=\"#m3ce3f74480\" y=\"186.742146\"/>\r\n      </g>\r\n     </g>\r\n     <g id=\"text_14\">\r\n      <!-- 4000 -->\r\n      <defs>\r\n       <path d=\"M 37.796875 64.3125 \r\nL 12.890625 25.390625 \r\nL 37.796875 25.390625 \r\nz\r\nM 35.203125 72.90625 \r\nL 47.609375 72.90625 \r\nL 47.609375 25.390625 \r\nL 58.015625 25.390625 \r\nL 58.015625 17.1875 \r\nL 47.609375 17.1875 \r\nL 47.609375 0 \r\nL 37.796875 0 \r\nL 37.796875 17.1875 \r\nL 4.890625 17.1875 \r\nL 4.890625 26.703125 \r\nz\r\n\" id=\"DejaVuSans-52\"/>\r\n      </defs>\r\n      <g transform=\"translate(13.5625 190.541365)scale(0.1 -0.1)\">\r\n       <use xlink:href=\"#DejaVuSans-52\"/>\r\n       <use x=\"63.623047\" xlink:href=\"#DejaVuSans-48\"/>\r\n       <use x=\"127.246094\" xlink:href=\"#DejaVuSans-48\"/>\r\n       <use x=\"190.869141\" xlink:href=\"#DejaVuSans-48\"/>\r\n      </g>\r\n     </g>\r\n    </g>\r\n    <g id=\"ytick_4\">\r\n     <g id=\"line2d_14\">\r\n      <g>\r\n       <use style=\"stroke:#000000;stroke-width:0.8;\" x=\"46.0125\" xlink:href=\"#m3ce3f74480\" y=\"160.234157\"/>\r\n      </g>\r\n     </g>\r\n     <g id=\"text_15\">\r\n      <!-- 6000 -->\r\n      <defs>\r\n       <path d=\"M 33.015625 40.375 \r\nQ 26.375 40.375 22.484375 35.828125 \r\nQ 18.609375 31.296875 18.609375 23.390625 \r\nQ 18.609375 15.53125 22.484375 10.953125 \r\nQ 26.375 6.390625 33.015625 6.390625 \r\nQ 39.65625 6.390625 43.53125 10.953125 \r\nQ 47.40625 15.53125 47.40625 23.390625 \r\nQ 47.40625 31.296875 43.53125 35.828125 \r\nQ 39.65625 40.375 33.015625 40.375 \r\nz\r\nM 52.59375 71.296875 \r\nL 52.59375 62.3125 \r\nQ 48.875 64.0625 45.09375 64.984375 \r\nQ 41.3125 65.921875 37.59375 65.921875 \r\nQ 27.828125 65.921875 22.671875 59.328125 \r\nQ 17.53125 52.734375 16.796875 39.40625 \r\nQ 19.671875 43.65625 24.015625 45.921875 \r\nQ 28.375 48.1875 33.59375 48.1875 \r\nQ 44.578125 48.1875 50.953125 41.515625 \r\nQ 57.328125 34.859375 57.328125 23.390625 \r\nQ 57.328125 12.15625 50.6875 5.359375 \r\nQ 44.046875 -1.421875 33.015625 -1.421875 \r\nQ 20.359375 -1.421875 13.671875 8.265625 \r\nQ 6.984375 17.96875 6.984375 36.375 \r\nQ 6.984375 53.65625 15.1875 63.9375 \r\nQ 23.390625 74.21875 37.203125 74.21875 \r\nQ 40.921875 74.21875 44.703125 73.484375 \r\nQ 48.484375 72.75 52.59375 71.296875 \r\nz\r\n\" id=\"DejaVuSans-54\"/>\r\n      </defs>\r\n      <g transform=\"translate(13.5625 164.033376)scale(0.1 -0.1)\">\r\n       <use xlink:href=\"#DejaVuSans-54\"/>\r\n       <use x=\"63.623047\" xlink:href=\"#DejaVuSans-48\"/>\r\n       <use x=\"127.246094\" xlink:href=\"#DejaVuSans-48\"/>\r\n       <use x=\"190.869141\" xlink:href=\"#DejaVuSans-48\"/>\r\n      </g>\r\n     </g>\r\n    </g>\r\n    <g id=\"ytick_5\">\r\n     <g id=\"line2d_15\">\r\n      <g>\r\n       <use style=\"stroke:#000000;stroke-width:0.8;\" x=\"46.0125\" xlink:href=\"#m3ce3f74480\" y=\"133.726168\"/>\r\n      </g>\r\n     </g>\r\n     <g id=\"text_16\">\r\n      <!-- 8000 -->\r\n      <defs>\r\n       <path d=\"M 31.78125 34.625 \r\nQ 24.75 34.625 20.71875 30.859375 \r\nQ 16.703125 27.09375 16.703125 20.515625 \r\nQ 16.703125 13.921875 20.71875 10.15625 \r\nQ 24.75 6.390625 31.78125 6.390625 \r\nQ 38.8125 6.390625 42.859375 10.171875 \r\nQ 46.921875 13.96875 46.921875 20.515625 \r\nQ 46.921875 27.09375 42.890625 30.859375 \r\nQ 38.875 34.625 31.78125 34.625 \r\nz\r\nM 21.921875 38.8125 \r\nQ 15.578125 40.375 12.03125 44.71875 \r\nQ 8.5 49.078125 8.5 55.328125 \r\nQ 8.5 64.0625 14.71875 69.140625 \r\nQ 20.953125 74.21875 31.78125 74.21875 \r\nQ 42.671875 74.21875 48.875 69.140625 \r\nQ 55.078125 64.0625 55.078125 55.328125 \r\nQ 55.078125 49.078125 51.53125 44.71875 \r\nQ 48 40.375 41.703125 38.8125 \r\nQ 48.828125 37.15625 52.796875 32.3125 \r\nQ 56.78125 27.484375 56.78125 20.515625 \r\nQ 56.78125 9.90625 50.3125 4.234375 \r\nQ 43.84375 -1.421875 31.78125 -1.421875 \r\nQ 19.734375 -1.421875 13.25 4.234375 \r\nQ 6.78125 9.90625 6.78125 20.515625 \r\nQ 6.78125 27.484375 10.78125 32.3125 \r\nQ 14.796875 37.15625 21.921875 38.8125 \r\nz\r\nM 18.3125 54.390625 \r\nQ 18.3125 48.734375 21.84375 45.5625 \r\nQ 25.390625 42.390625 31.78125 42.390625 \r\nQ 38.140625 42.390625 41.71875 45.5625 \r\nQ 45.3125 48.734375 45.3125 54.390625 \r\nQ 45.3125 60.0625 41.71875 63.234375 \r\nQ 38.140625 66.40625 31.78125 66.40625 \r\nQ 25.390625 66.40625 21.84375 63.234375 \r\nQ 18.3125 60.0625 18.3125 54.390625 \r\nz\r\n\" id=\"DejaVuSans-56\"/>\r\n      </defs>\r\n      <g transform=\"translate(13.5625 137.525386)scale(0.1 -0.1)\">\r\n       <use xlink:href=\"#DejaVuSans-56\"/>\r\n       <use x=\"63.623047\" xlink:href=\"#DejaVuSans-48\"/>\r\n       <use x=\"127.246094\" xlink:href=\"#DejaVuSans-48\"/>\r\n       <use x=\"190.869141\" xlink:href=\"#DejaVuSans-48\"/>\r\n      </g>\r\n     </g>\r\n    </g>\r\n    <g id=\"ytick_6\">\r\n     <g id=\"line2d_16\">\r\n      <g>\r\n       <use style=\"stroke:#000000;stroke-width:0.8;\" x=\"46.0125\" xlink:href=\"#m3ce3f74480\" y=\"107.218178\"/>\r\n      </g>\r\n     </g>\r\n     <g id=\"text_17\">\r\n      <!-- 10000 -->\r\n      <defs>\r\n       <path d=\"M 12.40625 8.296875 \r\nL 28.515625 8.296875 \r\nL 28.515625 63.921875 \r\nL 10.984375 60.40625 \r\nL 10.984375 69.390625 \r\nL 28.421875 72.90625 \r\nL 38.28125 72.90625 \r\nL 38.28125 8.296875 \r\nL 54.390625 8.296875 \r\nL 54.390625 0 \r\nL 12.40625 0 \r\nz\r\n\" id=\"DejaVuSans-49\"/>\r\n      </defs>\r\n      <g transform=\"translate(7.2 111.017397)scale(0.1 -0.1)\">\r\n       <use xlink:href=\"#DejaVuSans-49\"/>\r\n       <use x=\"63.623047\" xlink:href=\"#DejaVuSans-48\"/>\r\n       <use x=\"127.246094\" xlink:href=\"#DejaVuSans-48\"/>\r\n       <use x=\"190.869141\" xlink:href=\"#DejaVuSans-48\"/>\r\n       <use x=\"254.492188\" xlink:href=\"#DejaVuSans-48\"/>\r\n      </g>\r\n     </g>\r\n    </g>\r\n    <g id=\"ytick_7\">\r\n     <g id=\"line2d_17\">\r\n      <g>\r\n       <use style=\"stroke:#000000;stroke-width:0.8;\" x=\"46.0125\" xlink:href=\"#m3ce3f74480\" y=\"80.710189\"/>\r\n      </g>\r\n     </g>\r\n     <g id=\"text_18\">\r\n      <!-- 12000 -->\r\n      <g transform=\"translate(7.2 84.509408)scale(0.1 -0.1)\">\r\n       <use xlink:href=\"#DejaVuSans-49\"/>\r\n       <use x=\"63.623047\" xlink:href=\"#DejaVuSans-50\"/>\r\n       <use x=\"127.246094\" xlink:href=\"#DejaVuSans-48\"/>\r\n       <use x=\"190.869141\" xlink:href=\"#DejaVuSans-48\"/>\r\n       <use x=\"254.492188\" xlink:href=\"#DejaVuSans-48\"/>\r\n      </g>\r\n     </g>\r\n    </g>\r\n    <g id=\"ytick_8\">\r\n     <g id=\"line2d_18\">\r\n      <g>\r\n       <use style=\"stroke:#000000;stroke-width:0.8;\" x=\"46.0125\" xlink:href=\"#m3ce3f74480\" y=\"54.2022\"/>\r\n      </g>\r\n     </g>\r\n     <g id=\"text_19\">\r\n      <!-- 14000 -->\r\n      <g transform=\"translate(7.2 58.001418)scale(0.1 -0.1)\">\r\n       <use xlink:href=\"#DejaVuSans-49\"/>\r\n       <use x=\"63.623047\" xlink:href=\"#DejaVuSans-52\"/>\r\n       <use x=\"127.246094\" xlink:href=\"#DejaVuSans-48\"/>\r\n       <use x=\"190.869141\" xlink:href=\"#DejaVuSans-48\"/>\r\n       <use x=\"254.492188\" xlink:href=\"#DejaVuSans-48\"/>\r\n      </g>\r\n     </g>\r\n    </g>\r\n    <g id=\"ytick_9\">\r\n     <g id=\"line2d_19\">\r\n      <g>\r\n       <use style=\"stroke:#000000;stroke-width:0.8;\" x=\"46.0125\" xlink:href=\"#m3ce3f74480\" y=\"27.69421\"/>\r\n      </g>\r\n     </g>\r\n     <g id=\"text_20\">\r\n      <!-- 16000 -->\r\n      <g transform=\"translate(7.2 31.493429)scale(0.1 -0.1)\">\r\n       <use xlink:href=\"#DejaVuSans-49\"/>\r\n       <use x=\"63.623047\" xlink:href=\"#DejaVuSans-54\"/>\r\n       <use x=\"127.246094\" xlink:href=\"#DejaVuSans-48\"/>\r\n       <use x=\"190.869141\" xlink:href=\"#DejaVuSans-48\"/>\r\n       <use x=\"254.492188\" xlink:href=\"#DejaVuSans-48\"/>\r\n      </g>\r\n     </g>\r\n    </g>\r\n   </g>\r\n   <g id=\"patch_13\">\r\n    <path d=\"M 46.0125 239.758125 \r\nL 46.0125 22.318125 \r\n\" style=\"fill:none;stroke:#000000;stroke-linecap:square;stroke-linejoin:miter;stroke-width:0.8;\"/>\r\n   </g>\r\n   <g id=\"patch_14\">\r\n    <path d=\"M 380.8125 239.758125 \r\nL 380.8125 22.318125 \r\n\" style=\"fill:none;stroke:#000000;stroke-linecap:square;stroke-linejoin:miter;stroke-width:0.8;\"/>\r\n   </g>\r\n   <g id=\"patch_15\">\r\n    <path d=\"M 46.0125 239.758125 \r\nL 380.8125 239.758125 \r\n\" style=\"fill:none;stroke:#000000;stroke-linecap:square;stroke-linejoin:miter;stroke-width:0.8;\"/>\r\n   </g>\r\n   <g id=\"patch_16\">\r\n    <path d=\"M 46.0125 22.318125 \r\nL 380.8125 22.318125 \r\n\" style=\"fill:none;stroke:#000000;stroke-linecap:square;stroke-linejoin:miter;stroke-width:0.8;\"/>\r\n   </g>\r\n   <g id=\"text_21\">\r\n    <!-- Top 10 countries with highest smoking men and women -->\r\n    <defs>\r\n     <path id=\"DejaVuSans-32\"/>\r\n     <path d=\"M 4.203125 54.6875 \r\nL 13.1875 54.6875 \r\nL 24.421875 12.015625 \r\nL 35.59375 54.6875 \r\nL 46.1875 54.6875 \r\nL 57.421875 12.015625 \r\nL 68.609375 54.6875 \r\nL 77.59375 54.6875 \r\nL 63.28125 0 \r\nL 52.6875 0 \r\nL 40.921875 44.828125 \r\nL 29.109375 0 \r\nL 18.5 0 \r\nz\r\n\" id=\"DejaVuSans-119\"/>\r\n     <path d=\"M 9.078125 75.984375 \r\nL 18.109375 75.984375 \r\nL 18.109375 31.109375 \r\nL 44.921875 54.6875 \r\nL 56.390625 54.6875 \r\nL 27.390625 29.109375 \r\nL 57.625 0 \r\nL 45.90625 0 \r\nL 18.109375 26.703125 \r\nL 18.109375 0 \r\nL 9.078125 0 \r\nz\r\n\" id=\"DejaVuSans-107\"/>\r\n     <path d=\"M 45.40625 46.390625 \r\nL 45.40625 75.984375 \r\nL 54.390625 75.984375 \r\nL 54.390625 0 \r\nL 45.40625 0 \r\nL 45.40625 8.203125 \r\nQ 42.578125 3.328125 38.25 0.953125 \r\nQ 33.9375 -1.421875 27.875 -1.421875 \r\nQ 17.96875 -1.421875 11.734375 6.484375 \r\nQ 5.515625 14.40625 5.515625 27.296875 \r\nQ 5.515625 40.1875 11.734375 48.09375 \r\nQ 17.96875 56 27.875 56 \r\nQ 33.9375 56 38.25 53.625 \r\nQ 42.578125 51.265625 45.40625 46.390625 \r\nz\r\nM 14.796875 27.296875 \r\nQ 14.796875 17.390625 18.875 11.75 \r\nQ 22.953125 6.109375 30.078125 6.109375 \r\nQ 37.203125 6.109375 41.296875 11.75 \r\nQ 45.40625 17.390625 45.40625 27.296875 \r\nQ 45.40625 37.203125 41.296875 42.84375 \r\nQ 37.203125 48.484375 30.078125 48.484375 \r\nQ 22.953125 48.484375 18.875 42.84375 \r\nQ 14.796875 37.203125 14.796875 27.296875 \r\nz\r\n\" id=\"DejaVuSans-100\"/>\r\n    </defs>\r\n    <g transform=\"translate(44.597813 16.318125)scale(0.12 -0.12)\">\r\n     <use xlink:href=\"#DejaVuSans-84\"/>\r\n     <use x=\"60.818359\" xlink:href=\"#DejaVuSans-111\"/>\r\n     <use x=\"122\" xlink:href=\"#DejaVuSans-112\"/>\r\n     <use x=\"185.476562\" xlink:href=\"#DejaVuSans-32\"/>\r\n     <use x=\"217.263672\" xlink:href=\"#DejaVuSans-49\"/>\r\n     <use x=\"280.886719\" xlink:href=\"#DejaVuSans-48\"/>\r\n     <use x=\"344.509766\" xlink:href=\"#DejaVuSans-32\"/>\r\n     <use x=\"376.296875\" xlink:href=\"#DejaVuSans-99\"/>\r\n     <use x=\"431.277344\" xlink:href=\"#DejaVuSans-111\"/>\r\n     <use x=\"492.458984\" xlink:href=\"#DejaVuSans-117\"/>\r\n     <use x=\"555.837891\" xlink:href=\"#DejaVuSans-110\"/>\r\n     <use x=\"619.216797\" xlink:href=\"#DejaVuSans-116\"/>\r\n     <use x=\"658.425781\" xlink:href=\"#DejaVuSans-114\"/>\r\n     <use x=\"699.539062\" xlink:href=\"#DejaVuSans-105\"/>\r\n     <use x=\"727.322266\" xlink:href=\"#DejaVuSans-101\"/>\r\n     <use x=\"788.845703\" xlink:href=\"#DejaVuSans-115\"/>\r\n     <use x=\"840.945312\" xlink:href=\"#DejaVuSans-32\"/>\r\n     <use x=\"872.732422\" xlink:href=\"#DejaVuSans-119\"/>\r\n     <use x=\"954.519531\" xlink:href=\"#DejaVuSans-105\"/>\r\n     <use x=\"982.302734\" xlink:href=\"#DejaVuSans-116\"/>\r\n     <use x=\"1021.511719\" xlink:href=\"#DejaVuSans-104\"/>\r\n     <use x=\"1084.890625\" xlink:href=\"#DejaVuSans-32\"/>\r\n     <use x=\"1116.677734\" xlink:href=\"#DejaVuSans-104\"/>\r\n     <use x=\"1180.056641\" xlink:href=\"#DejaVuSans-105\"/>\r\n     <use x=\"1207.839844\" xlink:href=\"#DejaVuSans-103\"/>\r\n     <use x=\"1271.316406\" xlink:href=\"#DejaVuSans-104\"/>\r\n     <use x=\"1334.695312\" xlink:href=\"#DejaVuSans-101\"/>\r\n     <use x=\"1396.21875\" xlink:href=\"#DejaVuSans-115\"/>\r\n     <use x=\"1448.318359\" xlink:href=\"#DejaVuSans-116\"/>\r\n     <use x=\"1487.527344\" xlink:href=\"#DejaVuSans-32\"/>\r\n     <use x=\"1519.314453\" xlink:href=\"#DejaVuSans-115\"/>\r\n     <use x=\"1571.414062\" xlink:href=\"#DejaVuSans-109\"/>\r\n     <use x=\"1668.826172\" xlink:href=\"#DejaVuSans-111\"/>\r\n     <use x=\"1730.007812\" xlink:href=\"#DejaVuSans-107\"/>\r\n     <use x=\"1787.917969\" xlink:href=\"#DejaVuSans-105\"/>\r\n     <use x=\"1815.701172\" xlink:href=\"#DejaVuSans-110\"/>\r\n     <use x=\"1879.080078\" xlink:href=\"#DejaVuSans-103\"/>\r\n     <use x=\"1942.556641\" xlink:href=\"#DejaVuSans-32\"/>\r\n     <use x=\"1974.34375\" xlink:href=\"#DejaVuSans-109\"/>\r\n     <use x=\"2071.755859\" xlink:href=\"#DejaVuSans-101\"/>\r\n     <use x=\"2133.279297\" xlink:href=\"#DejaVuSans-110\"/>\r\n     <use x=\"2196.658203\" xlink:href=\"#DejaVuSans-32\"/>\r\n     <use x=\"2228.445312\" xlink:href=\"#DejaVuSans-97\"/>\r\n     <use x=\"2289.724609\" xlink:href=\"#DejaVuSans-110\"/>\r\n     <use x=\"2353.103516\" xlink:href=\"#DejaVuSans-100\"/>\r\n     <use x=\"2416.580078\" xlink:href=\"#DejaVuSans-32\"/>\r\n     <use x=\"2448.367188\" xlink:href=\"#DejaVuSans-119\"/>\r\n     <use x=\"2530.154297\" xlink:href=\"#DejaVuSans-111\"/>\r\n     <use x=\"2591.335938\" xlink:href=\"#DejaVuSans-109\"/>\r\n     <use x=\"2688.748047\" xlink:href=\"#DejaVuSans-101\"/>\r\n     <use x=\"2750.271484\" xlink:href=\"#DejaVuSans-110\"/>\r\n    </g>\r\n   </g>\r\n   <g id=\"legend_1\">\r\n    <g id=\"patch_17\">\r\n     <path d=\"M 269.684375 45.274375 \r\nL 373.8125 45.274375 \r\nQ 375.8125 45.274375 375.8125 43.274375 \r\nL 375.8125 29.318125 \r\nQ 375.8125 27.318125 373.8125 27.318125 \r\nL 269.684375 27.318125 \r\nQ 267.684375 27.318125 267.684375 29.318125 \r\nL 267.684375 43.274375 \r\nQ 267.684375 45.274375 269.684375 45.274375 \r\nz\r\n\" style=\"fill:#ffffff;opacity:0.8;stroke:#cccccc;stroke-linejoin:miter;\"/>\r\n    </g>\r\n    <g id=\"patch_18\">\r\n     <path d=\"M 271.684375 38.916562 \r\nL 291.684375 38.916562 \r\nL 291.684375 31.916562 \r\nL 271.684375 31.916562 \r\nz\r\n\" style=\"fill:#1f77b4;\"/>\r\n    </g>\r\n    <g id=\"text_22\">\r\n     <!-- male_smokers -->\r\n     <defs>\r\n      <path d=\"M 50.984375 -16.609375 \r\nL 50.984375 -23.578125 \r\nL -0.984375 -23.578125 \r\nL -0.984375 -16.609375 \r\nz\r\n\" id=\"DejaVuSans-95\"/>\r\n     </defs>\r\n     <g transform=\"translate(299.684375 38.916562)scale(0.1 -0.1)\">\r\n      <use xlink:href=\"#DejaVuSans-109\"/>\r\n      <use x=\"97.412109\" xlink:href=\"#DejaVuSans-97\"/>\r\n      <use x=\"158.691406\" xlink:href=\"#DejaVuSans-108\"/>\r\n      <use x=\"186.474609\" xlink:href=\"#DejaVuSans-101\"/>\r\n      <use x=\"247.998047\" xlink:href=\"#DejaVuSans-95\"/>\r\n      <use x=\"297.998047\" xlink:href=\"#DejaVuSans-115\"/>\r\n      <use x=\"350.097656\" xlink:href=\"#DejaVuSans-109\"/>\r\n      <use x=\"447.509766\" xlink:href=\"#DejaVuSans-111\"/>\r\n      <use x=\"508.691406\" xlink:href=\"#DejaVuSans-107\"/>\r\n      <use x=\"566.554688\" xlink:href=\"#DejaVuSans-101\"/>\r\n      <use x=\"628.078125\" xlink:href=\"#DejaVuSans-114\"/>\r\n      <use x=\"669.191406\" xlink:href=\"#DejaVuSans-115\"/>\r\n     </g>\r\n    </g>\r\n   </g>\r\n  </g>\r\n </g>\r\n <defs>\r\n  <clipPath id=\"p8f691c63ea\">\r\n   <rect height=\"217.44\" width=\"334.8\" x=\"46.0125\" y=\"22.318125\"/>\r\n  </clipPath>\r\n </defs>\r\n</svg>\r\n",
      "image/png": "[encoded data removed]"
     },
     "metadata": {
      "needs_background": "light"
     }
    },
    {
     "output_type": "display_data",
     "data": {
      "text/plain": "<Figure size 432x288 with 1 Axes>",
      "image/svg+xml": "<?xml version=\"1.0\" encoding=\"utf-8\" standalone=\"no\"?>\r\n<!DOCTYPE svg PUBLIC \"-//W3C//DTD SVG 1.1//EN\"\r\n  \"http://www.w3.org/Graphics/SVG/1.1/DTD/svg11.dtd\">\r\n<!-- Created with matplotlib (https://matplotlib.org/) -->\r\n<svg height=\"344.219063pt\" version=\"1.1\" viewBox=\"0 0 383.064687 344.219063\" width=\"383.064687pt\" xmlns=\"http://www.w3.org/2000/svg\" xmlns:xlink=\"http://www.w3.org/1999/xlink\">\r\n <defs>\r\n  <style type=\"text/css\">\r\n*{stroke-linecap:butt;stroke-linejoin:round;}\r\n  </style>\r\n </defs>\r\n <g id=\"figure_1\">\r\n  <g id=\"patch_1\">\r\n   <path d=\"M -0 344.219063 \r\nL 383.064687 344.219063 \r\nL 383.064687 0 \r\nL -0 0 \r\nz\r\n\" style=\"fill:none;\"/>\r\n  </g>\r\n  <g id=\"axes_1\">\r\n   <g id=\"patch_2\">\r\n    <path d=\"M 39.65 239.758125 \r\nL 374.45 239.758125 \r\nL 374.45 22.318125 \r\nL 39.65 22.318125 \r\nz\r\n\" style=\"fill:#ffffff;\"/>\r\n   </g>\r\n   <g id=\"patch_3\">\r\n    <path clip-path=\"url(#p7e8b1999a0)\" d=\"M 48.02 239.758125 \r\nL 64.76 239.758125 \r\nL 64.76 32.672411 \r\nL 48.02 32.672411 \r\nz\r\n\" style=\"fill:#1f77b4;\"/>\r\n   </g>\r\n   <g id=\"patch_4\">\r\n    <path clip-path=\"url(#p7e8b1999a0)\" d=\"M 81.5 239.758125 \r\nL 98.24 239.758125 \r\nL 98.24 51.424657 \r\nL 81.5 51.424657 \r\nz\r\n\" style=\"fill:#1f77b4;\"/>\r\n   </g>\r\n   <g id=\"patch_5\">\r\n    <path clip-path=\"url(#p7e8b1999a0)\" d=\"M 114.98 239.758125 \r\nL 131.72 239.758125 \r\nL 131.72 55.614851 \r\nL 114.98 55.614851 \r\nz\r\n\" style=\"fill:#1f77b4;\"/>\r\n   </g>\r\n   <g id=\"patch_6\">\r\n    <path clip-path=\"url(#p7e8b1999a0)\" d=\"M 148.46 239.758125 \r\nL 165.2 239.758125 \r\nL 165.2 58.029845 \r\nL 148.46 58.029845 \r\nz\r\n\" style=\"fill:#1f77b4;\"/>\r\n   </g>\r\n   <g id=\"patch_7\">\r\n    <path clip-path=\"url(#p7e8b1999a0)\" d=\"M 181.94 239.758125 \r\nL 198.68 239.758125 \r\nL 198.68 60.555226 \r\nL 181.94 60.555226 \r\nz\r\n\" style=\"fill:#1f77b4;\"/>\r\n   </g>\r\n   <g id=\"patch_8\">\r\n    <path clip-path=\"url(#p7e8b1999a0)\" d=\"M 215.42 239.758125 \r\nL 232.16 239.758125 \r\nL 232.16 68.293569 \r\nL 215.42 68.293569 \r\nz\r\n\" style=\"fill:#1f77b4;\"/>\r\n   </g>\r\n   <g id=\"patch_9\">\r\n    <path clip-path=\"url(#p7e8b1999a0)\" d=\"M 248.9 239.758125 \r\nL 265.64 239.758125 \r\nL 265.64 69.501065 \r\nL 248.9 69.501065 \r\nz\r\n\" style=\"fill:#1f77b4;\"/>\r\n   </g>\r\n   <g id=\"patch_10\">\r\n    <path clip-path=\"url(#p7e8b1999a0)\" d=\"M 282.38 239.758125 \r\nL 299.12 239.758125 \r\nL 299.12 74.948318 \r\nL 282.38 74.948318 \r\nz\r\n\" style=\"fill:#1f77b4;\"/>\r\n   </g>\r\n   <g id=\"patch_11\">\r\n    <path clip-path=\"url(#p7e8b1999a0)\" d=\"M 315.86 239.758125 \r\nL 332.6 239.758125 \r\nL 332.6 77.349795 \r\nL 315.86 77.349795 \r\nz\r\n\" style=\"fill:#1f77b4;\"/>\r\n   </g>\r\n   <g id=\"patch_12\">\r\n    <path clip-path=\"url(#p7e8b1999a0)\" d=\"M 349.34 239.758125 \r\nL 366.08 239.758125 \r\nL 366.08 83.35574 \r\nL 349.34 83.35574 \r\nz\r\n\" style=\"fill:#1f77b4;\"/>\r\n   </g>\r\n   <g id=\"matplotlib.axis_1\">\r\n    <g id=\"xtick_1\">\r\n     <g id=\"line2d_1\">\r\n      <defs>\r\n       <path d=\"M 0 0 \r\nL 0 3.5 \r\n\" id=\"mc572c895bd\" style=\"stroke:#000000;stroke-width:0.8;\"/>\r\n      </defs>\r\n      <g>\r\n       <use style=\"stroke:#000000;stroke-width:0.8;\" x=\"56.39\" xlink:href=\"#mc572c895bd\" y=\"239.758125\"/>\r\n      </g>\r\n     </g>\r\n     <g id=\"text_1\">\r\n      <!-- Croatia -->\r\n      <defs>\r\n       <path d=\"M 64.40625 67.28125 \r\nL 64.40625 56.890625 \r\nQ 59.421875 61.53125 53.78125 63.8125 \r\nQ 48.140625 66.109375 41.796875 66.109375 \r\nQ 29.296875 66.109375 22.65625 58.46875 \r\nQ 16.015625 50.828125 16.015625 36.375 \r\nQ 16.015625 21.96875 22.65625 14.328125 \r\nQ 29.296875 6.6875 41.796875 6.6875 \r\nQ 48.140625 6.6875 53.78125 8.984375 \r\nQ 59.421875 11.28125 64.40625 15.921875 \r\nL 64.40625 5.609375 \r\nQ 59.234375 2.09375 53.4375 0.328125 \r\nQ 47.65625 -1.421875 41.21875 -1.421875 \r\nQ 24.65625 -1.421875 15.125 8.703125 \r\nQ 5.609375 18.84375 5.609375 36.375 \r\nQ 5.609375 53.953125 15.125 64.078125 \r\nQ 24.65625 74.21875 41.21875 74.21875 \r\nQ 47.75 74.21875 53.53125 72.484375 \r\nQ 59.328125 70.75 64.40625 67.28125 \r\nz\r\n\" id=\"DejaVuSans-67\"/>\r\n       <path d=\"M 41.109375 46.296875 \r\nQ 39.59375 47.171875 37.8125 47.578125 \r\nQ 36.03125 48 33.890625 48 \r\nQ 26.265625 48 22.1875 43.046875 \r\nQ 18.109375 38.09375 18.109375 28.8125 \r\nL 18.109375 0 \r\nL 9.078125 0 \r\nL 9.078125 54.6875 \r\nL 18.109375 54.6875 \r\nL 18.109375 46.1875 \r\nQ 20.953125 51.171875 25.484375 53.578125 \r\nQ 30.03125 56 36.53125 56 \r\nQ 37.453125 56 38.578125 55.875 \r\nQ 39.703125 55.765625 41.0625 55.515625 \r\nz\r\n\" id=\"DejaVuSans-114\"/>\r\n       <path d=\"M 30.609375 48.390625 \r\nQ 23.390625 48.390625 19.1875 42.75 \r\nQ 14.984375 37.109375 14.984375 27.296875 \r\nQ 14.984375 17.484375 19.15625 11.84375 \r\nQ 23.34375 6.203125 30.609375 6.203125 \r\nQ 37.796875 6.203125 41.984375 11.859375 \r\nQ 46.1875 17.53125 46.1875 27.296875 \r\nQ 46.1875 37.015625 41.984375 42.703125 \r\nQ 37.796875 48.390625 30.609375 48.390625 \r\nz\r\nM 30.609375 56 \r\nQ 42.328125 56 49.015625 48.375 \r\nQ 55.71875 40.765625 55.71875 27.296875 \r\nQ 55.71875 13.875 49.015625 6.21875 \r\nQ 42.328125 -1.421875 30.609375 -1.421875 \r\nQ 18.84375 -1.421875 12.171875 6.21875 \r\nQ 5.515625 13.875 5.515625 27.296875 \r\nQ 5.515625 40.765625 12.171875 48.375 \r\nQ 18.84375 56 30.609375 56 \r\nz\r\n\" id=\"DejaVuSans-111\"/>\r\n       <path d=\"M 34.28125 27.484375 \r\nQ 23.390625 27.484375 19.1875 25 \r\nQ 14.984375 22.515625 14.984375 16.5 \r\nQ 14.984375 11.71875 18.140625 8.90625 \r\nQ 21.296875 6.109375 26.703125 6.109375 \r\nQ 34.1875 6.109375 38.703125 11.40625 \r\nQ 43.21875 16.703125 43.21875 25.484375 \r\nL 43.21875 27.484375 \r\nz\r\nM 52.203125 31.203125 \r\nL 52.203125 0 \r\nL 43.21875 0 \r\nL 43.21875 8.296875 \r\nQ 40.140625 3.328125 35.546875 0.953125 \r\nQ 30.953125 -1.421875 24.3125 -1.421875 \r\nQ 15.921875 -1.421875 10.953125 3.296875 \r\nQ 6 8.015625 6 15.921875 \r\nQ 6 25.140625 12.171875 29.828125 \r\nQ 18.359375 34.515625 30.609375 34.515625 \r\nL 43.21875 34.515625 \r\nL 43.21875 35.40625 \r\nQ 43.21875 41.609375 39.140625 45 \r\nQ 35.0625 48.390625 27.6875 48.390625 \r\nQ 23 48.390625 18.546875 47.265625 \r\nQ 14.109375 46.140625 10.015625 43.890625 \r\nL 10.015625 52.203125 \r\nQ 14.9375 54.109375 19.578125 55.046875 \r\nQ 24.21875 56 28.609375 56 \r\nQ 40.484375 56 46.34375 49.84375 \r\nQ 52.203125 43.703125 52.203125 31.203125 \r\nz\r\n\" id=\"DejaVuSans-97\"/>\r\n       <path d=\"M 18.3125 70.21875 \r\nL 18.3125 54.6875 \r\nL 36.8125 54.6875 \r\nL 36.8125 47.703125 \r\nL 18.3125 47.703125 \r\nL 18.3125 18.015625 \r\nQ 18.3125 11.328125 20.140625 9.421875 \r\nQ 21.96875 7.515625 27.59375 7.515625 \r\nL 36.8125 7.515625 \r\nL 36.8125 0 \r\nL 27.59375 0 \r\nQ 17.1875 0 13.234375 3.875 \r\nQ 9.28125 7.765625 9.28125 18.015625 \r\nL 9.28125 47.703125 \r\nL 2.6875 47.703125 \r\nL 2.6875 54.6875 \r\nL 9.28125 54.6875 \r\nL 9.28125 70.21875 \r\nz\r\n\" id=\"DejaVuSans-116\"/>\r\n       <path d=\"M 9.421875 54.6875 \r\nL 18.40625 54.6875 \r\nL 18.40625 0 \r\nL 9.421875 0 \r\nz\r\nM 9.421875 75.984375 \r\nL 18.40625 75.984375 \r\nL 18.40625 64.59375 \r\nL 9.421875 64.59375 \r\nz\r\n\" id=\"DejaVuSans-105\"/>\r\n      </defs>\r\n      <g transform=\"translate(59.149375 282.922188)rotate(-90)scale(0.1 -0.1)\">\r\n       <use xlink:href=\"#DejaVuSans-67\"/>\r\n       <use x=\"69.824219\" xlink:href=\"#DejaVuSans-114\"/>\r\n       <use x=\"110.90625\" xlink:href=\"#DejaVuSans-111\"/>\r\n       <use x=\"172.087891\" xlink:href=\"#DejaVuSans-97\"/>\r\n       <use x=\"233.367188\" xlink:href=\"#DejaVuSans-116\"/>\r\n       <use x=\"272.576172\" xlink:href=\"#DejaVuSans-105\"/>\r\n       <use x=\"300.359375\" xlink:href=\"#DejaVuSans-97\"/>\r\n      </g>\r\n     </g>\r\n    </g>\r\n    <g id=\"xtick_2\">\r\n     <g id=\"line2d_2\">\r\n      <g>\r\n       <use style=\"stroke:#000000;stroke-width:0.8;\" x=\"89.87\" xlink:href=\"#mc572c895bd\" y=\"239.758125\"/>\r\n      </g>\r\n     </g>\r\n     <g id=\"text_2\">\r\n      <!-- Montenegro -->\r\n      <defs>\r\n       <path d=\"M 9.8125 72.90625 \r\nL 24.515625 72.90625 \r\nL 43.109375 23.296875 \r\nL 61.8125 72.90625 \r\nL 76.515625 72.90625 \r\nL 76.515625 0 \r\nL 66.890625 0 \r\nL 66.890625 64.015625 \r\nL 48.09375 14.015625 \r\nL 38.1875 14.015625 \r\nL 19.390625 64.015625 \r\nL 19.390625 0 \r\nL 9.8125 0 \r\nz\r\n\" id=\"DejaVuSans-77\"/>\r\n       <path d=\"M 54.890625 33.015625 \r\nL 54.890625 0 \r\nL 45.90625 0 \r\nL 45.90625 32.71875 \r\nQ 45.90625 40.484375 42.875 44.328125 \r\nQ 39.84375 48.1875 33.796875 48.1875 \r\nQ 26.515625 48.1875 22.3125 43.546875 \r\nQ 18.109375 38.921875 18.109375 30.90625 \r\nL 18.109375 0 \r\nL 9.078125 0 \r\nL 9.078125 54.6875 \r\nL 18.109375 54.6875 \r\nL 18.109375 46.1875 \r\nQ 21.34375 51.125 25.703125 53.5625 \r\nQ 30.078125 56 35.796875 56 \r\nQ 45.21875 56 50.046875 50.171875 \r\nQ 54.890625 44.34375 54.890625 33.015625 \r\nz\r\n\" id=\"DejaVuSans-110\"/>\r\n       <path d=\"M 56.203125 29.59375 \r\nL 56.203125 25.203125 \r\nL 14.890625 25.203125 \r\nQ 15.484375 15.921875 20.484375 11.0625 \r\nQ 25.484375 6.203125 34.421875 6.203125 \r\nQ 39.59375 6.203125 44.453125 7.46875 \r\nQ 49.3125 8.734375 54.109375 11.28125 \r\nL 54.109375 2.78125 \r\nQ 49.265625 0.734375 44.1875 -0.34375 \r\nQ 39.109375 -1.421875 33.890625 -1.421875 \r\nQ 20.796875 -1.421875 13.15625 6.1875 \r\nQ 5.515625 13.8125 5.515625 26.8125 \r\nQ 5.515625 40.234375 12.765625 48.109375 \r\nQ 20.015625 56 32.328125 56 \r\nQ 43.359375 56 49.78125 48.890625 \r\nQ 56.203125 41.796875 56.203125 29.59375 \r\nz\r\nM 47.21875 32.234375 \r\nQ 47.125 39.59375 43.09375 43.984375 \r\nQ 39.0625 48.390625 32.421875 48.390625 \r\nQ 24.90625 48.390625 20.390625 44.140625 \r\nQ 15.875 39.890625 15.1875 32.171875 \r\nz\r\n\" id=\"DejaVuSans-101\"/>\r\n       <path d=\"M 45.40625 27.984375 \r\nQ 45.40625 37.75 41.375 43.109375 \r\nQ 37.359375 48.484375 30.078125 48.484375 \r\nQ 22.859375 48.484375 18.828125 43.109375 \r\nQ 14.796875 37.75 14.796875 27.984375 \r\nQ 14.796875 18.265625 18.828125 12.890625 \r\nQ 22.859375 7.515625 30.078125 7.515625 \r\nQ 37.359375 7.515625 41.375 12.890625 \r\nQ 45.40625 18.265625 45.40625 27.984375 \r\nz\r\nM 54.390625 6.78125 \r\nQ 54.390625 -7.171875 48.1875 -13.984375 \r\nQ 42 -20.796875 29.203125 -20.796875 \r\nQ 24.46875 -20.796875 20.265625 -20.09375 \r\nQ 16.0625 -19.390625 12.109375 -17.921875 \r\nL 12.109375 -9.1875 \r\nQ 16.0625 -11.328125 19.921875 -12.34375 \r\nQ 23.78125 -13.375 27.78125 -13.375 \r\nQ 36.625 -13.375 41.015625 -8.765625 \r\nQ 45.40625 -4.15625 45.40625 5.171875 \r\nL 45.40625 9.625 \r\nQ 42.625 4.78125 38.28125 2.390625 \r\nQ 33.9375 0 27.875 0 \r\nQ 17.828125 0 11.671875 7.65625 \r\nQ 5.515625 15.328125 5.515625 27.984375 \r\nQ 5.515625 40.671875 11.671875 48.328125 \r\nQ 17.828125 56 27.875 56 \r\nQ 33.9375 56 38.28125 53.609375 \r\nQ 42.625 51.21875 45.40625 46.390625 \r\nL 45.40625 54.6875 \r\nL 54.390625 54.6875 \r\nz\r\n\" id=\"DejaVuSans-103\"/>\r\n      </defs>\r\n      <g transform=\"translate(92.629375 306.981562)rotate(-90)scale(0.1 -0.1)\">\r\n       <use xlink:href=\"#DejaVuSans-77\"/>\r\n       <use x=\"86.279297\" xlink:href=\"#DejaVuSans-111\"/>\r\n       <use x=\"147.460938\" xlink:href=\"#DejaVuSans-110\"/>\r\n       <use x=\"210.839844\" xlink:href=\"#DejaVuSans-116\"/>\r\n       <use x=\"250.048828\" xlink:href=\"#DejaVuSans-101\"/>\r\n       <use x=\"311.572266\" xlink:href=\"#DejaVuSans-110\"/>\r\n       <use x=\"374.951172\" xlink:href=\"#DejaVuSans-101\"/>\r\n       <use x=\"436.474609\" xlink:href=\"#DejaVuSans-103\"/>\r\n       <use x=\"499.951172\" xlink:href=\"#DejaVuSans-114\"/>\r\n       <use x=\"541.033203\" xlink:href=\"#DejaVuSans-111\"/>\r\n      </g>\r\n     </g>\r\n    </g>\r\n    <g id=\"xtick_3\">\r\n     <g id=\"line2d_3\">\r\n      <g>\r\n       <use style=\"stroke:#000000;stroke-width:0.8;\" x=\"123.35\" xlink:href=\"#mc572c895bd\" y=\"239.758125\"/>\r\n      </g>\r\n     </g>\r\n     <g id=\"text_3\">\r\n      <!-- Czech Republic -->\r\n      <defs>\r\n       <path d=\"M 5.515625 54.6875 \r\nL 48.1875 54.6875 \r\nL 48.1875 46.484375 \r\nL 14.40625 7.171875 \r\nL 48.1875 7.171875 \r\nL 48.1875 0 \r\nL 4.296875 0 \r\nL 4.296875 8.203125 \r\nL 38.09375 47.515625 \r\nL 5.515625 47.515625 \r\nz\r\n\" id=\"DejaVuSans-122\"/>\r\n       <path d=\"M 48.78125 52.59375 \r\nL 48.78125 44.1875 \r\nQ 44.96875 46.296875 41.140625 47.34375 \r\nQ 37.3125 48.390625 33.40625 48.390625 \r\nQ 24.65625 48.390625 19.8125 42.84375 \r\nQ 14.984375 37.3125 14.984375 27.296875 \r\nQ 14.984375 17.28125 19.8125 11.734375 \r\nQ 24.65625 6.203125 33.40625 6.203125 \r\nQ 37.3125 6.203125 41.140625 7.25 \r\nQ 44.96875 8.296875 48.78125 10.40625 \r\nL 48.78125 2.09375 \r\nQ 45.015625 0.34375 40.984375 -0.53125 \r\nQ 36.96875 -1.421875 32.421875 -1.421875 \r\nQ 20.0625 -1.421875 12.78125 6.34375 \r\nQ 5.515625 14.109375 5.515625 27.296875 \r\nQ 5.515625 40.671875 12.859375 48.328125 \r\nQ 20.21875 56 33.015625 56 \r\nQ 37.15625 56 41.109375 55.140625 \r\nQ 45.0625 54.296875 48.78125 52.59375 \r\nz\r\n\" id=\"DejaVuSans-99\"/>\r\n       <path d=\"M 54.890625 33.015625 \r\nL 54.890625 0 \r\nL 45.90625 0 \r\nL 45.90625 32.71875 \r\nQ 45.90625 40.484375 42.875 44.328125 \r\nQ 39.84375 48.1875 33.796875 48.1875 \r\nQ 26.515625 48.1875 22.3125 43.546875 \r\nQ 18.109375 38.921875 18.109375 30.90625 \r\nL 18.109375 0 \r\nL 9.078125 0 \r\nL 9.078125 75.984375 \r\nL 18.109375 75.984375 \r\nL 18.109375 46.1875 \r\nQ 21.34375 51.125 25.703125 53.5625 \r\nQ 30.078125 56 35.796875 56 \r\nQ 45.21875 56 50.046875 50.171875 \r\nQ 54.890625 44.34375 54.890625 33.015625 \r\nz\r\n\" id=\"DejaVuSans-104\"/>\r\n       <path id=\"DejaVuSans-32\"/>\r\n       <path d=\"M 44.390625 34.1875 \r\nQ 47.5625 33.109375 50.5625 29.59375 \r\nQ 53.5625 26.078125 56.59375 19.921875 \r\nL 66.609375 0 \r\nL 56 0 \r\nL 46.6875 18.703125 \r\nQ 43.0625 26.03125 39.671875 28.421875 \r\nQ 36.28125 30.8125 30.421875 30.8125 \r\nL 19.671875 30.8125 \r\nL 19.671875 0 \r\nL 9.8125 0 \r\nL 9.8125 72.90625 \r\nL 32.078125 72.90625 \r\nQ 44.578125 72.90625 50.734375 67.671875 \r\nQ 56.890625 62.453125 56.890625 51.90625 \r\nQ 56.890625 45.015625 53.6875 40.46875 \r\nQ 50.484375 35.9375 44.390625 34.1875 \r\nz\r\nM 19.671875 64.796875 \r\nL 19.671875 38.921875 \r\nL 32.078125 38.921875 \r\nQ 39.203125 38.921875 42.84375 42.21875 \r\nQ 46.484375 45.515625 46.484375 51.90625 \r\nQ 46.484375 58.296875 42.84375 61.546875 \r\nQ 39.203125 64.796875 32.078125 64.796875 \r\nz\r\n\" id=\"DejaVuSans-82\"/>\r\n       <path d=\"M 18.109375 8.203125 \r\nL 18.109375 -20.796875 \r\nL 9.078125 -20.796875 \r\nL 9.078125 54.6875 \r\nL 18.109375 54.6875 \r\nL 18.109375 46.390625 \r\nQ 20.953125 51.265625 25.265625 53.625 \r\nQ 29.59375 56 35.59375 56 \r\nQ 45.5625 56 51.78125 48.09375 \r\nQ 58.015625 40.1875 58.015625 27.296875 \r\nQ 58.015625 14.40625 51.78125 6.484375 \r\nQ 45.5625 -1.421875 35.59375 -1.421875 \r\nQ 29.59375 -1.421875 25.265625 0.953125 \r\nQ 20.953125 3.328125 18.109375 8.203125 \r\nz\r\nM 48.6875 27.296875 \r\nQ 48.6875 37.203125 44.609375 42.84375 \r\nQ 40.53125 48.484375 33.40625 48.484375 \r\nQ 26.265625 48.484375 22.1875 42.84375 \r\nQ 18.109375 37.203125 18.109375 27.296875 \r\nQ 18.109375 17.390625 22.1875 11.75 \r\nQ 26.265625 6.109375 33.40625 6.109375 \r\nQ 40.53125 6.109375 44.609375 11.75 \r\nQ 48.6875 17.390625 48.6875 27.296875 \r\nz\r\n\" id=\"DejaVuSans-112\"/>\r\n       <path d=\"M 8.5 21.578125 \r\nL 8.5 54.6875 \r\nL 17.484375 54.6875 \r\nL 17.484375 21.921875 \r\nQ 17.484375 14.15625 20.5 10.265625 \r\nQ 23.53125 6.390625 29.59375 6.390625 \r\nQ 36.859375 6.390625 41.078125 11.03125 \r\nQ 45.3125 15.671875 45.3125 23.6875 \r\nL 45.3125 54.6875 \r\nL 54.296875 54.6875 \r\nL 54.296875 0 \r\nL 45.3125 0 \r\nL 45.3125 8.40625 \r\nQ 42.046875 3.421875 37.71875 1 \r\nQ 33.40625 -1.421875 27.6875 -1.421875 \r\nQ 18.265625 -1.421875 13.375 4.4375 \r\nQ 8.5 10.296875 8.5 21.578125 \r\nz\r\nM 31.109375 56 \r\nz\r\n\" id=\"DejaVuSans-117\"/>\r\n       <path d=\"M 48.6875 27.296875 \r\nQ 48.6875 37.203125 44.609375 42.84375 \r\nQ 40.53125 48.484375 33.40625 48.484375 \r\nQ 26.265625 48.484375 22.1875 42.84375 \r\nQ 18.109375 37.203125 18.109375 27.296875 \r\nQ 18.109375 17.390625 22.1875 11.75 \r\nQ 26.265625 6.109375 33.40625 6.109375 \r\nQ 40.53125 6.109375 44.609375 11.75 \r\nQ 48.6875 17.390625 48.6875 27.296875 \r\nz\r\nM 18.109375 46.390625 \r\nQ 20.953125 51.265625 25.265625 53.625 \r\nQ 29.59375 56 35.59375 56 \r\nQ 45.5625 56 51.78125 48.09375 \r\nQ 58.015625 40.1875 58.015625 27.296875 \r\nQ 58.015625 14.40625 51.78125 6.484375 \r\nQ 45.5625 -1.421875 35.59375 -1.421875 \r\nQ 29.59375 -1.421875 25.265625 0.953125 \r\nQ 20.953125 3.328125 18.109375 8.203125 \r\nL 18.109375 0 \r\nL 9.078125 0 \r\nL 9.078125 75.984375 \r\nL 18.109375 75.984375 \r\nz\r\n\" id=\"DejaVuSans-98\"/>\r\n       <path d=\"M 9.421875 75.984375 \r\nL 18.40625 75.984375 \r\nL 18.40625 0 \r\nL 9.421875 0 \r\nz\r\n\" id=\"DejaVuSans-108\"/>\r\n      </defs>\r\n      <g transform=\"translate(126.109375 323.340937)rotate(-90)scale(0.1 -0.1)\">\r\n       <use xlink:href=\"#DejaVuSans-67\"/>\r\n       <use x=\"69.824219\" xlink:href=\"#DejaVuSans-122\"/>\r\n       <use x=\"122.314453\" xlink:href=\"#DejaVuSans-101\"/>\r\n       <use x=\"183.837891\" xlink:href=\"#DejaVuSans-99\"/>\r\n       <use x=\"238.818359\" xlink:href=\"#DejaVuSans-104\"/>\r\n       <use x=\"302.197266\" xlink:href=\"#DejaVuSans-32\"/>\r\n       <use x=\"333.984375\" xlink:href=\"#DejaVuSans-82\"/>\r\n       <use x=\"403.404297\" xlink:href=\"#DejaVuSans-101\"/>\r\n       <use x=\"464.927734\" xlink:href=\"#DejaVuSans-112\"/>\r\n       <use x=\"528.404297\" xlink:href=\"#DejaVuSans-117\"/>\r\n       <use x=\"591.783203\" xlink:href=\"#DejaVuSans-98\"/>\r\n       <use x=\"655.259766\" xlink:href=\"#DejaVuSans-108\"/>\r\n       <use x=\"683.042969\" xlink:href=\"#DejaVuSans-105\"/>\r\n       <use x=\"710.826172\" xlink:href=\"#DejaVuSans-99\"/>\r\n      </g>\r\n     </g>\r\n    </g>\r\n    <g id=\"xtick_4\">\r\n     <g id=\"line2d_4\">\r\n      <g>\r\n       <use style=\"stroke:#000000;stroke-width:0.8;\" x=\"156.83\" xlink:href=\"#mc572c895bd\" y=\"239.758125\"/>\r\n      </g>\r\n     </g>\r\n     <g id=\"text_4\">\r\n      <!-- France -->\r\n      <defs>\r\n       <path d=\"M 9.8125 72.90625 \r\nL 51.703125 72.90625 \r\nL 51.703125 64.59375 \r\nL 19.671875 64.59375 \r\nL 19.671875 43.109375 \r\nL 48.578125 43.109375 \r\nL 48.578125 34.8125 \r\nL 19.671875 34.8125 \r\nL 19.671875 0 \r\nL 9.8125 0 \r\nz\r\n\" id=\"DejaVuSans-70\"/>\r\n      </defs>\r\n      <g transform=\"translate(159.589375 280.726875)rotate(-90)scale(0.1 -0.1)\">\r\n       <use xlink:href=\"#DejaVuSans-70\"/>\r\n       <use x=\"57.410156\" xlink:href=\"#DejaVuSans-114\"/>\r\n       <use x=\"98.523438\" xlink:href=\"#DejaVuSans-97\"/>\r\n       <use x=\"159.802734\" xlink:href=\"#DejaVuSans-110\"/>\r\n       <use x=\"223.181641\" xlink:href=\"#DejaVuSans-99\"/>\r\n       <use x=\"278.162109\" xlink:href=\"#DejaVuSans-101\"/>\r\n      </g>\r\n     </g>\r\n    </g>\r\n    <g id=\"xtick_5\">\r\n     <g id=\"line2d_5\">\r\n      <g>\r\n       <use style=\"stroke:#000000;stroke-width:0.8;\" x=\"190.31\" xlink:href=\"#mc572c895bd\" y=\"239.758125\"/>\r\n      </g>\r\n     </g>\r\n     <g id=\"text_5\">\r\n      <!-- Serbia -->\r\n      <defs>\r\n       <path d=\"M 53.515625 70.515625 \r\nL 53.515625 60.890625 \r\nQ 47.90625 63.578125 42.921875 64.890625 \r\nQ 37.9375 66.21875 33.296875 66.21875 \r\nQ 25.25 66.21875 20.875 63.09375 \r\nQ 16.5 59.96875 16.5 54.203125 \r\nQ 16.5 49.359375 19.40625 46.890625 \r\nQ 22.3125 44.4375 30.421875 42.921875 \r\nL 36.375 41.703125 \r\nQ 47.40625 39.59375 52.65625 34.296875 \r\nQ 57.90625 29 57.90625 20.125 \r\nQ 57.90625 9.515625 50.796875 4.046875 \r\nQ 43.703125 -1.421875 29.984375 -1.421875 \r\nQ 24.8125 -1.421875 18.96875 -0.25 \r\nQ 13.140625 0.921875 6.890625 3.21875 \r\nL 6.890625 13.375 \r\nQ 12.890625 10.015625 18.65625 8.296875 \r\nQ 24.421875 6.59375 29.984375 6.59375 \r\nQ 38.421875 6.59375 43.015625 9.90625 \r\nQ 47.609375 13.234375 47.609375 19.390625 \r\nQ 47.609375 24.75 44.3125 27.78125 \r\nQ 41.015625 30.8125 33.5 32.328125 \r\nL 27.484375 33.5 \r\nQ 16.453125 35.6875 11.515625 40.375 \r\nQ 6.59375 45.0625 6.59375 53.421875 \r\nQ 6.59375 63.09375 13.40625 68.65625 \r\nQ 20.21875 74.21875 32.171875 74.21875 \r\nQ 37.3125 74.21875 42.625 73.28125 \r\nQ 47.953125 72.359375 53.515625 70.515625 \r\nz\r\n\" id=\"DejaVuSans-83\"/>\r\n      </defs>\r\n      <g transform=\"translate(193.069375 278.625313)rotate(-90)scale(0.1 -0.1)\">\r\n       <use xlink:href=\"#DejaVuSans-83\"/>\r\n       <use x=\"63.476562\" xlink:href=\"#DejaVuSans-101\"/>\r\n       <use x=\"125\" xlink:href=\"#DejaVuSans-114\"/>\r\n       <use x=\"166.113281\" xlink:href=\"#DejaVuSans-98\"/>\r\n       <use x=\"229.589844\" xlink:href=\"#DejaVuSans-105\"/>\r\n       <use x=\"257.373047\" xlink:href=\"#DejaVuSans-97\"/>\r\n      </g>\r\n     </g>\r\n    </g>\r\n    <g id=\"xtick_6\">\r\n     <g id=\"line2d_6\">\r\n      <g>\r\n       <use style=\"stroke:#000000;stroke-width:0.8;\" x=\"223.79\" xlink:href=\"#mc572c895bd\" y=\"239.758125\"/>\r\n      </g>\r\n     </g>\r\n     <g id=\"text_6\">\r\n      <!-- Austria -->\r\n      <defs>\r\n       <path d=\"M 34.1875 63.1875 \r\nL 20.796875 26.90625 \r\nL 47.609375 26.90625 \r\nz\r\nM 28.609375 72.90625 \r\nL 39.796875 72.90625 \r\nL 67.578125 0 \r\nL 57.328125 0 \r\nL 50.6875 18.703125 \r\nL 17.828125 18.703125 \r\nL 11.1875 0 \r\nL 0.78125 0 \r\nz\r\n\" id=\"DejaVuSans-65\"/>\r\n       <path d=\"M 44.28125 53.078125 \r\nL 44.28125 44.578125 \r\nQ 40.484375 46.53125 36.375 47.5 \r\nQ 32.28125 48.484375 27.875 48.484375 \r\nQ 21.1875 48.484375 17.84375 46.4375 \r\nQ 14.5 44.390625 14.5 40.28125 \r\nQ 14.5 37.15625 16.890625 35.375 \r\nQ 19.28125 33.59375 26.515625 31.984375 \r\nL 29.59375 31.296875 \r\nQ 39.15625 29.25 43.1875 25.515625 \r\nQ 47.21875 21.78125 47.21875 15.09375 \r\nQ 47.21875 7.46875 41.1875 3.015625 \r\nQ 35.15625 -1.421875 24.609375 -1.421875 \r\nQ 20.21875 -1.421875 15.453125 -0.5625 \r\nQ 10.6875 0.296875 5.421875 2 \r\nL 5.421875 11.28125 \r\nQ 10.40625 8.6875 15.234375 7.390625 \r\nQ 20.0625 6.109375 24.8125 6.109375 \r\nQ 31.15625 6.109375 34.5625 8.28125 \r\nQ 37.984375 10.453125 37.984375 14.40625 \r\nQ 37.984375 18.0625 35.515625 20.015625 \r\nQ 33.0625 21.96875 24.703125 23.78125 \r\nL 21.578125 24.515625 \r\nQ 13.234375 26.265625 9.515625 29.90625 \r\nQ 5.8125 33.546875 5.8125 39.890625 \r\nQ 5.8125 47.609375 11.28125 51.796875 \r\nQ 16.75 56 26.8125 56 \r\nQ 31.78125 56 36.171875 55.265625 \r\nQ 40.578125 54.546875 44.28125 53.078125 \r\nz\r\n\" id=\"DejaVuSans-115\"/>\r\n      </defs>\r\n      <g transform=\"translate(226.549375 282.083125)rotate(-90)scale(0.1 -0.1)\">\r\n       <use xlink:href=\"#DejaVuSans-65\"/>\r\n       <use x=\"68.408203\" xlink:href=\"#DejaVuSans-117\"/>\r\n       <use x=\"131.787109\" xlink:href=\"#DejaVuSans-115\"/>\r\n       <use x=\"183.886719\" xlink:href=\"#DejaVuSans-116\"/>\r\n       <use x=\"223.095703\" xlink:href=\"#DejaVuSans-114\"/>\r\n       <use x=\"264.208984\" xlink:href=\"#DejaVuSans-105\"/>\r\n       <use x=\"291.992188\" xlink:href=\"#DejaVuSans-97\"/>\r\n      </g>\r\n     </g>\r\n    </g>\r\n    <g id=\"xtick_7\">\r\n     <g id=\"line2d_7\">\r\n      <g>\r\n       <use style=\"stroke:#000000;stroke-width:0.8;\" x=\"257.27\" xlink:href=\"#mc572c895bd\" y=\"239.758125\"/>\r\n      </g>\r\n     </g>\r\n     <g id=\"text_7\">\r\n      <!-- Germany -->\r\n      <defs>\r\n       <path d=\"M 59.515625 10.40625 \r\nL 59.515625 29.984375 \r\nL 43.40625 29.984375 \r\nL 43.40625 38.09375 \r\nL 69.28125 38.09375 \r\nL 69.28125 6.78125 \r\nQ 63.578125 2.734375 56.6875 0.65625 \r\nQ 49.8125 -1.421875 42 -1.421875 \r\nQ 24.90625 -1.421875 15.25 8.5625 \r\nQ 5.609375 18.5625 5.609375 36.375 \r\nQ 5.609375 54.25 15.25 64.234375 \r\nQ 24.90625 74.21875 42 74.21875 \r\nQ 49.125 74.21875 55.546875 72.453125 \r\nQ 61.96875 70.703125 67.390625 67.28125 \r\nL 67.390625 56.78125 \r\nQ 61.921875 61.421875 55.765625 63.765625 \r\nQ 49.609375 66.109375 42.828125 66.109375 \r\nQ 29.4375 66.109375 22.71875 58.640625 \r\nQ 16.015625 51.171875 16.015625 36.375 \r\nQ 16.015625 21.625 22.71875 14.15625 \r\nQ 29.4375 6.6875 42.828125 6.6875 \r\nQ 48.046875 6.6875 52.140625 7.59375 \r\nQ 56.25 8.5 59.515625 10.40625 \r\nz\r\n\" id=\"DejaVuSans-71\"/>\r\n       <path d=\"M 52 44.1875 \r\nQ 55.375 50.25 60.0625 53.125 \r\nQ 64.75 56 71.09375 56 \r\nQ 79.640625 56 84.28125 50.015625 \r\nQ 88.921875 44.046875 88.921875 33.015625 \r\nL 88.921875 0 \r\nL 79.890625 0 \r\nL 79.890625 32.71875 \r\nQ 79.890625 40.578125 77.09375 44.375 \r\nQ 74.3125 48.1875 68.609375 48.1875 \r\nQ 61.625 48.1875 57.5625 43.546875 \r\nQ 53.515625 38.921875 53.515625 30.90625 \r\nL 53.515625 0 \r\nL 44.484375 0 \r\nL 44.484375 32.71875 \r\nQ 44.484375 40.625 41.703125 44.40625 \r\nQ 38.921875 48.1875 33.109375 48.1875 \r\nQ 26.21875 48.1875 22.15625 43.53125 \r\nQ 18.109375 38.875 18.109375 30.90625 \r\nL 18.109375 0 \r\nL 9.078125 0 \r\nL 9.078125 54.6875 \r\nL 18.109375 54.6875 \r\nL 18.109375 46.1875 \r\nQ 21.1875 51.21875 25.484375 53.609375 \r\nQ 29.78125 56 35.6875 56 \r\nQ 41.65625 56 45.828125 52.96875 \r\nQ 50 49.953125 52 44.1875 \r\nz\r\n\" id=\"DejaVuSans-109\"/>\r\n       <path d=\"M 32.171875 -5.078125 \r\nQ 28.375 -14.84375 24.75 -17.8125 \r\nQ 21.140625 -20.796875 15.09375 -20.796875 \r\nL 7.90625 -20.796875 \r\nL 7.90625 -13.28125 \r\nL 13.1875 -13.28125 \r\nQ 16.890625 -13.28125 18.9375 -11.515625 \r\nQ 21 -9.765625 23.484375 -3.21875 \r\nL 25.09375 0.875 \r\nL 2.984375 54.6875 \r\nL 12.5 54.6875 \r\nL 29.59375 11.921875 \r\nL 46.6875 54.6875 \r\nL 56.203125 54.6875 \r\nz\r\n\" id=\"DejaVuSans-121\"/>\r\n      </defs>\r\n      <g transform=\"translate(260.029375 292.894063)rotate(-90)scale(0.1 -0.1)\">\r\n       <use xlink:href=\"#DejaVuSans-71\"/>\r\n       <use x=\"77.490234\" xlink:href=\"#DejaVuSans-101\"/>\r\n       <use x=\"139.013672\" xlink:href=\"#DejaVuSans-114\"/>\r\n       <use x=\"180.111328\" xlink:href=\"#DejaVuSans-109\"/>\r\n       <use x=\"277.523438\" xlink:href=\"#DejaVuSans-97\"/>\r\n       <use x=\"338.802734\" xlink:href=\"#DejaVuSans-110\"/>\r\n       <use x=\"402.181641\" xlink:href=\"#DejaVuSans-121\"/>\r\n      </g>\r\n     </g>\r\n    </g>\r\n    <g id=\"xtick_8\">\r\n     <g id=\"line2d_8\">\r\n      <g>\r\n       <use style=\"stroke:#000000;stroke-width:0.8;\" x=\"290.75\" xlink:href=\"#mc572c895bd\" y=\"239.758125\"/>\r\n      </g>\r\n     </g>\r\n     <g id=\"text_8\">\r\n      <!-- Spain -->\r\n      <g transform=\"translate(293.509375 274.69875)rotate(-90)scale(0.1 -0.1)\">\r\n       <use xlink:href=\"#DejaVuSans-83\"/>\r\n       <use x=\"63.476562\" xlink:href=\"#DejaVuSans-112\"/>\r\n       <use x=\"126.953125\" xlink:href=\"#DejaVuSans-97\"/>\r\n       <use x=\"188.232422\" xlink:href=\"#DejaVuSans-105\"/>\r\n       <use x=\"216.015625\" xlink:href=\"#DejaVuSans-110\"/>\r\n      </g>\r\n     </g>\r\n    </g>\r\n    <g id=\"xtick_9\">\r\n     <g id=\"line2d_9\">\r\n      <g>\r\n       <use style=\"stroke:#000000;stroke-width:0.8;\" x=\"324.23\" xlink:href=\"#mc572c895bd\" y=\"239.758125\"/>\r\n      </g>\r\n     </g>\r\n     <g id=\"text_9\">\r\n      <!-- Lebanon -->\r\n      <defs>\r\n       <path d=\"M 9.8125 72.90625 \r\nL 19.671875 72.90625 \r\nL 19.671875 8.296875 \r\nL 55.171875 8.296875 \r\nL 55.171875 0 \r\nL 9.8125 0 \r\nz\r\n\" id=\"DejaVuSans-76\"/>\r\n      </defs>\r\n      <g transform=\"translate(326.989375 289.751875)rotate(-90)scale(0.1 -0.1)\">\r\n       <use xlink:href=\"#DejaVuSans-76\"/>\r\n       <use x=\"55.697266\" xlink:href=\"#DejaVuSans-101\"/>\r\n       <use x=\"117.220703\" xlink:href=\"#DejaVuSans-98\"/>\r\n       <use x=\"180.697266\" xlink:href=\"#DejaVuSans-97\"/>\r\n       <use x=\"241.976562\" xlink:href=\"#DejaVuSans-110\"/>\r\n       <use x=\"305.355469\" xlink:href=\"#DejaVuSans-111\"/>\r\n       <use x=\"366.537109\" xlink:href=\"#DejaVuSans-110\"/>\r\n      </g>\r\n     </g>\r\n    </g>\r\n    <g id=\"xtick_10\">\r\n     <g id=\"line2d_10\">\r\n      <g>\r\n       <use style=\"stroke:#000000;stroke-width:0.8;\" x=\"357.71\" xlink:href=\"#mc572c895bd\" y=\"239.758125\"/>\r\n      </g>\r\n     </g>\r\n     <g id=\"text_10\">\r\n      <!-- Chile -->\r\n      <g transform=\"translate(360.469375 271.787812)rotate(-90)scale(0.1 -0.1)\">\r\n       <use xlink:href=\"#DejaVuSans-67\"/>\r\n       <use x=\"69.824219\" xlink:href=\"#DejaVuSans-104\"/>\r\n       <use x=\"133.203125\" xlink:href=\"#DejaVuSans-105\"/>\r\n       <use x=\"160.986328\" xlink:href=\"#DejaVuSans-108\"/>\r\n       <use x=\"188.769531\" xlink:href=\"#DejaVuSans-101\"/>\r\n      </g>\r\n     </g>\r\n    </g>\r\n    <g id=\"text_11\">\r\n     <!-- location -->\r\n     <g transform=\"translate(187.210938 334.939375)scale(0.1 -0.1)\">\r\n      <use xlink:href=\"#DejaVuSans-108\"/>\r\n      <use x=\"27.783203\" xlink:href=\"#DejaVuSans-111\"/>\r\n      <use x=\"88.964844\" xlink:href=\"#DejaVuSans-99\"/>\r\n      <use x=\"143.945312\" xlink:href=\"#DejaVuSans-97\"/>\r\n      <use x=\"205.224609\" xlink:href=\"#DejaVuSans-116\"/>\r\n      <use x=\"244.433594\" xlink:href=\"#DejaVuSans-105\"/>\r\n      <use x=\"272.216797\" xlink:href=\"#DejaVuSans-111\"/>\r\n      <use x=\"333.398438\" xlink:href=\"#DejaVuSans-110\"/>\r\n     </g>\r\n    </g>\r\n   </g>\r\n   <g id=\"matplotlib.axis_2\">\r\n    <g id=\"ytick_1\">\r\n     <g id=\"line2d_11\">\r\n      <defs>\r\n       <path d=\"M 0 0 \r\nL -3.5 0 \r\n\" id=\"m3a20ed82bb\" style=\"stroke:#000000;stroke-width:0.8;\"/>\r\n      </defs>\r\n      <g>\r\n       <use style=\"stroke:#000000;stroke-width:0.8;\" x=\"39.65\" xlink:href=\"#m3a20ed82bb\" y=\"239.758125\"/>\r\n      </g>\r\n     </g>\r\n     <g id=\"text_12\">\r\n      <!-- 0 -->\r\n      <defs>\r\n       <path d=\"M 31.78125 66.40625 \r\nQ 24.171875 66.40625 20.328125 58.90625 \r\nQ 16.5 51.421875 16.5 36.375 \r\nQ 16.5 21.390625 20.328125 13.890625 \r\nQ 24.171875 6.390625 31.78125 6.390625 \r\nQ 39.453125 6.390625 43.28125 13.890625 \r\nQ 47.125 21.390625 47.125 36.375 \r\nQ 47.125 51.421875 43.28125 58.90625 \r\nQ 39.453125 66.40625 31.78125 66.40625 \r\nz\r\nM 31.78125 74.21875 \r\nQ 44.046875 74.21875 50.515625 64.515625 \r\nQ 56.984375 54.828125 56.984375 36.375 \r\nQ 56.984375 17.96875 50.515625 8.265625 \r\nQ 44.046875 -1.421875 31.78125 -1.421875 \r\nQ 19.53125 -1.421875 13.0625 8.265625 \r\nQ 6.59375 17.96875 6.59375 36.375 \r\nQ 6.59375 54.828125 13.0625 64.515625 \r\nQ 19.53125 74.21875 31.78125 74.21875 \r\nz\r\n\" id=\"DejaVuSans-48\"/>\r\n      </defs>\r\n      <g transform=\"translate(26.2875 243.557344)scale(0.1 -0.1)\">\r\n       <use xlink:href=\"#DejaVuSans-48\"/>\r\n      </g>\r\n     </g>\r\n    </g>\r\n    <g id=\"ytick_2\">\r\n     <g id=\"line2d_12\">\r\n      <g>\r\n       <use style=\"stroke:#000000;stroke-width:0.8;\" x=\"39.65\" xlink:href=\"#m3a20ed82bb\" y=\"194.702271\"/>\r\n      </g>\r\n     </g>\r\n     <g id=\"text_13\">\r\n      <!-- 2000 -->\r\n      <defs>\r\n       <path d=\"M 19.1875 8.296875 \r\nL 53.609375 8.296875 \r\nL 53.609375 0 \r\nL 7.328125 0 \r\nL 7.328125 8.296875 \r\nQ 12.9375 14.109375 22.625 23.890625 \r\nQ 32.328125 33.6875 34.8125 36.53125 \r\nQ 39.546875 41.84375 41.421875 45.53125 \r\nQ 43.3125 49.21875 43.3125 52.78125 \r\nQ 43.3125 58.59375 39.234375 62.25 \r\nQ 35.15625 65.921875 28.609375 65.921875 \r\nQ 23.96875 65.921875 18.8125 64.3125 \r\nQ 13.671875 62.703125 7.8125 59.421875 \r\nL 7.8125 69.390625 \r\nQ 13.765625 71.78125 18.9375 73 \r\nQ 24.125 74.21875 28.421875 74.21875 \r\nQ 39.75 74.21875 46.484375 68.546875 \r\nQ 53.21875 62.890625 53.21875 53.421875 \r\nQ 53.21875 48.921875 51.53125 44.890625 \r\nQ 49.859375 40.875 45.40625 35.40625 \r\nQ 44.1875 33.984375 37.640625 27.21875 \r\nQ 31.109375 20.453125 19.1875 8.296875 \r\nz\r\n\" id=\"DejaVuSans-50\"/>\r\n      </defs>\r\n      <g transform=\"translate(7.2 198.50149)scale(0.1 -0.1)\">\r\n       <use xlink:href=\"#DejaVuSans-50\"/>\r\n       <use x=\"63.623047\" xlink:href=\"#DejaVuSans-48\"/>\r\n       <use x=\"127.246094\" xlink:href=\"#DejaVuSans-48\"/>\r\n       <use x=\"190.869141\" xlink:href=\"#DejaVuSans-48\"/>\r\n      </g>\r\n     </g>\r\n    </g>\r\n    <g id=\"ytick_3\">\r\n     <g id=\"line2d_13\">\r\n      <g>\r\n       <use style=\"stroke:#000000;stroke-width:0.8;\" x=\"39.65\" xlink:href=\"#m3a20ed82bb\" y=\"149.646418\"/>\r\n      </g>\r\n     </g>\r\n     <g id=\"text_14\">\r\n      <!-- 4000 -->\r\n      <defs>\r\n       <path d=\"M 37.796875 64.3125 \r\nL 12.890625 25.390625 \r\nL 37.796875 25.390625 \r\nz\r\nM 35.203125 72.90625 \r\nL 47.609375 72.90625 \r\nL 47.609375 25.390625 \r\nL 58.015625 25.390625 \r\nL 58.015625 17.1875 \r\nL 47.609375 17.1875 \r\nL 47.609375 0 \r\nL 37.796875 0 \r\nL 37.796875 17.1875 \r\nL 4.890625 17.1875 \r\nL 4.890625 26.703125 \r\nz\r\n\" id=\"DejaVuSans-52\"/>\r\n      </defs>\r\n      <g transform=\"translate(7.2 153.445637)scale(0.1 -0.1)\">\r\n       <use xlink:href=\"#DejaVuSans-52\"/>\r\n       <use x=\"63.623047\" xlink:href=\"#DejaVuSans-48\"/>\r\n       <use x=\"127.246094\" xlink:href=\"#DejaVuSans-48\"/>\r\n       <use x=\"190.869141\" xlink:href=\"#DejaVuSans-48\"/>\r\n      </g>\r\n     </g>\r\n    </g>\r\n    <g id=\"ytick_4\">\r\n     <g id=\"line2d_14\">\r\n      <g>\r\n       <use style=\"stroke:#000000;stroke-width:0.8;\" x=\"39.65\" xlink:href=\"#m3a20ed82bb\" y=\"104.590564\"/>\r\n      </g>\r\n     </g>\r\n     <g id=\"text_15\">\r\n      <!-- 6000 -->\r\n      <defs>\r\n       <path d=\"M 33.015625 40.375 \r\nQ 26.375 40.375 22.484375 35.828125 \r\nQ 18.609375 31.296875 18.609375 23.390625 \r\nQ 18.609375 15.53125 22.484375 10.953125 \r\nQ 26.375 6.390625 33.015625 6.390625 \r\nQ 39.65625 6.390625 43.53125 10.953125 \r\nQ 47.40625 15.53125 47.40625 23.390625 \r\nQ 47.40625 31.296875 43.53125 35.828125 \r\nQ 39.65625 40.375 33.015625 40.375 \r\nz\r\nM 52.59375 71.296875 \r\nL 52.59375 62.3125 \r\nQ 48.875 64.0625 45.09375 64.984375 \r\nQ 41.3125 65.921875 37.59375 65.921875 \r\nQ 27.828125 65.921875 22.671875 59.328125 \r\nQ 17.53125 52.734375 16.796875 39.40625 \r\nQ 19.671875 43.65625 24.015625 45.921875 \r\nQ 28.375 48.1875 33.59375 48.1875 \r\nQ 44.578125 48.1875 50.953125 41.515625 \r\nQ 57.328125 34.859375 57.328125 23.390625 \r\nQ 57.328125 12.15625 50.6875 5.359375 \r\nQ 44.046875 -1.421875 33.015625 -1.421875 \r\nQ 20.359375 -1.421875 13.671875 8.265625 \r\nQ 6.984375 17.96875 6.984375 36.375 \r\nQ 6.984375 53.65625 15.1875 63.9375 \r\nQ 23.390625 74.21875 37.203125 74.21875 \r\nQ 40.921875 74.21875 44.703125 73.484375 \r\nQ 48.484375 72.75 52.59375 71.296875 \r\nz\r\n\" id=\"DejaVuSans-54\"/>\r\n      </defs>\r\n      <g transform=\"translate(7.2 108.389783)scale(0.1 -0.1)\">\r\n       <use xlink:href=\"#DejaVuSans-54\"/>\r\n       <use x=\"63.623047\" xlink:href=\"#DejaVuSans-48\"/>\r\n       <use x=\"127.246094\" xlink:href=\"#DejaVuSans-48\"/>\r\n       <use x=\"190.869141\" xlink:href=\"#DejaVuSans-48\"/>\r\n      </g>\r\n     </g>\r\n    </g>\r\n    <g id=\"ytick_5\">\r\n     <g id=\"line2d_15\">\r\n      <g>\r\n       <use style=\"stroke:#000000;stroke-width:0.8;\" x=\"39.65\" xlink:href=\"#m3a20ed82bb\" y=\"59.534711\"/>\r\n      </g>\r\n     </g>\r\n     <g id=\"text_16\">\r\n      <!-- 8000 -->\r\n      <defs>\r\n       <path d=\"M 31.78125 34.625 \r\nQ 24.75 34.625 20.71875 30.859375 \r\nQ 16.703125 27.09375 16.703125 20.515625 \r\nQ 16.703125 13.921875 20.71875 10.15625 \r\nQ 24.75 6.390625 31.78125 6.390625 \r\nQ 38.8125 6.390625 42.859375 10.171875 \r\nQ 46.921875 13.96875 46.921875 20.515625 \r\nQ 46.921875 27.09375 42.890625 30.859375 \r\nQ 38.875 34.625 31.78125 34.625 \r\nz\r\nM 21.921875 38.8125 \r\nQ 15.578125 40.375 12.03125 44.71875 \r\nQ 8.5 49.078125 8.5 55.328125 \r\nQ 8.5 64.0625 14.71875 69.140625 \r\nQ 20.953125 74.21875 31.78125 74.21875 \r\nQ 42.671875 74.21875 48.875 69.140625 \r\nQ 55.078125 64.0625 55.078125 55.328125 \r\nQ 55.078125 49.078125 51.53125 44.71875 \r\nQ 48 40.375 41.703125 38.8125 \r\nQ 48.828125 37.15625 52.796875 32.3125 \r\nQ 56.78125 27.484375 56.78125 20.515625 \r\nQ 56.78125 9.90625 50.3125 4.234375 \r\nQ 43.84375 -1.421875 31.78125 -1.421875 \r\nQ 19.734375 -1.421875 13.25 4.234375 \r\nQ 6.78125 9.90625 6.78125 20.515625 \r\nQ 6.78125 27.484375 10.78125 32.3125 \r\nQ 14.796875 37.15625 21.921875 38.8125 \r\nz\r\nM 18.3125 54.390625 \r\nQ 18.3125 48.734375 21.84375 45.5625 \r\nQ 25.390625 42.390625 31.78125 42.390625 \r\nQ 38.140625 42.390625 41.71875 45.5625 \r\nQ 45.3125 48.734375 45.3125 54.390625 \r\nQ 45.3125 60.0625 41.71875 63.234375 \r\nQ 38.140625 66.40625 31.78125 66.40625 \r\nQ 25.390625 66.40625 21.84375 63.234375 \r\nQ 18.3125 60.0625 18.3125 54.390625 \r\nz\r\n\" id=\"DejaVuSans-56\"/>\r\n      </defs>\r\n      <g transform=\"translate(7.2 63.333929)scale(0.1 -0.1)\">\r\n       <use xlink:href=\"#DejaVuSans-56\"/>\r\n       <use x=\"63.623047\" xlink:href=\"#DejaVuSans-48\"/>\r\n       <use x=\"127.246094\" xlink:href=\"#DejaVuSans-48\"/>\r\n       <use x=\"190.869141\" xlink:href=\"#DejaVuSans-48\"/>\r\n      </g>\r\n     </g>\r\n    </g>\r\n   </g>\r\n   <g id=\"patch_13\">\r\n    <path d=\"M 39.65 239.758125 \r\nL 39.65 22.318125 \r\n\" style=\"fill:none;stroke:#000000;stroke-linecap:square;stroke-linejoin:miter;stroke-width:0.8;\"/>\r\n   </g>\r\n   <g id=\"patch_14\">\r\n    <path d=\"M 374.45 239.758125 \r\nL 374.45 22.318125 \r\n\" style=\"fill:none;stroke:#000000;stroke-linecap:square;stroke-linejoin:miter;stroke-width:0.8;\"/>\r\n   </g>\r\n   <g id=\"patch_15\">\r\n    <path d=\"M 39.65 239.758125 \r\nL 374.45 239.758125 \r\n\" style=\"fill:none;stroke:#000000;stroke-linecap:square;stroke-linejoin:miter;stroke-width:0.8;\"/>\r\n   </g>\r\n   <g id=\"patch_16\">\r\n    <path d=\"M 39.65 22.318125 \r\nL 374.45 22.318125 \r\n\" style=\"fill:none;stroke:#000000;stroke-linecap:square;stroke-linejoin:miter;stroke-width:0.8;\"/>\r\n   </g>\r\n   <g id=\"text_17\">\r\n    <!-- Top 10 countries with highest smoking men and women -->\r\n    <defs>\r\n     <path d=\"M -0.296875 72.90625 \r\nL 61.375 72.90625 \r\nL 61.375 64.59375 \r\nL 35.5 64.59375 \r\nL 35.5 0 \r\nL 25.59375 0 \r\nL 25.59375 64.59375 \r\nL -0.296875 64.59375 \r\nz\r\n\" id=\"DejaVuSans-84\"/>\r\n     <path d=\"M 12.40625 8.296875 \r\nL 28.515625 8.296875 \r\nL 28.515625 63.921875 \r\nL 10.984375 60.40625 \r\nL 10.984375 69.390625 \r\nL 28.421875 72.90625 \r\nL 38.28125 72.90625 \r\nL 38.28125 8.296875 \r\nL 54.390625 8.296875 \r\nL 54.390625 0 \r\nL 12.40625 0 \r\nz\r\n\" id=\"DejaVuSans-49\"/>\r\n     <path d=\"M 4.203125 54.6875 \r\nL 13.1875 54.6875 \r\nL 24.421875 12.015625 \r\nL 35.59375 54.6875 \r\nL 46.1875 54.6875 \r\nL 57.421875 12.015625 \r\nL 68.609375 54.6875 \r\nL 77.59375 54.6875 \r\nL 63.28125 0 \r\nL 52.6875 0 \r\nL 40.921875 44.828125 \r\nL 29.109375 0 \r\nL 18.5 0 \r\nz\r\n\" id=\"DejaVuSans-119\"/>\r\n     <path d=\"M 9.078125 75.984375 \r\nL 18.109375 75.984375 \r\nL 18.109375 31.109375 \r\nL 44.921875 54.6875 \r\nL 56.390625 54.6875 \r\nL 27.390625 29.109375 \r\nL 57.625 0 \r\nL 45.90625 0 \r\nL 18.109375 26.703125 \r\nL 18.109375 0 \r\nL 9.078125 0 \r\nz\r\n\" id=\"DejaVuSans-107\"/>\r\n     <path d=\"M 45.40625 46.390625 \r\nL 45.40625 75.984375 \r\nL 54.390625 75.984375 \r\nL 54.390625 0 \r\nL 45.40625 0 \r\nL 45.40625 8.203125 \r\nQ 42.578125 3.328125 38.25 0.953125 \r\nQ 33.9375 -1.421875 27.875 -1.421875 \r\nQ 17.96875 -1.421875 11.734375 6.484375 \r\nQ 5.515625 14.40625 5.515625 27.296875 \r\nQ 5.515625 40.1875 11.734375 48.09375 \r\nQ 17.96875 56 27.875 56 \r\nQ 33.9375 56 38.25 53.625 \r\nQ 42.578125 51.265625 45.40625 46.390625 \r\nz\r\nM 14.796875 27.296875 \r\nQ 14.796875 17.390625 18.875 11.75 \r\nQ 22.953125 6.109375 30.078125 6.109375 \r\nQ 37.203125 6.109375 41.296875 11.75 \r\nQ 45.40625 17.390625 45.40625 27.296875 \r\nQ 45.40625 37.203125 41.296875 42.84375 \r\nQ 37.203125 48.484375 30.078125 48.484375 \r\nQ 22.953125 48.484375 18.875 42.84375 \r\nQ 14.796875 37.203125 14.796875 27.296875 \r\nz\r\n\" id=\"DejaVuSans-100\"/>\r\n    </defs>\r\n    <g transform=\"translate(38.235313 16.318125)scale(0.12 -0.12)\">\r\n     <use xlink:href=\"#DejaVuSans-84\"/>\r\n     <use x=\"60.818359\" xlink:href=\"#DejaVuSans-111\"/>\r\n     <use x=\"122\" xlink:href=\"#DejaVuSans-112\"/>\r\n     <use x=\"185.476562\" xlink:href=\"#DejaVuSans-32\"/>\r\n     <use x=\"217.263672\" xlink:href=\"#DejaVuSans-49\"/>\r\n     <use x=\"280.886719\" xlink:href=\"#DejaVuSans-48\"/>\r\n     <use x=\"344.509766\" xlink:href=\"#DejaVuSans-32\"/>\r\n     <use x=\"376.296875\" xlink:href=\"#DejaVuSans-99\"/>\r\n     <use x=\"431.277344\" xlink:href=\"#DejaVuSans-111\"/>\r\n     <use x=\"492.458984\" xlink:href=\"#DejaVuSans-117\"/>\r\n     <use x=\"555.837891\" xlink:href=\"#DejaVuSans-110\"/>\r\n     <use x=\"619.216797\" xlink:href=\"#DejaVuSans-116\"/>\r\n     <use x=\"658.425781\" xlink:href=\"#DejaVuSans-114\"/>\r\n     <use x=\"699.539062\" xlink:href=\"#DejaVuSans-105\"/>\r\n     <use x=\"727.322266\" xlink:href=\"#DejaVuSans-101\"/>\r\n     <use x=\"788.845703\" xlink:href=\"#DejaVuSans-115\"/>\r\n     <use x=\"840.945312\" xlink:href=\"#DejaVuSans-32\"/>\r\n     <use x=\"872.732422\" xlink:href=\"#DejaVuSans-119\"/>\r\n     <use x=\"954.519531\" xlink:href=\"#DejaVuSans-105\"/>\r\n     <use x=\"982.302734\" xlink:href=\"#DejaVuSans-116\"/>\r\n     <use x=\"1021.511719\" xlink:href=\"#DejaVuSans-104\"/>\r\n     <use x=\"1084.890625\" xlink:href=\"#DejaVuSans-32\"/>\r\n     <use x=\"1116.677734\" xlink:href=\"#DejaVuSans-104\"/>\r\n     <use x=\"1180.056641\" xlink:href=\"#DejaVuSans-105\"/>\r\n     <use x=\"1207.839844\" xlink:href=\"#DejaVuSans-103\"/>\r\n     <use x=\"1271.316406\" xlink:href=\"#DejaVuSans-104\"/>\r\n     <use x=\"1334.695312\" xlink:href=\"#DejaVuSans-101\"/>\r\n     <use x=\"1396.21875\" xlink:href=\"#DejaVuSans-115\"/>\r\n     <use x=\"1448.318359\" xlink:href=\"#DejaVuSans-116\"/>\r\n     <use x=\"1487.527344\" xlink:href=\"#DejaVuSans-32\"/>\r\n     <use x=\"1519.314453\" xlink:href=\"#DejaVuSans-115\"/>\r\n     <use x=\"1571.414062\" xlink:href=\"#DejaVuSans-109\"/>\r\n     <use x=\"1668.826172\" xlink:href=\"#DejaVuSans-111\"/>\r\n     <use x=\"1730.007812\" xlink:href=\"#DejaVuSans-107\"/>\r\n     <use x=\"1787.917969\" xlink:href=\"#DejaVuSans-105\"/>\r\n     <use x=\"1815.701172\" xlink:href=\"#DejaVuSans-110\"/>\r\n     <use x=\"1879.080078\" xlink:href=\"#DejaVuSans-103\"/>\r\n     <use x=\"1942.556641\" xlink:href=\"#DejaVuSans-32\"/>\r\n     <use x=\"1974.34375\" xlink:href=\"#DejaVuSans-109\"/>\r\n     <use x=\"2071.755859\" xlink:href=\"#DejaVuSans-101\"/>\r\n     <use x=\"2133.279297\" xlink:href=\"#DejaVuSans-110\"/>\r\n     <use x=\"2196.658203\" xlink:href=\"#DejaVuSans-32\"/>\r\n     <use x=\"2228.445312\" xlink:href=\"#DejaVuSans-97\"/>\r\n     <use x=\"2289.724609\" xlink:href=\"#DejaVuSans-110\"/>\r\n     <use x=\"2353.103516\" xlink:href=\"#DejaVuSans-100\"/>\r\n     <use x=\"2416.580078\" xlink:href=\"#DejaVuSans-32\"/>\r\n     <use x=\"2448.367188\" xlink:href=\"#DejaVuSans-119\"/>\r\n     <use x=\"2530.154297\" xlink:href=\"#DejaVuSans-111\"/>\r\n     <use x=\"2591.335938\" xlink:href=\"#DejaVuSans-109\"/>\r\n     <use x=\"2688.748047\" xlink:href=\"#DejaVuSans-101\"/>\r\n     <use x=\"2750.271484\" xlink:href=\"#DejaVuSans-110\"/>\r\n    </g>\r\n   </g>\r\n   <g id=\"legend_1\">\r\n    <g id=\"patch_17\">\r\n     <path d=\"M 253.648438 45.274375 \r\nL 367.45 45.274375 \r\nQ 369.45 45.274375 369.45 43.274375 \r\nL 369.45 29.318125 \r\nQ 369.45 27.318125 367.45 27.318125 \r\nL 253.648438 27.318125 \r\nQ 251.648438 27.318125 251.648438 29.318125 \r\nL 251.648438 43.274375 \r\nQ 251.648438 45.274375 253.648438 45.274375 \r\nz\r\n\" style=\"fill:#ffffff;opacity:0.8;stroke:#cccccc;stroke-linejoin:miter;\"/>\r\n    </g>\r\n    <g id=\"patch_18\">\r\n     <path d=\"M 255.648438 38.916562 \r\nL 275.648438 38.916562 \r\nL 275.648438 31.916562 \r\nL 255.648438 31.916562 \r\nz\r\n\" style=\"fill:#1f77b4;\"/>\r\n    </g>\r\n    <g id=\"text_18\">\r\n     <!-- female_smokers -->\r\n     <defs>\r\n      <path d=\"M 37.109375 75.984375 \r\nL 37.109375 68.5 \r\nL 28.515625 68.5 \r\nQ 23.6875 68.5 21.796875 66.546875 \r\nQ 19.921875 64.59375 19.921875 59.515625 \r\nL 19.921875 54.6875 \r\nL 34.71875 54.6875 \r\nL 34.71875 47.703125 \r\nL 19.921875 47.703125 \r\nL 19.921875 0 \r\nL 10.890625 0 \r\nL 10.890625 47.703125 \r\nL 2.296875 47.703125 \r\nL 2.296875 54.6875 \r\nL 10.890625 54.6875 \r\nL 10.890625 58.5 \r\nQ 10.890625 67.625 15.140625 71.796875 \r\nQ 19.390625 75.984375 28.609375 75.984375 \r\nz\r\n\" id=\"DejaVuSans-102\"/>\r\n      <path d=\"M 50.984375 -16.609375 \r\nL 50.984375 -23.578125 \r\nL -0.984375 -23.578125 \r\nL -0.984375 -16.609375 \r\nz\r\n\" id=\"DejaVuSans-95\"/>\r\n     </defs>\r\n     <g transform=\"translate(283.648438 38.916562)scale(0.1 -0.1)\">\r\n      <use xlink:href=\"#DejaVuSans-102\"/>\r\n      <use x=\"35.205078\" xlink:href=\"#DejaVuSans-101\"/>\r\n      <use x=\"96.728516\" xlink:href=\"#DejaVuSans-109\"/>\r\n      <use x=\"194.140625\" xlink:href=\"#DejaVuSans-97\"/>\r\n      <use x=\"255.419922\" xlink:href=\"#DejaVuSans-108\"/>\r\n      <use x=\"283.203125\" xlink:href=\"#DejaVuSans-101\"/>\r\n      <use x=\"344.726562\" xlink:href=\"#DejaVuSans-95\"/>\r\n      <use x=\"394.726562\" xlink:href=\"#DejaVuSans-115\"/>\r\n      <use x=\"446.826172\" xlink:href=\"#DejaVuSans-109\"/>\r\n      <use x=\"544.238281\" xlink:href=\"#DejaVuSans-111\"/>\r\n      <use x=\"605.419922\" xlink:href=\"#DejaVuSans-107\"/>\r\n      <use x=\"663.283203\" xlink:href=\"#DejaVuSans-101\"/>\r\n      <use x=\"724.806641\" xlink:href=\"#DejaVuSans-114\"/>\r\n      <use x=\"765.919922\" xlink:href=\"#DejaVuSans-115\"/>\r\n     </g>\r\n    </g>\r\n   </g>\r\n  </g>\r\n </g>\r\n <defs>\r\n  <clipPath id=\"p7e8b1999a0\">\r\n   <rect height=\"217.44\" width=\"334.8\" x=\"39.65\" y=\"22.318125\"/>\r\n  </clipPath>\r\n </defs>\r\n</svg>\r\n",
      "image/png": "[encoded data removed]"
     },
     "metadata": {
      "needs_background": "light"
     }
    }
   ],
   "source": [
    "covid_df.groupby(['location']).sum().sort_values(['male_smokers'],ascending=False)[['male_smokers']][1:11].plot.bar()\n",
    "plt.title('Top 10 countries with highest smoking men and women')\n",
    "covid_df.groupby(['location']).sum().sort_values(['female_smokers'],ascending=False)[['female_smokers']][1:11].plot.bar()\n",
    "plt.title('Top 10 countries with highest smoking men and women')"
   ]
  },
  {
   "cell_type": "code",
   "execution_count": 87,
   "metadata": {},
   "outputs": [],
   "source": [
    "month_map = {1:'Jan',2:'Feb',3:'Mar',4:'Apr',5:'May',6:'Jun',7:'Jul',8:'Aug',9:'Sep',10:'Oct',11:'Nov',12:'Dec'} # dictionary for mapping months name to actual months in numbers provided in data frame for visualization"
   ]
  },
  {
   "cell_type": "code",
   "execution_count": 88,
   "metadata": {},
   "outputs": [],
   "source": [
    "df = covid_df.groupby(['Year','Month','Day']).sum().sort_values(['Year','Month'],ascending=True) # sorting data frame before converting months to names"
   ]
  },
  {
   "cell_type": "code",
   "execution_count": 89,
   "metadata": {},
   "outputs": [],
   "source": [
    "df.reset_index(inplace=True) #reset index of the dataframe\n",
    "df['Month'] = df.Month.map(month_map) #mapping month names from the month_map dictionary"
   ]
  },
  {
   "source": [
    "%%HTML\n",
    "<div id=\"que\" class=\"h2\">4.Questions</div>\n",
    "<ol>\n",
    "  <li><a href=\"#1\">What are the trends in new_cases world_wide ?</a></li>\n",
    "  <li><a href=\"#2\">What are the trends in new_deaths world_wide ?</a></li>\n",
    "  <li><a href=\"#3\">What are the trends of total_covid-19 cases ?</a></li>\n",
    "  <li><a href=\"#4\">Which countries are involved in COVID-19 ?</a></li>\n",
    "  <li><a href=\"#5\">What is the second wave of COVID-19 ? Which Countries are hit by second wave ?</a></li>\n",
    "</ol>"
   ],
   "cell_type": "code",
   "metadata": {},
   "execution_count": 64,
   "outputs": [
    {
     "output_type": "display_data",
     "data": {
      "text/plain": "<IPython.core.display.HTML object>",
      "text/html": "<div id=\"que\" class=\"h2\">4.Questions</div>\n<ol>\n  <li><a href=\"#1\">What are the trends in new_cases world_wide ?</a></li>\n  <li><a href=\"#2\">What are the trends in new_deaths world_wide ?</a></li>\n  <li><a href=\"#3\">What are the trends of total_covid-19 cases ?</a></li>\n  <li><a href=\"#4\">Which countries are involved in COVID-19 ?</a></li>\n  <li><a href=\"#5\">What is the second wave of COVID-19 ? Which Countries are hit by second wave ?</a></li>\n</ol>\n"
     },
     "metadata": {}
    }
   ]
  },
  {
   "source": [
    "  %%HTML\n",
    "  <h1 id=\"1\">1.What are the trends in new_cases world_wide ?</h1>"
   ],
   "cell_type": "code",
   "metadata": {},
   "execution_count": 62,
   "outputs": [
    {
     "output_type": "display_data",
     "data": {
      "text/plain": "<IPython.core.display.HTML object>",
      "text/html": "<h1 id=\"1\">1.What are the trends in new_cases world_wide ?</h1>\n"
     },
     "metadata": {}
    }
   ]
  },
  {
   "source": [
    "df.iplot(kind='bar',x=['Month','Day'],y='new_cases')# graph showing the visualization of the new_deaths across world by month,day"
   ],
   "cell_type": "code",
   "metadata": {
    "tags": []
   },
   "execution_count": 122,
   "outputs": [
    {
     "output_type": "display_data",
     "data": {
      "application/vnd.plotly.v1+json": {
       "config": {
        "linkText": "Export to plot.ly",
        "plotlyServerURL": "https://plot.ly",
        "showLink": true
       },
       "data": [
        {
         "marker": {
          "color": "rgba(255, 153, 51, 0.6)",
          "line": {
           "color": "rgba(255, 153, 51, 1.0)",
           "width": 1
          }
         },
         "name": "new_cases",
         "orientation": "v",
         "text": "",
         "type": "bar",
         "x": [
          "(Dec,31)",
          "(Jan,1)",
          "(Jan,2)",
          "(Jan,3)",
          "(Jan,4)",
          "(Jan,5)",
          "(Jan,6)",
          "(Jan,7)",
          "(Jan,8)",
          "(Jan,9)",
          "(Jan,10)",
          "(Jan,11)",
          "(Jan,12)",
          "(Jan,13)",
          "(Jan,14)",
          "(Jan,15)",
          "(Jan,16)",
          "(Jan,17)",
          "(Jan,18)",
          "(Jan,19)",
          "(Jan,20)",
          "(Jan,21)",
          "(Jan,22)",
          "(Jan,23)",
          "(Jan,24)",
          "(Jan,25)",
          "(Jan,26)",
          "(Jan,27)",
          "(Jan,28)",
          "(Jan,29)",
          "(Jan,30)",
          "(Jan,31)",
          "(Feb,1)",
          "(Feb,2)",
          "(Feb,3)",
          "(Feb,4)",
          "(Feb,5)",
          "(Feb,6)",
          "(Feb,7)",
          "(Feb,8)",
          "(Feb,9)",
          "(Feb,10)",
          "(Feb,11)",
          "(Feb,12)",
          "(Feb,13)",
          "(Feb,14)",
          "(Feb,15)",
          "(Feb,16)",
          "(Feb,17)",
          "(Feb,18)",
          "(Feb,19)",
          "(Feb,20)",
          "(Feb,21)",
          "(Feb,22)",
          "(Feb,23)",
          "(Feb,24)",
          "(Feb,25)",
          "(Feb,26)",
          "(Feb,27)",
          "(Feb,28)",
          "(Feb,29)",
          "(Mar,1)",
          "(Mar,2)",
          "(Mar,3)",
          "(Mar,4)",
          "(Mar,5)",
          "(Mar,6)",
          "(Mar,7)",
          "(Mar,8)",
          "(Mar,9)",
          "(Mar,10)",
          "(Mar,11)",
          "(Mar,12)",
          "(Mar,13)",
          "(Mar,14)",
          "(Mar,15)",
          "(Mar,16)",
          "(Mar,17)",
          "(Mar,18)",
          "(Mar,19)",
          "(Mar,20)",
          "(Mar,21)",
          "(Mar,22)",
          "(Mar,23)",
          "(Mar,24)",
          "(Mar,25)",
          "(Mar,26)",
          "(Mar,27)",
          "(Mar,28)",
          "(Mar,29)",
          "(Mar,30)",
          "(Mar,31)",
          "(Apr,1)",
          "(Apr,2)",
          "(Apr,3)",
          "(Apr,4)",
          "(Apr,5)",
          "(Apr,6)",
          "(Apr,7)",
          "(Apr,8)",
          "(Apr,9)",
          "(Apr,10)",
          "(Apr,11)",
          "(Apr,12)",
          "(Apr,13)",
          "(Apr,14)",
          "(Apr,15)",
          "(Apr,16)",
          "(Apr,17)",
          "(Apr,18)",
          "(Apr,19)",
          "(Apr,20)",
          "(Apr,21)",
          "(Apr,22)",
          "(Apr,23)",
          "(Apr,24)",
          "(Apr,25)",
          "(Apr,26)",
          "(Apr,27)",
          "(Apr,28)",
          "(Apr,29)",
          "(Apr,30)",
          "(May,1)",
          "(May,2)",
          "(May,3)",
          "(May,4)",
          "(May,5)",
          "(May,6)",
          "(May,7)",
          "(May,8)",
          "(May,9)",
          "(May,10)",
          "(May,11)",
          "(May,12)",
          "(May,13)",
          "(May,14)",
          "(May,15)",
          "(May,16)",
          "(May,17)",
          "(May,18)",
          "(May,19)",
          "(May,20)",
          "(May,21)",
          "(May,22)",
          "(May,23)",
          "(May,24)",
          "(May,25)",
          "(May,26)",
          "(May,27)",
          "(May,28)",
          "(May,29)",
          "(May,30)",
          "(May,31)",
          "(Jun,1)",
          "(Jun,2)",
          "(Jun,3)",
          "(Jun,4)",
          "(Jun,5)",
          "(Jun,6)",
          "(Jun,7)",
          "(Jun,8)",
          "(Jun,9)",
          "(Jun,10)",
          "(Jun,11)",
          "(Jun,12)",
          "(Jun,13)",
          "(Jun,14)",
          "(Jun,15)",
          "(Jun,16)",
          "(Jun,17)",
          "(Jun,18)",
          "(Jun,19)",
          "(Jun,20)",
          "(Jun,21)",
          "(Jun,22)",
          "(Jun,23)",
          "(Jun,24)",
          "(Jun,25)",
          "(Jun,26)",
          "(Jun,27)",
          "(Jun,28)",
          "(Jun,29)",
          "(Jun,30)",
          "(Jul,1)",
          "(Jul,2)",
          "(Jul,3)",
          "(Jul,4)",
          "(Jul,5)",
          "(Jul,6)",
          "(Jul,7)",
          "(Jul,8)",
          "(Jul,9)",
          "(Jul,10)",
          "(Jul,11)",
          "(Jul,12)",
          "(Jul,13)",
          "(Jul,14)",
          "(Jul,15)",
          "(Jul,16)",
          "(Jul,17)",
          "(Jul,18)",
          "(Jul,19)",
          "(Jul,20)",
          "(Jul,21)",
          "(Jul,22)",
          "(Jul,23)",
          "(Jul,24)",
          "(Jul,25)",
          "(Jul,26)",
          "(Jul,27)",
          "(Jul,28)",
          "(Jul,29)",
          "(Jul,30)",
          "(Jul,31)",
          "(Aug,1)",
          "(Aug,2)",
          "(Aug,3)",
          "(Aug,4)",
          "(Aug,5)",
          "(Aug,6)",
          "(Aug,7)",
          "(Aug,8)",
          "(Aug,9)",
          "(Aug,10)",
          "(Aug,11)",
          "(Aug,12)",
          "(Aug,13)",
          "(Aug,14)",
          "(Aug,15)",
          "(Aug,16)",
          "(Aug,17)",
          "(Aug,18)",
          "(Aug,19)",
          "(Aug,20)",
          "(Aug,21)",
          "(Aug,22)",
          "(Aug,23)",
          "(Aug,24)",
          "(Aug,25)",
          "(Aug,26)",
          "(Aug,27)",
          "(Aug,28)",
          "(Aug,29)",
          "(Aug,30)",
          "(Aug,31)",
          "(Sep,1)",
          "(Sep,2)",
          "(Sep,3)",
          "(Sep,4)",
          "(Sep,5)",
          "(Sep,6)",
          "(Sep,7)",
          "(Sep,8)",
          "(Sep,9)",
          "(Sep,10)",
          "(Sep,11)",
          "(Sep,12)",
          "(Sep,13)",
          "(Sep,14)",
          "(Sep,15)",
          "(Sep,16)",
          "(Sep,17)",
          "(Sep,18)",
          "(Sep,19)",
          "(Sep,20)",
          "(Sep,21)",
          "(Sep,22)",
          "(Sep,23)"
         ],
         "y": [
          54,
          0,
          0,
          34,
          0,
          30,
          0,
          0,
          0,
          0,
          0,
          0,
          0,
          2,
          0,
          2,
          0,
          10,
          34,
          272,
          40,
          306,
          284,
          194,
          532,
          906,
          1346,
          1594,
          3534,
          2960,
          3512,
          4002,
          4244,
          5216,
          5636,
          6486,
          7816,
          7502,
          6436,
          6884,
          5236,
          5984,
          5124,
          4144,
          30302,
          8430,
          5120,
          4324,
          4134,
          3990,
          3728,
          1064,
          1992,
          2170,
          2018,
          1046,
          1586,
          1734,
          2228,
          2532,
          3718,
          3652,
          4174,
          3714,
          4624,
          4708,
          6116,
          8240,
          7954,
          8354,
          9632,
          10214,
          15796,
          18902,
          20808,
          24330,
          24910,
          28402,
          34012,
          40428,
          62188,
          63818,
          68414,
          68714,
          88830,
          84772,
          107500,
          122032,
          130188,
          125628,
          114726,
          128976,
          149348,
          154946,
          154916,
          163660,
          170486,
          132552,
          145976,
          154534,
          169840,
          174528,
          179024,
          150628,
          137056,
          129440,
          152992,
          156696,
          167882,
          163558,
          159126,
          141124,
          147470,
          173330,
          132688,
          156970,
          145584,
          199564,
          163354,
          131640,
          144508,
          157604,
          170666,
          177334,
          161256,
          154330,
          153072,
          157366,
          175114,
          184848,
          178422,
          177686,
          149388,
          139468,
          172426,
          172514,
          193086,
          194438,
          185870,
          159006,
          172734,
          191088,
          206654,
          215560,
          211600,
          200054,
          186310,
          177686,
          187562,
          205638,
          237012,
          244138,
          255876,
          213432,
          200588,
          224774,
          251024,
          253848,
          266380,
          251994,
          229658,
          211242,
          250474,
          269708,
          272310,
          289252,
          266824,
          242392,
          236990,
          282952,
          353728,
          276900,
          360622,
          320634,
          258396,
          268478,
          327784,
          349988,
          357482,
          377344,
          364056,
          320406,
          316316,
          384170,
          400752,
          417250,
          411048,
          382128,
          356558,
          348556,
          413884,
          431012,
          450294,
          462922,
          435988,
          390998,
          376892,
          447386,
          463398,
          508756,
          508854,
          460332,
          418882,
          401528,
          479570,
          563266,
          552582,
          567822,
          519256,
          463716,
          423814,
          487604,
          596222,
          580862,
          558124,
          535714,
          446584,
          409314,
          511344,
          555208,
          571850,
          551806,
          537436,
          458828,
          439532,
          522934,
          578696,
          573340,
          577836,
          519266,
          464722,
          393092,
          510048,
          563036,
          552636,
          506462,
          533460,
          448696,
          422916,
          510146,
          553350,
          566820,
          553198,
          538022,
          490448,
          485012,
          537092,
          566280,
          557708,
          586920,
          559450,
          497266,
          412762,
          489292,
          565460,
          620574,
          610648,
          574194,
          545188,
          485726,
          608374,
          584138,
          630658,
          622346,
          591546,
          572084,
          527458,
          535374
         ]
        }
       ],
       "layout": {
        "legend": {
         "bgcolor": "#F5F6F9",
         "font": {
          "color": "#4D5663"
         }
        },
        "paper_bgcolor": "#F5F6F9",
        "plot_bgcolor": "#F5F6F9",
        "template": {
         "data": {
          "bar": [
           {
            "error_x": {
             "color": "#2a3f5f"
            },
            "error_y": {
             "color": "#2a3f5f"
            },
            "marker": {
             "line": {
              "color": "#E5ECF6",
              "width": 0.5
             }
            },
            "type": "bar"
           }
          ],
          "barpolar": [
           {
            "marker": {
             "line": {
              "color": "#E5ECF6",
              "width": 0.5
             }
            },
            "type": "barpolar"
           }
          ],
          "carpet": [
           {
            "aaxis": {
             "endlinecolor": "#2a3f5f",
             "gridcolor": "white",
             "linecolor": "white",
             "minorgridcolor": "white",
             "startlinecolor": "#2a3f5f"
            },
            "baxis": {
             "endlinecolor": "#2a3f5f",
             "gridcolor": "white",
             "linecolor": "white",
             "minorgridcolor": "white",
             "startlinecolor": "#2a3f5f"
            },
            "type": "carpet"
           }
          ],
          "choropleth": [
           {
            "colorbar": {
             "outlinewidth": 0,
             "ticks": ""
            },
            "type": "choropleth"
           }
          ],
          "contour": [
           {
            "colorbar": {
             "outlinewidth": 0,
             "ticks": ""
            },
            "colorscale": [
             [
              0,
              "#0d0887"
             ],
             [
              0.1111111111111111,
              "#46039f"
             ],
             [
              0.2222222222222222,
              "#7201a8"
             ],
             [
              0.3333333333333333,
              "#9c179e"
             ],
             [
              0.4444444444444444,
              "#bd3786"
             ],
             [
              0.5555555555555556,
              "#d8576b"
             ],
             [
              0.6666666666666666,
              "#ed7953"
             ],
             [
              0.7777777777777778,
              "#fb9f3a"
             ],
             [
              0.8888888888888888,
              "#fdca26"
             ],
             [
              1,
              "#f0f921"
             ]
            ],
            "type": "contour"
           }
          ],
          "contourcarpet": [
           {
            "colorbar": {
             "outlinewidth": 0,
             "ticks": ""
            },
            "type": "contourcarpet"
           }
          ],
          "heatmap": [
           {
            "colorbar": {
             "outlinewidth": 0,
             "ticks": ""
            },
            "colorscale": [
             [
              0,
              "#0d0887"
             ],
             [
              0.1111111111111111,
              "#46039f"
             ],
             [
              0.2222222222222222,
              "#7201a8"
             ],
             [
              0.3333333333333333,
              "#9c179e"
             ],
             [
              0.4444444444444444,
              "#bd3786"
             ],
             [
              0.5555555555555556,
              "#d8576b"
             ],
             [
              0.6666666666666666,
              "#ed7953"
             ],
             [
              0.7777777777777778,
              "#fb9f3a"
             ],
             [
              0.8888888888888888,
              "#fdca26"
             ],
             [
              1,
              "#f0f921"
             ]
            ],
            "type": "heatmap"
           }
          ],
          "heatmapgl": [
           {
            "colorbar": {
             "outlinewidth": 0,
             "ticks": ""
            },
            "colorscale": [
             [
              0,
              "#0d0887"
             ],
             [
              0.1111111111111111,
              "#46039f"
             ],
             [
              0.2222222222222222,
              "#7201a8"
             ],
             [
              0.3333333333333333,
              "#9c179e"
             ],
             [
              0.4444444444444444,
              "#bd3786"
             ],
             [
              0.5555555555555556,
              "#d8576b"
             ],
             [
              0.6666666666666666,
              "#ed7953"
             ],
             [
              0.7777777777777778,
              "#fb9f3a"
             ],
             [
              0.8888888888888888,
              "#fdca26"
             ],
             [
              1,
              "#f0f921"
             ]
            ],
            "type": "heatmapgl"
           }
          ],
          "histogram": [
           {
            "marker": {
             "colorbar": {
              "outlinewidth": 0,
              "ticks": ""
             }
            },
            "type": "histogram"
           }
          ],
          "histogram2d": [
           {
            "colorbar": {
             "outlinewidth": 0,
             "ticks": ""
            },
            "colorscale": [
             [
              0,
              "#0d0887"
             ],
             [
              0.1111111111111111,
              "#46039f"
             ],
             [
              0.2222222222222222,
              "#7201a8"
             ],
             [
              0.3333333333333333,
              "#9c179e"
             ],
             [
              0.4444444444444444,
              "#bd3786"
             ],
             [
              0.5555555555555556,
              "#d8576b"
             ],
             [
              0.6666666666666666,
              "#ed7953"
             ],
             [
              0.7777777777777778,
              "#fb9f3a"
             ],
             [
              0.8888888888888888,
              "#fdca26"
             ],
             [
              1,
              "#f0f921"
             ]
            ],
            "type": "histogram2d"
           }
          ],
          "histogram2dcontour": [
           {
            "colorbar": {
             "outlinewidth": 0,
             "ticks": ""
            },
            "colorscale": [
             [
              0,
              "#0d0887"
             ],
             [
              0.1111111111111111,
              "#46039f"
             ],
             [
              0.2222222222222222,
              "#7201a8"
             ],
             [
              0.3333333333333333,
              "#9c179e"
             ],
             [
              0.4444444444444444,
              "#bd3786"
             ],
             [
              0.5555555555555556,
              "#d8576b"
             ],
             [
              0.6666666666666666,
              "#ed7953"
             ],
             [
              0.7777777777777778,
              "#fb9f3a"
             ],
             [
              0.8888888888888888,
              "#fdca26"
             ],
             [
              1,
              "#f0f921"
             ]
            ],
            "type": "histogram2dcontour"
           }
          ],
          "mesh3d": [
           {
            "colorbar": {
             "outlinewidth": 0,
             "ticks": ""
            },
            "type": "mesh3d"
           }
          ],
          "parcoords": [
           {
            "line": {
             "colorbar": {
              "outlinewidth": 0,
              "ticks": ""
             }
            },
            "type": "parcoords"
           }
          ],
          "pie": [
           {
            "automargin": true,
            "type": "pie"
           }
          ],
          "scatter": [
           {
            "marker": {
             "colorbar": {
              "outlinewidth": 0,
              "ticks": ""
             }
            },
            "type": "scatter"
           }
          ],
          "scatter3d": [
           {
            "line": {
             "colorbar": {
              "outlinewidth": 0,
              "ticks": ""
             }
            },
            "marker": {
             "colorbar": {
              "outlinewidth": 0,
              "ticks": ""
             }
            },
            "type": "scatter3d"
           }
          ],
          "scattercarpet": [
           {
            "marker": {
             "colorbar": {
              "outlinewidth": 0,
              "ticks": ""
             }
            },
            "type": "scattercarpet"
           }
          ],
          "scattergeo": [
           {
            "marker": {
             "colorbar": {
              "outlinewidth": 0,
              "ticks": ""
             }
            },
            "type": "scattergeo"
           }
          ],
          "scattergl": [
           {
            "marker": {
             "colorbar": {
              "outlinewidth": 0,
              "ticks": ""
             }
            },
            "type": "scattergl"
           }
          ],
          "scattermapbox": [
           {
            "marker": {
             "colorbar": {
              "outlinewidth": 0,
              "ticks": ""
             }
            },
            "type": "scattermapbox"
           }
          ],
          "scatterpolar": [
           {
            "marker": {
             "colorbar": {
              "outlinewidth": 0,
              "ticks": ""
             }
            },
            "type": "scatterpolar"
           }
          ],
          "scatterpolargl": [
           {
            "marker": {
             "colorbar": {
              "outlinewidth": 0,
              "ticks": ""
             }
            },
            "type": "scatterpolargl"
           }
          ],
          "scatterternary": [
           {
            "marker": {
             "colorbar": {
              "outlinewidth": 0,
              "ticks": ""
             }
            },
            "type": "scatterternary"
           }
          ],
          "surface": [
           {
            "colorbar": {
             "outlinewidth": 0,
             "ticks": ""
            },
            "colorscale": [
             [
              0,
              "#0d0887"
             ],
             [
              0.1111111111111111,
              "#46039f"
             ],
             [
              0.2222222222222222,
              "#7201a8"
             ],
             [
              0.3333333333333333,
              "#9c179e"
             ],
             [
              0.4444444444444444,
              "#bd3786"
             ],
             [
              0.5555555555555556,
              "#d8576b"
             ],
             [
              0.6666666666666666,
              "#ed7953"
             ],
             [
              0.7777777777777778,
              "#fb9f3a"
             ],
             [
              0.8888888888888888,
              "#fdca26"
             ],
             [
              1,
              "#f0f921"
             ]
            ],
            "type": "surface"
           }
          ],
          "table": [
           {
            "cells": {
             "fill": {
              "color": "#EBF0F8"
             },
             "line": {
              "color": "white"
             }
            },
            "header": {
             "fill": {
              "color": "#C8D4E3"
             },
             "line": {
              "color": "white"
             }
            },
            "type": "table"
           }
          ]
         },
         "layout": {
          "annotationdefaults": {
           "arrowcolor": "#2a3f5f",
           "arrowhead": 0,
           "arrowwidth": 1
          },
          "coloraxis": {
           "colorbar": {
            "outlinewidth": 0,
            "ticks": ""
           }
          },
          "colorscale": {
           "diverging": [
            [
             0,
             "#8e0152"
            ],
            [
             0.1,
             "#c51b7d"
            ],
            [
             0.2,
             "#de77ae"
            ],
            [
             0.3,
             "#f1b6da"
            ],
            [
             0.4,
             "#fde0ef"
            ],
            [
             0.5,
             "#f7f7f7"
            ],
            [
             0.6,
             "#e6f5d0"
            ],
            [
             0.7,
             "#b8e186"
            ],
            [
             0.8,
             "#7fbc41"
            ],
            [
             0.9,
             "#4d9221"
            ],
            [
             1,
             "#276419"
            ]
           ],
           "sequential": [
            [
             0,
             "#0d0887"
            ],
            [
             0.1111111111111111,
             "#46039f"
            ],
            [
             0.2222222222222222,
             "#7201a8"
            ],
            [
             0.3333333333333333,
             "#9c179e"
            ],
            [
             0.4444444444444444,
             "#bd3786"
            ],
            [
             0.5555555555555556,
             "#d8576b"
            ],
            [
             0.6666666666666666,
             "#ed7953"
            ],
            [
             0.7777777777777778,
             "#fb9f3a"
            ],
            [
             0.8888888888888888,
             "#fdca26"
            ],
            [
             1,
             "#f0f921"
            ]
           ],
           "sequentialminus": [
            [
             0,
             "#0d0887"
            ],
            [
             0.1111111111111111,
             "#46039f"
            ],
            [
             0.2222222222222222,
             "#7201a8"
            ],
            [
             0.3333333333333333,
             "#9c179e"
            ],
            [
             0.4444444444444444,
             "#bd3786"
            ],
            [
             0.5555555555555556,
             "#d8576b"
            ],
            [
             0.6666666666666666,
             "#ed7953"
            ],
            [
             0.7777777777777778,
             "#fb9f3a"
            ],
            [
             0.8888888888888888,
             "#fdca26"
            ],
            [
             1,
             "#f0f921"
            ]
           ]
          },
          "colorway": [
           "#636efa",
           "#EF553B",
           "#00cc96",
           "#ab63fa",
           "#FFA15A",
           "#19d3f3",
           "#FF6692",
           "#B6E880",
           "#FF97FF",
           "#FECB52"
          ],
          "font": {
           "color": "#2a3f5f"
          },
          "geo": {
           "bgcolor": "white",
           "lakecolor": "white",
           "landcolor": "#E5ECF6",
           "showlakes": true,
           "showland": true,
           "subunitcolor": "white"
          },
          "hoverlabel": {
           "align": "left"
          },
          "hovermode": "closest",
          "mapbox": {
           "style": "light"
          },
          "paper_bgcolor": "white",
          "plot_bgcolor": "#E5ECF6",
          "polar": {
           "angularaxis": {
            "gridcolor": "white",
            "linecolor": "white",
            "ticks": ""
           },
           "bgcolor": "#E5ECF6",
           "radialaxis": {
            "gridcolor": "white",
            "linecolor": "white",
            "ticks": ""
           }
          },
          "scene": {
           "xaxis": {
            "backgroundcolor": "#E5ECF6",
            "gridcolor": "white",
            "gridwidth": 2,
            "linecolor": "white",
            "showbackground": true,
            "ticks": "",
            "zerolinecolor": "white"
           },
           "yaxis": {
            "backgroundcolor": "#E5ECF6",
            "gridcolor": "white",
            "gridwidth": 2,
            "linecolor": "white",
            "showbackground": true,
            "ticks": "",
            "zerolinecolor": "white"
           },
           "zaxis": {
            "backgroundcolor": "#E5ECF6",
            "gridcolor": "white",
            "gridwidth": 2,
            "linecolor": "white",
            "showbackground": true,
            "ticks": "",
            "zerolinecolor": "white"
           }
          },
          "shapedefaults": {
           "line": {
            "color": "#2a3f5f"
           }
          },
          "ternary": {
           "aaxis": {
            "gridcolor": "white",
            "linecolor": "white",
            "ticks": ""
           },
           "baxis": {
            "gridcolor": "white",
            "linecolor": "white",
            "ticks": ""
           },
           "bgcolor": "#E5ECF6",
           "caxis": {
            "gridcolor": "white",
            "linecolor": "white",
            "ticks": ""
           }
          },
          "title": {
           "x": 0.05
          },
          "xaxis": {
           "automargin": true,
           "gridcolor": "white",
           "linecolor": "white",
           "ticks": "",
           "title": {
            "standoff": 15
           },
           "zerolinecolor": "white",
           "zerolinewidth": 2
          },
          "yaxis": {
           "automargin": true,
           "gridcolor": "white",
           "linecolor": "white",
           "ticks": "",
           "title": {
            "standoff": 15
           },
           "zerolinecolor": "white",
           "zerolinewidth": 2
          }
         }
        },
        "title": {
         "font": {
          "color": "#4D5663"
         }
        },
        "xaxis": {
         "gridcolor": "#E1E5ED",
         "showgrid": true,
         "tickfont": {
          "color": "#4D5663"
         },
         "title": {
          "font": {
           "color": "#4D5663"
          },
          "text": ""
         },
         "zerolinecolor": "#E1E5ED"
        },
        "yaxis": {
         "gridcolor": "#E1E5ED",
         "showgrid": true,
         "tickfont": {
          "color": "#4D5663"
         },
         "title": {
          "font": {
           "color": "#4D5663"
          },
          "text": ""
         },
         "zerolinecolor": "#E1E5ED"
        }
       }
      },
      "text/html": "<div>                            <div id=\"0dea7be7-9a13-445b-b9f2-aceaabf39fb8\" class=\"plotly-graph-div\" style=\"height:525px; width:100%;\"></div>            <script type=\"text/javascript\">                require([\"plotly\"], function(Plotly) {                    window.PLOTLYENV=window.PLOTLYENV || {};\n                    window.PLOTLYENV.BASE_URL='https://plot.ly';                                    if (document.getElementById(\"0dea7be7-9a13-445b-b9f2-aceaabf39fb8\")) {                    Plotly.newPlot(                        \"0dea7be7-9a13-445b-b9f2-aceaabf39fb8\",                        [{\"marker\": {\"color\": \"rgba(255, 153, 51, 0.6)\", \"line\": {\"color\": \"rgba(255, 153, 51, 1.0)\", \"width\": 1}}, \"name\": \"new_cases\", \"orientation\": \"v\", \"text\": \"\", \"type\": \"bar\", \"x\": [\"(Dec,31)\", \"(Jan,1)\", \"(Jan,2)\", \"(Jan,3)\", \"(Jan,4)\", \"(Jan,5)\", \"(Jan,6)\", \"(Jan,7)\", \"(Jan,8)\", \"(Jan,9)\", \"(Jan,10)\", \"(Jan,11)\", \"(Jan,12)\", \"(Jan,13)\", \"(Jan,14)\", \"(Jan,15)\", \"(Jan,16)\", \"(Jan,17)\", \"(Jan,18)\", \"(Jan,19)\", \"(Jan,20)\", \"(Jan,21)\", \"(Jan,22)\", \"(Jan,23)\", \"(Jan,24)\", \"(Jan,25)\", \"(Jan,26)\", \"(Jan,27)\", \"(Jan,28)\", \"(Jan,29)\", \"(Jan,30)\", \"(Jan,31)\", \"(Feb,1)\", \"(Feb,2)\", \"(Feb,3)\", \"(Feb,4)\", \"(Feb,5)\", \"(Feb,6)\", \"(Feb,7)\", \"(Feb,8)\", \"(Feb,9)\", \"(Feb,10)\", \"(Feb,11)\", \"(Feb,12)\", \"(Feb,13)\", \"(Feb,14)\", \"(Feb,15)\", \"(Feb,16)\", \"(Feb,17)\", \"(Feb,18)\", \"(Feb,19)\", \"(Feb,20)\", \"(Feb,21)\", \"(Feb,22)\", \"(Feb,23)\", \"(Feb,24)\", \"(Feb,25)\", \"(Feb,26)\", \"(Feb,27)\", \"(Feb,28)\", \"(Feb,29)\", \"(Mar,1)\", \"(Mar,2)\", \"(Mar,3)\", \"(Mar,4)\", \"(Mar,5)\", \"(Mar,6)\", \"(Mar,7)\", \"(Mar,8)\", \"(Mar,9)\", \"(Mar,10)\", \"(Mar,11)\", \"(Mar,12)\", \"(Mar,13)\", \"(Mar,14)\", \"(Mar,15)\", \"(Mar,16)\", \"(Mar,17)\", \"(Mar,18)\", \"(Mar,19)\", \"(Mar,20)\", \"(Mar,21)\", \"(Mar,22)\", \"(Mar,23)\", \"(Mar,24)\", \"(Mar,25)\", \"(Mar,26)\", \"(Mar,27)\", \"(Mar,28)\", \"(Mar,29)\", \"(Mar,30)\", \"(Mar,31)\", \"(Apr,1)\", \"(Apr,2)\", \"(Apr,3)\", \"(Apr,4)\", \"(Apr,5)\", \"(Apr,6)\", \"(Apr,7)\", \"(Apr,8)\", \"(Apr,9)\", \"(Apr,10)\", \"(Apr,11)\", \"(Apr,12)\", \"(Apr,13)\", \"(Apr,14)\", \"(Apr,15)\", \"(Apr,16)\", \"(Apr,17)\", \"(Apr,18)\", \"(Apr,19)\", \"(Apr,20)\", \"(Apr,21)\", \"(Apr,22)\", \"(Apr,23)\", \"(Apr,24)\", \"(Apr,25)\", \"(Apr,26)\", \"(Apr,27)\", \"(Apr,28)\", \"(Apr,29)\", \"(Apr,30)\", \"(May,1)\", \"(May,2)\", \"(May,3)\", \"(May,4)\", \"(May,5)\", \"(May,6)\", \"(May,7)\", \"(May,8)\", \"(May,9)\", \"(May,10)\", \"(May,11)\", \"(May,12)\", \"(May,13)\", \"(May,14)\", \"(May,15)\", \"(May,16)\", \"(May,17)\", \"(May,18)\", \"(May,19)\", \"(May,20)\", \"(May,21)\", \"(May,22)\", \"(May,23)\", \"(May,24)\", \"(May,25)\", \"(May,26)\", \"(May,27)\", \"(May,28)\", \"(May,29)\", \"(May,30)\", \"(May,31)\", \"(Jun,1)\", \"(Jun,2)\", \"(Jun,3)\", \"(Jun,4)\", \"(Jun,5)\", \"(Jun,6)\", \"(Jun,7)\", \"(Jun,8)\", \"(Jun,9)\", \"(Jun,10)\", \"(Jun,11)\", \"(Jun,12)\", \"(Jun,13)\", \"(Jun,14)\", \"(Jun,15)\", \"(Jun,16)\", \"(Jun,17)\", \"(Jun,18)\", \"(Jun,19)\", \"(Jun,20)\", \"(Jun,21)\", \"(Jun,22)\", \"(Jun,23)\", \"(Jun,24)\", \"(Jun,25)\", \"(Jun,26)\", \"(Jun,27)\", \"(Jun,28)\", \"(Jun,29)\", \"(Jun,30)\", \"(Jul,1)\", \"(Jul,2)\", \"(Jul,3)\", \"(Jul,4)\", \"(Jul,5)\", \"(Jul,6)\", \"(Jul,7)\", \"(Jul,8)\", \"(Jul,9)\", \"(Jul,10)\", \"(Jul,11)\", \"(Jul,12)\", \"(Jul,13)\", \"(Jul,14)\", \"(Jul,15)\", \"(Jul,16)\", \"(Jul,17)\", \"(Jul,18)\", \"(Jul,19)\", \"(Jul,20)\", \"(Jul,21)\", \"(Jul,22)\", \"(Jul,23)\", \"(Jul,24)\", \"(Jul,25)\", \"(Jul,26)\", \"(Jul,27)\", \"(Jul,28)\", \"(Jul,29)\", \"(Jul,30)\", \"(Jul,31)\", \"(Aug,1)\", \"(Aug,2)\", \"(Aug,3)\", \"(Aug,4)\", \"(Aug,5)\", \"(Aug,6)\", \"(Aug,7)\", \"(Aug,8)\", \"(Aug,9)\", \"(Aug,10)\", \"(Aug,11)\", \"(Aug,12)\", \"(Aug,13)\", \"(Aug,14)\", \"(Aug,15)\", \"(Aug,16)\", \"(Aug,17)\", \"(Aug,18)\", \"(Aug,19)\", \"(Aug,20)\", \"(Aug,21)\", \"(Aug,22)\", \"(Aug,23)\", \"(Aug,24)\", \"(Aug,25)\", \"(Aug,26)\", \"(Aug,27)\", \"(Aug,28)\", \"(Aug,29)\", \"(Aug,30)\", \"(Aug,31)\", \"(Sep,1)\", \"(Sep,2)\", \"(Sep,3)\", \"(Sep,4)\", \"(Sep,5)\", \"(Sep,6)\", \"(Sep,7)\", \"(Sep,8)\", \"(Sep,9)\", \"(Sep,10)\", \"(Sep,11)\", \"(Sep,12)\", \"(Sep,13)\", \"(Sep,14)\", \"(Sep,15)\", \"(Sep,16)\", \"(Sep,17)\", \"(Sep,18)\", \"(Sep,19)\", \"(Sep,20)\", \"(Sep,21)\", \"(Sep,22)\", \"(Sep,23)\"], \"y\": [54.0, 0.0, 0.0, 34.0, 0.0, 30.0, 0.0, 0.0, 0.0, 0.0, 0.0, 0.0, 0.0, 2.0, 0.0, 2.0, 0.0, 10.0, 34.0, 272.0, 40.0, 306.0, 284.0, 194.0, 532.0, 906.0, 1346.0, 1594.0, 3534.0, 2960.0, 3512.0, 4002.0, 4244.0, 5216.0, 5636.0, 6486.0, 7816.0, 7502.0, 6436.0, 6884.0, 5236.0, 5984.0, 5124.0, 4144.0, 30302.0, 8430.0, 5120.0, 4324.0, 4134.0, 3990.0, 3728.0, 1064.0, 1992.0, 2170.0, 2018.0, 1046.0, 1586.0, 1734.0, 2228.0, 2532.0, 3718.0, 3652.0, 4174.0, 3714.0, 4624.0, 4708.0, 6116.0, 8240.0, 7954.0, 8354.0, 9632.0, 10214.0, 15796.0, 18902.0, 20808.0, 24330.0, 24910.0, 28402.0, 34012.0, 40428.0, 62188.0, 63818.0, 68414.0, 68714.0, 88830.0, 84772.0, 107500.0, 122032.0, 130188.0, 125628.0, 114726.0, 128976.0, 149348.0, 154946.0, 154916.0, 163660.0, 170486.0, 132552.0, 145976.0, 154534.0, 169840.0, 174528.0, 179024.0, 150628.0, 137056.0, 129440.0, 152992.0, 156696.0, 167882.0, 163558.0, 159126.0, 141124.0, 147470.0, 173330.0, 132688.0, 156970.0, 145584.0, 199564.0, 163354.0, 131640.0, 144508.0, 157604.0, 170666.0, 177334.0, 161256.0, 154330.0, 153072.0, 157366.0, 175114.0, 184848.0, 178422.0, 177686.0, 149388.0, 139468.0, 172426.0, 172514.0, 193086.0, 194438.0, 185870.0, 159006.0, 172734.0, 191088.0, 206654.0, 215560.0, 211600.0, 200054.0, 186310.0, 177686.0, 187562.0, 205638.0, 237012.0, 244138.0, 255876.0, 213432.0, 200588.0, 224774.0, 251024.0, 253848.0, 266380.0, 251994.0, 229658.0, 211242.0, 250474.0, 269708.0, 272310.0, 289252.0, 266824.0, 242392.0, 236990.0, 282952.0, 353728.0, 276900.0, 360622.0, 320634.0, 258396.0, 268478.0, 327784.0, 349988.0, 357482.0, 377344.0, 364056.0, 320406.0, 316316.0, 384170.0, 400752.0, 417250.0, 411048.0, 382128.0, 356558.0, 348556.0, 413884.0, 431012.0, 450294.0, 462922.0, 435988.0, 390998.0, 376892.0, 447386.0, 463398.0, 508756.0, 508854.0, 460332.0, 418882.0, 401528.0, 479570.0, 563266.0, 552582.0, 567822.0, 519256.0, 463716.0, 423814.0, 487604.0, 596222.0, 580862.0, 558124.0, 535714.0, 446584.0, 409314.0, 511344.0, 555208.0, 571850.0, 551806.0, 537436.0, 458828.0, 439532.0, 522934.0, 578696.0, 573340.0, 577836.0, 519266.0, 464722.0, 393092.0, 510048.0, 563036.0, 552636.0, 506462.0, 533460.0, 448696.0, 422916.0, 510146.0, 553350.0, 566820.0, 553198.0, 538022.0, 490448.0, 485012.0, 537092.0, 566280.0, 557708.0, 586920.0, 559450.0, 497266.0, 412762.0, 489292.0, 565460.0, 620574.0, 610648.0, 574194.0, 545188.0, 485726.0, 608374.0, 584138.0, 630658.0, 622346.0, 591546.0, 572084.0, 527458.0, 535374.0]}],                        {\"legend\": {\"bgcolor\": \"#F5F6F9\", \"font\": {\"color\": \"#4D5663\"}}, \"paper_bgcolor\": \"#F5F6F9\", \"plot_bgcolor\": \"#F5F6F9\", \"template\": {\"data\": {\"bar\": [{\"error_x\": {\"color\": \"#2a3f5f\"}, \"error_y\": {\"color\": \"#2a3f5f\"}, \"marker\": {\"line\": {\"color\": \"#E5ECF6\", \"width\": 0.5}}, \"type\": \"bar\"}], \"barpolar\": [{\"marker\": {\"line\": {\"color\": \"#E5ECF6\", \"width\": 0.5}}, \"type\": \"barpolar\"}], \"carpet\": [{\"aaxis\": {\"endlinecolor\": \"#2a3f5f\", \"gridcolor\": \"white\", \"linecolor\": \"white\", \"minorgridcolor\": \"white\", \"startlinecolor\": \"#2a3f5f\"}, \"baxis\": {\"endlinecolor\": \"#2a3f5f\", \"gridcolor\": \"white\", \"linecolor\": \"white\", \"minorgridcolor\": \"white\", \"startlinecolor\": \"#2a3f5f\"}, \"type\": \"carpet\"}], \"choropleth\": [{\"colorbar\": {\"outlinewidth\": 0, \"ticks\": \"\"}, \"type\": \"choropleth\"}], \"contour\": [{\"colorbar\": {\"outlinewidth\": 0, \"ticks\": \"\"}, \"colorscale\": [[0.0, \"#0d0887\"], [0.1111111111111111, \"#46039f\"], [0.2222222222222222, \"#7201a8\"], [0.3333333333333333, \"#9c179e\"], [0.4444444444444444, \"#bd3786\"], [0.5555555555555556, \"#d8576b\"], [0.6666666666666666, \"#ed7953\"], [0.7777777777777778, \"#fb9f3a\"], [0.8888888888888888, \"#fdca26\"], [1.0, \"#f0f921\"]], \"type\": \"contour\"}], \"contourcarpet\": [{\"colorbar\": {\"outlinewidth\": 0, \"ticks\": \"\"}, \"type\": \"contourcarpet\"}], \"heatmap\": [{\"colorbar\": {\"outlinewidth\": 0, \"ticks\": \"\"}, \"colorscale\": [[0.0, \"#0d0887\"], [0.1111111111111111, \"#46039f\"], [0.2222222222222222, \"#7201a8\"], [0.3333333333333333, \"#9c179e\"], [0.4444444444444444, \"#bd3786\"], [0.5555555555555556, \"#d8576b\"], [0.6666666666666666, \"#ed7953\"], [0.7777777777777778, \"#fb9f3a\"], [0.8888888888888888, \"#fdca26\"], [1.0, \"#f0f921\"]], \"type\": \"heatmap\"}], \"heatmapgl\": [{\"colorbar\": {\"outlinewidth\": 0, \"ticks\": \"\"}, \"colorscale\": [[0.0, \"#0d0887\"], [0.1111111111111111, \"#46039f\"], [0.2222222222222222, \"#7201a8\"], [0.3333333333333333, \"#9c179e\"], [0.4444444444444444, \"#bd3786\"], [0.5555555555555556, \"#d8576b\"], [0.6666666666666666, \"#ed7953\"], [0.7777777777777778, \"#fb9f3a\"], [0.8888888888888888, \"#fdca26\"], [1.0, \"#f0f921\"]], \"type\": \"heatmapgl\"}], \"histogram\": [{\"marker\": {\"colorbar\": {\"outlinewidth\": 0, \"ticks\": \"\"}}, \"type\": \"histogram\"}], \"histogram2d\": [{\"colorbar\": {\"outlinewidth\": 0, \"ticks\": \"\"}, \"colorscale\": [[0.0, \"#0d0887\"], [0.1111111111111111, \"#46039f\"], [0.2222222222222222, \"#7201a8\"], [0.3333333333333333, \"#9c179e\"], [0.4444444444444444, \"#bd3786\"], [0.5555555555555556, \"#d8576b\"], [0.6666666666666666, \"#ed7953\"], [0.7777777777777778, \"#fb9f3a\"], [0.8888888888888888, \"#fdca26\"], [1.0, \"#f0f921\"]], \"type\": \"histogram2d\"}], \"histogram2dcontour\": [{\"colorbar\": {\"outlinewidth\": 0, \"ticks\": \"\"}, \"colorscale\": [[0.0, \"#0d0887\"], [0.1111111111111111, \"#46039f\"], [0.2222222222222222, \"#7201a8\"], [0.3333333333333333, \"#9c179e\"], [0.4444444444444444, \"#bd3786\"], [0.5555555555555556, \"#d8576b\"], [0.6666666666666666, \"#ed7953\"], [0.7777777777777778, \"#fb9f3a\"], [0.8888888888888888, \"#fdca26\"], [1.0, \"#f0f921\"]], \"type\": \"histogram2dcontour\"}], \"mesh3d\": [{\"colorbar\": {\"outlinewidth\": 0, \"ticks\": \"\"}, \"type\": \"mesh3d\"}], \"parcoords\": [{\"line\": {\"colorbar\": {\"outlinewidth\": 0, \"ticks\": \"\"}}, \"type\": \"parcoords\"}], \"pie\": [{\"automargin\": true, \"type\": \"pie\"}], \"scatter\": [{\"marker\": {\"colorbar\": {\"outlinewidth\": 0, \"ticks\": \"\"}}, \"type\": \"scatter\"}], \"scatter3d\": [{\"line\": {\"colorbar\": {\"outlinewidth\": 0, \"ticks\": \"\"}}, \"marker\": {\"colorbar\": {\"outlinewidth\": 0, \"ticks\": \"\"}}, \"type\": \"scatter3d\"}], \"scattercarpet\": [{\"marker\": {\"colorbar\": {\"outlinewidth\": 0, \"ticks\": \"\"}}, \"type\": \"scattercarpet\"}], \"scattergeo\": [{\"marker\": {\"colorbar\": {\"outlinewidth\": 0, \"ticks\": \"\"}}, \"type\": \"scattergeo\"}], \"scattergl\": [{\"marker\": {\"colorbar\": {\"outlinewidth\": 0, \"ticks\": \"\"}}, \"type\": \"scattergl\"}], \"scattermapbox\": [{\"marker\": {\"colorbar\": {\"outlinewidth\": 0, \"ticks\": \"\"}}, \"type\": \"scattermapbox\"}], \"scatterpolar\": [{\"marker\": {\"colorbar\": {\"outlinewidth\": 0, \"ticks\": \"\"}}, \"type\": \"scatterpolar\"}], \"scatterpolargl\": [{\"marker\": {\"colorbar\": {\"outlinewidth\": 0, \"ticks\": \"\"}}, \"type\": \"scatterpolargl\"}], \"scatterternary\": [{\"marker\": {\"colorbar\": {\"outlinewidth\": 0, \"ticks\": \"\"}}, \"type\": \"scatterternary\"}], \"surface\": [{\"colorbar\": {\"outlinewidth\": 0, \"ticks\": \"\"}, \"colorscale\": [[0.0, \"#0d0887\"], [0.1111111111111111, \"#46039f\"], [0.2222222222222222, \"#7201a8\"], [0.3333333333333333, \"#9c179e\"], [0.4444444444444444, \"#bd3786\"], [0.5555555555555556, \"#d8576b\"], [0.6666666666666666, \"#ed7953\"], [0.7777777777777778, \"#fb9f3a\"], [0.8888888888888888, \"#fdca26\"], [1.0, \"#f0f921\"]], \"type\": \"surface\"}], \"table\": [{\"cells\": {\"fill\": {\"color\": \"#EBF0F8\"}, \"line\": {\"color\": \"white\"}}, \"header\": {\"fill\": {\"color\": \"#C8D4E3\"}, \"line\": {\"color\": \"white\"}}, \"type\": \"table\"}]}, \"layout\": {\"annotationdefaults\": {\"arrowcolor\": \"#2a3f5f\", \"arrowhead\": 0, \"arrowwidth\": 1}, \"coloraxis\": {\"colorbar\": {\"outlinewidth\": 0, \"ticks\": \"\"}}, \"colorscale\": {\"diverging\": [[0, \"#8e0152\"], [0.1, \"#c51b7d\"], [0.2, \"#de77ae\"], [0.3, \"#f1b6da\"], [0.4, \"#fde0ef\"], [0.5, \"#f7f7f7\"], [0.6, \"#e6f5d0\"], [0.7, \"#b8e186\"], [0.8, \"#7fbc41\"], [0.9, \"#4d9221\"], [1, \"#276419\"]], \"sequential\": [[0.0, \"#0d0887\"], [0.1111111111111111, \"#46039f\"], [0.2222222222222222, \"#7201a8\"], [0.3333333333333333, \"#9c179e\"], [0.4444444444444444, \"#bd3786\"], [0.5555555555555556, \"#d8576b\"], [0.6666666666666666, \"#ed7953\"], [0.7777777777777778, \"#fb9f3a\"], [0.8888888888888888, \"#fdca26\"], [1.0, \"#f0f921\"]], \"sequentialminus\": [[0.0, \"#0d0887\"], [0.1111111111111111, \"#46039f\"], [0.2222222222222222, \"#7201a8\"], [0.3333333333333333, \"#9c179e\"], [0.4444444444444444, \"#bd3786\"], [0.5555555555555556, \"#d8576b\"], [0.6666666666666666, \"#ed7953\"], [0.7777777777777778, \"#fb9f3a\"], [0.8888888888888888, \"#fdca26\"], [1.0, \"#f0f921\"]]}, \"colorway\": [\"#636efa\", \"#EF553B\", \"#00cc96\", \"#ab63fa\", \"#FFA15A\", \"#19d3f3\", \"#FF6692\", \"#B6E880\", \"#FF97FF\", \"#FECB52\"], \"font\": {\"color\": \"#2a3f5f\"}, \"geo\": {\"bgcolor\": \"white\", \"lakecolor\": \"white\", \"landcolor\": \"#E5ECF6\", \"showlakes\": true, \"showland\": true, \"subunitcolor\": \"white\"}, \"hoverlabel\": {\"align\": \"left\"}, \"hovermode\": \"closest\", \"mapbox\": {\"style\": \"light\"}, \"paper_bgcolor\": \"white\", \"plot_bgcolor\": \"#E5ECF6\", \"polar\": {\"angularaxis\": {\"gridcolor\": \"white\", \"linecolor\": \"white\", \"ticks\": \"\"}, \"bgcolor\": \"#E5ECF6\", \"radialaxis\": {\"gridcolor\": \"white\", \"linecolor\": \"white\", \"ticks\": \"\"}}, \"scene\": {\"xaxis\": {\"backgroundcolor\": \"#E5ECF6\", \"gridcolor\": \"white\", \"gridwidth\": 2, \"linecolor\": \"white\", \"showbackground\": true, \"ticks\": \"\", \"zerolinecolor\": \"white\"}, \"yaxis\": {\"backgroundcolor\": \"#E5ECF6\", \"gridcolor\": \"white\", \"gridwidth\": 2, \"linecolor\": \"white\", \"showbackground\": true, \"ticks\": \"\", \"zerolinecolor\": \"white\"}, \"zaxis\": {\"backgroundcolor\": \"#E5ECF6\", \"gridcolor\": \"white\", \"gridwidth\": 2, \"linecolor\": \"white\", \"showbackground\": true, \"ticks\": \"\", \"zerolinecolor\": \"white\"}}, \"shapedefaults\": {\"line\": {\"color\": \"#2a3f5f\"}}, \"ternary\": {\"aaxis\": {\"gridcolor\": \"white\", \"linecolor\": \"white\", \"ticks\": \"\"}, \"baxis\": {\"gridcolor\": \"white\", \"linecolor\": \"white\", \"ticks\": \"\"}, \"bgcolor\": \"#E5ECF6\", \"caxis\": {\"gridcolor\": \"white\", \"linecolor\": \"white\", \"ticks\": \"\"}}, \"title\": {\"x\": 0.05}, \"xaxis\": {\"automargin\": true, \"gridcolor\": \"white\", \"linecolor\": \"white\", \"ticks\": \"\", \"title\": {\"standoff\": 15}, \"zerolinecolor\": \"white\", \"zerolinewidth\": 2}, \"yaxis\": {\"automargin\": true, \"gridcolor\": \"white\", \"linecolor\": \"white\", \"ticks\": \"\", \"title\": {\"standoff\": 15}, \"zerolinecolor\": \"white\", \"zerolinewidth\": 2}}}, \"title\": {\"font\": {\"color\": \"#4D5663\"}}, \"xaxis\": {\"gridcolor\": \"#E1E5ED\", \"showgrid\": true, \"tickfont\": {\"color\": \"#4D5663\"}, \"title\": {\"font\": {\"color\": \"#4D5663\"}, \"text\": \"\"}, \"zerolinecolor\": \"#E1E5ED\"}, \"yaxis\": {\"gridcolor\": \"#E1E5ED\", \"showgrid\": true, \"tickfont\": {\"color\": \"#4D5663\"}, \"title\": {\"font\": {\"color\": \"#4D5663\"}, \"text\": \"\"}, \"zerolinecolor\": \"#E1E5ED\"}},                        {\"showLink\": true, \"linkText\": \"Export to plot.ly\", \"plotlyServerURL\": \"https://plot.ly\", \"responsive\": true}                    ).then(function(){\n                            \nvar gd = document.getElementById('0dea7be7-9a13-445b-b9f2-aceaabf39fb8');\nvar x = new MutationObserver(function (mutations, observer) {{\n        var display = window.getComputedStyle(gd).display;\n        if (!display || display === 'none') {{\n            console.log([gd, 'removed!']);\n            Plotly.purge(gd);\n            observer.disconnect();\n        }}\n}});\n\n// Listen for the removal of the full notebook cells\nvar notebookContainer = gd.closest('#notebook-container');\nif (notebookContainer) {{\n    x.observe(notebookContainer, {childList: true});\n}}\n\n// Listen for the clearing of the current output cell\nvar outputEl = gd.closest('.output');\nif (outputEl) {{\n    x.observe(outputEl, {childList: true});\n}}\n\n                        })                };                });            </script>        </div>"
     },
     "metadata": {}
    }
   ]
  },
  {
   "source": [
    "%%HTML\n",
    "<p>From the plot above which describes about new cases world wide we can infer that new cases are on a rise ever since covid-19 has emerged so my guess is that it will not decline untill covid vaccine is there on the market</p>"
   ],
   "cell_type": "markdown",
   "metadata": {}
  },
  {
   "source": [
    "  %%HTML\n",
    "  <h1 id=\"2\">2.What are the trends in new_deaths world_wide ?</h1>"
   ],
   "cell_type": "code",
   "metadata": {},
   "execution_count": 65,
   "outputs": [
    {
     "output_type": "display_data",
     "data": {
      "text/plain": "<IPython.core.display.HTML object>",
      "text/html": "<h1 id=\"2\">2.What are the trends in new_deaths world_wide ?</h1>\n"
     },
     "metadata": {}
    }
   ]
  },
  {
   "cell_type": "code",
   "execution_count": 123,
   "metadata": {},
   "outputs": [
    {
     "output_type": "display_data",
     "data": {
      "application/vnd.plotly.v1+json": {
       "config": {
        "linkText": "Export to plot.ly",
        "plotlyServerURL": "https://plot.ly",
        "showLink": true
       },
       "data": [
        {
         "marker": {
          "color": "rgba(255, 153, 51, 0.6)",
          "line": {
           "color": "rgba(255, 153, 51, 1.0)",
           "width": 1
          }
         },
         "name": "new_deaths",
         "orientation": "v",
         "text": "",
         "type": "bar",
         "x": [
          "(Dec,31)",
          "(Jan,1)",
          "(Jan,2)",
          "(Jan,3)",
          "(Jan,4)",
          "(Jan,5)",
          "(Jan,6)",
          "(Jan,7)",
          "(Jan,8)",
          "(Jan,9)",
          "(Jan,10)",
          "(Jan,11)",
          "(Jan,12)",
          "(Jan,13)",
          "(Jan,14)",
          "(Jan,15)",
          "(Jan,16)",
          "(Jan,17)",
          "(Jan,18)",
          "(Jan,19)",
          "(Jan,20)",
          "(Jan,21)",
          "(Jan,22)",
          "(Jan,23)",
          "(Jan,24)",
          "(Jan,25)",
          "(Jan,26)",
          "(Jan,27)",
          "(Jan,28)",
          "(Jan,29)",
          "(Jan,30)",
          "(Jan,31)",
          "(Feb,1)",
          "(Feb,2)",
          "(Feb,3)",
          "(Feb,4)",
          "(Feb,5)",
          "(Feb,6)",
          "(Feb,7)",
          "(Feb,8)",
          "(Feb,9)",
          "(Feb,10)",
          "(Feb,11)",
          "(Feb,12)",
          "(Feb,13)",
          "(Feb,14)",
          "(Feb,15)",
          "(Feb,16)",
          "(Feb,17)",
          "(Feb,18)",
          "(Feb,19)",
          "(Feb,20)",
          "(Feb,21)",
          "(Feb,22)",
          "(Feb,23)",
          "(Feb,24)",
          "(Feb,25)",
          "(Feb,26)",
          "(Feb,27)",
          "(Feb,28)",
          "(Feb,29)",
          "(Mar,1)",
          "(Mar,2)",
          "(Mar,3)",
          "(Mar,4)",
          "(Mar,5)",
          "(Mar,6)",
          "(Mar,7)",
          "(Mar,8)",
          "(Mar,9)",
          "(Mar,10)",
          "(Mar,11)",
          "(Mar,12)",
          "(Mar,13)",
          "(Mar,14)",
          "(Mar,15)",
          "(Mar,16)",
          "(Mar,17)",
          "(Mar,18)",
          "(Mar,19)",
          "(Mar,20)",
          "(Mar,21)",
          "(Mar,22)",
          "(Mar,23)",
          "(Mar,24)",
          "(Mar,25)",
          "(Mar,26)",
          "(Mar,27)",
          "(Mar,28)",
          "(Mar,29)",
          "(Mar,30)",
          "(Mar,31)",
          "(Apr,1)",
          "(Apr,2)",
          "(Apr,3)",
          "(Apr,4)",
          "(Apr,5)",
          "(Apr,6)",
          "(Apr,7)",
          "(Apr,8)",
          "(Apr,9)",
          "(Apr,10)",
          "(Apr,11)",
          "(Apr,12)",
          "(Apr,13)",
          "(Apr,14)",
          "(Apr,15)",
          "(Apr,16)",
          "(Apr,17)",
          "(Apr,18)",
          "(Apr,19)",
          "(Apr,20)",
          "(Apr,21)",
          "(Apr,22)",
          "(Apr,23)",
          "(Apr,24)",
          "(Apr,25)",
          "(Apr,26)",
          "(Apr,27)",
          "(Apr,28)",
          "(Apr,29)",
          "(Apr,30)",
          "(May,1)",
          "(May,2)",
          "(May,3)",
          "(May,4)",
          "(May,5)",
          "(May,6)",
          "(May,7)",
          "(May,8)",
          "(May,9)",
          "(May,10)",
          "(May,11)",
          "(May,12)",
          "(May,13)",
          "(May,14)",
          "(May,15)",
          "(May,16)",
          "(May,17)",
          "(May,18)",
          "(May,19)",
          "(May,20)",
          "(May,21)",
          "(May,22)",
          "(May,23)",
          "(May,24)",
          "(May,25)",
          "(May,26)",
          "(May,27)",
          "(May,28)",
          "(May,29)",
          "(May,30)",
          "(May,31)",
          "(Jun,1)",
          "(Jun,2)",
          "(Jun,3)",
          "(Jun,4)",
          "(Jun,5)",
          "(Jun,6)",
          "(Jun,7)",
          "(Jun,8)",
          "(Jun,9)",
          "(Jun,10)",
          "(Jun,11)",
          "(Jun,12)",
          "(Jun,13)",
          "(Jun,14)",
          "(Jun,15)",
          "(Jun,16)",
          "(Jun,17)",
          "(Jun,18)",
          "(Jun,19)",
          "(Jun,20)",
          "(Jun,21)",
          "(Jun,22)",
          "(Jun,23)",
          "(Jun,24)",
          "(Jun,25)",
          "(Jun,26)",
          "(Jun,27)",
          "(Jun,28)",
          "(Jun,29)",
          "(Jun,30)",
          "(Jul,1)",
          "(Jul,2)",
          "(Jul,3)",
          "(Jul,4)",
          "(Jul,5)",
          "(Jul,6)",
          "(Jul,7)",
          "(Jul,8)",
          "(Jul,9)",
          "(Jul,10)",
          "(Jul,11)",
          "(Jul,12)",
          "(Jul,13)",
          "(Jul,14)",
          "(Jul,15)",
          "(Jul,16)",
          "(Jul,17)",
          "(Jul,18)",
          "(Jul,19)",
          "(Jul,20)",
          "(Jul,21)",
          "(Jul,22)",
          "(Jul,23)",
          "(Jul,24)",
          "(Jul,25)",
          "(Jul,26)",
          "(Jul,27)",
          "(Jul,28)",
          "(Jul,29)",
          "(Jul,30)",
          "(Jul,31)",
          "(Aug,1)",
          "(Aug,2)",
          "(Aug,3)",
          "(Aug,4)",
          "(Aug,5)",
          "(Aug,6)",
          "(Aug,7)",
          "(Aug,8)",
          "(Aug,9)",
          "(Aug,10)",
          "(Aug,11)",
          "(Aug,12)",
          "(Aug,13)",
          "(Aug,14)",
          "(Aug,15)",
          "(Aug,16)",
          "(Aug,17)",
          "(Aug,18)",
          "(Aug,19)",
          "(Aug,20)",
          "(Aug,21)",
          "(Aug,22)",
          "(Aug,23)",
          "(Aug,24)",
          "(Aug,25)",
          "(Aug,26)",
          "(Aug,27)",
          "(Aug,28)",
          "(Aug,29)",
          "(Aug,30)",
          "(Aug,31)",
          "(Sep,1)",
          "(Sep,2)",
          "(Sep,3)",
          "(Sep,4)",
          "(Sep,5)",
          "(Sep,6)",
          "(Sep,7)",
          "(Sep,8)",
          "(Sep,9)",
          "(Sep,10)",
          "(Sep,11)",
          "(Sep,12)",
          "(Sep,13)",
          "(Sep,14)",
          "(Sep,15)",
          "(Sep,16)",
          "(Sep,17)",
          "(Sep,18)",
          "(Sep,19)",
          "(Sep,20)",
          "(Sep,21)",
          "(Sep,22)",
          "(Sep,23)"
         ],
         "y": [
          0,
          0,
          0,
          0,
          0,
          0,
          0,
          0,
          0,
          0,
          0,
          2,
          0,
          0,
          0,
          2,
          0,
          0,
          0,
          2,
          0,
          6,
          22,
          0,
          18,
          30,
          30,
          50,
          50,
          52,
          76,
          86,
          92,
          92,
          114,
          130,
          132,
          144,
          146,
          172,
          178,
          194,
          216,
          194,
          510,
          26,
          288,
          284,
          212,
          196,
          278,
          232,
          238,
          224,
          208,
          312,
          158,
          128,
          76,
          114,
          128,
          116,
          134,
          144,
          168,
          160,
          204,
          208,
          194,
          456,
          416,
          546,
          662,
          700,
          886,
          734,
          1502,
          1212,
          1622,
          1926,
          2150,
          2774,
          3432,
          3382,
          3708,
          4630,
          5290,
          5628,
          6984,
          7180,
          6462,
          7986,
          9354,
          10030,
          10052,
          13572,
          12596,
          9542,
          10690,
          15152,
          13140,
          14848,
          14032,
          12130,
          10670,
          10782,
          15236,
          20982,
          17054,
          16924,
          12746,
          9978,
          10898,
          14486,
          11870,
          14670,
          10718,
          12320,
          7828,
          9796,
          13130,
          13126,
          11300,
          11154,
          9616,
          7412,
          7972,
          11914,
          12248,
          11284,
          10224,
          8814,
          6854,
          7178,
          11514,
          10036,
          10512,
          10118,
          8450,
          5796,
          6600,
          10368,
          9438,
          10780,
          9292,
          7834,
          2212,
          6736,
          7742,
          10286,
          9284,
          9306,
          8024,
          5826,
          6292,
          9090,
          11028,
          10264,
          9280,
          7578,
          7022,
          6428,
          9706,
          10262,
          9392,
          9296,
          8278,
          6314,
          6756,
          13438,
          10200,
          12550,
          10062,
          8232,
          7932,
          6792,
          10700,
          10430,
          13156,
          9120,
          9182,
          6138,
          7412,
          11248,
          9682,
          10154,
          10024,
          8678,
          6756,
          7684,
          11992,
          10554,
          10766,
          10554,
          9586,
          7780,
          7682,
          11156,
          11002,
          11490,
          14714,
          9898,
          7682,
          8186,
          12246,
          13754,
          19558,
          12512,
          11466,
          7926,
          9312,
          12324,
          13284,
          12766,
          12246,
          11518,
          8466,
          8452,
          13460,
          14200,
          13790,
          12936,
          11268,
          9648,
          9634,
          12274,
          13800,
          19820,
          12482,
          11314,
          8466,
          8540,
          13382,
          13092,
          12706,
          11738,
          11286,
          6620,
          8554,
          12956,
          12588,
          12164,
          10914,
          11394,
          7546,
          8106,
          13024,
          12158,
          11584,
          11170,
          10726,
          18066,
          7642,
          9928,
          11862,
          12106,
          11772,
          9856,
          7758,
          8472,
          13910,
          10872,
          10636,
          11906,
          10140,
          7476,
          8780,
          11874
         ]
        }
       ],
       "layout": {
        "legend": {
         "bgcolor": "#F5F6F9",
         "font": {
          "color": "#4D5663"
         }
        },
        "paper_bgcolor": "#F5F6F9",
        "plot_bgcolor": "#F5F6F9",
        "template": {
         "data": {
          "bar": [
           {
            "error_x": {
             "color": "#2a3f5f"
            },
            "error_y": {
             "color": "#2a3f5f"
            },
            "marker": {
             "line": {
              "color": "#E5ECF6",
              "width": 0.5
             }
            },
            "type": "bar"
           }
          ],
          "barpolar": [
           {
            "marker": {
             "line": {
              "color": "#E5ECF6",
              "width": 0.5
             }
            },
            "type": "barpolar"
           }
          ],
          "carpet": [
           {
            "aaxis": {
             "endlinecolor": "#2a3f5f",
             "gridcolor": "white",
             "linecolor": "white",
             "minorgridcolor": "white",
             "startlinecolor": "#2a3f5f"
            },
            "baxis": {
             "endlinecolor": "#2a3f5f",
             "gridcolor": "white",
             "linecolor": "white",
             "minorgridcolor": "white",
             "startlinecolor": "#2a3f5f"
            },
            "type": "carpet"
           }
          ],
          "choropleth": [
           {
            "colorbar": {
             "outlinewidth": 0,
             "ticks": ""
            },
            "type": "choropleth"
           }
          ],
          "contour": [
           {
            "colorbar": {
             "outlinewidth": 0,
             "ticks": ""
            },
            "colorscale": [
             [
              0,
              "#0d0887"
             ],
             [
              0.1111111111111111,
              "#46039f"
             ],
             [
              0.2222222222222222,
              "#7201a8"
             ],
             [
              0.3333333333333333,
              "#9c179e"
             ],
             [
              0.4444444444444444,
              "#bd3786"
             ],
             [
              0.5555555555555556,
              "#d8576b"
             ],
             [
              0.6666666666666666,
              "#ed7953"
             ],
             [
              0.7777777777777778,
              "#fb9f3a"
             ],
             [
              0.8888888888888888,
              "#fdca26"
             ],
             [
              1,
              "#f0f921"
             ]
            ],
            "type": "contour"
           }
          ],
          "contourcarpet": [
           {
            "colorbar": {
             "outlinewidth": 0,
             "ticks": ""
            },
            "type": "contourcarpet"
           }
          ],
          "heatmap": [
           {
            "colorbar": {
             "outlinewidth": 0,
             "ticks": ""
            },
            "colorscale": [
             [
              0,
              "#0d0887"
             ],
             [
              0.1111111111111111,
              "#46039f"
             ],
             [
              0.2222222222222222,
              "#7201a8"
             ],
             [
              0.3333333333333333,
              "#9c179e"
             ],
             [
              0.4444444444444444,
              "#bd3786"
             ],
             [
              0.5555555555555556,
              "#d8576b"
             ],
             [
              0.6666666666666666,
              "#ed7953"
             ],
             [
              0.7777777777777778,
              "#fb9f3a"
             ],
             [
              0.8888888888888888,
              "#fdca26"
             ],
             [
              1,
              "#f0f921"
             ]
            ],
            "type": "heatmap"
           }
          ],
          "heatmapgl": [
           {
            "colorbar": {
             "outlinewidth": 0,
             "ticks": ""
            },
            "colorscale": [
             [
              0,
              "#0d0887"
             ],
             [
              0.1111111111111111,
              "#46039f"
             ],
             [
              0.2222222222222222,
              "#7201a8"
             ],
             [
              0.3333333333333333,
              "#9c179e"
             ],
             [
              0.4444444444444444,
              "#bd3786"
             ],
             [
              0.5555555555555556,
              "#d8576b"
             ],
             [
              0.6666666666666666,
              "#ed7953"
             ],
             [
              0.7777777777777778,
              "#fb9f3a"
             ],
             [
              0.8888888888888888,
              "#fdca26"
             ],
             [
              1,
              "#f0f921"
             ]
            ],
            "type": "heatmapgl"
           }
          ],
          "histogram": [
           {
            "marker": {
             "colorbar": {
              "outlinewidth": 0,
              "ticks": ""
             }
            },
            "type": "histogram"
           }
          ],
          "histogram2d": [
           {
            "colorbar": {
             "outlinewidth": 0,
             "ticks": ""
            },
            "colorscale": [
             [
              0,
              "#0d0887"
             ],
             [
              0.1111111111111111,
              "#46039f"
             ],
             [
              0.2222222222222222,
              "#7201a8"
             ],
             [
              0.3333333333333333,
              "#9c179e"
             ],
             [
              0.4444444444444444,
              "#bd3786"
             ],
             [
              0.5555555555555556,
              "#d8576b"
             ],
             [
              0.6666666666666666,
              "#ed7953"
             ],
             [
              0.7777777777777778,
              "#fb9f3a"
             ],
             [
              0.8888888888888888,
              "#fdca26"
             ],
             [
              1,
              "#f0f921"
             ]
            ],
            "type": "histogram2d"
           }
          ],
          "histogram2dcontour": [
           {
            "colorbar": {
             "outlinewidth": 0,
             "ticks": ""
            },
            "colorscale": [
             [
              0,
              "#0d0887"
             ],
             [
              0.1111111111111111,
              "#46039f"
             ],
             [
              0.2222222222222222,
              "#7201a8"
             ],
             [
              0.3333333333333333,
              "#9c179e"
             ],
             [
              0.4444444444444444,
              "#bd3786"
             ],
             [
              0.5555555555555556,
              "#d8576b"
             ],
             [
              0.6666666666666666,
              "#ed7953"
             ],
             [
              0.7777777777777778,
              "#fb9f3a"
             ],
             [
              0.8888888888888888,
              "#fdca26"
             ],
             [
              1,
              "#f0f921"
             ]
            ],
            "type": "histogram2dcontour"
           }
          ],
          "mesh3d": [
           {
            "colorbar": {
             "outlinewidth": 0,
             "ticks": ""
            },
            "type": "mesh3d"
           }
          ],
          "parcoords": [
           {
            "line": {
             "colorbar": {
              "outlinewidth": 0,
              "ticks": ""
             }
            },
            "type": "parcoords"
           }
          ],
          "pie": [
           {
            "automargin": true,
            "type": "pie"
           }
          ],
          "scatter": [
           {
            "marker": {
             "colorbar": {
              "outlinewidth": 0,
              "ticks": ""
             }
            },
            "type": "scatter"
           }
          ],
          "scatter3d": [
           {
            "line": {
             "colorbar": {
              "outlinewidth": 0,
              "ticks": ""
             }
            },
            "marker": {
             "colorbar": {
              "outlinewidth": 0,
              "ticks": ""
             }
            },
            "type": "scatter3d"
           }
          ],
          "scattercarpet": [
           {
            "marker": {
             "colorbar": {
              "outlinewidth": 0,
              "ticks": ""
             }
            },
            "type": "scattercarpet"
           }
          ],
          "scattergeo": [
           {
            "marker": {
             "colorbar": {
              "outlinewidth": 0,
              "ticks": ""
             }
            },
            "type": "scattergeo"
           }
          ],
          "scattergl": [
           {
            "marker": {
             "colorbar": {
              "outlinewidth": 0,
              "ticks": ""
             }
            },
            "type": "scattergl"
           }
          ],
          "scattermapbox": [
           {
            "marker": {
             "colorbar": {
              "outlinewidth": 0,
              "ticks": ""
             }
            },
            "type": "scattermapbox"
           }
          ],
          "scatterpolar": [
           {
            "marker": {
             "colorbar": {
              "outlinewidth": 0,
              "ticks": ""
             }
            },
            "type": "scatterpolar"
           }
          ],
          "scatterpolargl": [
           {
            "marker": {
             "colorbar": {
              "outlinewidth": 0,
              "ticks": ""
             }
            },
            "type": "scatterpolargl"
           }
          ],
          "scatterternary": [
           {
            "marker": {
             "colorbar": {
              "outlinewidth": 0,
              "ticks": ""
             }
            },
            "type": "scatterternary"
           }
          ],
          "surface": [
           {
            "colorbar": {
             "outlinewidth": 0,
             "ticks": ""
            },
            "colorscale": [
             [
              0,
              "#0d0887"
             ],
             [
              0.1111111111111111,
              "#46039f"
             ],
             [
              0.2222222222222222,
              "#7201a8"
             ],
             [
              0.3333333333333333,
              "#9c179e"
             ],
             [
              0.4444444444444444,
              "#bd3786"
             ],
             [
              0.5555555555555556,
              "#d8576b"
             ],
             [
              0.6666666666666666,
              "#ed7953"
             ],
             [
              0.7777777777777778,
              "#fb9f3a"
             ],
             [
              0.8888888888888888,
              "#fdca26"
             ],
             [
              1,
              "#f0f921"
             ]
            ],
            "type": "surface"
           }
          ],
          "table": [
           {
            "cells": {
             "fill": {
              "color": "#EBF0F8"
             },
             "line": {
              "color": "white"
             }
            },
            "header": {
             "fill": {
              "color": "#C8D4E3"
             },
             "line": {
              "color": "white"
             }
            },
            "type": "table"
           }
          ]
         },
         "layout": {
          "annotationdefaults": {
           "arrowcolor": "#2a3f5f",
           "arrowhead": 0,
           "arrowwidth": 1
          },
          "coloraxis": {
           "colorbar": {
            "outlinewidth": 0,
            "ticks": ""
           }
          },
          "colorscale": {
           "diverging": [
            [
             0,
             "#8e0152"
            ],
            [
             0.1,
             "#c51b7d"
            ],
            [
             0.2,
             "#de77ae"
            ],
            [
             0.3,
             "#f1b6da"
            ],
            [
             0.4,
             "#fde0ef"
            ],
            [
             0.5,
             "#f7f7f7"
            ],
            [
             0.6,
             "#e6f5d0"
            ],
            [
             0.7,
             "#b8e186"
            ],
            [
             0.8,
             "#7fbc41"
            ],
            [
             0.9,
             "#4d9221"
            ],
            [
             1,
             "#276419"
            ]
           ],
           "sequential": [
            [
             0,
             "#0d0887"
            ],
            [
             0.1111111111111111,
             "#46039f"
            ],
            [
             0.2222222222222222,
             "#7201a8"
            ],
            [
             0.3333333333333333,
             "#9c179e"
            ],
            [
             0.4444444444444444,
             "#bd3786"
            ],
            [
             0.5555555555555556,
             "#d8576b"
            ],
            [
             0.6666666666666666,
             "#ed7953"
            ],
            [
             0.7777777777777778,
             "#fb9f3a"
            ],
            [
             0.8888888888888888,
             "#fdca26"
            ],
            [
             1,
             "#f0f921"
            ]
           ],
           "sequentialminus": [
            [
             0,
             "#0d0887"
            ],
            [
             0.1111111111111111,
             "#46039f"
            ],
            [
             0.2222222222222222,
             "#7201a8"
            ],
            [
             0.3333333333333333,
             "#9c179e"
            ],
            [
             0.4444444444444444,
             "#bd3786"
            ],
            [
             0.5555555555555556,
             "#d8576b"
            ],
            [
             0.6666666666666666,
             "#ed7953"
            ],
            [
             0.7777777777777778,
             "#fb9f3a"
            ],
            [
             0.8888888888888888,
             "#fdca26"
            ],
            [
             1,
             "#f0f921"
            ]
           ]
          },
          "colorway": [
           "#636efa",
           "#EF553B",
           "#00cc96",
           "#ab63fa",
           "#FFA15A",
           "#19d3f3",
           "#FF6692",
           "#B6E880",
           "#FF97FF",
           "#FECB52"
          ],
          "font": {
           "color": "#2a3f5f"
          },
          "geo": {
           "bgcolor": "white",
           "lakecolor": "white",
           "landcolor": "#E5ECF6",
           "showlakes": true,
           "showland": true,
           "subunitcolor": "white"
          },
          "hoverlabel": {
           "align": "left"
          },
          "hovermode": "closest",
          "mapbox": {
           "style": "light"
          },
          "paper_bgcolor": "white",
          "plot_bgcolor": "#E5ECF6",
          "polar": {
           "angularaxis": {
            "gridcolor": "white",
            "linecolor": "white",
            "ticks": ""
           },
           "bgcolor": "#E5ECF6",
           "radialaxis": {
            "gridcolor": "white",
            "linecolor": "white",
            "ticks": ""
           }
          },
          "scene": {
           "xaxis": {
            "backgroundcolor": "#E5ECF6",
            "gridcolor": "white",
            "gridwidth": 2,
            "linecolor": "white",
            "showbackground": true,
            "ticks": "",
            "zerolinecolor": "white"
           },
           "yaxis": {
            "backgroundcolor": "#E5ECF6",
            "gridcolor": "white",
            "gridwidth": 2,
            "linecolor": "white",
            "showbackground": true,
            "ticks": "",
            "zerolinecolor": "white"
           },
           "zaxis": {
            "backgroundcolor": "#E5ECF6",
            "gridcolor": "white",
            "gridwidth": 2,
            "linecolor": "white",
            "showbackground": true,
            "ticks": "",
            "zerolinecolor": "white"
           }
          },
          "shapedefaults": {
           "line": {
            "color": "#2a3f5f"
           }
          },
          "ternary": {
           "aaxis": {
            "gridcolor": "white",
            "linecolor": "white",
            "ticks": ""
           },
           "baxis": {
            "gridcolor": "white",
            "linecolor": "white",
            "ticks": ""
           },
           "bgcolor": "#E5ECF6",
           "caxis": {
            "gridcolor": "white",
            "linecolor": "white",
            "ticks": ""
           }
          },
          "title": {
           "x": 0.05
          },
          "xaxis": {
           "automargin": true,
           "gridcolor": "white",
           "linecolor": "white",
           "ticks": "",
           "title": {
            "standoff": 15
           },
           "zerolinecolor": "white",
           "zerolinewidth": 2
          },
          "yaxis": {
           "automargin": true,
           "gridcolor": "white",
           "linecolor": "white",
           "ticks": "",
           "title": {
            "standoff": 15
           },
           "zerolinecolor": "white",
           "zerolinewidth": 2
          }
         }
        },
        "title": {
         "font": {
          "color": "#4D5663"
         }
        },
        "xaxis": {
         "gridcolor": "#E1E5ED",
         "showgrid": true,
         "tickfont": {
          "color": "#4D5663"
         },
         "title": {
          "font": {
           "color": "#4D5663"
          },
          "text": ""
         },
         "zerolinecolor": "#E1E5ED"
        },
        "yaxis": {
         "gridcolor": "#E1E5ED",
         "showgrid": true,
         "tickfont": {
          "color": "#4D5663"
         },
         "title": {
          "font": {
           "color": "#4D5663"
          },
          "text": ""
         },
         "zerolinecolor": "#E1E5ED"
        }
       }
      },
      "text/html": "<div>                            <div id=\"1eb72eea-91f5-45a6-85de-fd11ca65bd11\" class=\"plotly-graph-div\" style=\"height:525px; width:100%;\"></div>            <script type=\"text/javascript\">                require([\"plotly\"], function(Plotly) {                    window.PLOTLYENV=window.PLOTLYENV || {};\n                    window.PLOTLYENV.BASE_URL='https://plot.ly';                                    if (document.getElementById(\"1eb72eea-91f5-45a6-85de-fd11ca65bd11\")) {                    Plotly.newPlot(                        \"1eb72eea-91f5-45a6-85de-fd11ca65bd11\",                        [{\"marker\": {\"color\": \"rgba(255, 153, 51, 0.6)\", \"line\": {\"color\": \"rgba(255, 153, 51, 1.0)\", \"width\": 1}}, \"name\": \"new_deaths\", \"orientation\": \"v\", \"text\": \"\", \"type\": \"bar\", \"x\": [\"(Dec,31)\", \"(Jan,1)\", \"(Jan,2)\", \"(Jan,3)\", \"(Jan,4)\", \"(Jan,5)\", \"(Jan,6)\", \"(Jan,7)\", \"(Jan,8)\", \"(Jan,9)\", \"(Jan,10)\", \"(Jan,11)\", \"(Jan,12)\", \"(Jan,13)\", \"(Jan,14)\", \"(Jan,15)\", \"(Jan,16)\", \"(Jan,17)\", \"(Jan,18)\", \"(Jan,19)\", \"(Jan,20)\", \"(Jan,21)\", \"(Jan,22)\", \"(Jan,23)\", \"(Jan,24)\", \"(Jan,25)\", \"(Jan,26)\", \"(Jan,27)\", \"(Jan,28)\", \"(Jan,29)\", \"(Jan,30)\", \"(Jan,31)\", \"(Feb,1)\", \"(Feb,2)\", \"(Feb,3)\", \"(Feb,4)\", \"(Feb,5)\", \"(Feb,6)\", \"(Feb,7)\", \"(Feb,8)\", \"(Feb,9)\", \"(Feb,10)\", \"(Feb,11)\", \"(Feb,12)\", \"(Feb,13)\", \"(Feb,14)\", \"(Feb,15)\", \"(Feb,16)\", \"(Feb,17)\", \"(Feb,18)\", \"(Feb,19)\", \"(Feb,20)\", \"(Feb,21)\", \"(Feb,22)\", \"(Feb,23)\", \"(Feb,24)\", \"(Feb,25)\", \"(Feb,26)\", \"(Feb,27)\", \"(Feb,28)\", \"(Feb,29)\", \"(Mar,1)\", \"(Mar,2)\", \"(Mar,3)\", \"(Mar,4)\", \"(Mar,5)\", \"(Mar,6)\", \"(Mar,7)\", \"(Mar,8)\", \"(Mar,9)\", \"(Mar,10)\", \"(Mar,11)\", \"(Mar,12)\", \"(Mar,13)\", \"(Mar,14)\", \"(Mar,15)\", \"(Mar,16)\", \"(Mar,17)\", \"(Mar,18)\", \"(Mar,19)\", \"(Mar,20)\", \"(Mar,21)\", \"(Mar,22)\", \"(Mar,23)\", \"(Mar,24)\", \"(Mar,25)\", \"(Mar,26)\", \"(Mar,27)\", \"(Mar,28)\", \"(Mar,29)\", \"(Mar,30)\", \"(Mar,31)\", \"(Apr,1)\", \"(Apr,2)\", \"(Apr,3)\", \"(Apr,4)\", \"(Apr,5)\", \"(Apr,6)\", \"(Apr,7)\", \"(Apr,8)\", \"(Apr,9)\", \"(Apr,10)\", \"(Apr,11)\", \"(Apr,12)\", \"(Apr,13)\", \"(Apr,14)\", \"(Apr,15)\", \"(Apr,16)\", \"(Apr,17)\", \"(Apr,18)\", \"(Apr,19)\", \"(Apr,20)\", \"(Apr,21)\", \"(Apr,22)\", \"(Apr,23)\", \"(Apr,24)\", \"(Apr,25)\", \"(Apr,26)\", \"(Apr,27)\", \"(Apr,28)\", \"(Apr,29)\", \"(Apr,30)\", \"(May,1)\", \"(May,2)\", \"(May,3)\", \"(May,4)\", \"(May,5)\", \"(May,6)\", \"(May,7)\", \"(May,8)\", \"(May,9)\", \"(May,10)\", \"(May,11)\", \"(May,12)\", \"(May,13)\", \"(May,14)\", \"(May,15)\", \"(May,16)\", \"(May,17)\", \"(May,18)\", \"(May,19)\", \"(May,20)\", \"(May,21)\", \"(May,22)\", \"(May,23)\", \"(May,24)\", \"(May,25)\", \"(May,26)\", \"(May,27)\", \"(May,28)\", \"(May,29)\", \"(May,30)\", \"(May,31)\", \"(Jun,1)\", \"(Jun,2)\", \"(Jun,3)\", \"(Jun,4)\", \"(Jun,5)\", \"(Jun,6)\", \"(Jun,7)\", \"(Jun,8)\", \"(Jun,9)\", \"(Jun,10)\", \"(Jun,11)\", \"(Jun,12)\", \"(Jun,13)\", \"(Jun,14)\", \"(Jun,15)\", \"(Jun,16)\", \"(Jun,17)\", \"(Jun,18)\", \"(Jun,19)\", \"(Jun,20)\", \"(Jun,21)\", \"(Jun,22)\", \"(Jun,23)\", \"(Jun,24)\", \"(Jun,25)\", \"(Jun,26)\", \"(Jun,27)\", \"(Jun,28)\", \"(Jun,29)\", \"(Jun,30)\", \"(Jul,1)\", \"(Jul,2)\", \"(Jul,3)\", \"(Jul,4)\", \"(Jul,5)\", \"(Jul,6)\", \"(Jul,7)\", \"(Jul,8)\", \"(Jul,9)\", \"(Jul,10)\", \"(Jul,11)\", \"(Jul,12)\", \"(Jul,13)\", \"(Jul,14)\", \"(Jul,15)\", \"(Jul,16)\", \"(Jul,17)\", \"(Jul,18)\", \"(Jul,19)\", \"(Jul,20)\", \"(Jul,21)\", \"(Jul,22)\", \"(Jul,23)\", \"(Jul,24)\", \"(Jul,25)\", \"(Jul,26)\", \"(Jul,27)\", \"(Jul,28)\", \"(Jul,29)\", \"(Jul,30)\", \"(Jul,31)\", \"(Aug,1)\", \"(Aug,2)\", \"(Aug,3)\", \"(Aug,4)\", \"(Aug,5)\", \"(Aug,6)\", \"(Aug,7)\", \"(Aug,8)\", \"(Aug,9)\", \"(Aug,10)\", \"(Aug,11)\", \"(Aug,12)\", \"(Aug,13)\", \"(Aug,14)\", \"(Aug,15)\", \"(Aug,16)\", \"(Aug,17)\", \"(Aug,18)\", \"(Aug,19)\", \"(Aug,20)\", \"(Aug,21)\", \"(Aug,22)\", \"(Aug,23)\", \"(Aug,24)\", \"(Aug,25)\", \"(Aug,26)\", \"(Aug,27)\", \"(Aug,28)\", \"(Aug,29)\", \"(Aug,30)\", \"(Aug,31)\", \"(Sep,1)\", \"(Sep,2)\", \"(Sep,3)\", \"(Sep,4)\", \"(Sep,5)\", \"(Sep,6)\", \"(Sep,7)\", \"(Sep,8)\", \"(Sep,9)\", \"(Sep,10)\", \"(Sep,11)\", \"(Sep,12)\", \"(Sep,13)\", \"(Sep,14)\", \"(Sep,15)\", \"(Sep,16)\", \"(Sep,17)\", \"(Sep,18)\", \"(Sep,19)\", \"(Sep,20)\", \"(Sep,21)\", \"(Sep,22)\", \"(Sep,23)\"], \"y\": [0.0, 0.0, 0.0, 0.0, 0.0, 0.0, 0.0, 0.0, 0.0, 0.0, 0.0, 2.0, 0.0, 0.0, 0.0, 2.0, 0.0, 0.0, 0.0, 2.0, 0.0, 6.0, 22.0, 0.0, 18.0, 30.0, 30.0, 50.0, 50.0, 52.0, 76.0, 86.0, 92.0, 92.0, 114.0, 130.0, 132.0, 144.0, 146.0, 172.0, 178.0, 194.0, 216.0, 194.0, 510.0, 26.0, 288.0, 284.0, 212.0, 196.0, 278.0, 232.0, 238.0, 224.0, 208.0, 312.0, 158.0, 128.0, 76.0, 114.0, 128.0, 116.0, 134.0, 144.0, 168.0, 160.0, 204.0, 208.0, 194.0, 456.0, 416.0, 546.0, 662.0, 700.0, 886.0, 734.0, 1502.0, 1212.0, 1622.0, 1926.0, 2150.0, 2774.0, 3432.0, 3382.0, 3708.0, 4630.0, 5290.0, 5628.0, 6984.0, 7180.0, 6462.0, 7986.0, 9354.0, 10030.0, 10052.0, 13572.0, 12596.0, 9542.0, 10690.0, 15152.0, 13140.0, 14848.0, 14032.0, 12130.0, 10670.0, 10782.0, 15236.0, 20982.0, 17054.0, 16924.0, 12746.0, 9978.0, 10898.0, 14486.0, 11870.0, 14670.0, 10718.0, 12320.0, 7828.0, 9796.0, 13130.0, 13126.0, 11300.0, 11154.0, 9616.0, 7412.0, 7972.0, 11914.0, 12248.0, 11284.0, 10224.0, 8814.0, 6854.0, 7178.0, 11514.0, 10036.0, 10512.0, 10118.0, 8450.0, 5796.0, 6600.0, 10368.0, 9438.0, 10780.0, 9292.0, 7834.0, 2212.0, 6736.0, 7742.0, 10286.0, 9284.0, 9306.0, 8024.0, 5826.0, 6292.0, 9090.0, 11028.0, 10264.0, 9280.0, 7578.0, 7022.0, 6428.0, 9706.0, 10262.0, 9392.0, 9296.0, 8278.0, 6314.0, 6756.0, 13438.0, 10200.0, 12550.0, 10062.0, 8232.0, 7932.0, 6792.0, 10700.0, 10430.0, 13156.0, 9120.0, 9182.0, 6138.0, 7412.0, 11248.0, 9682.0, 10154.0, 10024.0, 8678.0, 6756.0, 7684.0, 11992.0, 10554.0, 10766.0, 10554.0, 9586.0, 7780.0, 7682.0, 11156.0, 11002.0, 11490.0, 14714.0, 9898.0, 7682.0, 8186.0, 12246.0, 13754.0, 19558.0, 12512.0, 11466.0, 7926.0, 9312.0, 12324.0, 13284.0, 12766.0, 12246.0, 11518.0, 8466.0, 8452.0, 13460.0, 14200.0, 13790.0, 12936.0, 11268.0, 9648.0, 9634.0, 12274.0, 13800.0, 19820.0, 12482.0, 11314.0, 8466.0, 8540.0, 13382.0, 13092.0, 12706.0, 11738.0, 11286.0, 6620.0, 8554.0, 12956.0, 12588.0, 12164.0, 10914.0, 11394.0, 7546.0, 8106.0, 13024.0, 12158.0, 11584.0, 11170.0, 10726.0, 18066.0, 7642.0, 9928.0, 11862.0, 12106.0, 11772.0, 9856.0, 7758.0, 8472.0, 13910.0, 10872.0, 10636.0, 11906.0, 10140.0, 7476.0, 8780.0, 11874.0]}],                        {\"legend\": {\"bgcolor\": \"#F5F6F9\", \"font\": {\"color\": \"#4D5663\"}}, \"paper_bgcolor\": \"#F5F6F9\", \"plot_bgcolor\": \"#F5F6F9\", \"template\": {\"data\": {\"bar\": [{\"error_x\": {\"color\": \"#2a3f5f\"}, \"error_y\": {\"color\": \"#2a3f5f\"}, \"marker\": {\"line\": {\"color\": \"#E5ECF6\", \"width\": 0.5}}, \"type\": \"bar\"}], \"barpolar\": [{\"marker\": {\"line\": {\"color\": \"#E5ECF6\", \"width\": 0.5}}, \"type\": \"barpolar\"}], \"carpet\": [{\"aaxis\": {\"endlinecolor\": \"#2a3f5f\", \"gridcolor\": \"white\", \"linecolor\": \"white\", \"minorgridcolor\": \"white\", \"startlinecolor\": \"#2a3f5f\"}, \"baxis\": {\"endlinecolor\": \"#2a3f5f\", \"gridcolor\": \"white\", \"linecolor\": \"white\", \"minorgridcolor\": \"white\", \"startlinecolor\": \"#2a3f5f\"}, \"type\": \"carpet\"}], \"choropleth\": [{\"colorbar\": {\"outlinewidth\": 0, \"ticks\": \"\"}, \"type\": \"choropleth\"}], \"contour\": [{\"colorbar\": {\"outlinewidth\": 0, \"ticks\": \"\"}, \"colorscale\": [[0.0, \"#0d0887\"], [0.1111111111111111, \"#46039f\"], [0.2222222222222222, \"#7201a8\"], [0.3333333333333333, \"#9c179e\"], [0.4444444444444444, \"#bd3786\"], [0.5555555555555556, \"#d8576b\"], [0.6666666666666666, \"#ed7953\"], [0.7777777777777778, \"#fb9f3a\"], [0.8888888888888888, \"#fdca26\"], [1.0, \"#f0f921\"]], \"type\": \"contour\"}], \"contourcarpet\": [{\"colorbar\": {\"outlinewidth\": 0, \"ticks\": \"\"}, \"type\": \"contourcarpet\"}], \"heatmap\": [{\"colorbar\": {\"outlinewidth\": 0, \"ticks\": \"\"}, \"colorscale\": [[0.0, \"#0d0887\"], [0.1111111111111111, \"#46039f\"], [0.2222222222222222, \"#7201a8\"], [0.3333333333333333, \"#9c179e\"], [0.4444444444444444, \"#bd3786\"], [0.5555555555555556, \"#d8576b\"], [0.6666666666666666, \"#ed7953\"], [0.7777777777777778, \"#fb9f3a\"], [0.8888888888888888, \"#fdca26\"], [1.0, \"#f0f921\"]], \"type\": \"heatmap\"}], \"heatmapgl\": [{\"colorbar\": {\"outlinewidth\": 0, \"ticks\": \"\"}, \"colorscale\": [[0.0, \"#0d0887\"], [0.1111111111111111, \"#46039f\"], [0.2222222222222222, \"#7201a8\"], [0.3333333333333333, \"#9c179e\"], [0.4444444444444444, \"#bd3786\"], [0.5555555555555556, \"#d8576b\"], [0.6666666666666666, \"#ed7953\"], [0.7777777777777778, \"#fb9f3a\"], [0.8888888888888888, \"#fdca26\"], [1.0, \"#f0f921\"]], \"type\": \"heatmapgl\"}], \"histogram\": [{\"marker\": {\"colorbar\": {\"outlinewidth\": 0, \"ticks\": \"\"}}, \"type\": \"histogram\"}], \"histogram2d\": [{\"colorbar\": {\"outlinewidth\": 0, \"ticks\": \"\"}, \"colorscale\": [[0.0, \"#0d0887\"], [0.1111111111111111, \"#46039f\"], [0.2222222222222222, \"#7201a8\"], [0.3333333333333333, \"#9c179e\"], [0.4444444444444444, \"#bd3786\"], [0.5555555555555556, \"#d8576b\"], [0.6666666666666666, \"#ed7953\"], [0.7777777777777778, \"#fb9f3a\"], [0.8888888888888888, \"#fdca26\"], [1.0, \"#f0f921\"]], \"type\": \"histogram2d\"}], \"histogram2dcontour\": [{\"colorbar\": {\"outlinewidth\": 0, \"ticks\": \"\"}, \"colorscale\": [[0.0, \"#0d0887\"], [0.1111111111111111, \"#46039f\"], [0.2222222222222222, \"#7201a8\"], [0.3333333333333333, \"#9c179e\"], [0.4444444444444444, \"#bd3786\"], [0.5555555555555556, \"#d8576b\"], [0.6666666666666666, \"#ed7953\"], [0.7777777777777778, \"#fb9f3a\"], [0.8888888888888888, \"#fdca26\"], [1.0, \"#f0f921\"]], \"type\": \"histogram2dcontour\"}], \"mesh3d\": [{\"colorbar\": {\"outlinewidth\": 0, \"ticks\": \"\"}, \"type\": \"mesh3d\"}], \"parcoords\": [{\"line\": {\"colorbar\": {\"outlinewidth\": 0, \"ticks\": \"\"}}, \"type\": \"parcoords\"}], \"pie\": [{\"automargin\": true, \"type\": \"pie\"}], \"scatter\": [{\"marker\": {\"colorbar\": {\"outlinewidth\": 0, \"ticks\": \"\"}}, \"type\": \"scatter\"}], \"scatter3d\": [{\"line\": {\"colorbar\": {\"outlinewidth\": 0, \"ticks\": \"\"}}, \"marker\": {\"colorbar\": {\"outlinewidth\": 0, \"ticks\": \"\"}}, \"type\": \"scatter3d\"}], \"scattercarpet\": [{\"marker\": {\"colorbar\": {\"outlinewidth\": 0, \"ticks\": \"\"}}, \"type\": \"scattercarpet\"}], \"scattergeo\": [{\"marker\": {\"colorbar\": {\"outlinewidth\": 0, \"ticks\": \"\"}}, \"type\": \"scattergeo\"}], \"scattergl\": [{\"marker\": {\"colorbar\": {\"outlinewidth\": 0, \"ticks\": \"\"}}, \"type\": \"scattergl\"}], \"scattermapbox\": [{\"marker\": {\"colorbar\": {\"outlinewidth\": 0, \"ticks\": \"\"}}, \"type\": \"scattermapbox\"}], \"scatterpolar\": [{\"marker\": {\"colorbar\": {\"outlinewidth\": 0, \"ticks\": \"\"}}, \"type\": \"scatterpolar\"}], \"scatterpolargl\": [{\"marker\": {\"colorbar\": {\"outlinewidth\": 0, \"ticks\": \"\"}}, \"type\": \"scatterpolargl\"}], \"scatterternary\": [{\"marker\": {\"colorbar\": {\"outlinewidth\": 0, \"ticks\": \"\"}}, \"type\": \"scatterternary\"}], \"surface\": [{\"colorbar\": {\"outlinewidth\": 0, \"ticks\": \"\"}, \"colorscale\": [[0.0, \"#0d0887\"], [0.1111111111111111, \"#46039f\"], [0.2222222222222222, \"#7201a8\"], [0.3333333333333333, \"#9c179e\"], [0.4444444444444444, \"#bd3786\"], [0.5555555555555556, \"#d8576b\"], [0.6666666666666666, \"#ed7953\"], [0.7777777777777778, \"#fb9f3a\"], [0.8888888888888888, \"#fdca26\"], [1.0, \"#f0f921\"]], \"type\": \"surface\"}], \"table\": [{\"cells\": {\"fill\": {\"color\": \"#EBF0F8\"}, \"line\": {\"color\": \"white\"}}, \"header\": {\"fill\": {\"color\": \"#C8D4E3\"}, \"line\": {\"color\": \"white\"}}, \"type\": \"table\"}]}, \"layout\": {\"annotationdefaults\": {\"arrowcolor\": \"#2a3f5f\", \"arrowhead\": 0, \"arrowwidth\": 1}, \"coloraxis\": {\"colorbar\": {\"outlinewidth\": 0, \"ticks\": \"\"}}, \"colorscale\": {\"diverging\": [[0, \"#8e0152\"], [0.1, \"#c51b7d\"], [0.2, \"#de77ae\"], [0.3, \"#f1b6da\"], [0.4, \"#fde0ef\"], [0.5, \"#f7f7f7\"], [0.6, \"#e6f5d0\"], [0.7, \"#b8e186\"], [0.8, \"#7fbc41\"], [0.9, \"#4d9221\"], [1, \"#276419\"]], \"sequential\": [[0.0, \"#0d0887\"], [0.1111111111111111, \"#46039f\"], [0.2222222222222222, \"#7201a8\"], [0.3333333333333333, \"#9c179e\"], [0.4444444444444444, \"#bd3786\"], [0.5555555555555556, \"#d8576b\"], [0.6666666666666666, \"#ed7953\"], [0.7777777777777778, \"#fb9f3a\"], [0.8888888888888888, \"#fdca26\"], [1.0, \"#f0f921\"]], \"sequentialminus\": [[0.0, \"#0d0887\"], [0.1111111111111111, \"#46039f\"], [0.2222222222222222, \"#7201a8\"], [0.3333333333333333, \"#9c179e\"], [0.4444444444444444, \"#bd3786\"], [0.5555555555555556, \"#d8576b\"], [0.6666666666666666, \"#ed7953\"], [0.7777777777777778, \"#fb9f3a\"], [0.8888888888888888, \"#fdca26\"], [1.0, \"#f0f921\"]]}, \"colorway\": [\"#636efa\", \"#EF553B\", \"#00cc96\", \"#ab63fa\", \"#FFA15A\", \"#19d3f3\", \"#FF6692\", \"#B6E880\", \"#FF97FF\", \"#FECB52\"], \"font\": {\"color\": \"#2a3f5f\"}, \"geo\": {\"bgcolor\": \"white\", \"lakecolor\": \"white\", \"landcolor\": \"#E5ECF6\", \"showlakes\": true, \"showland\": true, \"subunitcolor\": \"white\"}, \"hoverlabel\": {\"align\": \"left\"}, \"hovermode\": \"closest\", \"mapbox\": {\"style\": \"light\"}, \"paper_bgcolor\": \"white\", \"plot_bgcolor\": \"#E5ECF6\", \"polar\": {\"angularaxis\": {\"gridcolor\": \"white\", \"linecolor\": \"white\", \"ticks\": \"\"}, \"bgcolor\": \"#E5ECF6\", \"radialaxis\": {\"gridcolor\": \"white\", \"linecolor\": \"white\", \"ticks\": \"\"}}, \"scene\": {\"xaxis\": {\"backgroundcolor\": \"#E5ECF6\", \"gridcolor\": \"white\", \"gridwidth\": 2, \"linecolor\": \"white\", \"showbackground\": true, \"ticks\": \"\", \"zerolinecolor\": \"white\"}, \"yaxis\": {\"backgroundcolor\": \"#E5ECF6\", \"gridcolor\": \"white\", \"gridwidth\": 2, \"linecolor\": \"white\", \"showbackground\": true, \"ticks\": \"\", \"zerolinecolor\": \"white\"}, \"zaxis\": {\"backgroundcolor\": \"#E5ECF6\", \"gridcolor\": \"white\", \"gridwidth\": 2, \"linecolor\": \"white\", \"showbackground\": true, \"ticks\": \"\", \"zerolinecolor\": \"white\"}}, \"shapedefaults\": {\"line\": {\"color\": \"#2a3f5f\"}}, \"ternary\": {\"aaxis\": {\"gridcolor\": \"white\", \"linecolor\": \"white\", \"ticks\": \"\"}, \"baxis\": {\"gridcolor\": \"white\", \"linecolor\": \"white\", \"ticks\": \"\"}, \"bgcolor\": \"#E5ECF6\", \"caxis\": {\"gridcolor\": \"white\", \"linecolor\": \"white\", \"ticks\": \"\"}}, \"title\": {\"x\": 0.05}, \"xaxis\": {\"automargin\": true, \"gridcolor\": \"white\", \"linecolor\": \"white\", \"ticks\": \"\", \"title\": {\"standoff\": 15}, \"zerolinecolor\": \"white\", \"zerolinewidth\": 2}, \"yaxis\": {\"automargin\": true, \"gridcolor\": \"white\", \"linecolor\": \"white\", \"ticks\": \"\", \"title\": {\"standoff\": 15}, \"zerolinecolor\": \"white\", \"zerolinewidth\": 2}}}, \"title\": {\"font\": {\"color\": \"#4D5663\"}}, \"xaxis\": {\"gridcolor\": \"#E1E5ED\", \"showgrid\": true, \"tickfont\": {\"color\": \"#4D5663\"}, \"title\": {\"font\": {\"color\": \"#4D5663\"}, \"text\": \"\"}, \"zerolinecolor\": \"#E1E5ED\"}, \"yaxis\": {\"gridcolor\": \"#E1E5ED\", \"showgrid\": true, \"tickfont\": {\"color\": \"#4D5663\"}, \"title\": {\"font\": {\"color\": \"#4D5663\"}, \"text\": \"\"}, \"zerolinecolor\": \"#E1E5ED\"}},                        {\"showLink\": true, \"linkText\": \"Export to plot.ly\", \"plotlyServerURL\": \"https://plot.ly\", \"responsive\": true}                    ).then(function(){\n                            \nvar gd = document.getElementById('1eb72eea-91f5-45a6-85de-fd11ca65bd11');\nvar x = new MutationObserver(function (mutations, observer) {{\n        var display = window.getComputedStyle(gd).display;\n        if (!display || display === 'none') {{\n            console.log([gd, 'removed!']);\n            Plotly.purge(gd);\n            observer.disconnect();\n        }}\n}});\n\n// Listen for the removal of the full notebook cells\nvar notebookContainer = gd.closest('#notebook-container');\nif (notebookContainer) {{\n    x.observe(notebookContainer, {childList: true});\n}}\n\n// Listen for the clearing of the current output cell\nvar outputEl = gd.closest('.output');\nif (outputEl) {{\n    x.observe(outputEl, {childList: true});\n}}\n\n                        })                };                });            </script>        </div>"
     },
     "metadata": {}
    }
   ],
   "source": [
    "df.iplot(kind='bar',x=['Month','Day'],y='new_deaths')"
   ]
  },
  {
   "source": [
    "%%HTML\n",
    "<p>From the above plot we can say that there was a decline in new deaths due to covid-19 between april month and june month and afterwards new deaths are rising between june and august , after august again there is a slight declain in new deaths but higher compared to the month of may</p>"
   ],
   "cell_type": "markdown",
   "metadata": {}
  },
  {
   "source": [
    "  %%HTML\n",
    "  <h1 id=\"3\">3.What are the trends of total_covid-19 cases ?</h1>"
   ],
   "cell_type": "code",
   "metadata": {},
   "execution_count": 66,
   "outputs": [
    {
     "output_type": "display_data",
     "data": {
      "text/plain": "<IPython.core.display.HTML object>",
      "text/html": "<h1 id=\"3\">3.What are the trends of total_covid-19 cases ?</h1>\n"
     },
     "metadata": {}
    }
   ]
  },
  {
   "cell_type": "code",
   "execution_count": 121,
   "metadata": {},
   "outputs": [
    {
     "output_type": "display_data",
     "data": {
      "application/vnd.plotly.v1+json": {
       "config": {
        "linkText": "Export to plot.ly",
        "plotlyServerURL": "https://plot.ly",
        "showLink": true
       },
       "data": [
        {
         "marker": {
          "color": "rgba(255, 153, 51, 0.6)",
          "line": {
           "color": "rgba(255, 153, 51, 1.0)",
           "width": 1
          }
         },
         "name": "total_cases",
         "orientation": "v",
         "text": "",
         "type": "bar",
         "x": [
          "(2019,Dec,31)",
          "(2020,Jan,1)",
          "(2020,Jan,2)",
          "(2020,Jan,3)",
          "(2020,Jan,4)",
          "(2020,Jan,5)",
          "(2020,Jan,6)",
          "(2020,Jan,7)",
          "(2020,Jan,8)",
          "(2020,Jan,9)",
          "(2020,Jan,10)",
          "(2020,Jan,11)",
          "(2020,Jan,12)",
          "(2020,Jan,13)",
          "(2020,Jan,14)",
          "(2020,Jan,15)",
          "(2020,Jan,16)",
          "(2020,Jan,17)",
          "(2020,Jan,18)",
          "(2020,Jan,19)",
          "(2020,Jan,20)",
          "(2020,Jan,21)",
          "(2020,Jan,22)",
          "(2020,Jan,23)",
          "(2020,Jan,24)",
          "(2020,Jan,25)",
          "(2020,Jan,26)",
          "(2020,Jan,27)",
          "(2020,Jan,28)",
          "(2020,Jan,29)",
          "(2020,Jan,30)",
          "(2020,Jan,31)",
          "(2020,Feb,1)",
          "(2020,Feb,2)",
          "(2020,Feb,3)",
          "(2020,Feb,4)",
          "(2020,Feb,5)",
          "(2020,Feb,6)",
          "(2020,Feb,7)",
          "(2020,Feb,8)",
          "(2020,Feb,9)",
          "(2020,Feb,10)",
          "(2020,Feb,11)",
          "(2020,Feb,12)",
          "(2020,Feb,13)",
          "(2020,Feb,14)",
          "(2020,Feb,15)",
          "(2020,Feb,16)",
          "(2020,Feb,17)",
          "(2020,Feb,18)",
          "(2020,Feb,19)",
          "(2020,Feb,20)",
          "(2020,Feb,21)",
          "(2020,Feb,22)",
          "(2020,Feb,23)",
          "(2020,Feb,24)",
          "(2020,Feb,25)",
          "(2020,Feb,26)",
          "(2020,Feb,27)",
          "(2020,Feb,28)",
          "(2020,Feb,29)",
          "(2020,Mar,1)",
          "(2020,Mar,2)",
          "(2020,Mar,3)",
          "(2020,Mar,4)",
          "(2020,Mar,5)",
          "(2020,Mar,6)",
          "(2020,Mar,7)",
          "(2020,Mar,8)",
          "(2020,Mar,9)",
          "(2020,Mar,10)",
          "(2020,Mar,11)",
          "(2020,Mar,12)",
          "(2020,Mar,13)",
          "(2020,Mar,14)",
          "(2020,Mar,15)",
          "(2020,Mar,16)",
          "(2020,Mar,17)",
          "(2020,Mar,18)",
          "(2020,Mar,19)",
          "(2020,Mar,20)",
          "(2020,Mar,21)",
          "(2020,Mar,22)",
          "(2020,Mar,23)",
          "(2020,Mar,24)",
          "(2020,Mar,25)",
          "(2020,Mar,26)",
          "(2020,Mar,27)",
          "(2020,Mar,28)",
          "(2020,Mar,29)",
          "(2020,Mar,30)",
          "(2020,Mar,31)",
          "(2020,Apr,1)",
          "(2020,Apr,2)",
          "(2020,Apr,3)",
          "(2020,Apr,4)",
          "(2020,Apr,5)",
          "(2020,Apr,6)",
          "(2020,Apr,7)",
          "(2020,Apr,8)",
          "(2020,Apr,9)",
          "(2020,Apr,10)",
          "(2020,Apr,11)",
          "(2020,Apr,12)",
          "(2020,Apr,13)",
          "(2020,Apr,14)",
          "(2020,Apr,15)",
          "(2020,Apr,16)",
          "(2020,Apr,17)",
          "(2020,Apr,18)",
          "(2020,Apr,19)",
          "(2020,Apr,20)",
          "(2020,Apr,21)",
          "(2020,Apr,22)",
          "(2020,Apr,23)",
          "(2020,Apr,24)",
          "(2020,Apr,25)",
          "(2020,Apr,26)",
          "(2020,Apr,27)",
          "(2020,Apr,28)",
          "(2020,Apr,29)",
          "(2020,Apr,30)",
          "(2020,May,1)",
          "(2020,May,2)",
          "(2020,May,3)",
          "(2020,May,4)",
          "(2020,May,5)",
          "(2020,May,6)",
          "(2020,May,7)",
          "(2020,May,8)",
          "(2020,May,9)",
          "(2020,May,10)",
          "(2020,May,11)",
          "(2020,May,12)",
          "(2020,May,13)",
          "(2020,May,14)",
          "(2020,May,15)",
          "(2020,May,16)",
          "(2020,May,17)",
          "(2020,May,18)",
          "(2020,May,19)",
          "(2020,May,20)",
          "(2020,May,21)",
          "(2020,May,22)",
          "(2020,May,23)",
          "(2020,May,24)",
          "(2020,May,25)",
          "(2020,May,26)",
          "(2020,May,27)",
          "(2020,May,28)",
          "(2020,May,29)",
          "(2020,May,30)",
          "(2020,May,31)",
          "(2020,Jun,1)",
          "(2020,Jun,2)",
          "(2020,Jun,3)",
          "(2020,Jun,4)",
          "(2020,Jun,5)",
          "(2020,Jun,6)",
          "(2020,Jun,7)",
          "(2020,Jun,8)",
          "(2020,Jun,9)",
          "(2020,Jun,10)",
          "(2020,Jun,11)",
          "(2020,Jun,12)",
          "(2020,Jun,13)",
          "(2020,Jun,14)",
          "(2020,Jun,15)",
          "(2020,Jun,16)",
          "(2020,Jun,17)",
          "(2020,Jun,18)",
          "(2020,Jun,19)",
          "(2020,Jun,20)",
          "(2020,Jun,21)",
          "(2020,Jun,22)",
          "(2020,Jun,23)",
          "(2020,Jun,24)",
          "(2020,Jun,25)",
          "(2020,Jun,26)",
          "(2020,Jun,27)",
          "(2020,Jun,28)",
          "(2020,Jun,29)",
          "(2020,Jun,30)",
          "(2020,Jul,1)",
          "(2020,Jul,2)",
          "(2020,Jul,3)",
          "(2020,Jul,4)",
          "(2020,Jul,5)",
          "(2020,Jul,6)",
          "(2020,Jul,7)",
          "(2020,Jul,8)",
          "(2020,Jul,9)",
          "(2020,Jul,10)",
          "(2020,Jul,11)",
          "(2020,Jul,12)",
          "(2020,Jul,13)",
          "(2020,Jul,14)",
          "(2020,Jul,15)",
          "(2020,Jul,16)",
          "(2020,Jul,17)",
          "(2020,Jul,18)",
          "(2020,Jul,19)",
          "(2020,Jul,20)",
          "(2020,Jul,21)",
          "(2020,Jul,22)",
          "(2020,Jul,23)",
          "(2020,Jul,24)",
          "(2020,Jul,25)",
          "(2020,Jul,26)",
          "(2020,Jul,27)",
          "(2020,Jul,28)",
          "(2020,Jul,29)",
          "(2020,Jul,30)",
          "(2020,Jul,31)",
          "(2020,Aug,1)",
          "(2020,Aug,2)",
          "(2020,Aug,3)",
          "(2020,Aug,4)",
          "(2020,Aug,5)",
          "(2020,Aug,6)",
          "(2020,Aug,7)",
          "(2020,Aug,8)",
          "(2020,Aug,9)",
          "(2020,Aug,10)",
          "(2020,Aug,11)",
          "(2020,Aug,12)",
          "(2020,Aug,13)",
          "(2020,Aug,14)",
          "(2020,Aug,15)",
          "(2020,Aug,16)",
          "(2020,Aug,17)",
          "(2020,Aug,18)",
          "(2020,Aug,19)",
          "(2020,Aug,20)",
          "(2020,Aug,21)",
          "(2020,Aug,22)",
          "(2020,Aug,23)",
          "(2020,Aug,24)",
          "(2020,Aug,25)",
          "(2020,Aug,26)",
          "(2020,Aug,27)",
          "(2020,Aug,28)",
          "(2020,Aug,29)",
          "(2020,Aug,30)",
          "(2020,Aug,31)",
          "(2020,Sep,1)",
          "(2020,Sep,2)",
          "(2020,Sep,3)",
          "(2020,Sep,4)",
          "(2020,Sep,5)",
          "(2020,Sep,6)",
          "(2020,Sep,7)",
          "(2020,Sep,8)",
          "(2020,Sep,9)",
          "(2020,Sep,10)",
          "(2020,Sep,11)",
          "(2020,Sep,12)",
          "(2020,Sep,13)",
          "(2020,Sep,14)",
          "(2020,Sep,15)",
          "(2020,Sep,16)",
          "(2020,Sep,17)",
          "(2020,Sep,18)",
          "(2020,Sep,19)",
          "(2020,Sep,20)",
          "(2020,Sep,21)",
          "(2020,Sep,22)",
          "(2020,Sep,23)"
         ],
         "y": [
          54,
          54,
          54,
          88,
          88,
          118,
          118,
          118,
          118,
          118,
          118,
          118,
          118,
          120,
          120,
          122,
          122,
          132,
          166,
          438,
          478,
          784,
          1068,
          1262,
          1794,
          2700,
          4046,
          5640,
          9174,
          12134,
          15646,
          19648,
          23892,
          29108,
          34744,
          41230,
          49046,
          56548,
          62984,
          69868,
          75104,
          81088,
          86212,
          90356,
          120658,
          129088,
          134208,
          138532,
          142666,
          146656,
          150384,
          151448,
          153440,
          155610,
          157628,
          158674,
          160260,
          161994,
          164222,
          166754,
          170472,
          174124,
          178298,
          181779,
          186440,
          191161,
          197347,
          205479,
          213417,
          221758,
          231310,
          241730,
          257471,
          276054,
          297129,
          321583,
          346564,
          374982,
          409006,
          449434,
          511626,
          575439,
          643853,
          712567,
          801404,
          886171,
          993678,
          1115710,
          1245898,
          1371526,
          1486252,
          1615136,
          1764571,
          1919522,
          2074438,
          2238098,
          2408429,
          2541136,
          2687112,
          2841646,
          3011486,
          3186014,
          3365038,
          3515666,
          3652722,
          3782162,
          3935154,
          4091850,
          4259732,
          4423290,
          4582416,
          4723540,
          4871010,
          5044340,
          5177028,
          5333998,
          5479582,
          5679146,
          5842500,
          5974140,
          6118648,
          6276252,
          6446918,
          6624252,
          6785508,
          6939838,
          7092910,
          7250276,
          7425390,
          7610238,
          7788660,
          7966346,
          8115734,
          8255202,
          8427628,
          8600142,
          8793228,
          8987666,
          9173536,
          9332542,
          9505276,
          9696364,
          9903018,
          10118578,
          10330178,
          10530232,
          10716542,
          10894228,
          11081790,
          11287428,
          11524440,
          11768578,
          12024454,
          12237886,
          12438474,
          12663248,
          12914272,
          13168120,
          13434500,
          13686494,
          13916152,
          14127394,
          14377868,
          14647576,
          14919886,
          15209138,
          15475962,
          15718354,
          15955344,
          16238296,
          16588874,
          16868924,
          17229546,
          17550180,
          17808576,
          18077054,
          18404838,
          18754826,
          19112308,
          19489652,
          19853708,
          20174114,
          20490430,
          20874600,
          21275352,
          21692602,
          22103650,
          22485778,
          22842336,
          23190892,
          23604776,
          24035788,
          24486082,
          24949004,
          25384992,
          25775990,
          26152882,
          26600268,
          27063666,
          27572422,
          28081276,
          28541608,
          28960490,
          29362018,
          29841588,
          30404854,
          30957436,
          31525258,
          32044514,
          32508230,
          32932044,
          33419648,
          34015870,
          34596732,
          35154856,
          35690570,
          36137154,
          36546468,
          37057812,
          37613020,
          38184870,
          38736676,
          39274112,
          39732940,
          40172472,
          40695406,
          41274102,
          41847442,
          42425278,
          42944544,
          43409266,
          43802358,
          44312406,
          44875442,
          45428078,
          45934540,
          46468000,
          46916696,
          47339612,
          47849758,
          48403108,
          48969928,
          49523126,
          50061148,
          50551596,
          51036608,
          51573700,
          52139980,
          52697688,
          53284608,
          53844058,
          54341324,
          54754086,
          55243378,
          55808838,
          56429412,
          57040060,
          57614254,
          58159442,
          58645168,
          59253542,
          59837680,
          60468338,
          61090684,
          61682230,
          62254314,
          62781772,
          62634879
         ]
        }
       ],
       "layout": {
        "legend": {
         "bgcolor": "#F5F6F9",
         "font": {
          "color": "#4D5663"
         }
        },
        "paper_bgcolor": "#F5F6F9",
        "plot_bgcolor": "#F5F6F9",
        "template": {
         "data": {
          "bar": [
           {
            "error_x": {
             "color": "#2a3f5f"
            },
            "error_y": {
             "color": "#2a3f5f"
            },
            "marker": {
             "line": {
              "color": "#E5ECF6",
              "width": 0.5
             }
            },
            "type": "bar"
           }
          ],
          "barpolar": [
           {
            "marker": {
             "line": {
              "color": "#E5ECF6",
              "width": 0.5
             }
            },
            "type": "barpolar"
           }
          ],
          "carpet": [
           {
            "aaxis": {
             "endlinecolor": "#2a3f5f",
             "gridcolor": "white",
             "linecolor": "white",
             "minorgridcolor": "white",
             "startlinecolor": "#2a3f5f"
            },
            "baxis": {
             "endlinecolor": "#2a3f5f",
             "gridcolor": "white",
             "linecolor": "white",
             "minorgridcolor": "white",
             "startlinecolor": "#2a3f5f"
            },
            "type": "carpet"
           }
          ],
          "choropleth": [
           {
            "colorbar": {
             "outlinewidth": 0,
             "ticks": ""
            },
            "type": "choropleth"
           }
          ],
          "contour": [
           {
            "colorbar": {
             "outlinewidth": 0,
             "ticks": ""
            },
            "colorscale": [
             [
              0,
              "#0d0887"
             ],
             [
              0.1111111111111111,
              "#46039f"
             ],
             [
              0.2222222222222222,
              "#7201a8"
             ],
             [
              0.3333333333333333,
              "#9c179e"
             ],
             [
              0.4444444444444444,
              "#bd3786"
             ],
             [
              0.5555555555555556,
              "#d8576b"
             ],
             [
              0.6666666666666666,
              "#ed7953"
             ],
             [
              0.7777777777777778,
              "#fb9f3a"
             ],
             [
              0.8888888888888888,
              "#fdca26"
             ],
             [
              1,
              "#f0f921"
             ]
            ],
            "type": "contour"
           }
          ],
          "contourcarpet": [
           {
            "colorbar": {
             "outlinewidth": 0,
             "ticks": ""
            },
            "type": "contourcarpet"
           }
          ],
          "heatmap": [
           {
            "colorbar": {
             "outlinewidth": 0,
             "ticks": ""
            },
            "colorscale": [
             [
              0,
              "#0d0887"
             ],
             [
              0.1111111111111111,
              "#46039f"
             ],
             [
              0.2222222222222222,
              "#7201a8"
             ],
             [
              0.3333333333333333,
              "#9c179e"
             ],
             [
              0.4444444444444444,
              "#bd3786"
             ],
             [
              0.5555555555555556,
              "#d8576b"
             ],
             [
              0.6666666666666666,
              "#ed7953"
             ],
             [
              0.7777777777777778,
              "#fb9f3a"
             ],
             [
              0.8888888888888888,
              "#fdca26"
             ],
             [
              1,
              "#f0f921"
             ]
            ],
            "type": "heatmap"
           }
          ],
          "heatmapgl": [
           {
            "colorbar": {
             "outlinewidth": 0,
             "ticks": ""
            },
            "colorscale": [
             [
              0,
              "#0d0887"
             ],
             [
              0.1111111111111111,
              "#46039f"
             ],
             [
              0.2222222222222222,
              "#7201a8"
             ],
             [
              0.3333333333333333,
              "#9c179e"
             ],
             [
              0.4444444444444444,
              "#bd3786"
             ],
             [
              0.5555555555555556,
              "#d8576b"
             ],
             [
              0.6666666666666666,
              "#ed7953"
             ],
             [
              0.7777777777777778,
              "#fb9f3a"
             ],
             [
              0.8888888888888888,
              "#fdca26"
             ],
             [
              1,
              "#f0f921"
             ]
            ],
            "type": "heatmapgl"
           }
          ],
          "histogram": [
           {
            "marker": {
             "colorbar": {
              "outlinewidth": 0,
              "ticks": ""
             }
            },
            "type": "histogram"
           }
          ],
          "histogram2d": [
           {
            "colorbar": {
             "outlinewidth": 0,
             "ticks": ""
            },
            "colorscale": [
             [
              0,
              "#0d0887"
             ],
             [
              0.1111111111111111,
              "#46039f"
             ],
             [
              0.2222222222222222,
              "#7201a8"
             ],
             [
              0.3333333333333333,
              "#9c179e"
             ],
             [
              0.4444444444444444,
              "#bd3786"
             ],
             [
              0.5555555555555556,
              "#d8576b"
             ],
             [
              0.6666666666666666,
              "#ed7953"
             ],
             [
              0.7777777777777778,
              "#fb9f3a"
             ],
             [
              0.8888888888888888,
              "#fdca26"
             ],
             [
              1,
              "#f0f921"
             ]
            ],
            "type": "histogram2d"
           }
          ],
          "histogram2dcontour": [
           {
            "colorbar": {
             "outlinewidth": 0,
             "ticks": ""
            },
            "colorscale": [
             [
              0,
              "#0d0887"
             ],
             [
              0.1111111111111111,
              "#46039f"
             ],
             [
              0.2222222222222222,
              "#7201a8"
             ],
             [
              0.3333333333333333,
              "#9c179e"
             ],
             [
              0.4444444444444444,
              "#bd3786"
             ],
             [
              0.5555555555555556,
              "#d8576b"
             ],
             [
              0.6666666666666666,
              "#ed7953"
             ],
             [
              0.7777777777777778,
              "#fb9f3a"
             ],
             [
              0.8888888888888888,
              "#fdca26"
             ],
             [
              1,
              "#f0f921"
             ]
            ],
            "type": "histogram2dcontour"
           }
          ],
          "mesh3d": [
           {
            "colorbar": {
             "outlinewidth": 0,
             "ticks": ""
            },
            "type": "mesh3d"
           }
          ],
          "parcoords": [
           {
            "line": {
             "colorbar": {
              "outlinewidth": 0,
              "ticks": ""
             }
            },
            "type": "parcoords"
           }
          ],
          "pie": [
           {
            "automargin": true,
            "type": "pie"
           }
          ],
          "scatter": [
           {
            "marker": {
             "colorbar": {
              "outlinewidth": 0,
              "ticks": ""
             }
            },
            "type": "scatter"
           }
          ],
          "scatter3d": [
           {
            "line": {
             "colorbar": {
              "outlinewidth": 0,
              "ticks": ""
             }
            },
            "marker": {
             "colorbar": {
              "outlinewidth": 0,
              "ticks": ""
             }
            },
            "type": "scatter3d"
           }
          ],
          "scattercarpet": [
           {
            "marker": {
             "colorbar": {
              "outlinewidth": 0,
              "ticks": ""
             }
            },
            "type": "scattercarpet"
           }
          ],
          "scattergeo": [
           {
            "marker": {
             "colorbar": {
              "outlinewidth": 0,
              "ticks": ""
             }
            },
            "type": "scattergeo"
           }
          ],
          "scattergl": [
           {
            "marker": {
             "colorbar": {
              "outlinewidth": 0,
              "ticks": ""
             }
            },
            "type": "scattergl"
           }
          ],
          "scattermapbox": [
           {
            "marker": {
             "colorbar": {
              "outlinewidth": 0,
              "ticks": ""
             }
            },
            "type": "scattermapbox"
           }
          ],
          "scatterpolar": [
           {
            "marker": {
             "colorbar": {
              "outlinewidth": 0,
              "ticks": ""
             }
            },
            "type": "scatterpolar"
           }
          ],
          "scatterpolargl": [
           {
            "marker": {
             "colorbar": {
              "outlinewidth": 0,
              "ticks": ""
             }
            },
            "type": "scatterpolargl"
           }
          ],
          "scatterternary": [
           {
            "marker": {
             "colorbar": {
              "outlinewidth": 0,
              "ticks": ""
             }
            },
            "type": "scatterternary"
           }
          ],
          "surface": [
           {
            "colorbar": {
             "outlinewidth": 0,
             "ticks": ""
            },
            "colorscale": [
             [
              0,
              "#0d0887"
             ],
             [
              0.1111111111111111,
              "#46039f"
             ],
             [
              0.2222222222222222,
              "#7201a8"
             ],
             [
              0.3333333333333333,
              "#9c179e"
             ],
             [
              0.4444444444444444,
              "#bd3786"
             ],
             [
              0.5555555555555556,
              "#d8576b"
             ],
             [
              0.6666666666666666,
              "#ed7953"
             ],
             [
              0.7777777777777778,
              "#fb9f3a"
             ],
             [
              0.8888888888888888,
              "#fdca26"
             ],
             [
              1,
              "#f0f921"
             ]
            ],
            "type": "surface"
           }
          ],
          "table": [
           {
            "cells": {
             "fill": {
              "color": "#EBF0F8"
             },
             "line": {
              "color": "white"
             }
            },
            "header": {
             "fill": {
              "color": "#C8D4E3"
             },
             "line": {
              "color": "white"
             }
            },
            "type": "table"
           }
          ]
         },
         "layout": {
          "annotationdefaults": {
           "arrowcolor": "#2a3f5f",
           "arrowhead": 0,
           "arrowwidth": 1
          },
          "coloraxis": {
           "colorbar": {
            "outlinewidth": 0,
            "ticks": ""
           }
          },
          "colorscale": {
           "diverging": [
            [
             0,
             "#8e0152"
            ],
            [
             0.1,
             "#c51b7d"
            ],
            [
             0.2,
             "#de77ae"
            ],
            [
             0.3,
             "#f1b6da"
            ],
            [
             0.4,
             "#fde0ef"
            ],
            [
             0.5,
             "#f7f7f7"
            ],
            [
             0.6,
             "#e6f5d0"
            ],
            [
             0.7,
             "#b8e186"
            ],
            [
             0.8,
             "#7fbc41"
            ],
            [
             0.9,
             "#4d9221"
            ],
            [
             1,
             "#276419"
            ]
           ],
           "sequential": [
            [
             0,
             "#0d0887"
            ],
            [
             0.1111111111111111,
             "#46039f"
            ],
            [
             0.2222222222222222,
             "#7201a8"
            ],
            [
             0.3333333333333333,
             "#9c179e"
            ],
            [
             0.4444444444444444,
             "#bd3786"
            ],
            [
             0.5555555555555556,
             "#d8576b"
            ],
            [
             0.6666666666666666,
             "#ed7953"
            ],
            [
             0.7777777777777778,
             "#fb9f3a"
            ],
            [
             0.8888888888888888,
             "#fdca26"
            ],
            [
             1,
             "#f0f921"
            ]
           ],
           "sequentialminus": [
            [
             0,
             "#0d0887"
            ],
            [
             0.1111111111111111,
             "#46039f"
            ],
            [
             0.2222222222222222,
             "#7201a8"
            ],
            [
             0.3333333333333333,
             "#9c179e"
            ],
            [
             0.4444444444444444,
             "#bd3786"
            ],
            [
             0.5555555555555556,
             "#d8576b"
            ],
            [
             0.6666666666666666,
             "#ed7953"
            ],
            [
             0.7777777777777778,
             "#fb9f3a"
            ],
            [
             0.8888888888888888,
             "#fdca26"
            ],
            [
             1,
             "#f0f921"
            ]
           ]
          },
          "colorway": [
           "#636efa",
           "#EF553B",
           "#00cc96",
           "#ab63fa",
           "#FFA15A",
           "#19d3f3",
           "#FF6692",
           "#B6E880",
           "#FF97FF",
           "#FECB52"
          ],
          "font": {
           "color": "#2a3f5f"
          },
          "geo": {
           "bgcolor": "white",
           "lakecolor": "white",
           "landcolor": "#E5ECF6",
           "showlakes": true,
           "showland": true,
           "subunitcolor": "white"
          },
          "hoverlabel": {
           "align": "left"
          },
          "hovermode": "closest",
          "mapbox": {
           "style": "light"
          },
          "paper_bgcolor": "white",
          "plot_bgcolor": "#E5ECF6",
          "polar": {
           "angularaxis": {
            "gridcolor": "white",
            "linecolor": "white",
            "ticks": ""
           },
           "bgcolor": "#E5ECF6",
           "radialaxis": {
            "gridcolor": "white",
            "linecolor": "white",
            "ticks": ""
           }
          },
          "scene": {
           "xaxis": {
            "backgroundcolor": "#E5ECF6",
            "gridcolor": "white",
            "gridwidth": 2,
            "linecolor": "white",
            "showbackground": true,
            "ticks": "",
            "zerolinecolor": "white"
           },
           "yaxis": {
            "backgroundcolor": "#E5ECF6",
            "gridcolor": "white",
            "gridwidth": 2,
            "linecolor": "white",
            "showbackground": true,
            "ticks": "",
            "zerolinecolor": "white"
           },
           "zaxis": {
            "backgroundcolor": "#E5ECF6",
            "gridcolor": "white",
            "gridwidth": 2,
            "linecolor": "white",
            "showbackground": true,
            "ticks": "",
            "zerolinecolor": "white"
           }
          },
          "shapedefaults": {
           "line": {
            "color": "#2a3f5f"
           }
          },
          "ternary": {
           "aaxis": {
            "gridcolor": "white",
            "linecolor": "white",
            "ticks": ""
           },
           "baxis": {
            "gridcolor": "white",
            "linecolor": "white",
            "ticks": ""
           },
           "bgcolor": "#E5ECF6",
           "caxis": {
            "gridcolor": "white",
            "linecolor": "white",
            "ticks": ""
           }
          },
          "title": {
           "x": 0.05
          },
          "xaxis": {
           "automargin": true,
           "gridcolor": "white",
           "linecolor": "white",
           "ticks": "",
           "title": {
            "standoff": 15
           },
           "zerolinecolor": "white",
           "zerolinewidth": 2
          },
          "yaxis": {
           "automargin": true,
           "gridcolor": "white",
           "linecolor": "white",
           "ticks": "",
           "title": {
            "standoff": 15
           },
           "zerolinecolor": "white",
           "zerolinewidth": 2
          }
         }
        },
        "title": {
         "font": {
          "color": "#4D5663"
         }
        },
        "xaxis": {
         "gridcolor": "#E1E5ED",
         "showgrid": true,
         "tickfont": {
          "color": "#4D5663"
         },
         "title": {
          "font": {
           "color": "#4D5663"
          },
          "text": ""
         },
         "zerolinecolor": "#E1E5ED"
        },
        "yaxis": {
         "gridcolor": "#E1E5ED",
         "showgrid": true,
         "tickfont": {
          "color": "#4D5663"
         },
         "title": {
          "font": {
           "color": "#4D5663"
          },
          "text": ""
         },
         "zerolinecolor": "#E1E5ED"
        }
       }
      },
      "text/html": "<div>                            <div id=\"0d24dafc-60e4-47ff-960c-e170cf0ee94d\" class=\"plotly-graph-div\" style=\"height:525px; width:100%;\"></div>            <script type=\"text/javascript\">                require([\"plotly\"], function(Plotly) {                    window.PLOTLYENV=window.PLOTLYENV || {};\n                    window.PLOTLYENV.BASE_URL='https://plot.ly';                                    if (document.getElementById(\"0d24dafc-60e4-47ff-960c-e170cf0ee94d\")) {                    Plotly.newPlot(                        \"0d24dafc-60e4-47ff-960c-e170cf0ee94d\",                        [{\"marker\": {\"color\": \"rgba(255, 153, 51, 0.6)\", \"line\": {\"color\": \"rgba(255, 153, 51, 1.0)\", \"width\": 1}}, \"name\": \"total_cases\", \"orientation\": \"v\", \"text\": \"\", \"type\": \"bar\", \"x\": [\"(2019,Dec,31)\", \"(2020,Jan,1)\", \"(2020,Jan,2)\", \"(2020,Jan,3)\", \"(2020,Jan,4)\", \"(2020,Jan,5)\", \"(2020,Jan,6)\", \"(2020,Jan,7)\", \"(2020,Jan,8)\", \"(2020,Jan,9)\", \"(2020,Jan,10)\", \"(2020,Jan,11)\", \"(2020,Jan,12)\", \"(2020,Jan,13)\", \"(2020,Jan,14)\", \"(2020,Jan,15)\", \"(2020,Jan,16)\", \"(2020,Jan,17)\", \"(2020,Jan,18)\", \"(2020,Jan,19)\", \"(2020,Jan,20)\", \"(2020,Jan,21)\", \"(2020,Jan,22)\", \"(2020,Jan,23)\", \"(2020,Jan,24)\", \"(2020,Jan,25)\", \"(2020,Jan,26)\", \"(2020,Jan,27)\", \"(2020,Jan,28)\", \"(2020,Jan,29)\", \"(2020,Jan,30)\", \"(2020,Jan,31)\", \"(2020,Feb,1)\", \"(2020,Feb,2)\", \"(2020,Feb,3)\", \"(2020,Feb,4)\", \"(2020,Feb,5)\", \"(2020,Feb,6)\", \"(2020,Feb,7)\", \"(2020,Feb,8)\", \"(2020,Feb,9)\", \"(2020,Feb,10)\", \"(2020,Feb,11)\", \"(2020,Feb,12)\", \"(2020,Feb,13)\", \"(2020,Feb,14)\", \"(2020,Feb,15)\", \"(2020,Feb,16)\", \"(2020,Feb,17)\", \"(2020,Feb,18)\", \"(2020,Feb,19)\", \"(2020,Feb,20)\", \"(2020,Feb,21)\", \"(2020,Feb,22)\", \"(2020,Feb,23)\", \"(2020,Feb,24)\", \"(2020,Feb,25)\", \"(2020,Feb,26)\", \"(2020,Feb,27)\", \"(2020,Feb,28)\", \"(2020,Feb,29)\", \"(2020,Mar,1)\", \"(2020,Mar,2)\", \"(2020,Mar,3)\", \"(2020,Mar,4)\", \"(2020,Mar,5)\", \"(2020,Mar,6)\", \"(2020,Mar,7)\", \"(2020,Mar,8)\", \"(2020,Mar,9)\", \"(2020,Mar,10)\", \"(2020,Mar,11)\", \"(2020,Mar,12)\", \"(2020,Mar,13)\", \"(2020,Mar,14)\", \"(2020,Mar,15)\", \"(2020,Mar,16)\", \"(2020,Mar,17)\", \"(2020,Mar,18)\", \"(2020,Mar,19)\", \"(2020,Mar,20)\", \"(2020,Mar,21)\", \"(2020,Mar,22)\", \"(2020,Mar,23)\", \"(2020,Mar,24)\", \"(2020,Mar,25)\", \"(2020,Mar,26)\", \"(2020,Mar,27)\", \"(2020,Mar,28)\", \"(2020,Mar,29)\", \"(2020,Mar,30)\", \"(2020,Mar,31)\", \"(2020,Apr,1)\", \"(2020,Apr,2)\", \"(2020,Apr,3)\", \"(2020,Apr,4)\", \"(2020,Apr,5)\", \"(2020,Apr,6)\", \"(2020,Apr,7)\", \"(2020,Apr,8)\", \"(2020,Apr,9)\", \"(2020,Apr,10)\", \"(2020,Apr,11)\", \"(2020,Apr,12)\", \"(2020,Apr,13)\", \"(2020,Apr,14)\", \"(2020,Apr,15)\", \"(2020,Apr,16)\", \"(2020,Apr,17)\", \"(2020,Apr,18)\", \"(2020,Apr,19)\", \"(2020,Apr,20)\", \"(2020,Apr,21)\", \"(2020,Apr,22)\", \"(2020,Apr,23)\", \"(2020,Apr,24)\", \"(2020,Apr,25)\", \"(2020,Apr,26)\", \"(2020,Apr,27)\", \"(2020,Apr,28)\", \"(2020,Apr,29)\", \"(2020,Apr,30)\", \"(2020,May,1)\", \"(2020,May,2)\", \"(2020,May,3)\", \"(2020,May,4)\", \"(2020,May,5)\", \"(2020,May,6)\", \"(2020,May,7)\", \"(2020,May,8)\", \"(2020,May,9)\", \"(2020,May,10)\", \"(2020,May,11)\", \"(2020,May,12)\", \"(2020,May,13)\", \"(2020,May,14)\", \"(2020,May,15)\", \"(2020,May,16)\", \"(2020,May,17)\", \"(2020,May,18)\", \"(2020,May,19)\", \"(2020,May,20)\", \"(2020,May,21)\", \"(2020,May,22)\", \"(2020,May,23)\", \"(2020,May,24)\", \"(2020,May,25)\", \"(2020,May,26)\", \"(2020,May,27)\", \"(2020,May,28)\", \"(2020,May,29)\", \"(2020,May,30)\", \"(2020,May,31)\", \"(2020,Jun,1)\", \"(2020,Jun,2)\", \"(2020,Jun,3)\", \"(2020,Jun,4)\", \"(2020,Jun,5)\", \"(2020,Jun,6)\", \"(2020,Jun,7)\", \"(2020,Jun,8)\", \"(2020,Jun,9)\", \"(2020,Jun,10)\", \"(2020,Jun,11)\", \"(2020,Jun,12)\", \"(2020,Jun,13)\", \"(2020,Jun,14)\", \"(2020,Jun,15)\", \"(2020,Jun,16)\", \"(2020,Jun,17)\", \"(2020,Jun,18)\", \"(2020,Jun,19)\", \"(2020,Jun,20)\", \"(2020,Jun,21)\", \"(2020,Jun,22)\", \"(2020,Jun,23)\", \"(2020,Jun,24)\", \"(2020,Jun,25)\", \"(2020,Jun,26)\", \"(2020,Jun,27)\", \"(2020,Jun,28)\", \"(2020,Jun,29)\", \"(2020,Jun,30)\", \"(2020,Jul,1)\", \"(2020,Jul,2)\", \"(2020,Jul,3)\", \"(2020,Jul,4)\", \"(2020,Jul,5)\", \"(2020,Jul,6)\", \"(2020,Jul,7)\", \"(2020,Jul,8)\", \"(2020,Jul,9)\", \"(2020,Jul,10)\", \"(2020,Jul,11)\", \"(2020,Jul,12)\", \"(2020,Jul,13)\", \"(2020,Jul,14)\", \"(2020,Jul,15)\", \"(2020,Jul,16)\", \"(2020,Jul,17)\", \"(2020,Jul,18)\", \"(2020,Jul,19)\", \"(2020,Jul,20)\", \"(2020,Jul,21)\", \"(2020,Jul,22)\", \"(2020,Jul,23)\", \"(2020,Jul,24)\", \"(2020,Jul,25)\", \"(2020,Jul,26)\", \"(2020,Jul,27)\", \"(2020,Jul,28)\", \"(2020,Jul,29)\", \"(2020,Jul,30)\", \"(2020,Jul,31)\", \"(2020,Aug,1)\", \"(2020,Aug,2)\", \"(2020,Aug,3)\", \"(2020,Aug,4)\", \"(2020,Aug,5)\", \"(2020,Aug,6)\", \"(2020,Aug,7)\", \"(2020,Aug,8)\", \"(2020,Aug,9)\", \"(2020,Aug,10)\", \"(2020,Aug,11)\", \"(2020,Aug,12)\", \"(2020,Aug,13)\", \"(2020,Aug,14)\", \"(2020,Aug,15)\", \"(2020,Aug,16)\", \"(2020,Aug,17)\", \"(2020,Aug,18)\", \"(2020,Aug,19)\", \"(2020,Aug,20)\", \"(2020,Aug,21)\", \"(2020,Aug,22)\", \"(2020,Aug,23)\", \"(2020,Aug,24)\", \"(2020,Aug,25)\", \"(2020,Aug,26)\", \"(2020,Aug,27)\", \"(2020,Aug,28)\", \"(2020,Aug,29)\", \"(2020,Aug,30)\", \"(2020,Aug,31)\", \"(2020,Sep,1)\", \"(2020,Sep,2)\", \"(2020,Sep,3)\", \"(2020,Sep,4)\", \"(2020,Sep,5)\", \"(2020,Sep,6)\", \"(2020,Sep,7)\", \"(2020,Sep,8)\", \"(2020,Sep,9)\", \"(2020,Sep,10)\", \"(2020,Sep,11)\", \"(2020,Sep,12)\", \"(2020,Sep,13)\", \"(2020,Sep,14)\", \"(2020,Sep,15)\", \"(2020,Sep,16)\", \"(2020,Sep,17)\", \"(2020,Sep,18)\", \"(2020,Sep,19)\", \"(2020,Sep,20)\", \"(2020,Sep,21)\", \"(2020,Sep,22)\", \"(2020,Sep,23)\"], \"y\": [54.0, 54.0, 54.0, 88.0, 88.0, 118.0, 118.0, 118.0, 118.0, 118.0, 118.0, 118.0, 118.0, 120.0, 120.0, 122.0, 122.0, 132.0, 166.0, 438.0, 478.0, 784.0, 1068.0, 1262.0, 1794.0, 2700.0, 4046.0, 5640.0, 9174.0, 12134.0, 15646.0, 19648.0, 23892.0, 29108.0, 34744.0, 41230.0, 49046.0, 56548.0, 62984.0, 69868.0, 75104.0, 81088.0, 86212.0, 90356.0, 120658.0, 129088.0, 134208.0, 138532.0, 142666.0, 146656.0, 150384.0, 151448.0, 153440.0, 155610.0, 157628.0, 158674.0, 160260.0, 161994.0, 164222.0, 166754.0, 170472.0, 174124.0, 178298.0, 181779.0, 186440.0, 191161.0, 197347.0, 205479.0, 213417.0, 221758.0, 231310.0, 241730.0, 257471.0, 276054.0, 297129.0, 321583.0, 346564.0, 374982.0, 409006.0, 449434.0, 511626.0, 575439.0, 643853.0, 712567.0, 801404.0, 886171.0, 993678.0, 1115710.0, 1245898.0, 1371526.0, 1486252.0, 1615136.0, 1764571.0, 1919522.0, 2074438.0, 2238098.0, 2408429.0, 2541136.0, 2687112.0, 2841646.0, 3011486.0, 3186014.0, 3365038.0, 3515666.0, 3652722.0, 3782162.0, 3935154.0, 4091850.0, 4259732.0, 4423290.0, 4582416.0, 4723540.0, 4871010.0, 5044340.0, 5177028.0, 5333998.0, 5479582.0, 5679146.0, 5842500.0, 5974140.0, 6118648.0, 6276252.0, 6446918.0, 6624252.0, 6785508.0, 6939838.0, 7092910.0, 7250276.0, 7425390.0, 7610238.0, 7788660.0, 7966346.0, 8115734.0, 8255202.0, 8427628.0, 8600142.0, 8793228.0, 8987666.0, 9173536.0, 9332542.0, 9505276.0, 9696364.0, 9903018.0, 10118578.0, 10330178.0, 10530232.0, 10716542.0, 10894228.0, 11081790.0, 11287428.0, 11524440.0, 11768578.0, 12024454.0, 12237886.0, 12438474.0, 12663248.0, 12914272.0, 13168120.0, 13434500.0, 13686494.0, 13916152.0, 14127394.0, 14377868.0, 14647576.0, 14919886.0, 15209138.0, 15475962.0, 15718354.0, 15955344.0, 16238296.0, 16588874.0, 16868924.0, 17229546.0, 17550180.0, 17808576.0, 18077054.0, 18404838.0, 18754826.0, 19112308.0, 19489652.0, 19853708.0, 20174114.0, 20490430.0, 20874600.0, 21275352.0, 21692602.0, 22103650.0, 22485778.0, 22842336.0, 23190892.0, 23604776.0, 24035788.0, 24486082.0, 24949004.0, 25384992.0, 25775990.0, 26152882.0, 26600268.0, 27063666.0, 27572422.0, 28081276.0, 28541608.0, 28960490.0, 29362018.0, 29841588.0, 30404854.0, 30957436.0, 31525258.0, 32044514.0, 32508230.0, 32932044.0, 33419648.0, 34015870.0, 34596732.0, 35154856.0, 35690570.0, 36137154.0, 36546468.0, 37057812.0, 37613020.0, 38184870.0, 38736676.0, 39274112.0, 39732940.0, 40172472.0, 40695406.0, 41274102.0, 41847442.0, 42425278.0, 42944544.0, 43409266.0, 43802358.0, 44312406.0, 44875442.0, 45428078.0, 45934540.0, 46468000.0, 46916696.0, 47339612.0, 47849758.0, 48403108.0, 48969928.0, 49523126.0, 50061148.0, 50551596.0, 51036608.0, 51573700.0, 52139980.0, 52697688.0, 53284608.0, 53844058.0, 54341324.0, 54754086.0, 55243378.0, 55808838.0, 56429412.0, 57040060.0, 57614254.0, 58159442.0, 58645168.0, 59253542.0, 59837680.0, 60468338.0, 61090684.0, 61682230.0, 62254314.0, 62781772.0, 62634879.0]}],                        {\"legend\": {\"bgcolor\": \"#F5F6F9\", \"font\": {\"color\": \"#4D5663\"}}, \"paper_bgcolor\": \"#F5F6F9\", \"plot_bgcolor\": \"#F5F6F9\", \"template\": {\"data\": {\"bar\": [{\"error_x\": {\"color\": \"#2a3f5f\"}, \"error_y\": {\"color\": \"#2a3f5f\"}, \"marker\": {\"line\": {\"color\": \"#E5ECF6\", \"width\": 0.5}}, \"type\": \"bar\"}], \"barpolar\": [{\"marker\": {\"line\": {\"color\": \"#E5ECF6\", \"width\": 0.5}}, \"type\": \"barpolar\"}], \"carpet\": [{\"aaxis\": {\"endlinecolor\": \"#2a3f5f\", \"gridcolor\": \"white\", \"linecolor\": \"white\", \"minorgridcolor\": \"white\", \"startlinecolor\": \"#2a3f5f\"}, \"baxis\": {\"endlinecolor\": \"#2a3f5f\", \"gridcolor\": \"white\", \"linecolor\": \"white\", \"minorgridcolor\": \"white\", \"startlinecolor\": \"#2a3f5f\"}, \"type\": \"carpet\"}], \"choropleth\": [{\"colorbar\": {\"outlinewidth\": 0, \"ticks\": \"\"}, \"type\": \"choropleth\"}], \"contour\": [{\"colorbar\": {\"outlinewidth\": 0, \"ticks\": \"\"}, \"colorscale\": [[0.0, \"#0d0887\"], [0.1111111111111111, \"#46039f\"], [0.2222222222222222, \"#7201a8\"], [0.3333333333333333, \"#9c179e\"], [0.4444444444444444, \"#bd3786\"], [0.5555555555555556, \"#d8576b\"], [0.6666666666666666, \"#ed7953\"], [0.7777777777777778, \"#fb9f3a\"], [0.8888888888888888, \"#fdca26\"], [1.0, \"#f0f921\"]], \"type\": \"contour\"}], \"contourcarpet\": [{\"colorbar\": {\"outlinewidth\": 0, \"ticks\": \"\"}, \"type\": \"contourcarpet\"}], \"heatmap\": [{\"colorbar\": {\"outlinewidth\": 0, \"ticks\": \"\"}, \"colorscale\": [[0.0, \"#0d0887\"], [0.1111111111111111, \"#46039f\"], [0.2222222222222222, \"#7201a8\"], [0.3333333333333333, \"#9c179e\"], [0.4444444444444444, \"#bd3786\"], [0.5555555555555556, \"#d8576b\"], [0.6666666666666666, \"#ed7953\"], [0.7777777777777778, \"#fb9f3a\"], [0.8888888888888888, \"#fdca26\"], [1.0, \"#f0f921\"]], \"type\": \"heatmap\"}], \"heatmapgl\": [{\"colorbar\": {\"outlinewidth\": 0, \"ticks\": \"\"}, \"colorscale\": [[0.0, \"#0d0887\"], [0.1111111111111111, \"#46039f\"], [0.2222222222222222, \"#7201a8\"], [0.3333333333333333, \"#9c179e\"], [0.4444444444444444, \"#bd3786\"], [0.5555555555555556, \"#d8576b\"], [0.6666666666666666, \"#ed7953\"], [0.7777777777777778, \"#fb9f3a\"], [0.8888888888888888, \"#fdca26\"], [1.0, \"#f0f921\"]], \"type\": \"heatmapgl\"}], \"histogram\": [{\"marker\": {\"colorbar\": {\"outlinewidth\": 0, \"ticks\": \"\"}}, \"type\": \"histogram\"}], \"histogram2d\": [{\"colorbar\": {\"outlinewidth\": 0, \"ticks\": \"\"}, \"colorscale\": [[0.0, \"#0d0887\"], [0.1111111111111111, \"#46039f\"], [0.2222222222222222, \"#7201a8\"], [0.3333333333333333, \"#9c179e\"], [0.4444444444444444, \"#bd3786\"], [0.5555555555555556, \"#d8576b\"], [0.6666666666666666, \"#ed7953\"], [0.7777777777777778, \"#fb9f3a\"], [0.8888888888888888, \"#fdca26\"], [1.0, \"#f0f921\"]], \"type\": \"histogram2d\"}], \"histogram2dcontour\": [{\"colorbar\": {\"outlinewidth\": 0, \"ticks\": \"\"}, \"colorscale\": [[0.0, \"#0d0887\"], [0.1111111111111111, \"#46039f\"], [0.2222222222222222, \"#7201a8\"], [0.3333333333333333, \"#9c179e\"], [0.4444444444444444, \"#bd3786\"], [0.5555555555555556, \"#d8576b\"], [0.6666666666666666, \"#ed7953\"], [0.7777777777777778, \"#fb9f3a\"], [0.8888888888888888, \"#fdca26\"], [1.0, \"#f0f921\"]], \"type\": \"histogram2dcontour\"}], \"mesh3d\": [{\"colorbar\": {\"outlinewidth\": 0, \"ticks\": \"\"}, \"type\": \"mesh3d\"}], \"parcoords\": [{\"line\": {\"colorbar\": {\"outlinewidth\": 0, \"ticks\": \"\"}}, \"type\": \"parcoords\"}], \"pie\": [{\"automargin\": true, \"type\": \"pie\"}], \"scatter\": [{\"marker\": {\"colorbar\": {\"outlinewidth\": 0, \"ticks\": \"\"}}, \"type\": \"scatter\"}], \"scatter3d\": [{\"line\": {\"colorbar\": {\"outlinewidth\": 0, \"ticks\": \"\"}}, \"marker\": {\"colorbar\": {\"outlinewidth\": 0, \"ticks\": \"\"}}, \"type\": \"scatter3d\"}], \"scattercarpet\": [{\"marker\": {\"colorbar\": {\"outlinewidth\": 0, \"ticks\": \"\"}}, \"type\": \"scattercarpet\"}], \"scattergeo\": [{\"marker\": {\"colorbar\": {\"outlinewidth\": 0, \"ticks\": \"\"}}, \"type\": \"scattergeo\"}], \"scattergl\": [{\"marker\": {\"colorbar\": {\"outlinewidth\": 0, \"ticks\": \"\"}}, \"type\": \"scattergl\"}], \"scattermapbox\": [{\"marker\": {\"colorbar\": {\"outlinewidth\": 0, \"ticks\": \"\"}}, \"type\": \"scattermapbox\"}], \"scatterpolar\": [{\"marker\": {\"colorbar\": {\"outlinewidth\": 0, \"ticks\": \"\"}}, \"type\": \"scatterpolar\"}], \"scatterpolargl\": [{\"marker\": {\"colorbar\": {\"outlinewidth\": 0, \"ticks\": \"\"}}, \"type\": \"scatterpolargl\"}], \"scatterternary\": [{\"marker\": {\"colorbar\": {\"outlinewidth\": 0, \"ticks\": \"\"}}, \"type\": \"scatterternary\"}], \"surface\": [{\"colorbar\": {\"outlinewidth\": 0, \"ticks\": \"\"}, \"colorscale\": [[0.0, \"#0d0887\"], [0.1111111111111111, \"#46039f\"], [0.2222222222222222, \"#7201a8\"], [0.3333333333333333, \"#9c179e\"], [0.4444444444444444, \"#bd3786\"], [0.5555555555555556, \"#d8576b\"], [0.6666666666666666, \"#ed7953\"], [0.7777777777777778, \"#fb9f3a\"], [0.8888888888888888, \"#fdca26\"], [1.0, \"#f0f921\"]], \"type\": \"surface\"}], \"table\": [{\"cells\": {\"fill\": {\"color\": \"#EBF0F8\"}, \"line\": {\"color\": \"white\"}}, \"header\": {\"fill\": {\"color\": \"#C8D4E3\"}, \"line\": {\"color\": \"white\"}}, \"type\": \"table\"}]}, \"layout\": {\"annotationdefaults\": {\"arrowcolor\": \"#2a3f5f\", \"arrowhead\": 0, \"arrowwidth\": 1}, \"coloraxis\": {\"colorbar\": {\"outlinewidth\": 0, \"ticks\": \"\"}}, \"colorscale\": {\"diverging\": [[0, \"#8e0152\"], [0.1, \"#c51b7d\"], [0.2, \"#de77ae\"], [0.3, \"#f1b6da\"], [0.4, \"#fde0ef\"], [0.5, \"#f7f7f7\"], [0.6, \"#e6f5d0\"], [0.7, \"#b8e186\"], [0.8, \"#7fbc41\"], [0.9, \"#4d9221\"], [1, \"#276419\"]], \"sequential\": [[0.0, \"#0d0887\"], [0.1111111111111111, \"#46039f\"], [0.2222222222222222, \"#7201a8\"], [0.3333333333333333, \"#9c179e\"], [0.4444444444444444, \"#bd3786\"], [0.5555555555555556, \"#d8576b\"], [0.6666666666666666, \"#ed7953\"], [0.7777777777777778, \"#fb9f3a\"], [0.8888888888888888, \"#fdca26\"], [1.0, \"#f0f921\"]], \"sequentialminus\": [[0.0, \"#0d0887\"], [0.1111111111111111, \"#46039f\"], [0.2222222222222222, \"#7201a8\"], [0.3333333333333333, \"#9c179e\"], [0.4444444444444444, \"#bd3786\"], [0.5555555555555556, \"#d8576b\"], [0.6666666666666666, \"#ed7953\"], [0.7777777777777778, \"#fb9f3a\"], [0.8888888888888888, \"#fdca26\"], [1.0, \"#f0f921\"]]}, \"colorway\": [\"#636efa\", \"#EF553B\", \"#00cc96\", \"#ab63fa\", \"#FFA15A\", \"#19d3f3\", \"#FF6692\", \"#B6E880\", \"#FF97FF\", \"#FECB52\"], \"font\": {\"color\": \"#2a3f5f\"}, \"geo\": {\"bgcolor\": \"white\", \"lakecolor\": \"white\", \"landcolor\": \"#E5ECF6\", \"showlakes\": true, \"showland\": true, \"subunitcolor\": \"white\"}, \"hoverlabel\": {\"align\": \"left\"}, \"hovermode\": \"closest\", \"mapbox\": {\"style\": \"light\"}, \"paper_bgcolor\": \"white\", \"plot_bgcolor\": \"#E5ECF6\", \"polar\": {\"angularaxis\": {\"gridcolor\": \"white\", \"linecolor\": \"white\", \"ticks\": \"\"}, \"bgcolor\": \"#E5ECF6\", \"radialaxis\": {\"gridcolor\": \"white\", \"linecolor\": \"white\", \"ticks\": \"\"}}, \"scene\": {\"xaxis\": {\"backgroundcolor\": \"#E5ECF6\", \"gridcolor\": \"white\", \"gridwidth\": 2, \"linecolor\": \"white\", \"showbackground\": true, \"ticks\": \"\", \"zerolinecolor\": \"white\"}, \"yaxis\": {\"backgroundcolor\": \"#E5ECF6\", \"gridcolor\": \"white\", \"gridwidth\": 2, \"linecolor\": \"white\", \"showbackground\": true, \"ticks\": \"\", \"zerolinecolor\": \"white\"}, \"zaxis\": {\"backgroundcolor\": \"#E5ECF6\", \"gridcolor\": \"white\", \"gridwidth\": 2, \"linecolor\": \"white\", \"showbackground\": true, \"ticks\": \"\", \"zerolinecolor\": \"white\"}}, \"shapedefaults\": {\"line\": {\"color\": \"#2a3f5f\"}}, \"ternary\": {\"aaxis\": {\"gridcolor\": \"white\", \"linecolor\": \"white\", \"ticks\": \"\"}, \"baxis\": {\"gridcolor\": \"white\", \"linecolor\": \"white\", \"ticks\": \"\"}, \"bgcolor\": \"#E5ECF6\", \"caxis\": {\"gridcolor\": \"white\", \"linecolor\": \"white\", \"ticks\": \"\"}}, \"title\": {\"x\": 0.05}, \"xaxis\": {\"automargin\": true, \"gridcolor\": \"white\", \"linecolor\": \"white\", \"ticks\": \"\", \"title\": {\"standoff\": 15}, \"zerolinecolor\": \"white\", \"zerolinewidth\": 2}, \"yaxis\": {\"automargin\": true, \"gridcolor\": \"white\", \"linecolor\": \"white\", \"ticks\": \"\", \"title\": {\"standoff\": 15}, \"zerolinecolor\": \"white\", \"zerolinewidth\": 2}}}, \"title\": {\"font\": {\"color\": \"#4D5663\"}}, \"xaxis\": {\"gridcolor\": \"#E1E5ED\", \"showgrid\": true, \"tickfont\": {\"color\": \"#4D5663\"}, \"title\": {\"font\": {\"color\": \"#4D5663\"}, \"text\": \"\"}, \"zerolinecolor\": \"#E1E5ED\"}, \"yaxis\": {\"gridcolor\": \"#E1E5ED\", \"showgrid\": true, \"tickfont\": {\"color\": \"#4D5663\"}, \"title\": {\"font\": {\"color\": \"#4D5663\"}, \"text\": \"\"}, \"zerolinecolor\": \"#E1E5ED\"}},                        {\"showLink\": true, \"linkText\": \"Export to plot.ly\", \"plotlyServerURL\": \"https://plot.ly\", \"responsive\": true}                    ).then(function(){\n                            \nvar gd = document.getElementById('0d24dafc-60e4-47ff-960c-e170cf0ee94d');\nvar x = new MutationObserver(function (mutations, observer) {{\n        var display = window.getComputedStyle(gd).display;\n        if (!display || display === 'none') {{\n            console.log([gd, 'removed!']);\n            Plotly.purge(gd);\n            observer.disconnect();\n        }}\n}});\n\n// Listen for the removal of the full notebook cells\nvar notebookContainer = gd.closest('#notebook-container');\nif (notebookContainer) {{\n    x.observe(notebookContainer, {childList: true});\n}}\n\n// Listen for the clearing of the current output cell\nvar outputEl = gd.closest('.output');\nif (outputEl) {{\n    x.observe(outputEl, {childList: true});\n}}\n\n                        })                };                });            </script>        </div>"
     },
     "metadata": {}
    }
   ],
   "source": [
    "df.iplot(kind='bar',x=['Year','Month','Day'],y='total_cases')"
   ]
  },
  {
   "source": [
    "  %%HTML\n",
    "  <h1 id=\"4\">4.Which countries are affected and which are not affected in COVID-19 ?</h1>"
   ],
   "cell_type": "code",
   "metadata": {},
   "execution_count": 67,
   "outputs": [
    {
     "output_type": "display_data",
     "data": {
      "text/plain": "<IPython.core.display.HTML object>",
      "text/html": "<h1 id=\"4\">4.Which countries are affected and which are not affected in COVID-19 ?</h1>\n"
     },
     "metadata": {}
    }
   ]
  },
  {
   "cell_type": "code",
   "execution_count": 109,
   "metadata": {},
   "outputs": [],
   "source": [
    "url1='https://gist.githubusercontent.com/marijn/396531/raw/188caa065e3cd319fed7913ee3eecf5eec541918/countries.txt'\n",
    "list_of_total_countries = pd.read_csv(url1,sep='|',names=['Country_Code','Country_Name'])"
   ]
  },
  {
   "cell_type": "code",
   "execution_count": 110,
   "metadata": {},
   "outputs": [
    {
     "output_type": "execute_result",
     "data": {
      "text/plain": "    Country_Code       Country_Name\n0             AF        Afghanistan\n1             AL            Albania\n2             DZ            Algeria\n3             AS     American Samoa\n4             AD            Andorra\n..           ...                ...\n236           WF  Wallis And Futuna\n237           EH     Western Sahara\n238           YE              Yemen\n239           ZM             Zambia\n240           ZW           Zimbabwe\n\n[241 rows x 2 columns]",
      "text/html": "<div>\n<style scoped>\n    .dataframe tbody tr th:only-of-type {\n        vertical-align: middle;\n    }\n\n    .dataframe tbody tr th {\n        vertical-align: top;\n    }\n\n    .dataframe thead th {\n        text-align: right;\n    }\n</style>\n<table border=\"1\" class=\"dataframe\">\n  <thead>\n    <tr style=\"text-align: right;\">\n      <th></th>\n      <th>Country_Code</th>\n      <th>Country_Name</th>\n    </tr>\n  </thead>\n  <tbody>\n    <tr>\n      <th>0</th>\n      <td>AF</td>\n      <td>Afghanistan</td>\n    </tr>\n    <tr>\n      <th>1</th>\n      <td>AL</td>\n      <td>Albania</td>\n    </tr>\n    <tr>\n      <th>2</th>\n      <td>DZ</td>\n      <td>Algeria</td>\n    </tr>\n    <tr>\n      <th>3</th>\n      <td>AS</td>\n      <td>American Samoa</td>\n    </tr>\n    <tr>\n      <th>4</th>\n      <td>AD</td>\n      <td>Andorra</td>\n    </tr>\n    <tr>\n      <th>...</th>\n      <td>...</td>\n      <td>...</td>\n    </tr>\n    <tr>\n      <th>236</th>\n      <td>WF</td>\n      <td>Wallis And Futuna</td>\n    </tr>\n    <tr>\n      <th>237</th>\n      <td>EH</td>\n      <td>Western Sahara</td>\n    </tr>\n    <tr>\n      <th>238</th>\n      <td>YE</td>\n      <td>Yemen</td>\n    </tr>\n    <tr>\n      <th>239</th>\n      <td>ZM</td>\n      <td>Zambia</td>\n    </tr>\n    <tr>\n      <th>240</th>\n      <td>ZW</td>\n      <td>Zimbabwe</td>\n    </tr>\n  </tbody>\n</table>\n<p>241 rows × 2 columns</p>\n</div>"
     },
     "metadata": {},
     "execution_count": 110
    }
   ],
   "source": [
    "list_of_total_countries"
   ]
  },
  {
   "cell_type": "code",
   "execution_count": 111,
   "metadata": {},
   "outputs": [],
   "source": [
    "#countries affected with COVID-19\n",
    "Covid_19_countries = covid_df['location'].nunique()\n"
   ]
  },
  {
   "cell_type": "code",
   "execution_count": 112,
   "metadata": {},
   "outputs": [],
   "source": [
    "#total countries in the world\n",
    "Total_COuntries =list_of_total_countries['Country_Name'].nunique()"
   ]
  },
  {
   "cell_type": "code",
   "execution_count": 113,
   "metadata": {},
   "outputs": [
    {
     "output_type": "execute_result",
     "data": {
      "text/plain": "29"
     },
     "metadata": {},
     "execution_count": 113
    }
   ],
   "source": [
    "#number of countries not affected with covid19 are\n",
    "Total_COuntries-Covid_19_countries"
   ]
  },
  {
   "cell_type": "code",
   "execution_count": 114,
   "metadata": {},
   "outputs": [],
   "source": [
    "covid_countries = covid_df['location'].unique()"
   ]
  },
  {
   "cell_type": "code",
   "execution_count": 115,
   "metadata": {
    "tags": []
   },
   "outputs": [],
   "source": [
    "#countries not affected with corona virus\n",
    "non_covid_countries=[]\n",
    "for country in list_of_total_countries['Country_Name']:\n",
    "    if country not in covid_countries:\n",
    "        non_covid_countries.append(country)\n"
   ]
  },
  {
   "cell_type": "code",
   "execution_count": 116,
   "metadata": {},
   "outputs": [
    {
     "output_type": "execute_result",
     "data": {
      "text/plain": "array(['American Samoa', 'Antarctica', 'Antigua And Barbuda',\n       'Bosnia And Herzegovina', 'Bouvet Island',\n       'British Indian Ocean Territory', 'Brunei Darussalam',\n       'Christmas Island', 'Cocos (keeling) Islands',\n       'Congo, The Democratic Republic Of The', 'Cook Islands',\n       \"Cote D'ivoire\", 'East Timor', 'Falkland Islands (malvinas)',\n       'Faroe Islands', 'French Guiana', 'French Southern Territories',\n       'Guadeloupe', 'Guinea-bissau', 'Heard Island And Mcdonald Islands',\n       'Holy See (vatican City State)', 'Iran, Islamic Republic Of',\n       'Kazakstan', 'Kiribati', \"Korea, Democratic People's Republic Of\",\n       'Korea, Republic Of', \"Lao People's Democratic Republic\",\n       'Libyan Arab Jamahiriya', 'Macau',\n       'Macedonia, The Former Yugoslav Republic Of', 'Marshall Islands',\n       'Martinique', 'Mayotte', 'Micronesia, Federated States Of',\n       'Moldova, Republic Of', 'Nauru', 'Netherlands Antilles', 'Niue',\n       'Norfolk Island', 'Palau', 'Palestinian Territory, Occupied',\n       'Pitcairn', 'Reunion', 'Russian Federation', 'Saint Helena',\n       'Saint Kitts And Nevis', 'Saint Pierre And Miquelon',\n       'Saint Vincent And The Grenadines', 'Samoa',\n       'Sao Tome And Principe', 'Solomon Islands',\n       'South Georgia And The South Sandwich Islands',\n       'Svalbard And Jan Mayen', 'Syrian Arab Republic',\n       'Taiwan, Province Of China', 'Tanzania, United Republic Of',\n       'Tokelau', 'Tonga', 'Trinidad And Tobago', 'Turkmenistan',\n       'Turks And Caicos Islands', 'Tuvalu',\n       'United States Minor Outlying Islands', 'Vanuatu', 'Viet Nam',\n       'Virgin Islands, British', 'Virgin Islands, U.s.',\n       'Wallis And Futuna'], dtype='<U44')"
     },
     "metadata": {},
     "execution_count": 116
    }
   ],
   "source": [
    "np.array(non_covid_countries)"
   ]
  },
  {
   "source": [
    "  %%HTML\n",
    "  <h1 id=\"5\">5.What is the second wave of COVID-19 ? Which Countries are hit by second wave ?</h1>\n",
    "  <p>The second wave of pandemic is not a distinctly defined stage. It is generally taken as a stage when the disease appears to be contained in its spread before infections start shooting up from a different group of the population or in different locality.</p>"
   ],
   "cell_type": "code",
   "metadata": {},
   "execution_count": 68,
   "outputs": [
    {
     "output_type": "display_data",
     "data": {
      "text/plain": "<IPython.core.display.HTML object>",
      "text/html": "<h1 id=\"5\">5.What is the second wave of COVID-19 ? Which Countries are hit by second wave ?</h1>\n<p>The second wave of pandemic is not a distinctly defined stage. It is generally taken as a stage when the disease appears to be contained in its spread before infections start shooting up from a different group of the population or in different locality.</p>\n"
     },
     "metadata": {}
    }
   ]
  },
  {
   "cell_type": "code",
   "execution_count": 263,
   "metadata": {},
   "outputs": [
    {
     "output_type": "display_data",
     "data": {
      "application/vnd.plotly.v1+json": {
       "config": {
        "linkText": "Export to plot.ly",
        "plotlyServerURL": "https://plot.ly",
        "showLink": true
       },
       "data": [
        {
         "marker": {
          "color": "rgba(255, 153, 51, 0.6)",
          "line": {
           "color": "rgba(255, 153, 51, 1.0)",
           "width": 1
          }
         },
         "name": "new_cases",
         "orientation": "v",
         "text": "",
         "type": "bar",
         "x": [
          "(2019,12,31)",
          "(2020,1,1)",
          "(2020,1,2)",
          "(2020,1,3)",
          "(2020,1,4)",
          "(2020,1,5)",
          "(2020,1,6)",
          "(2020,1,7)",
          "(2020,1,8)",
          "(2020,1,9)",
          "(2020,1,10)",
          "(2020,1,11)",
          "(2020,1,12)",
          "(2020,1,13)",
          "(2020,1,14)",
          "(2020,1,15)",
          "(2020,1,16)",
          "(2020,1,17)",
          "(2020,1,18)",
          "(2020,1,19)",
          "(2020,1,20)",
          "(2020,1,21)",
          "(2020,1,22)",
          "(2020,1,23)",
          "(2020,1,24)",
          "(2020,1,25)",
          "(2020,1,26)",
          "(2020,1,27)",
          "(2020,1,28)",
          "(2020,1,29)",
          "(2020,1,30)",
          "(2020,1,31)",
          "(2020,2,1)",
          "(2020,2,2)",
          "(2020,2,3)",
          "(2020,2,4)",
          "(2020,2,5)",
          "(2020,2,6)",
          "(2020,2,7)",
          "(2020,2,8)",
          "(2020,2,9)",
          "(2020,2,10)",
          "(2020,2,11)",
          "(2020,2,12)",
          "(2020,2,13)",
          "(2020,2,14)",
          "(2020,2,15)",
          "(2020,2,16)",
          "(2020,2,17)",
          "(2020,2,18)",
          "(2020,2,19)",
          "(2020,2,20)",
          "(2020,2,21)",
          "(2020,2,22)",
          "(2020,2,23)",
          "(2020,2,24)",
          "(2020,2,25)",
          "(2020,2,26)",
          "(2020,2,27)",
          "(2020,2,28)",
          "(2020,2,29)",
          "(2020,3,1)",
          "(2020,3,2)",
          "(2020,3,3)",
          "(2020,3,4)",
          "(2020,3,5)",
          "(2020,3,6)",
          "(2020,3,7)",
          "(2020,3,8)",
          "(2020,3,9)",
          "(2020,3,10)",
          "(2020,3,11)",
          "(2020,3,12)",
          "(2020,3,13)",
          "(2020,3,14)",
          "(2020,3,15)",
          "(2020,3,16)",
          "(2020,3,17)",
          "(2020,3,18)",
          "(2020,3,19)",
          "(2020,3,20)",
          "(2020,3,21)",
          "(2020,3,22)",
          "(2020,3,23)",
          "(2020,3,24)",
          "(2020,3,25)",
          "(2020,3,26)",
          "(2020,3,27)",
          "(2020,3,28)",
          "(2020,3,29)",
          "(2020,3,30)",
          "(2020,3,31)",
          "(2020,4,1)",
          "(2020,4,2)",
          "(2020,4,3)",
          "(2020,4,4)",
          "(2020,4,5)",
          "(2020,4,6)",
          "(2020,4,7)",
          "(2020,4,8)",
          "(2020,4,9)",
          "(2020,4,10)",
          "(2020,4,11)",
          "(2020,4,12)",
          "(2020,4,13)",
          "(2020,4,14)",
          "(2020,4,15)",
          "(2020,4,16)",
          "(2020,4,17)",
          "(2020,4,18)",
          "(2020,4,19)",
          "(2020,4,20)",
          "(2020,4,21)",
          "(2020,4,22)",
          "(2020,4,23)",
          "(2020,4,24)",
          "(2020,4,25)",
          "(2020,4,26)",
          "(2020,4,27)",
          "(2020,4,28)",
          "(2020,4,29)",
          "(2020,4,30)",
          "(2020,5,1)",
          "(2020,5,2)",
          "(2020,5,3)",
          "(2020,5,4)",
          "(2020,5,5)",
          "(2020,5,6)",
          "(2020,5,7)",
          "(2020,5,8)",
          "(2020,5,9)",
          "(2020,5,10)",
          "(2020,5,11)",
          "(2020,5,12)",
          "(2020,5,13)",
          "(2020,5,14)",
          "(2020,5,15)",
          "(2020,5,16)",
          "(2020,5,17)",
          "(2020,5,18)",
          "(2020,5,19)",
          "(2020,5,20)",
          "(2020,5,21)",
          "(2020,5,22)",
          "(2020,5,23)",
          "(2020,5,24)",
          "(2020,5,25)",
          "(2020,5,26)",
          "(2020,5,27)",
          "(2020,5,28)",
          "(2020,5,29)",
          "(2020,5,30)",
          "(2020,5,31)",
          "(2020,6,1)",
          "(2020,6,2)",
          "(2020,6,3)",
          "(2020,6,4)",
          "(2020,6,5)",
          "(2020,6,6)",
          "(2020,6,7)",
          "(2020,6,8)",
          "(2020,6,9)",
          "(2020,6,10)",
          "(2020,6,11)",
          "(2020,6,12)",
          "(2020,6,13)",
          "(2020,6,14)",
          "(2020,6,15)",
          "(2020,6,16)",
          "(2020,6,17)",
          "(2020,6,18)",
          "(2020,6,19)",
          "(2020,6,20)",
          "(2020,6,21)",
          "(2020,6,22)",
          "(2020,6,23)",
          "(2020,6,24)",
          "(2020,6,25)",
          "(2020,6,26)",
          "(2020,6,27)",
          "(2020,6,28)",
          "(2020,6,29)",
          "(2020,6,30)",
          "(2020,7,1)",
          "(2020,7,2)",
          "(2020,7,3)",
          "(2020,7,4)",
          "(2020,7,5)",
          "(2020,7,6)",
          "(2020,7,7)",
          "(2020,7,8)",
          "(2020,7,9)",
          "(2020,7,10)",
          "(2020,7,11)",
          "(2020,7,12)",
          "(2020,7,13)",
          "(2020,7,14)",
          "(2020,7,15)",
          "(2020,7,16)",
          "(2020,7,17)",
          "(2020,7,18)",
          "(2020,7,19)",
          "(2020,7,20)",
          "(2020,7,21)",
          "(2020,7,22)",
          "(2020,7,23)",
          "(2020,7,24)",
          "(2020,7,25)",
          "(2020,7,26)",
          "(2020,7,27)",
          "(2020,7,28)",
          "(2020,7,29)",
          "(2020,7,30)",
          "(2020,7,31)",
          "(2020,8,1)",
          "(2020,8,2)",
          "(2020,8,3)",
          "(2020,8,4)",
          "(2020,8,5)",
          "(2020,8,6)",
          "(2020,8,7)",
          "(2020,8,8)",
          "(2020,8,9)",
          "(2020,8,10)",
          "(2020,8,11)",
          "(2020,8,12)",
          "(2020,8,13)",
          "(2020,8,14)",
          "(2020,8,15)",
          "(2020,8,16)",
          "(2020,8,17)",
          "(2020,8,18)",
          "(2020,8,19)",
          "(2020,8,20)",
          "(2020,8,21)",
          "(2020,8,22)",
          "(2020,8,23)",
          "(2020,8,24)",
          "(2020,8,25)",
          "(2020,8,26)",
          "(2020,8,27)",
          "(2020,8,28)",
          "(2020,8,29)",
          "(2020,8,30)",
          "(2020,8,31)",
          "(2020,9,1)",
          "(2020,9,2)",
          "(2020,9,3)",
          "(2020,9,4)",
          "(2020,9,5)",
          "(2020,9,6)",
          "(2020,9,7)",
          "(2020,9,8)",
          "(2020,9,9)",
          "(2020,9,10)",
          "(2020,9,11)",
          "(2020,9,12)",
          "(2020,9,13)",
          "(2020,9,14)",
          "(2020,9,15)",
          "(2020,9,16)",
          "(2020,9,17)",
          "(2020,9,18)",
          "(2020,9,19)",
          "(2020,9,20)",
          "(2020,9,21)",
          "(2020,9,22)",
          "(2020,9,23)"
         ],
         "y": [
          0,
          0,
          0,
          0,
          0,
          0,
          0,
          0,
          0,
          0,
          0,
          0,
          0,
          0,
          0,
          0,
          0,
          0,
          0,
          0,
          0,
          0,
          0,
          0,
          0,
          0,
          0,
          0,
          0,
          0,
          0,
          0,
          2,
          0,
          0,
          0,
          1,
          0,
          1,
          0,
          0,
          4,
          1,
          0,
          1,
          0,
          0,
          0,
          0,
          0,
          0,
          0,
          0,
          0,
          1,
          0,
          0,
          2,
          5,
          4,
          8,
          12,
          5,
          22,
          40,
          55,
          56,
          51,
          81,
          60,
          57,
          148,
          259,
          406,
          484,
          478,
          361,
          442,
          611,
          769,
          999,
          1055,
          1255,
          1198,
          1378,
          2338,
          2375,
          2692,
          3087,
          3197,
          2822,
          2858,
          4273,
          4514,
          4913,
          4868,
          4911,
          4020,
          3592,
          5282,
          5450,
          5131,
          4858,
          4313,
          3579,
          3489,
          4178,
          4326,
          5065,
          5292,
          4956,
          4721,
          3853,
          4854,
          4760,
          5487,
          5158,
          4970,
          3748,
          3473,
          4706,
          4729,
          5442,
          4966,
          4737,
          3229,
          2982,
          3389,
          3682,
          3827,
          3767,
          3063,
          2157,
          2329,
          3586,
          3402,
          3307,
          2628,
          2526,
          2079,
          1838,
          2589,
          3052,
          2718,
          2574,
          2062,
          1527,
          1364,
          1624,
          1672,
          1835,
          1760,
          1527,
          1125,
          1079,
          1441,
          1484,
          1356,
          1243,
          1120,
          801,
          721,
          1099,
          1158,
          1199,
          1017,
          1052,
          890,
          822,
          1043,
          1102,
          1013,
          1027,
          986,
          687,
          639,
          896,
          886,
          778,
          721,
          671,
          649,
          446,
          730,
          617,
          651,
          602,
          579,
          401,
          555,
          704,
          597,
          693,
          715,
          565,
          442,
          361,
          726,
          685,
          772,
          704,
          569,
          493,
          413,
          793,
          751,
          773,
          731,
          667,
          421,
          371,
          70,
          763,
          846,
          880,
          771,
          743,
          928,
          670,
          891,
          950,
          871,
          758,
          1062,
          816,
          1148,
          1009,
          1129,
          1440,
          1077,
          1040,
          713,
          1089,
          812,
          1182,
          1033,
          1288,
          1041,
          972,
          1184,
          1048,
          1522,
          1276,
          1108,
          1715,
          1406,
          1295,
          1508,
          1735,
          1940,
          1813,
          2988,
          2948,
          2460,
          2659,
          2919,
          3539,
          3497,
          3330,
          2621,
          3103,
          3991,
          3395,
          4322,
          4422,
          3899,
          4368,
          4926
         ]
        }
       ],
       "layout": {
        "legend": {
         "bgcolor": "#F5F6F9",
         "font": {
          "color": "#4D5663"
         }
        },
        "paper_bgcolor": "#F5F6F9",
        "plot_bgcolor": "#F5F6F9",
        "template": {
         "data": {
          "bar": [
           {
            "error_x": {
             "color": "#2a3f5f"
            },
            "error_y": {
             "color": "#2a3f5f"
            },
            "marker": {
             "line": {
              "color": "#E5ECF6",
              "width": 0.5
             }
            },
            "type": "bar"
           }
          ],
          "barpolar": [
           {
            "marker": {
             "line": {
              "color": "#E5ECF6",
              "width": 0.5
             }
            },
            "type": "barpolar"
           }
          ],
          "carpet": [
           {
            "aaxis": {
             "endlinecolor": "#2a3f5f",
             "gridcolor": "white",
             "linecolor": "white",
             "minorgridcolor": "white",
             "startlinecolor": "#2a3f5f"
            },
            "baxis": {
             "endlinecolor": "#2a3f5f",
             "gridcolor": "white",
             "linecolor": "white",
             "minorgridcolor": "white",
             "startlinecolor": "#2a3f5f"
            },
            "type": "carpet"
           }
          ],
          "choropleth": [
           {
            "colorbar": {
             "outlinewidth": 0,
             "ticks": ""
            },
            "type": "choropleth"
           }
          ],
          "contour": [
           {
            "colorbar": {
             "outlinewidth": 0,
             "ticks": ""
            },
            "colorscale": [
             [
              0,
              "#0d0887"
             ],
             [
              0.1111111111111111,
              "#46039f"
             ],
             [
              0.2222222222222222,
              "#7201a8"
             ],
             [
              0.3333333333333333,
              "#9c179e"
             ],
             [
              0.4444444444444444,
              "#bd3786"
             ],
             [
              0.5555555555555556,
              "#d8576b"
             ],
             [
              0.6666666666666666,
              "#ed7953"
             ],
             [
              0.7777777777777778,
              "#fb9f3a"
             ],
             [
              0.8888888888888888,
              "#fdca26"
             ],
             [
              1,
              "#f0f921"
             ]
            ],
            "type": "contour"
           }
          ],
          "contourcarpet": [
           {
            "colorbar": {
             "outlinewidth": 0,
             "ticks": ""
            },
            "type": "contourcarpet"
           }
          ],
          "heatmap": [
           {
            "colorbar": {
             "outlinewidth": 0,
             "ticks": ""
            },
            "colorscale": [
             [
              0,
              "#0d0887"
             ],
             [
              0.1111111111111111,
              "#46039f"
             ],
             [
              0.2222222222222222,
              "#7201a8"
             ],
             [
              0.3333333333333333,
              "#9c179e"
             ],
             [
              0.4444444444444444,
              "#bd3786"
             ],
             [
              0.5555555555555556,
              "#d8576b"
             ],
             [
              0.6666666666666666,
              "#ed7953"
             ],
             [
              0.7777777777777778,
              "#fb9f3a"
             ],
             [
              0.8888888888888888,
              "#fdca26"
             ],
             [
              1,
              "#f0f921"
             ]
            ],
            "type": "heatmap"
           }
          ],
          "heatmapgl": [
           {
            "colorbar": {
             "outlinewidth": 0,
             "ticks": ""
            },
            "colorscale": [
             [
              0,
              "#0d0887"
             ],
             [
              0.1111111111111111,
              "#46039f"
             ],
             [
              0.2222222222222222,
              "#7201a8"
             ],
             [
              0.3333333333333333,
              "#9c179e"
             ],
             [
              0.4444444444444444,
              "#bd3786"
             ],
             [
              0.5555555555555556,
              "#d8576b"
             ],
             [
              0.6666666666666666,
              "#ed7953"
             ],
             [
              0.7777777777777778,
              "#fb9f3a"
             ],
             [
              0.8888888888888888,
              "#fdca26"
             ],
             [
              1,
              "#f0f921"
             ]
            ],
            "type": "heatmapgl"
           }
          ],
          "histogram": [
           {
            "marker": {
             "colorbar": {
              "outlinewidth": 0,
              "ticks": ""
             }
            },
            "type": "histogram"
           }
          ],
          "histogram2d": [
           {
            "colorbar": {
             "outlinewidth": 0,
             "ticks": ""
            },
            "colorscale": [
             [
              0,
              "#0d0887"
             ],
             [
              0.1111111111111111,
              "#46039f"
             ],
             [
              0.2222222222222222,
              "#7201a8"
             ],
             [
              0.3333333333333333,
              "#9c179e"
             ],
             [
              0.4444444444444444,
              "#bd3786"
             ],
             [
              0.5555555555555556,
              "#d8576b"
             ],
             [
              0.6666666666666666,
              "#ed7953"
             ],
             [
              0.7777777777777778,
              "#fb9f3a"
             ],
             [
              0.8888888888888888,
              "#fdca26"
             ],
             [
              1,
              "#f0f921"
             ]
            ],
            "type": "histogram2d"
           }
          ],
          "histogram2dcontour": [
           {
            "colorbar": {
             "outlinewidth": 0,
             "ticks": ""
            },
            "colorscale": [
             [
              0,
              "#0d0887"
             ],
             [
              0.1111111111111111,
              "#46039f"
             ],
             [
              0.2222222222222222,
              "#7201a8"
             ],
             [
              0.3333333333333333,
              "#9c179e"
             ],
             [
              0.4444444444444444,
              "#bd3786"
             ],
             [
              0.5555555555555556,
              "#d8576b"
             ],
             [
              0.6666666666666666,
              "#ed7953"
             ],
             [
              0.7777777777777778,
              "#fb9f3a"
             ],
             [
              0.8888888888888888,
              "#fdca26"
             ],
             [
              1,
              "#f0f921"
             ]
            ],
            "type": "histogram2dcontour"
           }
          ],
          "mesh3d": [
           {
            "colorbar": {
             "outlinewidth": 0,
             "ticks": ""
            },
            "type": "mesh3d"
           }
          ],
          "parcoords": [
           {
            "line": {
             "colorbar": {
              "outlinewidth": 0,
              "ticks": ""
             }
            },
            "type": "parcoords"
           }
          ],
          "pie": [
           {
            "automargin": true,
            "type": "pie"
           }
          ],
          "scatter": [
           {
            "marker": {
             "colorbar": {
              "outlinewidth": 0,
              "ticks": ""
             }
            },
            "type": "scatter"
           }
          ],
          "scatter3d": [
           {
            "line": {
             "colorbar": {
              "outlinewidth": 0,
              "ticks": ""
             }
            },
            "marker": {
             "colorbar": {
              "outlinewidth": 0,
              "ticks": ""
             }
            },
            "type": "scatter3d"
           }
          ],
          "scattercarpet": [
           {
            "marker": {
             "colorbar": {
              "outlinewidth": 0,
              "ticks": ""
             }
            },
            "type": "scattercarpet"
           }
          ],
          "scattergeo": [
           {
            "marker": {
             "colorbar": {
              "outlinewidth": 0,
              "ticks": ""
             }
            },
            "type": "scattergeo"
           }
          ],
          "scattergl": [
           {
            "marker": {
             "colorbar": {
              "outlinewidth": 0,
              "ticks": ""
             }
            },
            "type": "scattergl"
           }
          ],
          "scattermapbox": [
           {
            "marker": {
             "colorbar": {
              "outlinewidth": 0,
              "ticks": ""
             }
            },
            "type": "scattermapbox"
           }
          ],
          "scatterpolar": [
           {
            "marker": {
             "colorbar": {
              "outlinewidth": 0,
              "ticks": ""
             }
            },
            "type": "scatterpolar"
           }
          ],
          "scatterpolargl": [
           {
            "marker": {
             "colorbar": {
              "outlinewidth": 0,
              "ticks": ""
             }
            },
            "type": "scatterpolargl"
           }
          ],
          "scatterternary": [
           {
            "marker": {
             "colorbar": {
              "outlinewidth": 0,
              "ticks": ""
             }
            },
            "type": "scatterternary"
           }
          ],
          "surface": [
           {
            "colorbar": {
             "outlinewidth": 0,
             "ticks": ""
            },
            "colorscale": [
             [
              0,
              "#0d0887"
             ],
             [
              0.1111111111111111,
              "#46039f"
             ],
             [
              0.2222222222222222,
              "#7201a8"
             ],
             [
              0.3333333333333333,
              "#9c179e"
             ],
             [
              0.4444444444444444,
              "#bd3786"
             ],
             [
              0.5555555555555556,
              "#d8576b"
             ],
             [
              0.6666666666666666,
              "#ed7953"
             ],
             [
              0.7777777777777778,
              "#fb9f3a"
             ],
             [
              0.8888888888888888,
              "#fdca26"
             ],
             [
              1,
              "#f0f921"
             ]
            ],
            "type": "surface"
           }
          ],
          "table": [
           {
            "cells": {
             "fill": {
              "color": "#EBF0F8"
             },
             "line": {
              "color": "white"
             }
            },
            "header": {
             "fill": {
              "color": "#C8D4E3"
             },
             "line": {
              "color": "white"
             }
            },
            "type": "table"
           }
          ]
         },
         "layout": {
          "annotationdefaults": {
           "arrowcolor": "#2a3f5f",
           "arrowhead": 0,
           "arrowwidth": 1
          },
          "coloraxis": {
           "colorbar": {
            "outlinewidth": 0,
            "ticks": ""
           }
          },
          "colorscale": {
           "diverging": [
            [
             0,
             "#8e0152"
            ],
            [
             0.1,
             "#c51b7d"
            ],
            [
             0.2,
             "#de77ae"
            ],
            [
             0.3,
             "#f1b6da"
            ],
            [
             0.4,
             "#fde0ef"
            ],
            [
             0.5,
             "#f7f7f7"
            ],
            [
             0.6,
             "#e6f5d0"
            ],
            [
             0.7,
             "#b8e186"
            ],
            [
             0.8,
             "#7fbc41"
            ],
            [
             0.9,
             "#4d9221"
            ],
            [
             1,
             "#276419"
            ]
           ],
           "sequential": [
            [
             0,
             "#0d0887"
            ],
            [
             0.1111111111111111,
             "#46039f"
            ],
            [
             0.2222222222222222,
             "#7201a8"
            ],
            [
             0.3333333333333333,
             "#9c179e"
            ],
            [
             0.4444444444444444,
             "#bd3786"
            ],
            [
             0.5555555555555556,
             "#d8576b"
            ],
            [
             0.6666666666666666,
             "#ed7953"
            ],
            [
             0.7777777777777778,
             "#fb9f3a"
            ],
            [
             0.8888888888888888,
             "#fdca26"
            ],
            [
             1,
             "#f0f921"
            ]
           ],
           "sequentialminus": [
            [
             0,
             "#0d0887"
            ],
            [
             0.1111111111111111,
             "#46039f"
            ],
            [
             0.2222222222222222,
             "#7201a8"
            ],
            [
             0.3333333333333333,
             "#9c179e"
            ],
            [
             0.4444444444444444,
             "#bd3786"
            ],
            [
             0.5555555555555556,
             "#d8576b"
            ],
            [
             0.6666666666666666,
             "#ed7953"
            ],
            [
             0.7777777777777778,
             "#fb9f3a"
            ],
            [
             0.8888888888888888,
             "#fdca26"
            ],
            [
             1,
             "#f0f921"
            ]
           ]
          },
          "colorway": [
           "#636efa",
           "#EF553B",
           "#00cc96",
           "#ab63fa",
           "#FFA15A",
           "#19d3f3",
           "#FF6692",
           "#B6E880",
           "#FF97FF",
           "#FECB52"
          ],
          "font": {
           "color": "#2a3f5f"
          },
          "geo": {
           "bgcolor": "white",
           "lakecolor": "white",
           "landcolor": "#E5ECF6",
           "showlakes": true,
           "showland": true,
           "subunitcolor": "white"
          },
          "hoverlabel": {
           "align": "left"
          },
          "hovermode": "closest",
          "mapbox": {
           "style": "light"
          },
          "paper_bgcolor": "white",
          "plot_bgcolor": "#E5ECF6",
          "polar": {
           "angularaxis": {
            "gridcolor": "white",
            "linecolor": "white",
            "ticks": ""
           },
           "bgcolor": "#E5ECF6",
           "radialaxis": {
            "gridcolor": "white",
            "linecolor": "white",
            "ticks": ""
           }
          },
          "scene": {
           "xaxis": {
            "backgroundcolor": "#E5ECF6",
            "gridcolor": "white",
            "gridwidth": 2,
            "linecolor": "white",
            "showbackground": true,
            "ticks": "",
            "zerolinecolor": "white"
           },
           "yaxis": {
            "backgroundcolor": "#E5ECF6",
            "gridcolor": "white",
            "gridwidth": 2,
            "linecolor": "white",
            "showbackground": true,
            "ticks": "",
            "zerolinecolor": "white"
           },
           "zaxis": {
            "backgroundcolor": "#E5ECF6",
            "gridcolor": "white",
            "gridwidth": 2,
            "linecolor": "white",
            "showbackground": true,
            "ticks": "",
            "zerolinecolor": "white"
           }
          },
          "shapedefaults": {
           "line": {
            "color": "#2a3f5f"
           }
          },
          "ternary": {
           "aaxis": {
            "gridcolor": "white",
            "linecolor": "white",
            "ticks": ""
           },
           "baxis": {
            "gridcolor": "white",
            "linecolor": "white",
            "ticks": ""
           },
           "bgcolor": "#E5ECF6",
           "caxis": {
            "gridcolor": "white",
            "linecolor": "white",
            "ticks": ""
           }
          },
          "title": {
           "x": 0.05
          },
          "xaxis": {
           "automargin": true,
           "gridcolor": "white",
           "linecolor": "white",
           "ticks": "",
           "title": {
            "standoff": 15
           },
           "zerolinecolor": "white",
           "zerolinewidth": 2
          },
          "yaxis": {
           "automargin": true,
           "gridcolor": "white",
           "linecolor": "white",
           "ticks": "",
           "title": {
            "standoff": 15
           },
           "zerolinecolor": "white",
           "zerolinewidth": 2
          }
         }
        },
        "title": {
         "font": {
          "color": "#4D5663"
         }
        },
        "xaxis": {
         "gridcolor": "#E1E5ED",
         "showgrid": true,
         "tickfont": {
          "color": "#4D5663"
         },
         "title": {
          "font": {
           "color": "#4D5663"
          },
          "text": ""
         },
         "zerolinecolor": "#E1E5ED"
        },
        "yaxis": {
         "gridcolor": "#E1E5ED",
         "showgrid": true,
         "tickfont": {
          "color": "#4D5663"
         },
         "title": {
          "font": {
           "color": "#4D5663"
          },
          "text": ""
         },
         "zerolinecolor": "#E1E5ED"
        }
       }
      },
      "text/html": "<div>                            <div id=\"600e3e85-6d94-4519-b504-215addde61c1\" class=\"plotly-graph-div\" style=\"height:525px; width:100%;\"></div>            <script type=\"text/javascript\">                require([\"plotly\"], function(Plotly) {                    window.PLOTLYENV=window.PLOTLYENV || {};\n                    window.PLOTLYENV.BASE_URL='https://plot.ly';                                    if (document.getElementById(\"600e3e85-6d94-4519-b504-215addde61c1\")) {                    Plotly.newPlot(                        \"600e3e85-6d94-4519-b504-215addde61c1\",                        [{\"marker\": {\"color\": \"rgba(255, 153, 51, 0.6)\", \"line\": {\"color\": \"rgba(255, 153, 51, 1.0)\", \"width\": 1}}, \"name\": \"new_cases\", \"orientation\": \"v\", \"text\": \"\", \"type\": \"bar\", \"x\": [\"(2019,12,31)\", \"(2020,1,1)\", \"(2020,1,2)\", \"(2020,1,3)\", \"(2020,1,4)\", \"(2020,1,5)\", \"(2020,1,6)\", \"(2020,1,7)\", \"(2020,1,8)\", \"(2020,1,9)\", \"(2020,1,10)\", \"(2020,1,11)\", \"(2020,1,12)\", \"(2020,1,13)\", \"(2020,1,14)\", \"(2020,1,15)\", \"(2020,1,16)\", \"(2020,1,17)\", \"(2020,1,18)\", \"(2020,1,19)\", \"(2020,1,20)\", \"(2020,1,21)\", \"(2020,1,22)\", \"(2020,1,23)\", \"(2020,1,24)\", \"(2020,1,25)\", \"(2020,1,26)\", \"(2020,1,27)\", \"(2020,1,28)\", \"(2020,1,29)\", \"(2020,1,30)\", \"(2020,1,31)\", \"(2020,2,1)\", \"(2020,2,2)\", \"(2020,2,3)\", \"(2020,2,4)\", \"(2020,2,5)\", \"(2020,2,6)\", \"(2020,2,7)\", \"(2020,2,8)\", \"(2020,2,9)\", \"(2020,2,10)\", \"(2020,2,11)\", \"(2020,2,12)\", \"(2020,2,13)\", \"(2020,2,14)\", \"(2020,2,15)\", \"(2020,2,16)\", \"(2020,2,17)\", \"(2020,2,18)\", \"(2020,2,19)\", \"(2020,2,20)\", \"(2020,2,21)\", \"(2020,2,22)\", \"(2020,2,23)\", \"(2020,2,24)\", \"(2020,2,25)\", \"(2020,2,26)\", \"(2020,2,27)\", \"(2020,2,28)\", \"(2020,2,29)\", \"(2020,3,1)\", \"(2020,3,2)\", \"(2020,3,3)\", \"(2020,3,4)\", \"(2020,3,5)\", \"(2020,3,6)\", \"(2020,3,7)\", \"(2020,3,8)\", \"(2020,3,9)\", \"(2020,3,10)\", \"(2020,3,11)\", \"(2020,3,12)\", \"(2020,3,13)\", \"(2020,3,14)\", \"(2020,3,15)\", \"(2020,3,16)\", \"(2020,3,17)\", \"(2020,3,18)\", \"(2020,3,19)\", \"(2020,3,20)\", \"(2020,3,21)\", \"(2020,3,22)\", \"(2020,3,23)\", \"(2020,3,24)\", \"(2020,3,25)\", \"(2020,3,26)\", \"(2020,3,27)\", \"(2020,3,28)\", \"(2020,3,29)\", \"(2020,3,30)\", \"(2020,3,31)\", \"(2020,4,1)\", \"(2020,4,2)\", \"(2020,4,3)\", \"(2020,4,4)\", \"(2020,4,5)\", \"(2020,4,6)\", \"(2020,4,7)\", \"(2020,4,8)\", \"(2020,4,9)\", \"(2020,4,10)\", \"(2020,4,11)\", \"(2020,4,12)\", \"(2020,4,13)\", \"(2020,4,14)\", \"(2020,4,15)\", \"(2020,4,16)\", \"(2020,4,17)\", \"(2020,4,18)\", \"(2020,4,19)\", \"(2020,4,20)\", \"(2020,4,21)\", \"(2020,4,22)\", \"(2020,4,23)\", \"(2020,4,24)\", \"(2020,4,25)\", \"(2020,4,26)\", \"(2020,4,27)\", \"(2020,4,28)\", \"(2020,4,29)\", \"(2020,4,30)\", \"(2020,5,1)\", \"(2020,5,2)\", \"(2020,5,3)\", \"(2020,5,4)\", \"(2020,5,5)\", \"(2020,5,6)\", \"(2020,5,7)\", \"(2020,5,8)\", \"(2020,5,9)\", \"(2020,5,10)\", \"(2020,5,11)\", \"(2020,5,12)\", \"(2020,5,13)\", \"(2020,5,14)\", \"(2020,5,15)\", \"(2020,5,16)\", \"(2020,5,17)\", \"(2020,5,18)\", \"(2020,5,19)\", \"(2020,5,20)\", \"(2020,5,21)\", \"(2020,5,22)\", \"(2020,5,23)\", \"(2020,5,24)\", \"(2020,5,25)\", \"(2020,5,26)\", \"(2020,5,27)\", \"(2020,5,28)\", \"(2020,5,29)\", \"(2020,5,30)\", \"(2020,5,31)\", \"(2020,6,1)\", \"(2020,6,2)\", \"(2020,6,3)\", \"(2020,6,4)\", \"(2020,6,5)\", \"(2020,6,6)\", \"(2020,6,7)\", \"(2020,6,8)\", \"(2020,6,9)\", \"(2020,6,10)\", \"(2020,6,11)\", \"(2020,6,12)\", \"(2020,6,13)\", \"(2020,6,14)\", \"(2020,6,15)\", \"(2020,6,16)\", \"(2020,6,17)\", \"(2020,6,18)\", \"(2020,6,19)\", \"(2020,6,20)\", \"(2020,6,21)\", \"(2020,6,22)\", \"(2020,6,23)\", \"(2020,6,24)\", \"(2020,6,25)\", \"(2020,6,26)\", \"(2020,6,27)\", \"(2020,6,28)\", \"(2020,6,29)\", \"(2020,6,30)\", \"(2020,7,1)\", \"(2020,7,2)\", \"(2020,7,3)\", \"(2020,7,4)\", \"(2020,7,5)\", \"(2020,7,6)\", \"(2020,7,7)\", \"(2020,7,8)\", \"(2020,7,9)\", \"(2020,7,10)\", \"(2020,7,11)\", \"(2020,7,12)\", \"(2020,7,13)\", \"(2020,7,14)\", \"(2020,7,15)\", \"(2020,7,16)\", \"(2020,7,17)\", \"(2020,7,18)\", \"(2020,7,19)\", \"(2020,7,20)\", \"(2020,7,21)\", \"(2020,7,22)\", \"(2020,7,23)\", \"(2020,7,24)\", \"(2020,7,25)\", \"(2020,7,26)\", \"(2020,7,27)\", \"(2020,7,28)\", \"(2020,7,29)\", \"(2020,7,30)\", \"(2020,7,31)\", \"(2020,8,1)\", \"(2020,8,2)\", \"(2020,8,3)\", \"(2020,8,4)\", \"(2020,8,5)\", \"(2020,8,6)\", \"(2020,8,7)\", \"(2020,8,8)\", \"(2020,8,9)\", \"(2020,8,10)\", \"(2020,8,11)\", \"(2020,8,12)\", \"(2020,8,13)\", \"(2020,8,14)\", \"(2020,8,15)\", \"(2020,8,16)\", \"(2020,8,17)\", \"(2020,8,18)\", \"(2020,8,19)\", \"(2020,8,20)\", \"(2020,8,21)\", \"(2020,8,22)\", \"(2020,8,23)\", \"(2020,8,24)\", \"(2020,8,25)\", \"(2020,8,26)\", \"(2020,8,27)\", \"(2020,8,28)\", \"(2020,8,29)\", \"(2020,8,30)\", \"(2020,8,31)\", \"(2020,9,1)\", \"(2020,9,2)\", \"(2020,9,3)\", \"(2020,9,4)\", \"(2020,9,5)\", \"(2020,9,6)\", \"(2020,9,7)\", \"(2020,9,8)\", \"(2020,9,9)\", \"(2020,9,10)\", \"(2020,9,11)\", \"(2020,9,12)\", \"(2020,9,13)\", \"(2020,9,14)\", \"(2020,9,15)\", \"(2020,9,16)\", \"(2020,9,17)\", \"(2020,9,18)\", \"(2020,9,19)\", \"(2020,9,20)\", \"(2020,9,21)\", \"(2020,9,22)\", \"(2020,9,23)\"], \"y\": [0.0, 0.0, 0.0, 0.0, 0.0, 0.0, 0.0, 0.0, 0.0, 0.0, 0.0, 0.0, 0.0, 0.0, 0.0, 0.0, 0.0, 0.0, 0.0, 0.0, 0.0, 0.0, 0.0, 0.0, 0.0, 0.0, 0.0, 0.0, 0.0, 0.0, 0.0, 0.0, 2.0, 0.0, 0.0, 0.0, 1.0, 0.0, 1.0, 0.0, 0.0, 4.0, 1.0, 0.0, 1.0, 0.0, 0.0, 0.0, 0.0, 0.0, 0.0, 0.0, 0.0, 0.0, 1.0, 0.0, 0.0, 2.0, 5.0, 4.0, 8.0, 12.0, 5.0, 22.0, 40.0, 55.0, 56.0, 51.0, 81.0, 60.0, 57.0, 148.0, 259.0, 406.0, 484.0, 478.0, 361.0, 442.0, 611.0, 769.0, 999.0, 1055.0, 1255.0, 1198.0, 1378.0, 2338.0, 2375.0, 2692.0, 3087.0, 3197.0, 2822.0, 2858.0, 4273.0, 4514.0, 4913.0, 4868.0, 4911.0, 4020.0, 3592.0, 5282.0, 5450.0, 5131.0, 4858.0, 4313.0, 3579.0, 3489.0, 4178.0, 4326.0, 5065.0, 5292.0, 4956.0, 4721.0, 3853.0, 4854.0, 4760.0, 5487.0, 5158.0, 4970.0, 3748.0, 3473.0, 4706.0, 4729.0, 5442.0, 4966.0, 4737.0, 3229.0, 2982.0, 3389.0, 3682.0, 3827.0, 3767.0, 3063.0, 2157.0, 2329.0, 3586.0, 3402.0, 3307.0, 2628.0, 2526.0, 2079.0, 1838.0, 2589.0, 3052.0, 2718.0, 2574.0, 2062.0, 1527.0, 1364.0, 1624.0, 1672.0, 1835.0, 1760.0, 1527.0, 1125.0, 1079.0, 1441.0, 1484.0, 1356.0, 1243.0, 1120.0, 801.0, 721.0, 1099.0, 1158.0, 1199.0, 1017.0, 1052.0, 890.0, 822.0, 1043.0, 1102.0, 1013.0, 1027.0, 986.0, 687.0, 639.0, 896.0, 886.0, 778.0, 721.0, 671.0, 649.0, 446.0, 730.0, 617.0, 651.0, 602.0, 579.0, 401.0, 555.0, 704.0, 597.0, 693.0, 715.0, 565.0, 442.0, 361.0, 726.0, 685.0, 772.0, 704.0, 569.0, 493.0, 413.0, 793.0, 751.0, 773.0, 731.0, 667.0, 421.0, 371.0, 70.0, 763.0, 846.0, 880.0, 771.0, 743.0, 928.0, 670.0, 891.0, 950.0, 871.0, 758.0, 1062.0, 816.0, 1148.0, 1009.0, 1129.0, 1440.0, 1077.0, 1040.0, 713.0, 1089.0, 812.0, 1182.0, 1033.0, 1288.0, 1041.0, 972.0, 1184.0, 1048.0, 1522.0, 1276.0, 1108.0, 1715.0, 1406.0, 1295.0, 1508.0, 1735.0, 1940.0, 1813.0, 2988.0, 2948.0, 2460.0, 2659.0, 2919.0, 3539.0, 3497.0, 3330.0, 2621.0, 3103.0, 3991.0, 3395.0, 4322.0, 4422.0, 3899.0, 4368.0, 4926.0]}],                        {\"legend\": {\"bgcolor\": \"#F5F6F9\", \"font\": {\"color\": \"#4D5663\"}}, \"paper_bgcolor\": \"#F5F6F9\", \"plot_bgcolor\": \"#F5F6F9\", \"template\": {\"data\": {\"bar\": [{\"error_x\": {\"color\": \"#2a3f5f\"}, \"error_y\": {\"color\": \"#2a3f5f\"}, \"marker\": {\"line\": {\"color\": \"#E5ECF6\", \"width\": 0.5}}, \"type\": \"bar\"}], \"barpolar\": [{\"marker\": {\"line\": {\"color\": \"#E5ECF6\", \"width\": 0.5}}, \"type\": \"barpolar\"}], \"carpet\": [{\"aaxis\": {\"endlinecolor\": \"#2a3f5f\", \"gridcolor\": \"white\", \"linecolor\": \"white\", \"minorgridcolor\": \"white\", \"startlinecolor\": \"#2a3f5f\"}, \"baxis\": {\"endlinecolor\": \"#2a3f5f\", \"gridcolor\": \"white\", \"linecolor\": \"white\", \"minorgridcolor\": \"white\", \"startlinecolor\": \"#2a3f5f\"}, \"type\": \"carpet\"}], \"choropleth\": [{\"colorbar\": {\"outlinewidth\": 0, \"ticks\": \"\"}, \"type\": \"choropleth\"}], \"contour\": [{\"colorbar\": {\"outlinewidth\": 0, \"ticks\": \"\"}, \"colorscale\": [[0.0, \"#0d0887\"], [0.1111111111111111, \"#46039f\"], [0.2222222222222222, \"#7201a8\"], [0.3333333333333333, \"#9c179e\"], [0.4444444444444444, \"#bd3786\"], [0.5555555555555556, \"#d8576b\"], [0.6666666666666666, \"#ed7953\"], [0.7777777777777778, \"#fb9f3a\"], [0.8888888888888888, \"#fdca26\"], [1.0, \"#f0f921\"]], \"type\": \"contour\"}], \"contourcarpet\": [{\"colorbar\": {\"outlinewidth\": 0, \"ticks\": \"\"}, \"type\": \"contourcarpet\"}], \"heatmap\": [{\"colorbar\": {\"outlinewidth\": 0, \"ticks\": \"\"}, \"colorscale\": [[0.0, \"#0d0887\"], [0.1111111111111111, \"#46039f\"], [0.2222222222222222, \"#7201a8\"], [0.3333333333333333, \"#9c179e\"], [0.4444444444444444, \"#bd3786\"], [0.5555555555555556, \"#d8576b\"], [0.6666666666666666, \"#ed7953\"], [0.7777777777777778, \"#fb9f3a\"], [0.8888888888888888, \"#fdca26\"], [1.0, \"#f0f921\"]], \"type\": \"heatmap\"}], \"heatmapgl\": [{\"colorbar\": {\"outlinewidth\": 0, \"ticks\": \"\"}, \"colorscale\": [[0.0, \"#0d0887\"], [0.1111111111111111, \"#46039f\"], [0.2222222222222222, \"#7201a8\"], [0.3333333333333333, \"#9c179e\"], [0.4444444444444444, \"#bd3786\"], [0.5555555555555556, \"#d8576b\"], [0.6666666666666666, \"#ed7953\"], [0.7777777777777778, \"#fb9f3a\"], [0.8888888888888888, \"#fdca26\"], [1.0, \"#f0f921\"]], \"type\": \"heatmapgl\"}], \"histogram\": [{\"marker\": {\"colorbar\": {\"outlinewidth\": 0, \"ticks\": \"\"}}, \"type\": \"histogram\"}], \"histogram2d\": [{\"colorbar\": {\"outlinewidth\": 0, \"ticks\": \"\"}, \"colorscale\": [[0.0, \"#0d0887\"], [0.1111111111111111, \"#46039f\"], [0.2222222222222222, \"#7201a8\"], [0.3333333333333333, \"#9c179e\"], [0.4444444444444444, \"#bd3786\"], [0.5555555555555556, \"#d8576b\"], [0.6666666666666666, \"#ed7953\"], [0.7777777777777778, \"#fb9f3a\"], [0.8888888888888888, \"#fdca26\"], [1.0, \"#f0f921\"]], \"type\": \"histogram2d\"}], \"histogram2dcontour\": [{\"colorbar\": {\"outlinewidth\": 0, \"ticks\": \"\"}, \"colorscale\": [[0.0, \"#0d0887\"], [0.1111111111111111, \"#46039f\"], [0.2222222222222222, \"#7201a8\"], [0.3333333333333333, \"#9c179e\"], [0.4444444444444444, \"#bd3786\"], [0.5555555555555556, \"#d8576b\"], [0.6666666666666666, \"#ed7953\"], [0.7777777777777778, \"#fb9f3a\"], [0.8888888888888888, \"#fdca26\"], [1.0, \"#f0f921\"]], \"type\": \"histogram2dcontour\"}], \"mesh3d\": [{\"colorbar\": {\"outlinewidth\": 0, \"ticks\": \"\"}, \"type\": \"mesh3d\"}], \"parcoords\": [{\"line\": {\"colorbar\": {\"outlinewidth\": 0, \"ticks\": \"\"}}, \"type\": \"parcoords\"}], \"pie\": [{\"automargin\": true, \"type\": \"pie\"}], \"scatter\": [{\"marker\": {\"colorbar\": {\"outlinewidth\": 0, \"ticks\": \"\"}}, \"type\": \"scatter\"}], \"scatter3d\": [{\"line\": {\"colorbar\": {\"outlinewidth\": 0, \"ticks\": \"\"}}, \"marker\": {\"colorbar\": {\"outlinewidth\": 0, \"ticks\": \"\"}}, \"type\": \"scatter3d\"}], \"scattercarpet\": [{\"marker\": {\"colorbar\": {\"outlinewidth\": 0, \"ticks\": \"\"}}, \"type\": \"scattercarpet\"}], \"scattergeo\": [{\"marker\": {\"colorbar\": {\"outlinewidth\": 0, \"ticks\": \"\"}}, \"type\": \"scattergeo\"}], \"scattergl\": [{\"marker\": {\"colorbar\": {\"outlinewidth\": 0, \"ticks\": \"\"}}, \"type\": \"scattergl\"}], \"scattermapbox\": [{\"marker\": {\"colorbar\": {\"outlinewidth\": 0, \"ticks\": \"\"}}, \"type\": \"scattermapbox\"}], \"scatterpolar\": [{\"marker\": {\"colorbar\": {\"outlinewidth\": 0, \"ticks\": \"\"}}, \"type\": \"scatterpolar\"}], \"scatterpolargl\": [{\"marker\": {\"colorbar\": {\"outlinewidth\": 0, \"ticks\": \"\"}}, \"type\": \"scatterpolargl\"}], \"scatterternary\": [{\"marker\": {\"colorbar\": {\"outlinewidth\": 0, \"ticks\": \"\"}}, \"type\": \"scatterternary\"}], \"surface\": [{\"colorbar\": {\"outlinewidth\": 0, \"ticks\": \"\"}, \"colorscale\": [[0.0, \"#0d0887\"], [0.1111111111111111, \"#46039f\"], [0.2222222222222222, \"#7201a8\"], [0.3333333333333333, \"#9c179e\"], [0.4444444444444444, \"#bd3786\"], [0.5555555555555556, \"#d8576b\"], [0.6666666666666666, \"#ed7953\"], [0.7777777777777778, \"#fb9f3a\"], [0.8888888888888888, \"#fdca26\"], [1.0, \"#f0f921\"]], \"type\": \"surface\"}], \"table\": [{\"cells\": {\"fill\": {\"color\": \"#EBF0F8\"}, \"line\": {\"color\": \"white\"}}, \"header\": {\"fill\": {\"color\": \"#C8D4E3\"}, \"line\": {\"color\": \"white\"}}, \"type\": \"table\"}]}, \"layout\": {\"annotationdefaults\": {\"arrowcolor\": \"#2a3f5f\", \"arrowhead\": 0, \"arrowwidth\": 1}, \"coloraxis\": {\"colorbar\": {\"outlinewidth\": 0, \"ticks\": \"\"}}, \"colorscale\": {\"diverging\": [[0, \"#8e0152\"], [0.1, \"#c51b7d\"], [0.2, \"#de77ae\"], [0.3, \"#f1b6da\"], [0.4, \"#fde0ef\"], [0.5, \"#f7f7f7\"], [0.6, \"#e6f5d0\"], [0.7, \"#b8e186\"], [0.8, \"#7fbc41\"], [0.9, \"#4d9221\"], [1, \"#276419\"]], \"sequential\": [[0.0, \"#0d0887\"], [0.1111111111111111, \"#46039f\"], [0.2222222222222222, \"#7201a8\"], [0.3333333333333333, \"#9c179e\"], [0.4444444444444444, \"#bd3786\"], [0.5555555555555556, \"#d8576b\"], [0.6666666666666666, \"#ed7953\"], [0.7777777777777778, \"#fb9f3a\"], [0.8888888888888888, \"#fdca26\"], [1.0, \"#f0f921\"]], \"sequentialminus\": [[0.0, \"#0d0887\"], [0.1111111111111111, \"#46039f\"], [0.2222222222222222, \"#7201a8\"], [0.3333333333333333, \"#9c179e\"], [0.4444444444444444, \"#bd3786\"], [0.5555555555555556, \"#d8576b\"], [0.6666666666666666, \"#ed7953\"], [0.7777777777777778, \"#fb9f3a\"], [0.8888888888888888, \"#fdca26\"], [1.0, \"#f0f921\"]]}, \"colorway\": [\"#636efa\", \"#EF553B\", \"#00cc96\", \"#ab63fa\", \"#FFA15A\", \"#19d3f3\", \"#FF6692\", \"#B6E880\", \"#FF97FF\", \"#FECB52\"], \"font\": {\"color\": \"#2a3f5f\"}, \"geo\": {\"bgcolor\": \"white\", \"lakecolor\": \"white\", \"landcolor\": \"#E5ECF6\", \"showlakes\": true, \"showland\": true, \"subunitcolor\": \"white\"}, \"hoverlabel\": {\"align\": \"left\"}, \"hovermode\": \"closest\", \"mapbox\": {\"style\": \"light\"}, \"paper_bgcolor\": \"white\", \"plot_bgcolor\": \"#E5ECF6\", \"polar\": {\"angularaxis\": {\"gridcolor\": \"white\", \"linecolor\": \"white\", \"ticks\": \"\"}, \"bgcolor\": \"#E5ECF6\", \"radialaxis\": {\"gridcolor\": \"white\", \"linecolor\": \"white\", \"ticks\": \"\"}}, \"scene\": {\"xaxis\": {\"backgroundcolor\": \"#E5ECF6\", \"gridcolor\": \"white\", \"gridwidth\": 2, \"linecolor\": \"white\", \"showbackground\": true, \"ticks\": \"\", \"zerolinecolor\": \"white\"}, \"yaxis\": {\"backgroundcolor\": \"#E5ECF6\", \"gridcolor\": \"white\", \"gridwidth\": 2, \"linecolor\": \"white\", \"showbackground\": true, \"ticks\": \"\", \"zerolinecolor\": \"white\"}, \"zaxis\": {\"backgroundcolor\": \"#E5ECF6\", \"gridcolor\": \"white\", \"gridwidth\": 2, \"linecolor\": \"white\", \"showbackground\": true, \"ticks\": \"\", \"zerolinecolor\": \"white\"}}, \"shapedefaults\": {\"line\": {\"color\": \"#2a3f5f\"}}, \"ternary\": {\"aaxis\": {\"gridcolor\": \"white\", \"linecolor\": \"white\", \"ticks\": \"\"}, \"baxis\": {\"gridcolor\": \"white\", \"linecolor\": \"white\", \"ticks\": \"\"}, \"bgcolor\": \"#E5ECF6\", \"caxis\": {\"gridcolor\": \"white\", \"linecolor\": \"white\", \"ticks\": \"\"}}, \"title\": {\"x\": 0.05}, \"xaxis\": {\"automargin\": true, \"gridcolor\": \"white\", \"linecolor\": \"white\", \"ticks\": \"\", \"title\": {\"standoff\": 15}, \"zerolinecolor\": \"white\", \"zerolinewidth\": 2}, \"yaxis\": {\"automargin\": true, \"gridcolor\": \"white\", \"linecolor\": \"white\", \"ticks\": \"\", \"title\": {\"standoff\": 15}, \"zerolinecolor\": \"white\", \"zerolinewidth\": 2}}}, \"title\": {\"font\": {\"color\": \"#4D5663\"}}, \"xaxis\": {\"gridcolor\": \"#E1E5ED\", \"showgrid\": true, \"tickfont\": {\"color\": \"#4D5663\"}, \"title\": {\"font\": {\"color\": \"#4D5663\"}, \"text\": \"\"}, \"zerolinecolor\": \"#E1E5ED\"}, \"yaxis\": {\"gridcolor\": \"#E1E5ED\", \"showgrid\": true, \"tickfont\": {\"color\": \"#4D5663\"}, \"title\": {\"font\": {\"color\": \"#4D5663\"}, \"text\": \"\"}, \"zerolinecolor\": \"#E1E5ED\"}},                        {\"showLink\": true, \"linkText\": \"Export to plot.ly\", \"plotlyServerURL\": \"https://plot.ly\", \"responsive\": true}                    ).then(function(){\n                            \nvar gd = document.getElementById('600e3e85-6d94-4519-b504-215addde61c1');\nvar x = new MutationObserver(function (mutations, observer) {{\n        var display = window.getComputedStyle(gd).display;\n        if (!display || display === 'none') {{\n            console.log([gd, 'removed!']);\n            Plotly.purge(gd);\n            observer.disconnect();\n        }}\n}});\n\n// Listen for the removal of the full notebook cells\nvar notebookContainer = gd.closest('#notebook-container');\nif (notebookContainer) {{\n    x.observe(notebookContainer, {childList: true});\n}}\n\n// Listen for the clearing of the current output cell\nvar outputEl = gd.closest('.output');\nif (outputEl) {{\n    x.observe(outputEl, {childList: true});\n}}\n\n                        })                };                });            </script>        </div>"
     },
     "metadata": {}
    }
   ],
   "source": [
    "covid_df[covid_df['location']=='United Kingdom'].sort_values(['Year','Month','Day']).iplot(kind='bar',x=['Year','Month','Day'],y='new_cases')\n"
   ]
  },
  {
   "source": [
    "%%HTML\n",
    "<p>Lets take a look at united kingdom new cases data , it started declining from the month of may to june and then the suddenly started to rise from last month that is agust and it is continuing to rise</p>"
   ],
   "cell_type": "markdown",
   "metadata": {}
  },
  {
   "source": [
    "%%HTML\n",
    "<div id=\"con\" class=\"h2\">5.Conclusions</div>\n",
    "<p>We have seen how to load real world dataset, convert its column types according to our needs and then gone through some visualizations and finally answered the most relevant questions of today along with some graphs as proof. </p>"
   ],
   "cell_type": "code",
   "metadata": {},
   "execution_count": 30,
   "outputs": [
    {
     "output_type": "display_data",
     "data": {
      "text/plain": "<IPython.core.display.HTML object>",
      "text/html": "<div id=\"con\" class=\"h2\">5.Conclusions</div>\n<p>We have seen how to load real world dataset, convert its column types according to our needs and then gone through some visualizations and finally answered the most relevant questions of today along with some graphs as proof. </p>\n"
     },
     "metadata": {}
    }
   ]
  },
  {
   "source": [
    "%%HTML\n",
    "<div id=\"ref\" class=\"h2\">6.References</div>"
   ],
   "cell_type": "code",
   "metadata": {},
   "execution_count": 31,
   "outputs": [
    {
     "output_type": "display_data",
     "data": {
      "text/plain": "<IPython.core.display.HTML object>",
      "text/html": "<div id=\"ref\" class=\"h2\">6.References</div>\n"
     },
     "metadata": {}
    }
   ]
  },
  {
   "cell_type": "code",
   "execution_count": 137,
   "metadata": {},
   "outputs": [
    {
     "output_type": "display_data",
     "data": {
      "text/plain": "<IPython.core.display.HTML object>",
      "text/html": "<a href='https://github.com/owid/covid-19-data/tree/master/public/data'>COVID-19 Dataset</a>\n</br>\n<a href='https://www.kaggle.com/jpmiller/some-best-practices-for-analytics-reporting'>Best Practices for Analytics Reporting</a>\n</br>\n<a href='https://www.kaggle.com/thedatabeast/making-perfect-chai-and-other-tales/notebook'>Making perfect \"Chai\" and other tales :)</a>\n</br>\n<a href='https://www.kaggle.com/parulpandey/how-to-explore-the-ctds-show-data/notebook'>Parul Pandey's Guide Notebook</a>\n</br>\n<a href='https://www.google.com/search?q=covid+info&oq=covid+info&aqs=chrome..69i57j0l7.2056j0j7&sourceid=chrome&ie=UTF-8#wptab=s:H4sIAAAAAAAAAONgVuLVT9c3NMwySk6OL8zJecTozS3w8sc9YSmnSWtOXmO04eIKzsgvd80rySypFNLjYoOyVLgEpVB1ajBI8XOhCvHsYuL2SE3MKckILkksKV7EKpicX5Sfl1iWWVRarFAMEgMAoubRkIEAAAA'>COVID-19 Statistics</a>\n</br>\n<p>Data Science collaboration platform <a href='https://www.jovian.ml/?utm_source=webapp'>Jovian.ml</a></p>\n"
     },
     "metadata": {}
    }
   ],
   "source": [
    "%%HTML\n",
    "<a href='https://github.com/owid/covid-19-data/tree/master/public/data'>COVID-19 Dataset</a>\n",
    "</br>\n",
    "<a href='https://www.kaggle.com/jpmiller/some-best-practices-for-analytics-reporting'>Best Practices for Analytics Reporting</a>\n",
    "</br>\n",
    "<a href='https://www.kaggle.com/thedatabeast/making-perfect-chai-and-other-tales/notebook'>Making perfect \"Chai\" and other tales :)</a>\n",
    "</br>\n",
    "<a href='https://www.kaggle.com/parulpandey/how-to-explore-the-ctds-show-data/notebook'>Parul Pandey's Guide Notebook</a>\n",
    "</br>\n",
    "<a href='https://www.google.com/search?q=covid+info&oq=covid+info&aqs=chrome..69i57j0l7.2056j0j7&sourceid=chrome&ie=UTF-8#wptab=s:H4sIAAAAAAAAAONgVuLVT9c3NMwySk6OL8zJecTozS3w8sc9YSmnSWtOXmO04eIKzsgvd80rySypFNLjYoOyVLgEpVB1ajBI8XOhCvHsYuL2SE3MKckILkksKV7EKpicX5Sfl1iWWVRarFAMEgMAoubRkIEAAAA'>COVID-19 Statistics</a>\n",
    "</br>\n",
    "<p>Data Science collaboration platform <a href='https://www.jovian.ml/?utm_source=webapp'>Jovian.ml</a></p>"
   ]
  },
  {
   "cell_type": "code",
   "execution_count": 126,
   "metadata": {},
   "outputs": [],
   "source": [
    "import jovian"
   ]
  },
  {
   "cell_type": "code",
   "execution_count": 128,
   "metadata": {
    "tags": []
   },
   "outputs": [
    {
     "output_type": "display_data",
     "data": {
      "text/plain": "<IPython.core.display.Javascript object>",
      "application/javascript": "window.require && require([\"base/js/namespace\"],function(Jupyter){Jupyter.notebook.save_checkpoint()})"
     },
     "metadata": {}
    },
    {
     "output_type": "stream",
     "name": "stdout",
     "text": "[jovian] Attempting to save notebook..\n[jovian] Updating notebook \"maheshvarma-dommaraju/covidproject\" on https://jovian.ml/\n[jovian] Uploading notebook..\n[jovian] Capturing environment..\n[jovian] Error: Failed to read Anaconda environment using command: \"conda env export -n base --no-builds\"\n[jovian] Committed successfully! https://jovian.ml/maheshvarma-dommaraju/covidproject\n"
    },
    {
     "output_type": "execute_result",
     "data": {
      "text/plain": "'https://jovian.ml/maheshvarma-dommaraju/covidproject'"
     },
     "metadata": {},
     "execution_count": 128
    }
   ],
   "source": [
    "jovian.commit(project='covidproject',filename='Covid.ipynb')"
   ]
  },
  {
   "cell_type": "code",
   "execution_count": null,
   "metadata": {},
   "outputs": [],
   "source": []
  }
 ]
}